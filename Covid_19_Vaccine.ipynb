{
  "nbformat": 4,
  "nbformat_minor": 0,
  "metadata": {
    "colab": {
      "name": "Covid 19 Vaccine.ipynb",
      "provenance": [],
      "collapsed_sections": []
    },
    "kernelspec": {
      "name": "python3",
      "display_name": "Python 3"
    }
  },
  "cells": [
    {
      "cell_type": "code",
      "metadata": {
        "colab": {
          "base_uri": "https://localhost:8080/"
        },
        "id": "ViWDBLKTAfoY",
        "outputId": "98436834-b142-46ed-c9d4-35a00db186f5"
      },
      "source": [
        "from google.colab import drive\n",
        "drive.mount('/content/gdrive')"
      ],
      "execution_count": 208,
      "outputs": [
        {
          "output_type": "stream",
          "text": [
            "Drive already mounted at /content/gdrive; to attempt to forcibly remount, call drive.mount(\"/content/gdrive\", force_remount=True).\n"
          ],
          "name": "stdout"
        }
      ]
    },
    {
      "cell_type": "code",
      "metadata": {
        "id": "wsDxgA7gA2Lo"
      },
      "source": [
        "import pandas as pd\n",
        "import numpy as np\n",
        "import plotly.express as px\n",
        "import seaborn as sns\n",
        "import matplotlib.pyplot as plt"
      ],
      "execution_count": 209,
      "outputs": []
    },
    {
      "cell_type": "code",
      "metadata": {
        "id": "FH45zHVxBJDY"
      },
      "source": [
        "data = pd.read_csv(\"/content/gdrive/MyDrive/country_vaccinations.csv\")"
      ],
      "execution_count": 210,
      "outputs": []
    },
    {
      "cell_type": "code",
      "metadata": {
        "colab": {
          "base_uri": "https://localhost:8080/",
          "height": 967
        },
        "id": "jmYAeDOxBahC",
        "outputId": "986260d6-bd66-451c-a182-099d41b2e1ef"
      },
      "source": [
        "data.head(20)"
      ],
      "execution_count": 211,
      "outputs": [
        {
          "output_type": "execute_result",
          "data": {
            "text/html": [
              "<div>\n",
              "<style scoped>\n",
              "    .dataframe tbody tr th:only-of-type {\n",
              "        vertical-align: middle;\n",
              "    }\n",
              "\n",
              "    .dataframe tbody tr th {\n",
              "        vertical-align: top;\n",
              "    }\n",
              "\n",
              "    .dataframe thead th {\n",
              "        text-align: right;\n",
              "    }\n",
              "</style>\n",
              "<table border=\"1\" class=\"dataframe\">\n",
              "  <thead>\n",
              "    <tr style=\"text-align: right;\">\n",
              "      <th></th>\n",
              "      <th>country</th>\n",
              "      <th>iso_code</th>\n",
              "      <th>date</th>\n",
              "      <th>total_vaccinations</th>\n",
              "      <th>people_vaccinated</th>\n",
              "      <th>people_fully_vaccinated</th>\n",
              "      <th>daily_vaccinations_raw</th>\n",
              "      <th>daily_vaccinations</th>\n",
              "      <th>total_vaccinations_per_hundred</th>\n",
              "      <th>people_vaccinated_per_hundred</th>\n",
              "      <th>people_fully_vaccinated_per_hundred</th>\n",
              "      <th>daily_vaccinations_per_million</th>\n",
              "      <th>vaccines</th>\n",
              "      <th>source_name</th>\n",
              "      <th>source_website</th>\n",
              "    </tr>\n",
              "  </thead>\n",
              "  <tbody>\n",
              "    <tr>\n",
              "      <th>0</th>\n",
              "      <td>Albania</td>\n",
              "      <td>ALB</td>\n",
              "      <td>2021-01-10</td>\n",
              "      <td>0.0</td>\n",
              "      <td>0.0</td>\n",
              "      <td>NaN</td>\n",
              "      <td>NaN</td>\n",
              "      <td>NaN</td>\n",
              "      <td>0.00</td>\n",
              "      <td>0.00</td>\n",
              "      <td>NaN</td>\n",
              "      <td>NaN</td>\n",
              "      <td>Pfizer/BioNTech</td>\n",
              "      <td>Ministry of Health</td>\n",
              "      <td>https://shendetesia.gov.al/covid19-ministria-e...</td>\n",
              "    </tr>\n",
              "    <tr>\n",
              "      <th>1</th>\n",
              "      <td>Albania</td>\n",
              "      <td>ALB</td>\n",
              "      <td>2021-01-11</td>\n",
              "      <td>NaN</td>\n",
              "      <td>NaN</td>\n",
              "      <td>NaN</td>\n",
              "      <td>NaN</td>\n",
              "      <td>64.0</td>\n",
              "      <td>NaN</td>\n",
              "      <td>NaN</td>\n",
              "      <td>NaN</td>\n",
              "      <td>22.0</td>\n",
              "      <td>Pfizer/BioNTech</td>\n",
              "      <td>Ministry of Health</td>\n",
              "      <td>https://shendetesia.gov.al/covid19-ministria-e...</td>\n",
              "    </tr>\n",
              "    <tr>\n",
              "      <th>2</th>\n",
              "      <td>Albania</td>\n",
              "      <td>ALB</td>\n",
              "      <td>2021-01-12</td>\n",
              "      <td>128.0</td>\n",
              "      <td>128.0</td>\n",
              "      <td>NaN</td>\n",
              "      <td>NaN</td>\n",
              "      <td>64.0</td>\n",
              "      <td>0.00</td>\n",
              "      <td>0.00</td>\n",
              "      <td>NaN</td>\n",
              "      <td>22.0</td>\n",
              "      <td>Pfizer/BioNTech</td>\n",
              "      <td>Ministry of Health</td>\n",
              "      <td>https://shendetesia.gov.al/covid19-ministria-e...</td>\n",
              "    </tr>\n",
              "    <tr>\n",
              "      <th>3</th>\n",
              "      <td>Albania</td>\n",
              "      <td>ALB</td>\n",
              "      <td>2021-01-13</td>\n",
              "      <td>188.0</td>\n",
              "      <td>188.0</td>\n",
              "      <td>NaN</td>\n",
              "      <td>60.0</td>\n",
              "      <td>63.0</td>\n",
              "      <td>0.01</td>\n",
              "      <td>0.01</td>\n",
              "      <td>NaN</td>\n",
              "      <td>22.0</td>\n",
              "      <td>Pfizer/BioNTech</td>\n",
              "      <td>Ministry of Health</td>\n",
              "      <td>https://shendetesia.gov.al/covid19-ministria-e...</td>\n",
              "    </tr>\n",
              "    <tr>\n",
              "      <th>4</th>\n",
              "      <td>Albania</td>\n",
              "      <td>ALB</td>\n",
              "      <td>2021-01-14</td>\n",
              "      <td>266.0</td>\n",
              "      <td>266.0</td>\n",
              "      <td>NaN</td>\n",
              "      <td>78.0</td>\n",
              "      <td>66.0</td>\n",
              "      <td>0.01</td>\n",
              "      <td>0.01</td>\n",
              "      <td>NaN</td>\n",
              "      <td>23.0</td>\n",
              "      <td>Pfizer/BioNTech</td>\n",
              "      <td>Ministry of Health</td>\n",
              "      <td>https://shendetesia.gov.al/covid19-ministria-e...</td>\n",
              "    </tr>\n",
              "    <tr>\n",
              "      <th>5</th>\n",
              "      <td>Albania</td>\n",
              "      <td>ALB</td>\n",
              "      <td>2021-01-15</td>\n",
              "      <td>308.0</td>\n",
              "      <td>308.0</td>\n",
              "      <td>NaN</td>\n",
              "      <td>42.0</td>\n",
              "      <td>62.0</td>\n",
              "      <td>0.01</td>\n",
              "      <td>0.01</td>\n",
              "      <td>NaN</td>\n",
              "      <td>22.0</td>\n",
              "      <td>Pfizer/BioNTech</td>\n",
              "      <td>Ministry of Health</td>\n",
              "      <td>https://shendetesia.gov.al/covid19-ministria-e...</td>\n",
              "    </tr>\n",
              "    <tr>\n",
              "      <th>6</th>\n",
              "      <td>Albania</td>\n",
              "      <td>ALB</td>\n",
              "      <td>2021-01-16</td>\n",
              "      <td>369.0</td>\n",
              "      <td>369.0</td>\n",
              "      <td>NaN</td>\n",
              "      <td>61.0</td>\n",
              "      <td>62.0</td>\n",
              "      <td>0.01</td>\n",
              "      <td>0.01</td>\n",
              "      <td>NaN</td>\n",
              "      <td>22.0</td>\n",
              "      <td>Pfizer/BioNTech</td>\n",
              "      <td>Ministry of Health</td>\n",
              "      <td>https://shendetesia.gov.al/covid19-ministria-e...</td>\n",
              "    </tr>\n",
              "    <tr>\n",
              "      <th>7</th>\n",
              "      <td>Albania</td>\n",
              "      <td>ALB</td>\n",
              "      <td>2021-01-17</td>\n",
              "      <td>405.0</td>\n",
              "      <td>405.0</td>\n",
              "      <td>NaN</td>\n",
              "      <td>36.0</td>\n",
              "      <td>58.0</td>\n",
              "      <td>0.01</td>\n",
              "      <td>0.01</td>\n",
              "      <td>NaN</td>\n",
              "      <td>20.0</td>\n",
              "      <td>Pfizer/BioNTech</td>\n",
              "      <td>Ministry of Health</td>\n",
              "      <td>https://shendetesia.gov.al/covid19-ministria-e...</td>\n",
              "    </tr>\n",
              "    <tr>\n",
              "      <th>8</th>\n",
              "      <td>Albania</td>\n",
              "      <td>ALB</td>\n",
              "      <td>2021-01-18</td>\n",
              "      <td>447.0</td>\n",
              "      <td>447.0</td>\n",
              "      <td>NaN</td>\n",
              "      <td>42.0</td>\n",
              "      <td>55.0</td>\n",
              "      <td>0.02</td>\n",
              "      <td>0.02</td>\n",
              "      <td>NaN</td>\n",
              "      <td>19.0</td>\n",
              "      <td>Pfizer/BioNTech</td>\n",
              "      <td>Ministry of Health</td>\n",
              "      <td>https://shendetesia.gov.al/covid19-ministria-e...</td>\n",
              "    </tr>\n",
              "    <tr>\n",
              "      <th>9</th>\n",
              "      <td>Albania</td>\n",
              "      <td>ALB</td>\n",
              "      <td>2021-01-19</td>\n",
              "      <td>483.0</td>\n",
              "      <td>483.0</td>\n",
              "      <td>NaN</td>\n",
              "      <td>36.0</td>\n",
              "      <td>51.0</td>\n",
              "      <td>0.02</td>\n",
              "      <td>0.02</td>\n",
              "      <td>NaN</td>\n",
              "      <td>18.0</td>\n",
              "      <td>Pfizer/BioNTech</td>\n",
              "      <td>Ministry of Health</td>\n",
              "      <td>https://shendetesia.gov.al/covid19-ministria-e...</td>\n",
              "    </tr>\n",
              "    <tr>\n",
              "      <th>10</th>\n",
              "      <td>Albania</td>\n",
              "      <td>ALB</td>\n",
              "      <td>2021-01-20</td>\n",
              "      <td>519.0</td>\n",
              "      <td>519.0</td>\n",
              "      <td>NaN</td>\n",
              "      <td>36.0</td>\n",
              "      <td>47.0</td>\n",
              "      <td>0.02</td>\n",
              "      <td>0.02</td>\n",
              "      <td>NaN</td>\n",
              "      <td>16.0</td>\n",
              "      <td>Pfizer/BioNTech</td>\n",
              "      <td>Ministry of Health</td>\n",
              "      <td>https://shendetesia.gov.al/covid19-ministria-e...</td>\n",
              "    </tr>\n",
              "    <tr>\n",
              "      <th>11</th>\n",
              "      <td>Albania</td>\n",
              "      <td>ALB</td>\n",
              "      <td>2021-01-21</td>\n",
              "      <td>549.0</td>\n",
              "      <td>549.0</td>\n",
              "      <td>NaN</td>\n",
              "      <td>30.0</td>\n",
              "      <td>40.0</td>\n",
              "      <td>0.02</td>\n",
              "      <td>0.02</td>\n",
              "      <td>NaN</td>\n",
              "      <td>14.0</td>\n",
              "      <td>Pfizer/BioNTech</td>\n",
              "      <td>Ministry of Health</td>\n",
              "      <td>https://shendetesia.gov.al/covid19-ministria-e...</td>\n",
              "    </tr>\n",
              "    <tr>\n",
              "      <th>12</th>\n",
              "      <td>Albania</td>\n",
              "      <td>ALB</td>\n",
              "      <td>2021-01-22</td>\n",
              "      <td>NaN</td>\n",
              "      <td>NaN</td>\n",
              "      <td>NaN</td>\n",
              "      <td>NaN</td>\n",
              "      <td>34.0</td>\n",
              "      <td>NaN</td>\n",
              "      <td>NaN</td>\n",
              "      <td>NaN</td>\n",
              "      <td>12.0</td>\n",
              "      <td>Pfizer/BioNTech</td>\n",
              "      <td>Ministry of Health</td>\n",
              "      <td>https://shendetesia.gov.al/covid19-ministria-e...</td>\n",
              "    </tr>\n",
              "    <tr>\n",
              "      <th>13</th>\n",
              "      <td>Albania</td>\n",
              "      <td>ALB</td>\n",
              "      <td>2021-01-23</td>\n",
              "      <td>NaN</td>\n",
              "      <td>NaN</td>\n",
              "      <td>NaN</td>\n",
              "      <td>NaN</td>\n",
              "      <td>26.0</td>\n",
              "      <td>NaN</td>\n",
              "      <td>NaN</td>\n",
              "      <td>NaN</td>\n",
              "      <td>9.0</td>\n",
              "      <td>Pfizer/BioNTech</td>\n",
              "      <td>Ministry of Health</td>\n",
              "      <td>https://shendetesia.gov.al/covid19-ministria-e...</td>\n",
              "    </tr>\n",
              "    <tr>\n",
              "      <th>14</th>\n",
              "      <td>Albania</td>\n",
              "      <td>ALB</td>\n",
              "      <td>2021-01-24</td>\n",
              "      <td>NaN</td>\n",
              "      <td>NaN</td>\n",
              "      <td>NaN</td>\n",
              "      <td>NaN</td>\n",
              "      <td>21.0</td>\n",
              "      <td>NaN</td>\n",
              "      <td>NaN</td>\n",
              "      <td>NaN</td>\n",
              "      <td>7.0</td>\n",
              "      <td>Pfizer/BioNTech</td>\n",
              "      <td>Ministry of Health</td>\n",
              "      <td>https://shendetesia.gov.al/covid19-ministria-e...</td>\n",
              "    </tr>\n",
              "    <tr>\n",
              "      <th>15</th>\n",
              "      <td>Albania</td>\n",
              "      <td>ALB</td>\n",
              "      <td>2021-01-25</td>\n",
              "      <td>NaN</td>\n",
              "      <td>NaN</td>\n",
              "      <td>NaN</td>\n",
              "      <td>NaN</td>\n",
              "      <td>15.0</td>\n",
              "      <td>NaN</td>\n",
              "      <td>NaN</td>\n",
              "      <td>NaN</td>\n",
              "      <td>5.0</td>\n",
              "      <td>Pfizer/BioNTech</td>\n",
              "      <td>Ministry of Health</td>\n",
              "      <td>https://shendetesia.gov.al/covid19-ministria-e...</td>\n",
              "    </tr>\n",
              "    <tr>\n",
              "      <th>16</th>\n",
              "      <td>Albania</td>\n",
              "      <td>ALB</td>\n",
              "      <td>2021-01-26</td>\n",
              "      <td>NaN</td>\n",
              "      <td>NaN</td>\n",
              "      <td>NaN</td>\n",
              "      <td>NaN</td>\n",
              "      <td>9.0</td>\n",
              "      <td>NaN</td>\n",
              "      <td>NaN</td>\n",
              "      <td>NaN</td>\n",
              "      <td>3.0</td>\n",
              "      <td>Pfizer/BioNTech</td>\n",
              "      <td>Ministry of Health</td>\n",
              "      <td>https://shendetesia.gov.al/covid19-ministria-e...</td>\n",
              "    </tr>\n",
              "    <tr>\n",
              "      <th>17</th>\n",
              "      <td>Albania</td>\n",
              "      <td>ALB</td>\n",
              "      <td>2021-01-27</td>\n",
              "      <td>NaN</td>\n",
              "      <td>NaN</td>\n",
              "      <td>NaN</td>\n",
              "      <td>NaN</td>\n",
              "      <td>4.0</td>\n",
              "      <td>NaN</td>\n",
              "      <td>NaN</td>\n",
              "      <td>NaN</td>\n",
              "      <td>1.0</td>\n",
              "      <td>Pfizer/BioNTech</td>\n",
              "      <td>Ministry of Health</td>\n",
              "      <td>https://shendetesia.gov.al/covid19-ministria-e...</td>\n",
              "    </tr>\n",
              "    <tr>\n",
              "      <th>18</th>\n",
              "      <td>Albania</td>\n",
              "      <td>ALB</td>\n",
              "      <td>2021-01-28</td>\n",
              "      <td>NaN</td>\n",
              "      <td>NaN</td>\n",
              "      <td>NaN</td>\n",
              "      <td>NaN</td>\n",
              "      <td>NaN</td>\n",
              "      <td>NaN</td>\n",
              "      <td>NaN</td>\n",
              "      <td>NaN</td>\n",
              "      <td>NaN</td>\n",
              "      <td>Pfizer/BioNTech</td>\n",
              "      <td>Ministry of Health</td>\n",
              "      <td>https://shendetesia.gov.al/covid19-ministria-e...</td>\n",
              "    </tr>\n",
              "    <tr>\n",
              "      <th>19</th>\n",
              "      <td>Albania</td>\n",
              "      <td>ALB</td>\n",
              "      <td>2021-01-29</td>\n",
              "      <td>NaN</td>\n",
              "      <td>NaN</td>\n",
              "      <td>NaN</td>\n",
              "      <td>NaN</td>\n",
              "      <td>NaN</td>\n",
              "      <td>NaN</td>\n",
              "      <td>NaN</td>\n",
              "      <td>NaN</td>\n",
              "      <td>NaN</td>\n",
              "      <td>Pfizer/BioNTech</td>\n",
              "      <td>Ministry of Health</td>\n",
              "      <td>https://shendetesia.gov.al/covid19-ministria-e...</td>\n",
              "    </tr>\n",
              "  </tbody>\n",
              "</table>\n",
              "</div>"
            ],
            "text/plain": [
              "    country  ...                                     source_website\n",
              "0   Albania  ...  https://shendetesia.gov.al/covid19-ministria-e...\n",
              "1   Albania  ...  https://shendetesia.gov.al/covid19-ministria-e...\n",
              "2   Albania  ...  https://shendetesia.gov.al/covid19-ministria-e...\n",
              "3   Albania  ...  https://shendetesia.gov.al/covid19-ministria-e...\n",
              "4   Albania  ...  https://shendetesia.gov.al/covid19-ministria-e...\n",
              "5   Albania  ...  https://shendetesia.gov.al/covid19-ministria-e...\n",
              "6   Albania  ...  https://shendetesia.gov.al/covid19-ministria-e...\n",
              "7   Albania  ...  https://shendetesia.gov.al/covid19-ministria-e...\n",
              "8   Albania  ...  https://shendetesia.gov.al/covid19-ministria-e...\n",
              "9   Albania  ...  https://shendetesia.gov.al/covid19-ministria-e...\n",
              "10  Albania  ...  https://shendetesia.gov.al/covid19-ministria-e...\n",
              "11  Albania  ...  https://shendetesia.gov.al/covid19-ministria-e...\n",
              "12  Albania  ...  https://shendetesia.gov.al/covid19-ministria-e...\n",
              "13  Albania  ...  https://shendetesia.gov.al/covid19-ministria-e...\n",
              "14  Albania  ...  https://shendetesia.gov.al/covid19-ministria-e...\n",
              "15  Albania  ...  https://shendetesia.gov.al/covid19-ministria-e...\n",
              "16  Albania  ...  https://shendetesia.gov.al/covid19-ministria-e...\n",
              "17  Albania  ...  https://shendetesia.gov.al/covid19-ministria-e...\n",
              "18  Albania  ...  https://shendetesia.gov.al/covid19-ministria-e...\n",
              "19  Albania  ...  https://shendetesia.gov.al/covid19-ministria-e...\n",
              "\n",
              "[20 rows x 15 columns]"
            ]
          },
          "metadata": {
            "tags": []
          },
          "execution_count": 211
        }
      ]
    },
    {
      "cell_type": "code",
      "metadata": {
        "colab": {
          "base_uri": "https://localhost:8080/"
        },
        "id": "LZTFOPKgBcQq",
        "outputId": "359506ef-42c0-40f9-85c8-2bb3b9c23d49"
      },
      "source": [
        "data.info()"
      ],
      "execution_count": 212,
      "outputs": [
        {
          "output_type": "stream",
          "text": [
            "<class 'pandas.core.frame.DataFrame'>\n",
            "RangeIndex: 5321 entries, 0 to 5320\n",
            "Data columns (total 15 columns):\n",
            " #   Column                               Non-Null Count  Dtype  \n",
            "---  ------                               --------------  -----  \n",
            " 0   country                              5321 non-null   object \n",
            " 1   iso_code                             4989 non-null   object \n",
            " 2   date                                 5321 non-null   object \n",
            " 3   total_vaccinations                   3384 non-null   float64\n",
            " 4   people_vaccinated                    2990 non-null   float64\n",
            " 5   people_fully_vaccinated              2039 non-null   float64\n",
            " 6   daily_vaccinations_raw               2845 non-null   float64\n",
            " 7   daily_vaccinations                   5137 non-null   float64\n",
            " 8   total_vaccinations_per_hundred       3384 non-null   float64\n",
            " 9   people_vaccinated_per_hundred        2990 non-null   float64\n",
            " 10  people_fully_vaccinated_per_hundred  2039 non-null   float64\n",
            " 11  daily_vaccinations_per_million       5137 non-null   float64\n",
            " 12  vaccines                             5321 non-null   object \n",
            " 13  source_name                          5315 non-null   object \n",
            " 14  source_website                       5321 non-null   object \n",
            "dtypes: float64(9), object(6)\n",
            "memory usage: 623.7+ KB\n"
          ],
          "name": "stdout"
        }
      ]
    },
    {
      "cell_type": "code",
      "metadata": {
        "colab": {
          "base_uri": "https://localhost:8080/"
        },
        "id": "Wa3CRGS_BmSQ",
        "outputId": "77111d7c-5393-4e6c-c26f-43dec6225491"
      },
      "source": [
        "data.isnull().sum()"
      ],
      "execution_count": 213,
      "outputs": [
        {
          "output_type": "execute_result",
          "data": {
            "text/plain": [
              "country                                   0\n",
              "iso_code                                332\n",
              "date                                      0\n",
              "total_vaccinations                     1937\n",
              "people_vaccinated                      2331\n",
              "people_fully_vaccinated                3282\n",
              "daily_vaccinations_raw                 2476\n",
              "daily_vaccinations                      184\n",
              "total_vaccinations_per_hundred         1937\n",
              "people_vaccinated_per_hundred          2331\n",
              "people_fully_vaccinated_per_hundred    3282\n",
              "daily_vaccinations_per_million          184\n",
              "vaccines                                  0\n",
              "source_name                               6\n",
              "source_website                            0\n",
              "dtype: int64"
            ]
          },
          "metadata": {
            "tags": []
          },
          "execution_count": 213
        }
      ]
    },
    {
      "cell_type": "code",
      "metadata": {
        "id": "bdQb0dpNBqBc"
      },
      "source": [
        "data['iso_code'].fillna(method=\"ffill\", inplace = True)\n",
        "data['iso_code'].fillna(method=\"bfill\", inplace = True)"
      ],
      "execution_count": 214,
      "outputs": []
    },
    {
      "cell_type": "code",
      "metadata": {
        "id": "p-tMjw7NE5v6"
      },
      "source": [
        "data['total_vaccinations'].fillna(method='ffill', inplace = True)\n",
        "data['total_vaccinations'].fillna(method='bfill', inplace = True)\n",
        "data['people_vaccinated'].fillna(method='ffill', inplace = True)\n",
        "data['people_vaccinated'].fillna(method='bfill', inplace = True)\n",
        "data['people_fully_vaccinated'].fillna(method='ffill', inplace = True)\n",
        "data['people_fully_vaccinated'].fillna(method='bfill', inplace=True)\n",
        "data['daily_vaccinations_raw'].fillna(method='ffill', inplace=True)\n",
        "data['daily_vaccinations_raw'].fillna(method='bfill', inplace=True)\n",
        "data['daily_vaccinations'].fillna(method='ffill', inplace=True)\n",
        "data['daily_vaccinations'].fillna(method='bfill', inplace=True)\n",
        "data['total_vaccinations_per_hundred'].fillna(method='ffill', inplace = True)\n",
        "data['total_vaccinations_per_hundred'].fillna(method='bfill', inplace= True)\n",
        "data['people_vaccinated_per_hundred'].fillna(method='ffill', inplace=True)\n",
        "data['people_vaccinated_per_hundred'].fillna(method='bfill', inplace = True)\n",
        "data['people_fully_vaccinated_per_hundred'].fillna(method='ffill', inplace=True)\n",
        "data['people_fully_vaccinated_per_hundred'].fillna(method='bfill', inplace=True)\n",
        "data['daily_vaccinations_per_million'].fillna(method='ffill', inplace = True)\n",
        "data['daily_vaccinations_per_million'].fillna(method='bfill', inplace = True)"
      ],
      "execution_count": 215,
      "outputs": []
    },
    {
      "cell_type": "code",
      "metadata": {
        "colab": {
          "base_uri": "https://localhost:8080/"
        },
        "id": "VXfcqIIeFFlM",
        "outputId": "85433a28-d2e2-4f85-cc90-c46a2282d951"
      },
      "source": [
        "data.isnull().sum()"
      ],
      "execution_count": 216,
      "outputs": [
        {
          "output_type": "execute_result",
          "data": {
            "text/plain": [
              "country                                0\n",
              "iso_code                               0\n",
              "date                                   0\n",
              "total_vaccinations                     0\n",
              "people_vaccinated                      0\n",
              "people_fully_vaccinated                0\n",
              "daily_vaccinations_raw                 0\n",
              "daily_vaccinations                     0\n",
              "total_vaccinations_per_hundred         0\n",
              "people_vaccinated_per_hundred          0\n",
              "people_fully_vaccinated_per_hundred    0\n",
              "daily_vaccinations_per_million         0\n",
              "vaccines                               0\n",
              "source_name                            6\n",
              "source_website                         0\n",
              "dtype: int64"
            ]
          },
          "metadata": {
            "tags": []
          },
          "execution_count": 216
        }
      ]
    },
    {
      "cell_type": "code",
      "metadata": {
        "colab": {
          "base_uri": "https://localhost:8080/",
          "height": 297
        },
        "id": "m6baLVenHJZr",
        "outputId": "75ea36a9-d310-46bd-cf75-8cccd6e1a076"
      },
      "source": [
        "data.describe()"
      ],
      "execution_count": 217,
      "outputs": [
        {
          "output_type": "execute_result",
          "data": {
            "text/html": [
              "<div>\n",
              "<style scoped>\n",
              "    .dataframe tbody tr th:only-of-type {\n",
              "        vertical-align: middle;\n",
              "    }\n",
              "\n",
              "    .dataframe tbody tr th {\n",
              "        vertical-align: top;\n",
              "    }\n",
              "\n",
              "    .dataframe thead th {\n",
              "        text-align: right;\n",
              "    }\n",
              "</style>\n",
              "<table border=\"1\" class=\"dataframe\">\n",
              "  <thead>\n",
              "    <tr style=\"text-align: right;\">\n",
              "      <th></th>\n",
              "      <th>total_vaccinations</th>\n",
              "      <th>people_vaccinated</th>\n",
              "      <th>people_fully_vaccinated</th>\n",
              "      <th>daily_vaccinations_raw</th>\n",
              "      <th>daily_vaccinations</th>\n",
              "      <th>total_vaccinations_per_hundred</th>\n",
              "      <th>people_vaccinated_per_hundred</th>\n",
              "      <th>people_fully_vaccinated_per_hundred</th>\n",
              "      <th>daily_vaccinations_per_million</th>\n",
              "    </tr>\n",
              "  </thead>\n",
              "  <tbody>\n",
              "    <tr>\n",
              "      <th>count</th>\n",
              "      <td>5.321000e+03</td>\n",
              "      <td>5.321000e+03</td>\n",
              "      <td>5.321000e+03</td>\n",
              "      <td>5.321000e+03</td>\n",
              "      <td>5.321000e+03</td>\n",
              "      <td>5321.000000</td>\n",
              "      <td>5321.000000</td>\n",
              "      <td>5321.000000</td>\n",
              "      <td>5321.000000</td>\n",
              "    </tr>\n",
              "    <tr>\n",
              "      <th>mean</th>\n",
              "      <td>1.575814e+06</td>\n",
              "      <td>1.270443e+06</td>\n",
              "      <td>7.292340e+05</td>\n",
              "      <td>6.156941e+04</td>\n",
              "      <td>5.732616e+04</td>\n",
              "      <td>6.292246</td>\n",
              "      <td>5.940983</td>\n",
              "      <td>3.298765</td>\n",
              "      <td>2513.096786</td>\n",
              "    </tr>\n",
              "    <tr>\n",
              "      <th>std</th>\n",
              "      <td>6.071801e+06</td>\n",
              "      <td>4.298615e+06</td>\n",
              "      <td>3.075647e+06</td>\n",
              "      <td>2.057616e+05</td>\n",
              "      <td>1.838144e+05</td>\n",
              "      <td>12.916980</td>\n",
              "      <td>9.990725</td>\n",
              "      <td>6.126762</td>\n",
              "      <td>4397.481830</td>\n",
              "    </tr>\n",
              "    <tr>\n",
              "      <th>min</th>\n",
              "      <td>0.000000e+00</td>\n",
              "      <td>0.000000e+00</td>\n",
              "      <td>1.000000e+00</td>\n",
              "      <td>0.000000e+00</td>\n",
              "      <td>1.000000e+00</td>\n",
              "      <td>0.000000</td>\n",
              "      <td>0.000000</td>\n",
              "      <td>0.000000</td>\n",
              "      <td>0.000000</td>\n",
              "    </tr>\n",
              "    <tr>\n",
              "      <th>25%</th>\n",
              "      <td>1.097200e+04</td>\n",
              "      <td>1.230400e+04</td>\n",
              "      <td>1.344800e+04</td>\n",
              "      <td>2.006000e+03</td>\n",
              "      <td>1.121000e+03</td>\n",
              "      <td>0.270000</td>\n",
              "      <td>0.350000</td>\n",
              "      <td>0.470000</td>\n",
              "      <td>330.000000</td>\n",
              "    </tr>\n",
              "    <tr>\n",
              "      <th>50%</th>\n",
              "      <td>8.392800e+04</td>\n",
              "      <td>7.288200e+04</td>\n",
              "      <td>1.046130e+05</td>\n",
              "      <td>1.019100e+04</td>\n",
              "      <td>6.331000e+03</td>\n",
              "      <td>1.900000</td>\n",
              "      <td>2.210000</td>\n",
              "      <td>1.570000</td>\n",
              "      <td>1117.000000</td>\n",
              "    </tr>\n",
              "    <tr>\n",
              "      <th>75%</th>\n",
              "      <td>6.449990e+05</td>\n",
              "      <td>6.289930e+05</td>\n",
              "      <td>4.942090e+05</td>\n",
              "      <td>3.608000e+04</td>\n",
              "      <td>2.841500e+04</td>\n",
              "      <td>5.920000</td>\n",
              "      <td>6.090000</td>\n",
              "      <td>2.960000</td>\n",
              "      <td>2550.000000</td>\n",
              "    </tr>\n",
              "    <tr>\n",
              "      <th>max</th>\n",
              "      <td>8.791232e+07</td>\n",
              "      <td>5.735885e+07</td>\n",
              "      <td>2.977616e+07</td>\n",
              "      <td>2.904229e+06</td>\n",
              "      <td>2.158020e+06</td>\n",
              "      <td>126.290000</td>\n",
              "      <td>80.570000</td>\n",
              "      <td>45.720000</td>\n",
              "      <td>54264.000000</td>\n",
              "    </tr>\n",
              "  </tbody>\n",
              "</table>\n",
              "</div>"
            ],
            "text/plain": [
              "       total_vaccinations  ...  daily_vaccinations_per_million\n",
              "count        5.321000e+03  ...                     5321.000000\n",
              "mean         1.575814e+06  ...                     2513.096786\n",
              "std          6.071801e+06  ...                     4397.481830\n",
              "min          0.000000e+00  ...                        0.000000\n",
              "25%          1.097200e+04  ...                      330.000000\n",
              "50%          8.392800e+04  ...                     1117.000000\n",
              "75%          6.449990e+05  ...                     2550.000000\n",
              "max          8.791232e+07  ...                    54264.000000\n",
              "\n",
              "[8 rows x 9 columns]"
            ]
          },
          "metadata": {
            "tags": []
          },
          "execution_count": 217
        }
      ]
    },
    {
      "cell_type": "code",
      "metadata": {
        "colab": {
          "base_uri": "https://localhost:8080/"
        },
        "id": "h5BD4nFbHLzK",
        "outputId": "5cbc48f1-aa76-450d-d4a5-82e6b3863631"
      },
      "source": [
        "data.dtypes"
      ],
      "execution_count": 218,
      "outputs": [
        {
          "output_type": "execute_result",
          "data": {
            "text/plain": [
              "country                                 object\n",
              "iso_code                                object\n",
              "date                                    object\n",
              "total_vaccinations                     float64\n",
              "people_vaccinated                      float64\n",
              "people_fully_vaccinated                float64\n",
              "daily_vaccinations_raw                 float64\n",
              "daily_vaccinations                     float64\n",
              "total_vaccinations_per_hundred         float64\n",
              "people_vaccinated_per_hundred          float64\n",
              "people_fully_vaccinated_per_hundred    float64\n",
              "daily_vaccinations_per_million         float64\n",
              "vaccines                                object\n",
              "source_name                             object\n",
              "source_website                          object\n",
              "dtype: object"
            ]
          },
          "metadata": {
            "tags": []
          },
          "execution_count": 218
        }
      ]
    },
    {
      "cell_type": "code",
      "metadata": {
        "colab": {
          "base_uri": "https://localhost:8080/",
          "height": 292
        },
        "id": "GC7nXvGDHWgp",
        "outputId": "65ddc1ff-bfaf-4f10-99c0-3ea01ad20425"
      },
      "source": [
        "data.head()"
      ],
      "execution_count": 219,
      "outputs": [
        {
          "output_type": "execute_result",
          "data": {
            "text/html": [
              "<div>\n",
              "<style scoped>\n",
              "    .dataframe tbody tr th:only-of-type {\n",
              "        vertical-align: middle;\n",
              "    }\n",
              "\n",
              "    .dataframe tbody tr th {\n",
              "        vertical-align: top;\n",
              "    }\n",
              "\n",
              "    .dataframe thead th {\n",
              "        text-align: right;\n",
              "    }\n",
              "</style>\n",
              "<table border=\"1\" class=\"dataframe\">\n",
              "  <thead>\n",
              "    <tr style=\"text-align: right;\">\n",
              "      <th></th>\n",
              "      <th>country</th>\n",
              "      <th>iso_code</th>\n",
              "      <th>date</th>\n",
              "      <th>total_vaccinations</th>\n",
              "      <th>people_vaccinated</th>\n",
              "      <th>people_fully_vaccinated</th>\n",
              "      <th>daily_vaccinations_raw</th>\n",
              "      <th>daily_vaccinations</th>\n",
              "      <th>total_vaccinations_per_hundred</th>\n",
              "      <th>people_vaccinated_per_hundred</th>\n",
              "      <th>people_fully_vaccinated_per_hundred</th>\n",
              "      <th>daily_vaccinations_per_million</th>\n",
              "      <th>vaccines</th>\n",
              "      <th>source_name</th>\n",
              "      <th>source_website</th>\n",
              "    </tr>\n",
              "  </thead>\n",
              "  <tbody>\n",
              "    <tr>\n",
              "      <th>0</th>\n",
              "      <td>Albania</td>\n",
              "      <td>ALB</td>\n",
              "      <td>2021-01-10</td>\n",
              "      <td>0.0</td>\n",
              "      <td>0.0</td>\n",
              "      <td>1.0</td>\n",
              "      <td>60.0</td>\n",
              "      <td>64.0</td>\n",
              "      <td>0.00</td>\n",
              "      <td>0.00</td>\n",
              "      <td>0.0</td>\n",
              "      <td>22.0</td>\n",
              "      <td>Pfizer/BioNTech</td>\n",
              "      <td>Ministry of Health</td>\n",
              "      <td>https://shendetesia.gov.al/covid19-ministria-e...</td>\n",
              "    </tr>\n",
              "    <tr>\n",
              "      <th>1</th>\n",
              "      <td>Albania</td>\n",
              "      <td>ALB</td>\n",
              "      <td>2021-01-11</td>\n",
              "      <td>0.0</td>\n",
              "      <td>0.0</td>\n",
              "      <td>1.0</td>\n",
              "      <td>60.0</td>\n",
              "      <td>64.0</td>\n",
              "      <td>0.00</td>\n",
              "      <td>0.00</td>\n",
              "      <td>0.0</td>\n",
              "      <td>22.0</td>\n",
              "      <td>Pfizer/BioNTech</td>\n",
              "      <td>Ministry of Health</td>\n",
              "      <td>https://shendetesia.gov.al/covid19-ministria-e...</td>\n",
              "    </tr>\n",
              "    <tr>\n",
              "      <th>2</th>\n",
              "      <td>Albania</td>\n",
              "      <td>ALB</td>\n",
              "      <td>2021-01-12</td>\n",
              "      <td>128.0</td>\n",
              "      <td>128.0</td>\n",
              "      <td>1.0</td>\n",
              "      <td>60.0</td>\n",
              "      <td>64.0</td>\n",
              "      <td>0.00</td>\n",
              "      <td>0.00</td>\n",
              "      <td>0.0</td>\n",
              "      <td>22.0</td>\n",
              "      <td>Pfizer/BioNTech</td>\n",
              "      <td>Ministry of Health</td>\n",
              "      <td>https://shendetesia.gov.al/covid19-ministria-e...</td>\n",
              "    </tr>\n",
              "    <tr>\n",
              "      <th>3</th>\n",
              "      <td>Albania</td>\n",
              "      <td>ALB</td>\n",
              "      <td>2021-01-13</td>\n",
              "      <td>188.0</td>\n",
              "      <td>188.0</td>\n",
              "      <td>1.0</td>\n",
              "      <td>60.0</td>\n",
              "      <td>63.0</td>\n",
              "      <td>0.01</td>\n",
              "      <td>0.01</td>\n",
              "      <td>0.0</td>\n",
              "      <td>22.0</td>\n",
              "      <td>Pfizer/BioNTech</td>\n",
              "      <td>Ministry of Health</td>\n",
              "      <td>https://shendetesia.gov.al/covid19-ministria-e...</td>\n",
              "    </tr>\n",
              "    <tr>\n",
              "      <th>4</th>\n",
              "      <td>Albania</td>\n",
              "      <td>ALB</td>\n",
              "      <td>2021-01-14</td>\n",
              "      <td>266.0</td>\n",
              "      <td>266.0</td>\n",
              "      <td>1.0</td>\n",
              "      <td>78.0</td>\n",
              "      <td>66.0</td>\n",
              "      <td>0.01</td>\n",
              "      <td>0.01</td>\n",
              "      <td>0.0</td>\n",
              "      <td>23.0</td>\n",
              "      <td>Pfizer/BioNTech</td>\n",
              "      <td>Ministry of Health</td>\n",
              "      <td>https://shendetesia.gov.al/covid19-ministria-e...</td>\n",
              "    </tr>\n",
              "  </tbody>\n",
              "</table>\n",
              "</div>"
            ],
            "text/plain": [
              "   country  ...                                     source_website\n",
              "0  Albania  ...  https://shendetesia.gov.al/covid19-ministria-e...\n",
              "1  Albania  ...  https://shendetesia.gov.al/covid19-ministria-e...\n",
              "2  Albania  ...  https://shendetesia.gov.al/covid19-ministria-e...\n",
              "3  Albania  ...  https://shendetesia.gov.al/covid19-ministria-e...\n",
              "4  Albania  ...  https://shendetesia.gov.al/covid19-ministria-e...\n",
              "\n",
              "[5 rows x 15 columns]"
            ]
          },
          "metadata": {
            "tags": []
          },
          "execution_count": 219
        }
      ]
    },
    {
      "cell_type": "code",
      "metadata": {
        "colab": {
          "base_uri": "https://localhost:8080/"
        },
        "id": "R-ipVDFFTHxI",
        "outputId": "b978b5e4-fa0a-4b95-b169-8992530a4610"
      },
      "source": [
        "data['country'].unique()"
      ],
      "execution_count": 220,
      "outputs": [
        {
          "output_type": "execute_result",
          "data": {
            "text/plain": [
              "array(['Albania', 'Algeria', 'Andorra', 'Anguilla', 'Argentina',\n",
              "       'Australia', 'Austria', 'Azerbaijan', 'Bahrain', 'Bangladesh',\n",
              "       'Barbados', 'Belarus', 'Belgium', 'Belize', 'Bermuda', 'Bolivia',\n",
              "       'Brazil', 'Bulgaria', 'Cambodia', 'Canada', 'Cayman Islands',\n",
              "       'Chile', 'China', 'Colombia', 'Costa Rica', 'Croatia', 'Cyprus',\n",
              "       'Czechia', 'Denmark', 'Dominican Republic', 'Ecuador', 'Egypt',\n",
              "       'El Salvador', 'England', 'Estonia', 'Faeroe Islands',\n",
              "       'Falkland Islands', 'Finland', 'France', 'Germany', 'Gibraltar',\n",
              "       'Greece', 'Greenland', 'Guatemala', 'Guernsey', 'Guyana',\n",
              "       'Honduras', 'Hong Kong', 'Hungary', 'Iceland', 'India',\n",
              "       'Indonesia', 'Iran', 'Ireland', 'Isle of Man', 'Israel', 'Italy',\n",
              "       'Japan', 'Jersey', 'Jordan', 'Kazakhstan', 'Kuwait', 'Latvia',\n",
              "       'Lebanon', 'Liechtenstein', 'Lithuania', 'Luxembourg', 'Macao',\n",
              "       'Malaysia', 'Maldives', 'Malta', 'Mauritius', 'Mexico', 'Monaco',\n",
              "       'Mongolia', 'Montenegro', 'Montserrat', 'Morocco', 'Myanmar',\n",
              "       'Nepal', 'Netherlands', 'New Zealand', 'Northern Cyprus',\n",
              "       'Northern Ireland', 'Norway', 'Oman', 'Pakistan', 'Panama',\n",
              "       'Paraguay', 'Peru', 'Philippines', 'Poland', 'Portugal', 'Qatar',\n",
              "       'Romania', 'Russia', 'Rwanda', 'Saint Helena', 'San Marino',\n",
              "       'Saudi Arabia', 'Scotland', 'Senegal', 'Serbia', 'Seychelles',\n",
              "       'Singapore', 'Slovakia', 'Slovenia', 'South Africa', 'South Korea',\n",
              "       'Spain', 'Sri Lanka', 'Sweden', 'Switzerland', 'Thailand',\n",
              "       'Trinidad and Tobago', 'Turkey', 'Turks and Caicos Islands',\n",
              "       'Ukraine', 'United Arab Emirates', 'United Kingdom',\n",
              "       'United States', 'Uruguay', 'Venezuela', 'Wales', 'Zimbabwe'],\n",
              "      dtype=object)"
            ]
          },
          "metadata": {
            "tags": []
          },
          "execution_count": 220
        }
      ]
    },
    {
      "cell_type": "code",
      "metadata": {
        "id": "5NUMH7vJTgDp"
      },
      "source": [
        "data=data[data['country'].apply(lambda x: x not in ['England','Wales','Northern Ireland','Scotland'])]"
      ],
      "execution_count": 221,
      "outputs": []
    },
    {
      "cell_type": "code",
      "metadata": {
        "id": "KD2a9RZRTidU"
      },
      "source": [
        "l=[]\n",
        "for i in range(121):\n",
        "    l.append(data['country'].value_counts()[i])"
      ],
      "execution_count": 222,
      "outputs": []
    },
    {
      "cell_type": "code",
      "metadata": {
        "colab": {
          "base_uri": "https://localhost:8080/",
          "height": 542
        },
        "id": "lRtNmPmU_YfZ",
        "outputId": "0851e5ec-49a2-4fb9-ce01-3acf2652bd0b"
      },
      "source": [
        "fig = px.pie(data, values=l, names=data['country'].value_counts().index)\n",
        "fig.update_traces(textposition='inside', textfont_size=14)\n",
        "fig.show()"
      ],
      "execution_count": 223,
      "outputs": [
        {
          "output_type": "display_data",
          "data": {
            "text/html": [
              "<html>\n",
              "<head><meta charset=\"utf-8\" /></head>\n",
              "<body>\n",
              "    <div>\n",
              "            <script src=\"https://cdnjs.cloudflare.com/ajax/libs/mathjax/2.7.5/MathJax.js?config=TeX-AMS-MML_SVG\"></script><script type=\"text/javascript\">if (window.MathJax) {MathJax.Hub.Config({SVG: {font: \"STIX-Web\"}});}</script>\n",
              "                <script type=\"text/javascript\">window.PlotlyConfig = {MathJaxConfig: 'local'};</script>\n",
              "        <script src=\"https://cdn.plot.ly/plotly-latest.min.js\"></script>    \n",
              "            <div id=\"d3e9a749-bf19-4bb0-a9b3-4c65463b1b5b\" class=\"plotly-graph-div\" style=\"height:525px; width:100%;\"></div>\n",
              "            <script type=\"text/javascript\">\n",
              "                \n",
              "                    window.PLOTLYENV=window.PLOTLYENV || {};\n",
              "                    \n",
              "                if (document.getElementById(\"d3e9a749-bf19-4bb0-a9b3-4c65463b1b5b\")) {\n",
              "                    Plotly.newPlot(\n",
              "                        'd3e9a749-bf19-4bb0-a9b3-4c65463b1b5b',\n",
              "                        [{\"domain\": {\"x\": [0.0, 1.0], \"y\": [0.0, 1.0]}, \"hoverlabel\": {\"namelength\": 0}, \"hovertemplate\": \"label=%{label}<br>value=%{value}\", \"labels\": [\"Canada\", \"United Kingdom\", \"Russia\", \"Israel\", \"United States\", \"China\", \"Bahrain\", \"Mexico\", \"Chile\", \"Costa Rica\", \"Czechia\", \"Portugal\", \"Lithuania\", \"Italy\", \"Poland\", \"Sweden\", \"Hungary\", \"Germany\", \"France\", \"Greece\", \"Romania\", \"Denmark\", \"Slovenia\", \"Estonia\", \"Belgium\", \"Norway\", \"Cayman Islands\", \"Bulgaria\", \"Argentina\", \"Finland\", \"Iceland\", \"Luxembourg\", \"Latvia\", \"Croatia\", \"Ireland\", \"Slovakia\", \"United Arab Emirates\", \"Spain\", \"Cyprus\", \"Saudi Arabia\", \"Qatar\", \"Serbia\", \"Oman\", \"Gibraltar\", \"Seychelles\", \"Austria\", \"Belarus\", \"Turkey\", \"Singapore\", \"Bermuda\", \"Indonesia\", \"Albania\", \"India\", \"Kuwait\", \"Brazil\", \"Malta\", \"Panama\", \"Azerbaijan\", \"Isle of Man\", \"Jordan\", \"Ecuador\", \"Netherlands\", \"Switzerland\", \"Bangladesh\", \"Morocco\", \"Guernsey\", \"Bolivia\", \"Sri Lanka\", \"Faeroe Islands\", \"Jersey\", \"Greenland\", \"Andorra\", \"Maldives\", \"Turks and Caicos Islands\", \"Liechtenstein\", \"Cambodia\", \"Nepal\", \"Peru\", \"Kazakhstan\", \"Mauritius\", \"Anguilla\", \"Lebanon\", \"Algeria\", \"Dominican Republic\", \"Monaco\", \"Pakistan\", \"Australia\", \"Rwanda\", \"Colombia\", \"Barbados\", \"Japan\", \"Zimbabwe\", \"Venezuela\", \"Falkland Islands\", \"Montserrat\", \"Montenegro\", \"New Zealand\", \"Senegal\", \"South Africa\", \"Guyana\", \"Hong Kong\", \"Ukraine\", \"Malaysia\", \"Macao\", \"South Korea\", \"Iran\", \"Northern Cyprus\", \"El Salvador\", \"Trinidad and Tobago\", \"Myanmar\", \"San Marino\", \"Egypt\", \"Uruguay\", \"Belize\", \"Guatemala\", \"Mongolia\", \"Paraguay\", \"Thailand\", \"Philippines\", \"Saint Helena\", \"Honduras\"], \"legendgroup\": \"\", \"name\": \"\", \"showlegend\": true, \"textfont\": {\"size\": 14}, \"textposition\": \"inside\", \"type\": \"pie\", \"values\": [83, 83, 82, 78, 77, 76, 74, 73, 73, 72, 70, 70, 70, 70, 69, 69, 69, 69, 69, 69, 69, 69, 69, 68, 68, 68, 68, 68, 67, 66, 66, 65, 65, 65, 64, 62, 61, 60, 59, 59, 59, 58, 58, 56, 56, 56, 53, 53, 53, 53, 53, 53, 51, 50, 50, 48, 47, 46, 45, 45, 44, 43, 39, 38, 38, 38, 38, 38, 37, 36, 34, 33, 33, 30, 29, 26, 26, 25, 25, 24, 23, 22, 22, 20, 20, 20, 20, 20, 19, 18, 17, 17, 16, 16, 16, 14, 14, 13, 13, 12, 11, 11, 11, 11, 10, 10, 9, 9, 8, 8, 7, 7, 7, 6, 5, 5, 5, 4, 3, 1, 1]}],\n",
              "                        {\"legend\": {\"tracegroupgap\": 0}, \"margin\": {\"t\": 60}, \"template\": {\"data\": {\"bar\": [{\"error_x\": {\"color\": \"#2a3f5f\"}, \"error_y\": {\"color\": \"#2a3f5f\"}, \"marker\": {\"line\": {\"color\": \"#E5ECF6\", \"width\": 0.5}}, \"type\": \"bar\"}], \"barpolar\": [{\"marker\": {\"line\": {\"color\": \"#E5ECF6\", \"width\": 0.5}}, \"type\": \"barpolar\"}], \"carpet\": [{\"aaxis\": {\"endlinecolor\": \"#2a3f5f\", \"gridcolor\": \"white\", \"linecolor\": \"white\", \"minorgridcolor\": \"white\", \"startlinecolor\": \"#2a3f5f\"}, \"baxis\": {\"endlinecolor\": \"#2a3f5f\", \"gridcolor\": \"white\", \"linecolor\": \"white\", \"minorgridcolor\": \"white\", \"startlinecolor\": \"#2a3f5f\"}, \"type\": \"carpet\"}], \"choropleth\": [{\"colorbar\": {\"outlinewidth\": 0, \"ticks\": \"\"}, \"type\": \"choropleth\"}], \"contour\": [{\"colorbar\": {\"outlinewidth\": 0, \"ticks\": \"\"}, \"colorscale\": [[0.0, \"#0d0887\"], [0.1111111111111111, \"#46039f\"], [0.2222222222222222, \"#7201a8\"], [0.3333333333333333, \"#9c179e\"], [0.4444444444444444, \"#bd3786\"], [0.5555555555555556, \"#d8576b\"], [0.6666666666666666, \"#ed7953\"], [0.7777777777777778, \"#fb9f3a\"], [0.8888888888888888, \"#fdca26\"], [1.0, \"#f0f921\"]], \"type\": \"contour\"}], \"contourcarpet\": [{\"colorbar\": {\"outlinewidth\": 0, \"ticks\": \"\"}, \"type\": \"contourcarpet\"}], \"heatmap\": [{\"colorbar\": {\"outlinewidth\": 0, \"ticks\": \"\"}, \"colorscale\": [[0.0, \"#0d0887\"], [0.1111111111111111, \"#46039f\"], [0.2222222222222222, \"#7201a8\"], [0.3333333333333333, \"#9c179e\"], [0.4444444444444444, \"#bd3786\"], [0.5555555555555556, \"#d8576b\"], [0.6666666666666666, \"#ed7953\"], [0.7777777777777778, \"#fb9f3a\"], [0.8888888888888888, \"#fdca26\"], [1.0, \"#f0f921\"]], \"type\": \"heatmap\"}], \"heatmapgl\": [{\"colorbar\": {\"outlinewidth\": 0, \"ticks\": \"\"}, \"colorscale\": [[0.0, \"#0d0887\"], [0.1111111111111111, \"#46039f\"], [0.2222222222222222, \"#7201a8\"], [0.3333333333333333, \"#9c179e\"], [0.4444444444444444, \"#bd3786\"], [0.5555555555555556, \"#d8576b\"], [0.6666666666666666, \"#ed7953\"], [0.7777777777777778, \"#fb9f3a\"], [0.8888888888888888, \"#fdca26\"], [1.0, \"#f0f921\"]], \"type\": \"heatmapgl\"}], \"histogram\": [{\"marker\": {\"colorbar\": {\"outlinewidth\": 0, \"ticks\": \"\"}}, \"type\": \"histogram\"}], \"histogram2d\": [{\"colorbar\": {\"outlinewidth\": 0, \"ticks\": \"\"}, \"colorscale\": [[0.0, \"#0d0887\"], [0.1111111111111111, \"#46039f\"], [0.2222222222222222, \"#7201a8\"], [0.3333333333333333, \"#9c179e\"], [0.4444444444444444, \"#bd3786\"], [0.5555555555555556, \"#d8576b\"], [0.6666666666666666, \"#ed7953\"], [0.7777777777777778, \"#fb9f3a\"], [0.8888888888888888, \"#fdca26\"], [1.0, \"#f0f921\"]], \"type\": \"histogram2d\"}], \"histogram2dcontour\": [{\"colorbar\": {\"outlinewidth\": 0, \"ticks\": \"\"}, \"colorscale\": [[0.0, \"#0d0887\"], [0.1111111111111111, \"#46039f\"], [0.2222222222222222, \"#7201a8\"], [0.3333333333333333, \"#9c179e\"], [0.4444444444444444, \"#bd3786\"], [0.5555555555555556, \"#d8576b\"], [0.6666666666666666, \"#ed7953\"], [0.7777777777777778, \"#fb9f3a\"], [0.8888888888888888, \"#fdca26\"], [1.0, \"#f0f921\"]], \"type\": \"histogram2dcontour\"}], \"mesh3d\": [{\"colorbar\": {\"outlinewidth\": 0, \"ticks\": \"\"}, \"type\": \"mesh3d\"}], \"parcoords\": [{\"line\": {\"colorbar\": {\"outlinewidth\": 0, \"ticks\": \"\"}}, \"type\": \"parcoords\"}], \"pie\": [{\"automargin\": true, \"type\": \"pie\"}], \"scatter\": [{\"marker\": {\"colorbar\": {\"outlinewidth\": 0, \"ticks\": \"\"}}, \"type\": \"scatter\"}], \"scatter3d\": [{\"line\": {\"colorbar\": {\"outlinewidth\": 0, \"ticks\": \"\"}}, \"marker\": {\"colorbar\": {\"outlinewidth\": 0, \"ticks\": \"\"}}, \"type\": \"scatter3d\"}], \"scattercarpet\": [{\"marker\": {\"colorbar\": {\"outlinewidth\": 0, \"ticks\": \"\"}}, \"type\": \"scattercarpet\"}], \"scattergeo\": [{\"marker\": {\"colorbar\": {\"outlinewidth\": 0, \"ticks\": \"\"}}, \"type\": \"scattergeo\"}], \"scattergl\": [{\"marker\": {\"colorbar\": {\"outlinewidth\": 0, \"ticks\": \"\"}}, \"type\": \"scattergl\"}], \"scattermapbox\": [{\"marker\": {\"colorbar\": {\"outlinewidth\": 0, \"ticks\": \"\"}}, \"type\": \"scattermapbox\"}], \"scatterpolar\": [{\"marker\": {\"colorbar\": {\"outlinewidth\": 0, \"ticks\": \"\"}}, \"type\": \"scatterpolar\"}], \"scatterpolargl\": [{\"marker\": {\"colorbar\": {\"outlinewidth\": 0, \"ticks\": \"\"}}, \"type\": \"scatterpolargl\"}], \"scatterternary\": [{\"marker\": {\"colorbar\": {\"outlinewidth\": 0, \"ticks\": \"\"}}, \"type\": \"scatterternary\"}], \"surface\": [{\"colorbar\": {\"outlinewidth\": 0, \"ticks\": \"\"}, \"colorscale\": [[0.0, \"#0d0887\"], [0.1111111111111111, \"#46039f\"], [0.2222222222222222, \"#7201a8\"], [0.3333333333333333, \"#9c179e\"], [0.4444444444444444, \"#bd3786\"], [0.5555555555555556, \"#d8576b\"], [0.6666666666666666, \"#ed7953\"], [0.7777777777777778, \"#fb9f3a\"], [0.8888888888888888, \"#fdca26\"], [1.0, \"#f0f921\"]], \"type\": \"surface\"}], \"table\": [{\"cells\": {\"fill\": {\"color\": \"#EBF0F8\"}, \"line\": {\"color\": \"white\"}}, \"header\": {\"fill\": {\"color\": \"#C8D4E3\"}, \"line\": {\"color\": \"white\"}}, \"type\": \"table\"}]}, \"layout\": {\"annotationdefaults\": {\"arrowcolor\": \"#2a3f5f\", \"arrowhead\": 0, \"arrowwidth\": 1}, \"coloraxis\": {\"colorbar\": {\"outlinewidth\": 0, \"ticks\": \"\"}}, \"colorscale\": {\"diverging\": [[0, \"#8e0152\"], [0.1, \"#c51b7d\"], [0.2, \"#de77ae\"], [0.3, \"#f1b6da\"], [0.4, \"#fde0ef\"], [0.5, \"#f7f7f7\"], [0.6, \"#e6f5d0\"], [0.7, \"#b8e186\"], [0.8, \"#7fbc41\"], [0.9, \"#4d9221\"], [1, \"#276419\"]], \"sequential\": [[0.0, \"#0d0887\"], [0.1111111111111111, \"#46039f\"], [0.2222222222222222, \"#7201a8\"], [0.3333333333333333, \"#9c179e\"], [0.4444444444444444, \"#bd3786\"], [0.5555555555555556, \"#d8576b\"], [0.6666666666666666, \"#ed7953\"], [0.7777777777777778, \"#fb9f3a\"], [0.8888888888888888, \"#fdca26\"], [1.0, \"#f0f921\"]], \"sequentialminus\": [[0.0, \"#0d0887\"], [0.1111111111111111, \"#46039f\"], [0.2222222222222222, \"#7201a8\"], [0.3333333333333333, \"#9c179e\"], [0.4444444444444444, \"#bd3786\"], [0.5555555555555556, \"#d8576b\"], [0.6666666666666666, \"#ed7953\"], [0.7777777777777778, \"#fb9f3a\"], [0.8888888888888888, \"#fdca26\"], [1.0, \"#f0f921\"]]}, \"colorway\": [\"#636efa\", \"#EF553B\", \"#00cc96\", \"#ab63fa\", \"#FFA15A\", \"#19d3f3\", \"#FF6692\", \"#B6E880\", \"#FF97FF\", \"#FECB52\"], \"font\": {\"color\": \"#2a3f5f\"}, \"geo\": {\"bgcolor\": \"white\", \"lakecolor\": \"white\", \"landcolor\": \"#E5ECF6\", \"showlakes\": true, \"showland\": true, \"subunitcolor\": \"white\"}, \"hoverlabel\": {\"align\": \"left\"}, \"hovermode\": \"closest\", \"mapbox\": {\"style\": \"light\"}, \"paper_bgcolor\": \"white\", \"plot_bgcolor\": \"#E5ECF6\", \"polar\": {\"angularaxis\": {\"gridcolor\": \"white\", \"linecolor\": \"white\", \"ticks\": \"\"}, \"bgcolor\": \"#E5ECF6\", \"radialaxis\": {\"gridcolor\": \"white\", \"linecolor\": \"white\", \"ticks\": \"\"}}, \"scene\": {\"xaxis\": {\"backgroundcolor\": \"#E5ECF6\", \"gridcolor\": \"white\", \"gridwidth\": 2, \"linecolor\": \"white\", \"showbackground\": true, \"ticks\": \"\", \"zerolinecolor\": \"white\"}, \"yaxis\": {\"backgroundcolor\": \"#E5ECF6\", \"gridcolor\": \"white\", \"gridwidth\": 2, \"linecolor\": \"white\", \"showbackground\": true, \"ticks\": \"\", \"zerolinecolor\": \"white\"}, \"zaxis\": {\"backgroundcolor\": \"#E5ECF6\", \"gridcolor\": \"white\", \"gridwidth\": 2, \"linecolor\": \"white\", \"showbackground\": true, \"ticks\": \"\", \"zerolinecolor\": \"white\"}}, \"shapedefaults\": {\"line\": {\"color\": \"#2a3f5f\"}}, \"ternary\": {\"aaxis\": {\"gridcolor\": \"white\", \"linecolor\": \"white\", \"ticks\": \"\"}, \"baxis\": {\"gridcolor\": \"white\", \"linecolor\": \"white\", \"ticks\": \"\"}, \"bgcolor\": \"#E5ECF6\", \"caxis\": {\"gridcolor\": \"white\", \"linecolor\": \"white\", \"ticks\": \"\"}}, \"title\": {\"x\": 0.05}, \"xaxis\": {\"automargin\": true, \"gridcolor\": \"white\", \"linecolor\": \"white\", \"ticks\": \"\", \"title\": {\"standoff\": 15}, \"zerolinecolor\": \"white\", \"zerolinewidth\": 2}, \"yaxis\": {\"automargin\": true, \"gridcolor\": \"white\", \"linecolor\": \"white\", \"ticks\": \"\", \"title\": {\"standoff\": 15}, \"zerolinecolor\": \"white\", \"zerolinewidth\": 2}}}},\n",
              "                        {\"responsive\": true}\n",
              "                    ).then(function(){\n",
              "                            \n",
              "var gd = document.getElementById('d3e9a749-bf19-4bb0-a9b3-4c65463b1b5b');\n",
              "var x = new MutationObserver(function (mutations, observer) {{\n",
              "        var display = window.getComputedStyle(gd).display;\n",
              "        if (!display || display === 'none') {{\n",
              "            console.log([gd, 'removed!']);\n",
              "            Plotly.purge(gd);\n",
              "            observer.disconnect();\n",
              "        }}\n",
              "}});\n",
              "\n",
              "// Listen for the removal of the full notebook cells\n",
              "var notebookContainer = gd.closest('#notebook-container');\n",
              "if (notebookContainer) {{\n",
              "    x.observe(notebookContainer, {childList: true});\n",
              "}}\n",
              "\n",
              "// Listen for the clearing of the current output cell\n",
              "var outputEl = gd.closest('.output');\n",
              "if (outputEl) {{\n",
              "    x.observe(outputEl, {childList: true});\n",
              "}}\n",
              "\n",
              "                        })\n",
              "                };\n",
              "                \n",
              "            </script>\n",
              "        </div>\n",
              "</body>\n",
              "</html>"
            ]
          },
          "metadata": {
            "tags": []
          }
        }
      ]
    },
    {
      "cell_type": "code",
      "metadata": {
        "colab": {
          "base_uri": "https://localhost:8080/"
        },
        "id": "B7m1hbXdVBzV",
        "outputId": "d48deaf7-3787-46f3-ce0f-54780a9842a0"
      },
      "source": [
        "data['vaccines'].value_counts().unique"
      ],
      "execution_count": 224,
      "outputs": [
        {
          "output_type": "execute_result",
          "data": {
            "text/plain": [
              "<bound method Series.unique of Moderna, Oxford/AstraZeneca, Pfizer/BioNTech                                          1332\n",
              "Pfizer/BioNTech                                                                       1073\n",
              "Moderna, Pfizer/BioNTech                                                               445\n",
              "Oxford/AstraZeneca, Pfizer/BioNTech                                                    419\n",
              "Oxford/AstraZeneca                                                                     322\n",
              "Sputnik V                                                                              257\n",
              "Sinovac                                                                                136\n",
              "Oxford/AstraZeneca, Pfizer/BioNTech, Sinopharm/Beijing, Sputnik V                      132\n",
              "Sinopharm/Beijing                                                                       99\n",
              "Oxford/AstraZeneca, Sinopharm/Beijing                                                   94\n",
              "Pfizer/BioNTech, Sinovac                                                                93\n",
              "EpiVacCorona, Sputnik V                                                                 82\n",
              "Sinopharm/Beijing, Sinopharm/Wuhan, Sinovac                                             76\n",
              "Oxford/AstraZeneca, Pfizer/BioNTech, Sputnik V                                          73\n",
              "Moderna, Oxford/AstraZeneca, Pfizer/BioNTech, Sinopharm/Beijing, Sputnik V              69\n",
              "Oxford/AstraZeneca, Pfizer/BioNTech, Sinopharm/Beijing, Sinopharm/Wuhan, Sputnik V      61\n",
              "Covaxin, Oxford/AstraZeneca                                                             51\n",
              "Oxford/AstraZeneca, Sinovac                                                             50\n",
              "Oxford/AstraZeneca, Sputnik V                                                           46\n",
              "Pfizer/BioNTech, Sinopharm/Beijing                                                      45\n",
              "Oxford/AstraZeneca, Sinopharm/Beijing, Sputnik V                                        20\n",
              "Johnson&Johnson                                                                         13\n",
              "Moderna                                                                                  1\n",
              "Name: vaccines, dtype: int64>"
            ]
          },
          "metadata": {
            "tags": []
          },
          "execution_count": 224
        }
      ]
    },
    {
      "cell_type": "code",
      "metadata": {
        "colab": {
          "base_uri": "https://localhost:8080/",
          "height": 822
        },
        "id": "ri9FTvnDdxip",
        "outputId": "2dd62a27-3adb-4c17-d599-e6adde32025e"
      },
      "source": [
        "plt.figure(figsize= (12,14))\n",
        "sns.countplot(y=data['vaccines'], order= data['vaccines'].value_counts().index)\n",
        "plt.show()"
      ],
      "execution_count": 225,
      "outputs": [
        {
          "output_type": "display_data",
          "data": {
            "image/png": "[encoded data removed]",
            "text/plain": [
              "<Figure size 864x1008 with 1 Axes>"
            ]
          },
          "metadata": {
            "tags": [],
            "needs_background": "light"
          }
        }
      ]
    },
    {
      "cell_type": "code",
      "metadata": {
        "id": "aCQgd-_sKFK2"
      },
      "source": [
        "df1 = data[['country', 'iso_code', 'vaccines']]"
      ],
      "execution_count": 226,
      "outputs": []
    },
    {
      "cell_type": "code",
      "metadata": {
        "colab": {
          "base_uri": "https://localhost:8080/",
          "height": 391
        },
        "id": "iyzHwVu0KZ_Y",
        "outputId": "bfc85b7a-dfba-426f-cd7f-570f428d5024"
      },
      "source": [
        "df1"
      ],
      "execution_count": 227,
      "outputs": [
        {
          "output_type": "execute_result",
          "data": {
            "text/html": [
              "<div>\n",
              "<style scoped>\n",
              "    .dataframe tbody tr th:only-of-type {\n",
              "        vertical-align: middle;\n",
              "    }\n",
              "\n",
              "    .dataframe tbody tr th {\n",
              "        vertical-align: top;\n",
              "    }\n",
              "\n",
              "    .dataframe thead th {\n",
              "        text-align: right;\n",
              "    }\n",
              "</style>\n",
              "<table border=\"1\" class=\"dataframe\">\n",
              "  <thead>\n",
              "    <tr style=\"text-align: right;\">\n",
              "      <th></th>\n",
              "      <th>country</th>\n",
              "      <th>iso_code</th>\n",
              "      <th>vaccines</th>\n",
              "    </tr>\n",
              "  </thead>\n",
              "  <tbody>\n",
              "    <tr>\n",
              "      <th>0</th>\n",
              "      <td>Albania</td>\n",
              "      <td>ALB</td>\n",
              "      <td>Pfizer/BioNTech</td>\n",
              "    </tr>\n",
              "    <tr>\n",
              "      <th>1</th>\n",
              "      <td>Albania</td>\n",
              "      <td>ALB</td>\n",
              "      <td>Pfizer/BioNTech</td>\n",
              "    </tr>\n",
              "    <tr>\n",
              "      <th>2</th>\n",
              "      <td>Albania</td>\n",
              "      <td>ALB</td>\n",
              "      <td>Pfizer/BioNTech</td>\n",
              "    </tr>\n",
              "    <tr>\n",
              "      <th>3</th>\n",
              "      <td>Albania</td>\n",
              "      <td>ALB</td>\n",
              "      <td>Pfizer/BioNTech</td>\n",
              "    </tr>\n",
              "    <tr>\n",
              "      <th>4</th>\n",
              "      <td>Albania</td>\n",
              "      <td>ALB</td>\n",
              "      <td>Pfizer/BioNTech</td>\n",
              "    </tr>\n",
              "    <tr>\n",
              "      <th>...</th>\n",
              "      <td>...</td>\n",
              "      <td>...</td>\n",
              "      <td>...</td>\n",
              "    </tr>\n",
              "    <tr>\n",
              "      <th>5316</th>\n",
              "      <td>Zimbabwe</td>\n",
              "      <td>ZWE</td>\n",
              "      <td>Sinopharm/Beijing</td>\n",
              "    </tr>\n",
              "    <tr>\n",
              "      <th>5317</th>\n",
              "      <td>Zimbabwe</td>\n",
              "      <td>ZWE</td>\n",
              "      <td>Sinopharm/Beijing</td>\n",
              "    </tr>\n",
              "    <tr>\n",
              "      <th>5318</th>\n",
              "      <td>Zimbabwe</td>\n",
              "      <td>ZWE</td>\n",
              "      <td>Sinopharm/Beijing</td>\n",
              "    </tr>\n",
              "    <tr>\n",
              "      <th>5319</th>\n",
              "      <td>Zimbabwe</td>\n",
              "      <td>ZWE</td>\n",
              "      <td>Sinopharm/Beijing</td>\n",
              "    </tr>\n",
              "    <tr>\n",
              "      <th>5320</th>\n",
              "      <td>Zimbabwe</td>\n",
              "      <td>ZWE</td>\n",
              "      <td>Sinopharm/Beijing</td>\n",
              "    </tr>\n",
              "  </tbody>\n",
              "</table>\n",
              "<p>4989 rows × 3 columns</p>\n",
              "</div>"
            ],
            "text/plain": [
              "       country iso_code           vaccines\n",
              "0      Albania      ALB    Pfizer/BioNTech\n",
              "1      Albania      ALB    Pfizer/BioNTech\n",
              "2      Albania      ALB    Pfizer/BioNTech\n",
              "3      Albania      ALB    Pfizer/BioNTech\n",
              "4      Albania      ALB    Pfizer/BioNTech\n",
              "...        ...      ...                ...\n",
              "5316  Zimbabwe      ZWE  Sinopharm/Beijing\n",
              "5317  Zimbabwe      ZWE  Sinopharm/Beijing\n",
              "5318  Zimbabwe      ZWE  Sinopharm/Beijing\n",
              "5319  Zimbabwe      ZWE  Sinopharm/Beijing\n",
              "5320  Zimbabwe      ZWE  Sinopharm/Beijing\n",
              "\n",
              "[4989 rows x 3 columns]"
            ]
          },
          "metadata": {
            "tags": []
          },
          "execution_count": 227
        }
      ]
    },
    {
      "cell_type": "code",
      "metadata": {
        "colab": {
          "base_uri": "https://localhost:8080/",
          "height": 542
        },
        "id": "Ki-gHcBbIcbG",
        "outputId": "c424403e-5e8a-40a4-ad36-7c1aabff57b4"
      },
      "source": [
        "fig = px.choropleth(df1, locations=\"iso_code\",\n",
        "                    color=\"vaccines\",\n",
        "                    hover_name=\"country\",\n",
        "                    color_continuous_scale=px.colors.sequential.Plasma,\n",
        "                   title= \"Vaccines used by different countries\")\n",
        "\n",
        "fig.update_layout(showlegend=False)\n",
        "fig.show()"
      ],
      "execution_count": 228,
      "outputs": [
        {
          "output_type": "display_data",
          "data": {
            "text/html": [
              "<html>\n",
              "<head><meta charset=\"utf-8\" /></head>\n",
              "<body>\n",
              "    <div>\n",
              "            <script src=\"https://cdnjs.cloudflare.com/ajax/libs/mathjax/2.7.5/MathJax.js?config=TeX-AMS-MML_SVG\"></script><script type=\"text/javascript\">if (window.MathJax) {MathJax.Hub.Config({SVG: {font: \"STIX-Web\"}});}</script>\n",
              "                <script type=\"text/javascript\">window.PlotlyConfig = {MathJaxConfig: 'local'};</script>\n",
              "        <script src=\"https://cdn.plot.ly/plotly-latest.min.js\"></script>    \n",
              "            <div id=\"4a0f61c7-e72b-4ab7-a564-84bf2753da4b\" class=\"plotly-graph-div\" style=\"height:525px; width:100%;\"></div>\n",
              "            <script type=\"text/javascript\">\n",
              "                \n",
              "                    window.PLOTLYENV=window.PLOTLYENV || {};\n",
              "                    \n",
              "                if (document.getElementById(\"4a0f61c7-e72b-4ab7-a564-84bf2753da4b\")) {\n",
              "                    Plotly.newPlot(\n",
              "                        '4a0f61c7-e72b-4ab7-a564-84bf2753da4b',\n",
              "                        [{\"coloraxis\": \"coloraxis\", \"geo\": \"geo\", \"hoverlabel\": {\"namelength\": 0}, \"hovertemplate\": \"<b>%{hovertext}</b><br><br>iso_code=%{location}<br>vaccines=%{z}\", \"hovertext\": [\"Albania\", \"Albania\", \"Albania\", \"Albania\", \"Albania\", \"Albania\", \"Albania\", \"Albania\", \"Albania\", \"Albania\", \"Albania\", \"Albania\", \"Albania\", \"Albania\", \"Albania\", \"Albania\", \"Albania\", \"Albania\", \"Albania\", \"Albania\", \"Albania\", \"Albania\", \"Albania\", \"Albania\", \"Albania\", \"Albania\", \"Albania\", \"Albania\", \"Albania\", \"Albania\", \"Albania\", \"Albania\", \"Albania\", \"Albania\", \"Albania\", \"Albania\", \"Albania\", \"Albania\", \"Albania\", \"Albania\", \"Albania\", \"Albania\", \"Albania\", \"Albania\", \"Albania\", \"Albania\", \"Albania\", \"Albania\", \"Albania\", \"Albania\", \"Albania\", \"Albania\", \"Albania\", \"Algeria\", \"Algeria\", \"Algeria\", \"Algeria\", \"Algeria\", \"Algeria\", \"Algeria\", \"Algeria\", \"Algeria\", \"Algeria\", \"Algeria\", \"Algeria\", \"Algeria\", \"Algeria\", \"Algeria\", \"Algeria\", \"Algeria\", \"Algeria\", \"Algeria\", \"Algeria\", \"Algeria\", \"Algeria\", \"Andorra\", \"Andorra\", \"Andorra\", \"Andorra\", \"Andorra\", \"Andorra\", \"Andorra\", \"Andorra\", \"Andorra\", \"Andorra\", \"Andorra\", \"Andorra\", \"Andorra\", \"Andorra\", \"Andorra\", \"Andorra\", \"Andorra\", \"Andorra\", \"Andorra\", \"Andorra\", \"Andorra\", \"Andorra\", \"Andorra\", \"Andorra\", \"Andorra\", \"Andorra\", \"Andorra\", \"Andorra\", \"Andorra\", \"Andorra\", \"Andorra\", \"Andorra\", \"Andorra\", \"Anguilla\", \"Anguilla\", \"Anguilla\", \"Anguilla\", \"Anguilla\", \"Anguilla\", \"Anguilla\", \"Anguilla\", \"Anguilla\", \"Anguilla\", \"Anguilla\", \"Anguilla\", \"Anguilla\", \"Anguilla\", \"Anguilla\", \"Anguilla\", \"Anguilla\", \"Anguilla\", \"Anguilla\", \"Anguilla\", \"Anguilla\", \"Anguilla\", \"Anguilla\", \"Argentina\", \"Argentina\", \"Argentina\", \"Argentina\", \"Argentina\", \"Argentina\", \"Argentina\", \"Argentina\", \"Argentina\", \"Argentina\", \"Argentina\", \"Argentina\", \"Argentina\", \"Argentina\", \"Argentina\", \"Argentina\", \"Argentina\", \"Argentina\", \"Argentina\", \"Argentina\", \"Argentina\", \"Argentina\", \"Argentina\", \"Argentina\", \"Argentina\", \"Argentina\", \"Argentina\", \"Argentina\", \"Argentina\", \"Argentina\", \"Argentina\", \"Argentina\", \"Argentina\", \"Argentina\", \"Argentina\", \"Argentina\", \"Argentina\", \"Argentina\", \"Argentina\", \"Argentina\", \"Argentina\", \"Argentina\", \"Argentina\", \"Argentina\", \"Argentina\", \"Argentina\", \"Argentina\", \"Argentina\", \"Argentina\", \"Argentina\", \"Argentina\", \"Argentina\", \"Argentina\", \"Argentina\", \"Argentina\", \"Argentina\", \"Argentina\", \"Argentina\", \"Argentina\", \"Argentina\", \"Argentina\", \"Argentina\", \"Argentina\", \"Argentina\", \"Argentina\", \"Argentina\", \"Argentina\", \"Australia\", \"Australia\", \"Australia\", \"Australia\", \"Australia\", \"Australia\", \"Australia\", \"Australia\", \"Australia\", \"Australia\", \"Australia\", \"Australia\", \"Australia\", \"Australia\", \"Australia\", \"Australia\", \"Australia\", \"Australia\", \"Australia\", \"Australia\", \"Austria\", \"Austria\", \"Austria\", \"Austria\", \"Austria\", \"Austria\", \"Austria\", \"Austria\", \"Austria\", \"Austria\", \"Austria\", \"Austria\", \"Austria\", \"Austria\", \"Austria\", \"Austria\", \"Austria\", \"Austria\", \"Austria\", \"Austria\", \"Austria\", \"Austria\", \"Austria\", \"Austria\", \"Austria\", \"Austria\", \"Austria\", \"Austria\", \"Austria\", \"Austria\", \"Austria\", \"Austria\", \"Austria\", \"Austria\", \"Austria\", \"Austria\", \"Austria\", \"Austria\", \"Austria\", \"Austria\", \"Austria\", \"Austria\", \"Austria\", \"Austria\", \"Austria\", \"Austria\", \"Austria\", \"Austria\", \"Austria\", \"Austria\", \"Austria\", \"Austria\", \"Austria\", \"Austria\", \"Austria\", \"Austria\", \"Azerbaijan\", \"Azerbaijan\", \"Azerbaijan\", \"Azerbaijan\", \"Azerbaijan\", \"Azerbaijan\", \"Azerbaijan\", \"Azerbaijan\", \"Azerbaijan\", \"Azerbaijan\", \"Azerbaijan\", \"Azerbaijan\", \"Azerbaijan\", \"Azerbaijan\", \"Azerbaijan\", \"Azerbaijan\", \"Azerbaijan\", \"Azerbaijan\", \"Azerbaijan\", \"Azerbaijan\", \"Azerbaijan\", \"Azerbaijan\", \"Azerbaijan\", \"Azerbaijan\", \"Azerbaijan\", \"Azerbaijan\", \"Azerbaijan\", \"Azerbaijan\", \"Azerbaijan\", \"Azerbaijan\", \"Azerbaijan\", \"Azerbaijan\", \"Azerbaijan\", \"Azerbaijan\", \"Azerbaijan\", \"Azerbaijan\", \"Azerbaijan\", \"Azerbaijan\", \"Azerbaijan\", \"Azerbaijan\", \"Azerbaijan\", \"Azerbaijan\", \"Azerbaijan\", \"Azerbaijan\", \"Azerbaijan\", \"Azerbaijan\", \"Bahrain\", \"Bahrain\", \"Bahrain\", \"Bahrain\", \"Bahrain\", \"Bahrain\", \"Bahrain\", \"Bahrain\", \"Bahrain\", \"Bahrain\", \"Bahrain\", \"Bahrain\", \"Bahrain\", \"Bahrain\", \"Bahrain\", \"Bahrain\", \"Bahrain\", \"Bahrain\", \"Bahrain\", \"Bahrain\", \"Bahrain\", \"Bahrain\", \"Bahrain\", \"Bahrain\", \"Bahrain\", \"Bahrain\", \"Bahrain\", \"Bahrain\", \"Bahrain\", \"Bahrain\", \"Bahrain\", \"Bahrain\", \"Bahrain\", \"Bahrain\", \"Bahrain\", \"Bahrain\", \"Bahrain\", \"Bahrain\", \"Bahrain\", \"Bahrain\", \"Bahrain\", \"Bahrain\", \"Bahrain\", \"Bahrain\", \"Bahrain\", \"Bahrain\", \"Bahrain\", \"Bahrain\", \"Bahrain\", \"Bahrain\", \"Bahrain\", \"Bahrain\", \"Bahrain\", \"Bahrain\", \"Bahrain\", \"Bahrain\", \"Bahrain\", \"Bahrain\", \"Bahrain\", \"Bahrain\", \"Bahrain\", \"Bahrain\", \"Bahrain\", \"Bahrain\", \"Bahrain\", \"Bahrain\", \"Bahrain\", \"Bahrain\", \"Bahrain\", \"Bahrain\", \"Bahrain\", \"Bahrain\", \"Bahrain\", \"Bahrain\", \"Bangladesh\", \"Bangladesh\", \"Bangladesh\", \"Bangladesh\", \"Bangladesh\", \"Bangladesh\", \"Bangladesh\", \"Bangladesh\", \"Bangladesh\", \"Bangladesh\", \"Bangladesh\", \"Bangladesh\", \"Bangladesh\", \"Bangladesh\", \"Bangladesh\", \"Bangladesh\", \"Bangladesh\", \"Bangladesh\", \"Bangladesh\", \"Bangladesh\", \"Bangladesh\", \"Bangladesh\", \"Bangladesh\", \"Bangladesh\", \"Bangladesh\", \"Bangladesh\", \"Bangladesh\", \"Bangladesh\", \"Bangladesh\", \"Bangladesh\", \"Bangladesh\", \"Bangladesh\", \"Bangladesh\", \"Bangladesh\", \"Bangladesh\", \"Bangladesh\", \"Bangladesh\", \"Bangladesh\", \"Barbados\", \"Barbados\", \"Barbados\", \"Barbados\", \"Barbados\", \"Barbados\", \"Barbados\", \"Barbados\", \"Barbados\", \"Barbados\", \"Barbados\", \"Barbados\", \"Barbados\", \"Barbados\", \"Barbados\", \"Barbados\", \"Barbados\", \"Barbados\", \"Belarus\", \"Belarus\", \"Belarus\", \"Belarus\", \"Belarus\", \"Belarus\", \"Belarus\", \"Belarus\", \"Belarus\", \"Belarus\", \"Belarus\", \"Belarus\", \"Belarus\", \"Belarus\", \"Belarus\", \"Belarus\", \"Belarus\", \"Belarus\", \"Belarus\", \"Belarus\", \"Belarus\", \"Belarus\", \"Belarus\", \"Belarus\", \"Belarus\", \"Belarus\", \"Belarus\", \"Belarus\", \"Belarus\", \"Belarus\", \"Belarus\", \"Belarus\", \"Belarus\", \"Belarus\", \"Belarus\", \"Belarus\", \"Belarus\", \"Belarus\", \"Belarus\", \"Belarus\", \"Belarus\", \"Belarus\", \"Belarus\", \"Belarus\", \"Belarus\", \"Belarus\", \"Belarus\", \"Belarus\", \"Belarus\", \"Belarus\", \"Belarus\", \"Belarus\", \"Belarus\", \"Belgium\", \"Belgium\", \"Belgium\", \"Belgium\", \"Belgium\", \"Belgium\", \"Belgium\", \"Belgium\", \"Belgium\", \"Belgium\", \"Belgium\", \"Belgium\", \"Belgium\", \"Belgium\", \"Belgium\", \"Belgium\", \"Belgium\", \"Belgium\", \"Belgium\", \"Belgium\", \"Belgium\", \"Belgium\", \"Belgium\", \"Belgium\", \"Belgium\", \"Belgium\", \"Belgium\", \"Belgium\", \"Belgium\", \"Belgium\", \"Belgium\", \"Belgium\", \"Belgium\", \"Belgium\", \"Belgium\", \"Belgium\", \"Belgium\", \"Belgium\", \"Belgium\", \"Belgium\", \"Belgium\", \"Belgium\", \"Belgium\", \"Belgium\", \"Belgium\", \"Belgium\", \"Belgium\", \"Belgium\", \"Belgium\", \"Belgium\", \"Belgium\", \"Belgium\", \"Belgium\", \"Belgium\", \"Belgium\", \"Belgium\", \"Belgium\", \"Belgium\", \"Belgium\", \"Belgium\", \"Belgium\", \"Belgium\", \"Belgium\", \"Belgium\", \"Belgium\", \"Belgium\", \"Belgium\", \"Belgium\", \"Belize\", \"Belize\", \"Belize\", \"Belize\", \"Belize\", \"Belize\", \"Bermuda\", \"Bermuda\", \"Bermuda\", \"Bermuda\", \"Bermuda\", \"Bermuda\", \"Bermuda\", \"Bermuda\", \"Bermuda\", \"Bermuda\", \"Bermuda\", \"Bermuda\", \"Bermuda\", \"Bermuda\", \"Bermuda\", \"Bermuda\", \"Bermuda\", \"Bermuda\", \"Bermuda\", \"Bermuda\", \"Bermuda\", \"Bermuda\", \"Bermuda\", \"Bermuda\", \"Bermuda\", \"Bermuda\", \"Bermuda\", \"Bermuda\", \"Bermuda\", \"Bermuda\", \"Bermuda\", \"Bermuda\", \"Bermuda\", \"Bermuda\", \"Bermuda\", \"Bermuda\", \"Bermuda\", \"Bermuda\", \"Bermuda\", \"Bermuda\", \"Bermuda\", \"Bermuda\", \"Bermuda\", \"Bermuda\", \"Bermuda\", \"Bermuda\", \"Bermuda\", \"Bermuda\", \"Bermuda\", \"Bermuda\", \"Bermuda\", \"Bermuda\", \"Bermuda\", \"Bolivia\", \"Bolivia\", \"Bolivia\", \"Bolivia\", \"Bolivia\", \"Bolivia\", \"Bolivia\", \"Bolivia\", \"Bolivia\", \"Bolivia\", \"Bolivia\", \"Bolivia\", \"Bolivia\", \"Bolivia\", \"Bolivia\", \"Bolivia\", \"Bolivia\", \"Bolivia\", \"Bolivia\", \"Bolivia\", \"Bolivia\", \"Bolivia\", \"Bolivia\", \"Bolivia\", \"Bolivia\", \"Bolivia\", \"Bolivia\", \"Bolivia\", \"Bolivia\", \"Bolivia\", \"Bolivia\", \"Bolivia\", \"Bolivia\", \"Bolivia\", \"Bolivia\", \"Bolivia\", \"Bolivia\", \"Bolivia\", \"Brazil\", \"Brazil\", \"Brazil\", \"Brazil\", \"Brazil\", \"Brazil\", \"Brazil\", \"Brazil\", \"Brazil\", \"Brazil\", \"Brazil\", \"Brazil\", \"Brazil\", \"Brazil\", \"Brazil\", \"Brazil\", \"Brazil\", \"Brazil\", \"Brazil\", \"Brazil\", \"Brazil\", \"Brazil\", \"Brazil\", \"Brazil\", \"Brazil\", \"Brazil\", \"Brazil\", \"Brazil\", \"Brazil\", \"Brazil\", \"Brazil\", \"Brazil\", \"Brazil\", \"Brazil\", \"Brazil\", \"Brazil\", \"Brazil\", \"Brazil\", \"Brazil\", \"Brazil\", \"Brazil\", \"Brazil\", \"Brazil\", \"Brazil\", \"Brazil\", \"Brazil\", \"Brazil\", \"Brazil\", \"Brazil\", \"Brazil\", \"Bulgaria\", \"Bulgaria\", \"Bulgaria\", \"Bulgaria\", \"Bulgaria\", \"Bulgaria\", \"Bulgaria\", \"Bulgaria\", \"Bulgaria\", \"Bulgaria\", \"Bulgaria\", \"Bulgaria\", \"Bulgaria\", \"Bulgaria\", \"Bulgaria\", \"Bulgaria\", \"Bulgaria\", \"Bulgaria\", \"Bulgaria\", \"Bulgaria\", \"Bulgaria\", \"Bulgaria\", \"Bulgaria\", \"Bulgaria\", \"Bulgaria\", \"Bulgaria\", \"Bulgaria\", \"Bulgaria\", \"Bulgaria\", \"Bulgaria\", \"Bulgaria\", \"Bulgaria\", \"Bulgaria\", \"Bulgaria\", \"Bulgaria\", \"Bulgaria\", \"Bulgaria\", \"Bulgaria\", \"Bulgaria\", \"Bulgaria\", \"Bulgaria\", \"Bulgaria\", \"Bulgaria\", \"Bulgaria\", \"Bulgaria\", \"Bulgaria\", \"Bulgaria\", \"Bulgaria\", \"Bulgaria\", \"Bulgaria\", \"Bulgaria\", \"Bulgaria\", \"Bulgaria\", \"Bulgaria\", \"Bulgaria\", \"Bulgaria\", \"Bulgaria\", \"Bulgaria\", \"Bulgaria\", \"Bulgaria\", \"Bulgaria\", \"Bulgaria\", \"Bulgaria\", \"Bulgaria\", \"Bulgaria\", \"Bulgaria\", \"Bulgaria\", \"Bulgaria\", \"Cambodia\", \"Cambodia\", \"Cambodia\", \"Cambodia\", \"Cambodia\", \"Cambodia\", \"Cambodia\", \"Cambodia\", \"Cambodia\", \"Cambodia\", \"Cambodia\", \"Cambodia\", \"Cambodia\", \"Cambodia\", \"Cambodia\", \"Cambodia\", \"Cambodia\", \"Cambodia\", \"Cambodia\", \"Cambodia\", \"Cambodia\", \"Cambodia\", \"Cambodia\", \"Cambodia\", \"Cambodia\", \"Cambodia\", \"Canada\", \"Canada\", \"Canada\", \"Canada\", \"Canada\", \"Canada\", \"Canada\", \"Canada\", \"Canada\", \"Canada\", \"Canada\", \"Canada\", \"Canada\", \"Canada\", \"Canada\", \"Canada\", \"Canada\", \"Canada\", \"Canada\", \"Canada\", \"Canada\", \"Canada\", \"Canada\", \"Canada\", \"Canada\", \"Canada\", \"Canada\", \"Canada\", \"Canada\", \"Canada\", \"Canada\", \"Canada\", \"Canada\", \"Canada\", \"Canada\", \"Canada\", \"Canada\", \"Canada\", \"Canada\", \"Canada\", \"Canada\", \"Canada\", \"Canada\", \"Canada\", \"Canada\", \"Canada\", \"Canada\", \"Canada\", \"Canada\", \"Canada\", \"Canada\", \"Canada\", \"Canada\", \"Canada\", \"Canada\", \"Canada\", \"Canada\", \"Canada\", \"Canada\", \"Canada\", \"Canada\", \"Canada\", \"Canada\", \"Canada\", \"Canada\", \"Canada\", \"Canada\", \"Canada\", \"Canada\", \"Canada\", \"Canada\", \"Canada\", \"Canada\", \"Canada\", \"Canada\", \"Canada\", \"Canada\", \"Canada\", \"Canada\", \"Canada\", \"Canada\", \"Canada\", \"Canada\", \"Cayman Islands\", \"Cayman Islands\", \"Cayman Islands\", \"Cayman Islands\", \"Cayman Islands\", \"Cayman Islands\", \"Cayman Islands\", \"Cayman Islands\", \"Cayman Islands\", \"Cayman Islands\", \"Cayman Islands\", \"Cayman Islands\", \"Cayman Islands\", \"Cayman Islands\", \"Cayman Islands\", \"Cayman Islands\", \"Cayman Islands\", \"Cayman Islands\", \"Cayman Islands\", \"Cayman Islands\", \"Cayman Islands\", \"Cayman Islands\", \"Cayman Islands\", \"Cayman Islands\", \"Cayman Islands\", \"Cayman Islands\", \"Cayman Islands\", \"Cayman Islands\", \"Cayman Islands\", \"Cayman Islands\", \"Cayman Islands\", \"Cayman Islands\", \"Cayman Islands\", \"Cayman Islands\", \"Cayman Islands\", \"Cayman Islands\", \"Cayman Islands\", \"Cayman Islands\", \"Cayman Islands\", \"Cayman Islands\", \"Cayman Islands\", \"Cayman Islands\", \"Cayman Islands\", \"Cayman Islands\", \"Cayman Islands\", \"Cayman Islands\", \"Cayman Islands\", \"Cayman Islands\", \"Cayman Islands\", \"Cayman Islands\", \"Cayman Islands\", \"Cayman Islands\", \"Cayman Islands\", \"Cayman Islands\", \"Cayman Islands\", \"Cayman Islands\", \"Cayman Islands\", \"Cayman Islands\", \"Cayman Islands\", \"Cayman Islands\", \"Cayman Islands\", \"Cayman Islands\", \"Cayman Islands\", \"Cayman Islands\", \"Cayman Islands\", \"Cayman Islands\", \"Cayman Islands\", \"Cayman Islands\", \"Chile\", \"Chile\", \"Chile\", \"Chile\", \"Chile\", \"Chile\", \"Chile\", \"Chile\", \"Chile\", \"Chile\", \"Chile\", \"Chile\", \"Chile\", \"Chile\", \"Chile\", \"Chile\", \"Chile\", \"Chile\", \"Chile\", \"Chile\", \"Chile\", \"Chile\", \"Chile\", \"Chile\", \"Chile\", \"Chile\", \"Chile\", \"Chile\", \"Chile\", \"Chile\", \"Chile\", \"Chile\", \"Chile\", \"Chile\", \"Chile\", \"Chile\", \"Chile\", \"Chile\", \"Chile\", \"Chile\", \"Chile\", \"Chile\", \"Chile\", \"Chile\", \"Chile\", \"Chile\", \"Chile\", \"Chile\", \"Chile\", \"Chile\", \"Chile\", \"Chile\", \"Chile\", \"Chile\", \"Chile\", \"Chile\", \"Chile\", \"Chile\", \"Chile\", \"Chile\", \"Chile\", \"Chile\", \"Chile\", \"Chile\", \"Chile\", \"Chile\", \"Chile\", \"Chile\", \"Chile\", \"Chile\", \"Chile\", \"Chile\", \"Chile\", \"China\", \"China\", \"China\", \"China\", \"China\", \"China\", \"China\", \"China\", \"China\", \"China\", \"China\", \"China\", \"China\", \"China\", \"China\", \"China\", \"China\", \"China\", \"China\", \"China\", \"China\", \"China\", \"China\", \"China\", \"China\", \"China\", \"China\", \"China\", \"China\", \"China\", \"China\", \"China\", \"China\", \"China\", \"China\", \"China\", \"China\", \"China\", \"China\", \"China\", \"China\", \"China\", \"China\", \"China\", \"China\", \"China\", \"China\", \"China\", \"China\", \"China\", \"China\", \"China\", \"China\", \"China\", \"China\", \"China\", \"China\", \"China\", \"China\", \"China\", \"China\", \"China\", \"China\", \"China\", \"China\", \"China\", \"China\", \"China\", \"China\", \"China\", \"China\", \"China\", \"China\", \"China\", \"China\", \"China\", \"Colombia\", \"Colombia\", \"Colombia\", \"Colombia\", \"Colombia\", \"Colombia\", \"Colombia\", \"Colombia\", \"Colombia\", \"Colombia\", \"Colombia\", \"Colombia\", \"Colombia\", \"Colombia\", \"Colombia\", \"Colombia\", \"Colombia\", \"Colombia\", \"Colombia\", \"Costa Rica\", \"Costa Rica\", \"Costa Rica\", \"Costa Rica\", \"Costa Rica\", \"Costa Rica\", \"Costa Rica\", \"Costa Rica\", \"Costa Rica\", \"Costa Rica\", \"Costa Rica\", \"Costa Rica\", \"Costa Rica\", \"Costa Rica\", \"Costa Rica\", \"Costa Rica\", \"Costa Rica\", \"Costa Rica\", \"Costa Rica\", \"Costa Rica\", \"Costa Rica\", \"Costa Rica\", \"Costa Rica\", \"Costa Rica\", \"Costa Rica\", \"Costa Rica\", \"Costa Rica\", \"Costa Rica\", \"Costa Rica\", \"Costa Rica\", \"Costa Rica\", \"Costa Rica\", \"Costa Rica\", \"Costa Rica\", \"Costa Rica\", \"Costa Rica\", \"Costa Rica\", \"Costa Rica\", \"Costa Rica\", \"Costa Rica\", \"Costa Rica\", \"Costa Rica\", \"Costa Rica\", \"Costa Rica\", \"Costa Rica\", \"Costa Rica\", \"Costa Rica\", \"Costa Rica\", \"Costa Rica\", \"Costa Rica\", \"Costa Rica\", \"Costa Rica\", \"Costa Rica\", \"Costa Rica\", \"Costa Rica\", \"Costa Rica\", \"Costa Rica\", \"Costa Rica\", \"Costa Rica\", \"Costa Rica\", \"Costa Rica\", \"Costa Rica\", \"Costa Rica\", \"Costa Rica\", \"Costa Rica\", \"Costa Rica\", \"Costa Rica\", \"Costa Rica\", \"Costa Rica\", \"Costa Rica\", \"Costa Rica\", \"Costa Rica\", \"Croatia\", \"Croatia\", \"Croatia\", \"Croatia\", \"Croatia\", \"Croatia\", \"Croatia\", \"Croatia\", \"Croatia\", \"Croatia\", \"Croatia\", \"Croatia\", \"Croatia\", \"Croatia\", \"Croatia\", \"Croatia\", \"Croatia\", \"Croatia\", \"Croatia\", \"Croatia\", \"Croatia\", \"Croatia\", \"Croatia\", \"Croatia\", \"Croatia\", \"Croatia\", \"Croatia\", \"Croatia\", \"Croatia\", \"Croatia\", \"Croatia\", \"Croatia\", \"Croatia\", \"Croatia\", \"Croatia\", \"Croatia\", \"Croatia\", \"Croatia\", \"Croatia\", \"Croatia\", \"Croatia\", \"Croatia\", \"Croatia\", \"Croatia\", \"Croatia\", \"Croatia\", \"Croatia\", \"Croatia\", \"Croatia\", \"Croatia\", \"Croatia\", \"Croatia\", \"Croatia\", \"Croatia\", \"Croatia\", \"Croatia\", \"Croatia\", \"Croatia\", \"Croatia\", \"Croatia\", \"Croatia\", \"Croatia\", \"Croatia\", \"Croatia\", \"Croatia\", \"Cyprus\", \"Cyprus\", \"Cyprus\", \"Cyprus\", \"Cyprus\", \"Cyprus\", \"Cyprus\", \"Cyprus\", \"Cyprus\", \"Cyprus\", \"Cyprus\", \"Cyprus\", \"Cyprus\", \"Cyprus\", \"Cyprus\", \"Cyprus\", \"Cyprus\", \"Cyprus\", \"Cyprus\", \"Cyprus\", \"Cyprus\", \"Cyprus\", \"Cyprus\", \"Cyprus\", \"Cyprus\", \"Cyprus\", \"Cyprus\", \"Cyprus\", \"Cyprus\", \"Cyprus\", \"Cyprus\", \"Cyprus\", \"Cyprus\", \"Cyprus\", \"Cyprus\", \"Cyprus\", \"Cyprus\", \"Cyprus\", \"Cyprus\", \"Cyprus\", \"Cyprus\", \"Cyprus\", \"Cyprus\", \"Cyprus\", \"Cyprus\", \"Cyprus\", \"Cyprus\", \"Cyprus\", \"Cyprus\", \"Cyprus\", \"Cyprus\", \"Cyprus\", \"Cyprus\", \"Cyprus\", \"Cyprus\", \"Cyprus\", \"Cyprus\", \"Cyprus\", \"Cyprus\", \"Czechia\", \"Czechia\", \"Czechia\", \"Czechia\", \"Czechia\", \"Czechia\", \"Czechia\", \"Czechia\", \"Czechia\", \"Czechia\", \"Czechia\", \"Czechia\", \"Czechia\", \"Czechia\", \"Czechia\", \"Czechia\", \"Czechia\", \"Czechia\", \"Czechia\", \"Czechia\", \"Czechia\", \"Czechia\", \"Czechia\", \"Czechia\", \"Czechia\", \"Czechia\", \"Czechia\", \"Czechia\", \"Czechia\", \"Czechia\", \"Czechia\", \"Czechia\", \"Czechia\", \"Czechia\", \"Czechia\", \"Czechia\", \"Czechia\", \"Czechia\", \"Czechia\", \"Czechia\", \"Czechia\", \"Czechia\", \"Czechia\", \"Czechia\", \"Czechia\", \"Czechia\", \"Czechia\", \"Czechia\", \"Czechia\", \"Czechia\", \"Czechia\", \"Czechia\", \"Czechia\", \"Czechia\", \"Czechia\", \"Czechia\", \"Czechia\", \"Czechia\", \"Czechia\", \"Czechia\", \"Czechia\", \"Czechia\", \"Czechia\", \"Czechia\", \"Czechia\", \"Czechia\", \"Czechia\", \"Czechia\", \"Czechia\", \"Czechia\", \"Denmark\", \"Denmark\", \"Denmark\", \"Denmark\", \"Denmark\", \"Denmark\", \"Denmark\", \"Denmark\", \"Denmark\", \"Denmark\", \"Denmark\", \"Denmark\", \"Denmark\", \"Denmark\", \"Denmark\", \"Denmark\", \"Denmark\", \"Denmark\", \"Denmark\", \"Denmark\", \"Denmark\", \"Denmark\", \"Denmark\", \"Denmark\", \"Denmark\", \"Denmark\", \"Denmark\", \"Denmark\", \"Denmark\", \"Denmark\", \"Denmark\", \"Denmark\", \"Denmark\", \"Denmark\", \"Denmark\", \"Denmark\", \"Denmark\", \"Denmark\", \"Denmark\", \"Denmark\", \"Denmark\", \"Denmark\", \"Denmark\", \"Denmark\", \"Denmark\", \"Denmark\", \"Denmark\", \"Denmark\", \"Denmark\", \"Denmark\", \"Denmark\", \"Denmark\", \"Denmark\", \"Denmark\", \"Denmark\", \"Denmark\", \"Denmark\", \"Denmark\", \"Denmark\", \"Denmark\", \"Denmark\", \"Denmark\", \"Denmark\", \"Denmark\", \"Denmark\", \"Denmark\", \"Denmark\", \"Denmark\", \"Denmark\", \"Dominican Republic\", \"Dominican Republic\", \"Dominican Republic\", \"Dominican Republic\", \"Dominican Republic\", \"Dominican Republic\", \"Dominican Republic\", \"Dominican Republic\", \"Dominican Republic\", \"Dominican Republic\", \"Dominican Republic\", \"Dominican Republic\", \"Dominican Republic\", \"Dominican Republic\", \"Dominican Republic\", \"Dominican Republic\", \"Dominican Republic\", \"Dominican Republic\", \"Dominican Republic\", \"Dominican Republic\", \"Ecuador\", \"Ecuador\", \"Ecuador\", \"Ecuador\", \"Ecuador\", \"Ecuador\", \"Ecuador\", \"Ecuador\", \"Ecuador\", \"Ecuador\", \"Ecuador\", \"Ecuador\", \"Ecuador\", \"Ecuador\", \"Ecuador\", \"Ecuador\", \"Ecuador\", \"Ecuador\", \"Ecuador\", \"Ecuador\", \"Ecuador\", \"Ecuador\", \"Ecuador\", \"Ecuador\", \"Ecuador\", \"Ecuador\", \"Ecuador\", \"Ecuador\", \"Ecuador\", \"Ecuador\", \"Ecuador\", \"Ecuador\", \"Ecuador\", \"Ecuador\", \"Ecuador\", \"Ecuador\", \"Ecuador\", \"Ecuador\", \"Ecuador\", \"Ecuador\", \"Ecuador\", \"Ecuador\", \"Ecuador\", \"Ecuador\", \"Egypt\", \"Egypt\", \"Egypt\", \"Egypt\", \"Egypt\", \"Egypt\", \"Egypt\", \"El Salvador\", \"El Salvador\", \"El Salvador\", \"El Salvador\", \"El Salvador\", \"El Salvador\", \"El Salvador\", \"El Salvador\", \"El Salvador\", \"Estonia\", \"Estonia\", \"Estonia\", \"Estonia\", \"Estonia\", \"Estonia\", \"Estonia\", \"Estonia\", \"Estonia\", \"Estonia\", \"Estonia\", \"Estonia\", \"Estonia\", \"Estonia\", \"Estonia\", \"Estonia\", \"Estonia\", \"Estonia\", \"Estonia\", \"Estonia\", \"Estonia\", \"Estonia\", \"Estonia\", \"Estonia\", \"Estonia\", \"Estonia\", \"Estonia\", \"Estonia\", \"Estonia\", \"Estonia\", \"Estonia\", \"Estonia\", \"Estonia\", \"Estonia\", \"Estonia\", \"Estonia\", \"Estonia\", \"Estonia\", \"Estonia\", \"Estonia\", \"Estonia\", \"Estonia\", \"Estonia\", \"Estonia\", \"Estonia\", \"Estonia\", \"Estonia\", \"Estonia\", \"Estonia\", \"Estonia\", \"Estonia\", \"Estonia\", \"Estonia\", \"Estonia\", \"Estonia\", \"Estonia\", \"Estonia\", \"Estonia\", \"Estonia\", \"Estonia\", \"Estonia\", \"Estonia\", \"Estonia\", \"Estonia\", \"Estonia\", \"Estonia\", \"Estonia\", \"Estonia\", \"Faeroe Islands\", \"Faeroe Islands\", \"Faeroe Islands\", \"Faeroe Islands\", \"Faeroe Islands\", \"Faeroe Islands\", \"Faeroe Islands\", \"Faeroe Islands\", \"Faeroe Islands\", \"Faeroe Islands\", \"Faeroe Islands\", \"Faeroe Islands\", \"Faeroe Islands\", \"Faeroe Islands\", \"Faeroe Islands\", \"Faeroe Islands\", \"Faeroe Islands\", \"Faeroe Islands\", \"Faeroe Islands\", \"Faeroe Islands\", \"Faeroe Islands\", \"Faeroe Islands\", \"Faeroe Islands\", \"Faeroe Islands\", \"Faeroe Islands\", \"Faeroe Islands\", \"Faeroe Islands\", \"Faeroe Islands\", \"Faeroe Islands\", \"Faeroe Islands\", \"Faeroe Islands\", \"Faeroe Islands\", \"Faeroe Islands\", \"Faeroe Islands\", \"Faeroe Islands\", \"Faeroe Islands\", \"Faeroe Islands\", \"Falkland Islands\", \"Falkland Islands\", \"Falkland Islands\", \"Falkland Islands\", \"Falkland Islands\", \"Falkland Islands\", \"Falkland Islands\", \"Falkland Islands\", \"Falkland Islands\", \"Falkland Islands\", \"Falkland Islands\", \"Falkland Islands\", \"Falkland Islands\", \"Falkland Islands\", \"Falkland Islands\", \"Falkland Islands\", \"Finland\", \"Finland\", \"Finland\", \"Finland\", \"Finland\", \"Finland\", \"Finland\", \"Finland\", \"Finland\", \"Finland\", \"Finland\", \"Finland\", \"Finland\", \"Finland\", \"Finland\", \"Finland\", \"Finland\", \"Finland\", \"Finland\", \"Finland\", \"Finland\", \"Finland\", \"Finland\", \"Finland\", \"Finland\", \"Finland\", \"Finland\", \"Finland\", \"Finland\", \"Finland\", \"Finland\", \"Finland\", \"Finland\", \"Finland\", \"Finland\", \"Finland\", \"Finland\", \"Finland\", \"Finland\", \"Finland\", \"Finland\", \"Finland\", \"Finland\", \"Finland\", \"Finland\", \"Finland\", \"Finland\", \"Finland\", \"Finland\", \"Finland\", \"Finland\", \"Finland\", \"Finland\", \"Finland\", \"Finland\", \"Finland\", \"Finland\", \"Finland\", \"Finland\", \"Finland\", \"Finland\", \"Finland\", \"Finland\", \"Finland\", \"Finland\", \"Finland\", \"France\", \"France\", \"France\", \"France\", \"France\", \"France\", \"France\", \"France\", \"France\", \"France\", \"France\", \"France\", \"France\", \"France\", \"France\", \"France\", \"France\", \"France\", \"France\", \"France\", \"France\", \"France\", \"France\", \"France\", \"France\", \"France\", \"France\", \"France\", \"France\", \"France\", \"France\", \"France\", \"France\", \"France\", \"France\", \"France\", \"France\", \"France\", \"France\", \"France\", \"France\", \"France\", \"France\", \"France\", \"France\", \"France\", \"France\", \"France\", \"France\", \"France\", \"France\", \"France\", \"France\", \"France\", \"France\", \"France\", \"France\", \"France\", \"France\", \"France\", \"France\", \"France\", \"France\", \"France\", \"France\", \"France\", \"France\", \"France\", \"France\", \"Germany\", \"Germany\", \"Germany\", \"Germany\", \"Germany\", \"Germany\", \"Germany\", \"Germany\", \"Germany\", \"Germany\", \"Germany\", \"Germany\", \"Germany\", \"Germany\", \"Germany\", \"Germany\", \"Germany\", \"Germany\", \"Germany\", \"Germany\", \"Germany\", \"Germany\", \"Germany\", \"Germany\", \"Germany\", \"Germany\", \"Germany\", \"Germany\", \"Germany\", \"Germany\", \"Germany\", \"Germany\", \"Germany\", \"Germany\", \"Germany\", \"Germany\", \"Germany\", \"Germany\", \"Germany\", \"Germany\", \"Germany\", \"Germany\", \"Germany\", \"Germany\", \"Germany\", \"Germany\", \"Germany\", \"Germany\", \"Germany\", \"Germany\", \"Germany\", \"Germany\", \"Germany\", \"Germany\", \"Germany\", \"Germany\", \"Germany\", \"Germany\", \"Germany\", \"Germany\", \"Germany\", \"Germany\", \"Germany\", \"Germany\", \"Germany\", \"Germany\", \"Germany\", \"Germany\", \"Germany\", \"Gibraltar\", \"Gibraltar\", \"Gibraltar\", \"Gibraltar\", \"Gibraltar\", \"Gibraltar\", \"Gibraltar\", \"Gibraltar\", \"Gibraltar\", \"Gibraltar\", \"Gibraltar\", \"Gibraltar\", \"Gibraltar\", \"Gibraltar\", \"Gibraltar\", \"Gibraltar\", \"Gibraltar\", \"Gibraltar\", \"Gibraltar\", \"Gibraltar\", \"Gibraltar\", \"Gibraltar\", \"Gibraltar\", \"Gibraltar\", \"Gibraltar\", \"Gibraltar\", \"Gibraltar\", \"Gibraltar\", \"Gibraltar\", \"Gibraltar\", \"Gibraltar\", \"Gibraltar\", \"Gibraltar\", \"Gibraltar\", \"Gibraltar\", \"Gibraltar\", \"Gibraltar\", \"Gibraltar\", \"Gibraltar\", \"Gibraltar\", \"Gibraltar\", \"Gibraltar\", \"Gibraltar\", \"Gibraltar\", \"Gibraltar\", \"Gibraltar\", \"Gibraltar\", \"Gibraltar\", \"Gibraltar\", \"Gibraltar\", \"Gibraltar\", \"Gibraltar\", \"Gibraltar\", \"Gibraltar\", \"Gibraltar\", \"Gibraltar\", \"Greece\", \"Greece\", \"Greece\", \"Greece\", \"Greece\", \"Greece\", \"Greece\", \"Greece\", \"Greece\", \"Greece\", \"Greece\", \"Greece\", \"Greece\", \"Greece\", \"Greece\", \"Greece\", \"Greece\", \"Greece\", \"Greece\", \"Greece\", \"Greece\", \"Greece\", \"Greece\", \"Greece\", \"Greece\", \"Greece\", \"Greece\", \"Greece\", \"Greece\", \"Greece\", \"Greece\", \"Greece\", \"Greece\", \"Greece\", \"Greece\", \"Greece\", \"Greece\", \"Greece\", \"Greece\", \"Greece\", \"Greece\", \"Greece\", \"Greece\", \"Greece\", \"Greece\", \"Greece\", \"Greece\", \"Greece\", \"Greece\", \"Greece\", \"Greece\", \"Greece\", \"Greece\", \"Greece\", \"Greece\", \"Greece\", \"Greece\", \"Greece\", \"Greece\", \"Greece\", \"Greece\", \"Greece\", \"Greece\", \"Greece\", \"Greece\", \"Greece\", \"Greece\", \"Greece\", \"Greece\", \"Greenland\", \"Greenland\", \"Greenland\", \"Greenland\", \"Greenland\", \"Greenland\", \"Greenland\", \"Greenland\", \"Greenland\", \"Greenland\", \"Greenland\", \"Greenland\", \"Greenland\", \"Greenland\", \"Greenland\", \"Greenland\", \"Greenland\", \"Greenland\", \"Greenland\", \"Greenland\", \"Greenland\", \"Greenland\", \"Greenland\", \"Greenland\", \"Greenland\", \"Greenland\", \"Greenland\", \"Greenland\", \"Greenland\", \"Greenland\", \"Greenland\", \"Greenland\", \"Greenland\", \"Greenland\", \"Guatemala\", \"Guatemala\", \"Guatemala\", \"Guatemala\", \"Guatemala\", \"Guernsey\", \"Guernsey\", \"Guernsey\", \"Guernsey\", \"Guernsey\", \"Guernsey\", \"Guernsey\", \"Guernsey\", \"Guernsey\", \"Guernsey\", \"Guernsey\", \"Guernsey\", \"Guernsey\", \"Guernsey\", \"Guernsey\", \"Guernsey\", \"Guernsey\", \"Guernsey\", \"Guernsey\", \"Guernsey\", \"Guernsey\", \"Guernsey\", \"Guernsey\", \"Guernsey\", \"Guernsey\", \"Guernsey\", \"Guernsey\", \"Guernsey\", \"Guernsey\", \"Guernsey\", \"Guernsey\", \"Guernsey\", \"Guernsey\", \"Guernsey\", \"Guernsey\", \"Guernsey\", \"Guernsey\", \"Guernsey\", \"Guyana\", \"Guyana\", \"Guyana\", \"Guyana\", \"Guyana\", \"Guyana\", \"Guyana\", \"Guyana\", \"Guyana\", \"Guyana\", \"Guyana\", \"Guyana\", \"Honduras\", \"Hong Kong\", \"Hong Kong\", \"Hong Kong\", \"Hong Kong\", \"Hong Kong\", \"Hong Kong\", \"Hong Kong\", \"Hong Kong\", \"Hong Kong\", \"Hong Kong\", \"Hong Kong\", \"Hungary\", \"Hungary\", \"Hungary\", \"Hungary\", \"Hungary\", \"Hungary\", \"Hungary\", \"Hungary\", \"Hungary\", \"Hungary\", \"Hungary\", \"Hungary\", \"Hungary\", \"Hungary\", \"Hungary\", \"Hungary\", \"Hungary\", \"Hungary\", \"Hungary\", \"Hungary\", \"Hungary\", \"Hungary\", \"Hungary\", \"Hungary\", \"Hungary\", \"Hungary\", \"Hungary\", \"Hungary\", \"Hungary\", \"Hungary\", \"Hungary\", \"Hungary\", \"Hungary\", \"Hungary\", \"Hungary\", \"Hungary\", \"Hungary\", \"Hungary\", \"Hungary\", \"Hungary\", \"Hungary\", \"Hungary\", \"Hungary\", \"Hungary\", \"Hungary\", \"Hungary\", \"Hungary\", \"Hungary\", \"Hungary\", \"Hungary\", \"Hungary\", \"Hungary\", \"Hungary\", \"Hungary\", \"Hungary\", \"Hungary\", \"Hungary\", \"Hungary\", \"Hungary\", \"Hungary\", \"Hungary\", \"Hungary\", \"Hungary\", \"Hungary\", \"Hungary\", \"Hungary\", \"Hungary\", \"Hungary\", \"Hungary\", \"Iceland\", \"Iceland\", \"Iceland\", \"Iceland\", \"Iceland\", \"Iceland\", \"Iceland\", \"Iceland\", \"Iceland\", \"Iceland\", \"Iceland\", \"Iceland\", \"Iceland\", \"Iceland\", \"Iceland\", \"Iceland\", \"Iceland\", \"Iceland\", \"Iceland\", \"Iceland\", \"Iceland\", \"Iceland\", \"Iceland\", \"Iceland\", \"Iceland\", \"Iceland\", \"Iceland\", \"Iceland\", \"Iceland\", \"Iceland\", \"Iceland\", \"Iceland\", \"Iceland\", \"Iceland\", \"Iceland\", \"Iceland\", \"Iceland\", \"Iceland\", \"Iceland\", \"Iceland\", \"Iceland\", \"Iceland\", \"Iceland\", \"Iceland\", \"Iceland\", \"Iceland\", \"Iceland\", \"Iceland\", \"Iceland\", \"Iceland\", \"Iceland\", \"Iceland\", \"Iceland\", \"Iceland\", \"Iceland\", \"Iceland\", \"Iceland\", \"Iceland\", \"Iceland\", \"Iceland\", \"Iceland\", \"Iceland\", \"Iceland\", \"Iceland\", \"Iceland\", \"Iceland\", \"India\", \"India\", \"India\", \"India\", \"India\", \"India\", \"India\", \"India\", \"India\", \"India\", \"India\", \"India\", \"India\", \"India\", \"India\", \"India\", \"India\", \"India\", \"India\", \"India\", \"India\", \"India\", \"India\", \"India\", \"India\", \"India\", \"India\", \"India\", \"India\", \"India\", \"India\", \"India\", \"India\", \"India\", \"India\", \"India\", \"India\", \"India\", \"India\", \"India\", \"India\", \"India\", \"India\", \"India\", \"India\", \"India\", \"India\", \"India\", \"India\", \"India\", \"India\", \"Indonesia\", \"Indonesia\", \"Indonesia\", \"Indonesia\", \"Indonesia\", \"Indonesia\", \"Indonesia\", \"Indonesia\", \"Indonesia\", \"Indonesia\", \"Indonesia\", \"Indonesia\", \"Indonesia\", \"Indonesia\", \"Indonesia\", \"Indonesia\", \"Indonesia\", \"Indonesia\", \"Indonesia\", \"Indonesia\", \"Indonesia\", \"Indonesia\", \"Indonesia\", \"Indonesia\", \"Indonesia\", \"Indonesia\", \"Indonesia\", \"Indonesia\", \"Indonesia\", \"Indonesia\", \"Indonesia\", \"Indonesia\", \"Indonesia\", \"Indonesia\", \"Indonesia\", \"Indonesia\", \"Indonesia\", \"Indonesia\", \"Indonesia\", \"Indonesia\", \"Indonesia\", \"Indonesia\", \"Indonesia\", \"Indonesia\", \"Indonesia\", \"Indonesia\", \"Indonesia\", \"Indonesia\", \"Indonesia\", \"Indonesia\", \"Indonesia\", \"Indonesia\", \"Indonesia\", \"Iran\", \"Iran\", \"Iran\", \"Iran\", \"Iran\", \"Iran\", \"Iran\", \"Iran\", \"Iran\", \"Iran\", \"Ireland\", \"Ireland\", \"Ireland\", \"Ireland\", \"Ireland\", \"Ireland\", \"Ireland\", \"Ireland\", \"Ireland\", \"Ireland\", \"Ireland\", \"Ireland\", \"Ireland\", \"Ireland\", \"Ireland\", \"Ireland\", \"Ireland\", \"Ireland\", \"Ireland\", \"Ireland\", \"Ireland\", \"Ireland\", \"Ireland\", \"Ireland\", \"Ireland\", \"Ireland\", \"Ireland\", \"Ireland\", \"Ireland\", \"Ireland\", \"Ireland\", \"Ireland\", \"Ireland\", \"Ireland\", \"Ireland\", \"Ireland\", \"Ireland\", \"Ireland\", \"Ireland\", \"Ireland\", \"Ireland\", \"Ireland\", \"Ireland\", \"Ireland\", \"Ireland\", \"Ireland\", \"Ireland\", \"Ireland\", \"Ireland\", \"Ireland\", \"Ireland\", \"Ireland\", \"Ireland\", \"Ireland\", \"Ireland\", \"Ireland\", \"Ireland\", \"Ireland\", \"Ireland\", \"Ireland\", \"Ireland\", \"Ireland\", \"Ireland\", \"Ireland\", \"Isle of Man\", \"Isle of Man\", \"Isle of Man\", \"Isle of Man\", \"Isle of Man\", \"Isle of Man\", \"Isle of Man\", \"Isle of Man\", \"Isle of Man\", \"Isle of Man\", \"Isle of Man\", \"Isle of Man\", \"Isle of Man\", \"Isle of Man\", \"Isle of Man\", \"Isle of Man\", \"Isle of Man\", \"Isle of Man\", \"Isle of Man\", \"Isle of Man\", \"Isle of Man\", \"Isle of Man\", \"Isle of Man\", \"Isle of Man\", \"Isle of Man\", \"Isle of Man\", \"Isle of Man\", \"Isle of Man\", \"Isle of Man\", \"Isle of Man\", \"Isle of Man\", \"Isle of Man\", \"Isle of Man\", \"Isle of Man\", \"Isle of Man\", \"Isle of Man\", \"Isle of Man\", \"Isle of Man\", \"Isle of Man\", \"Isle of Man\", \"Isle of Man\", \"Isle of Man\", \"Isle of Man\", \"Isle of Man\", \"Isle of Man\", \"Israel\", \"Israel\", \"Israel\", \"Israel\", \"Israel\", \"Israel\", \"Israel\", \"Israel\", \"Israel\", \"Israel\", \"Israel\", \"Israel\", \"Israel\", \"Israel\", \"Israel\", \"Israel\", \"Israel\", \"Israel\", \"Israel\", \"Israel\", \"Israel\", \"Israel\", \"Israel\", \"Israel\", \"Israel\", \"Israel\", \"Israel\", \"Israel\", \"Israel\", \"Israel\", \"Israel\", \"Israel\", \"Israel\", \"Israel\", \"Israel\", \"Israel\", \"Israel\", \"Israel\", \"Israel\", \"Israel\", \"Israel\", \"Israel\", \"Israel\", \"Israel\", \"Israel\", \"Israel\", \"Israel\", \"Israel\", \"Israel\", \"Israel\", \"Israel\", \"Israel\", \"Israel\", \"Israel\", \"Israel\", \"Israel\", \"Israel\", \"Israel\", \"Israel\", \"Israel\", \"Israel\", \"Israel\", \"Israel\", \"Israel\", \"Israel\", \"Israel\", \"Israel\", \"Israel\", \"Israel\", \"Israel\", \"Israel\", \"Israel\", \"Israel\", \"Israel\", \"Israel\", \"Israel\", \"Israel\", \"Israel\", \"Italy\", \"Italy\", \"Italy\", \"Italy\", \"Italy\", \"Italy\", \"Italy\", \"Italy\", \"Italy\", \"Italy\", \"Italy\", \"Italy\", \"Italy\", \"Italy\", \"Italy\", \"Italy\", \"Italy\", \"Italy\", \"Italy\", \"Italy\", \"Italy\", \"Italy\", \"Italy\", \"Italy\", \"Italy\", \"Italy\", \"Italy\", \"Italy\", \"Italy\", \"Italy\", \"Italy\", \"Italy\", \"Italy\", \"Italy\", \"Italy\", \"Italy\", \"Italy\", \"Italy\", \"Italy\", \"Italy\", \"Italy\", \"Italy\", \"Italy\", \"Italy\", \"Italy\", \"Italy\", \"Italy\", \"Italy\", \"Italy\", \"Italy\", \"Italy\", \"Italy\", \"Italy\", \"Italy\", \"Italy\", \"Italy\", \"Italy\", \"Italy\", \"Italy\", \"Italy\", \"Italy\", \"Italy\", \"Italy\", \"Italy\", \"Italy\", \"Italy\", \"Italy\", \"Italy\", \"Italy\", \"Italy\", \"Japan\", \"Japan\", \"Japan\", \"Japan\", \"Japan\", \"Japan\", \"Japan\", \"Japan\", \"Japan\", \"Japan\", \"Japan\", \"Japan\", \"Japan\", \"Japan\", \"Japan\", \"Japan\", \"Japan\", \"Jersey\", \"Jersey\", \"Jersey\", \"Jersey\", \"Jersey\", \"Jersey\", \"Jersey\", \"Jersey\", \"Jersey\", \"Jersey\", \"Jersey\", \"Jersey\", \"Jersey\", \"Jersey\", \"Jersey\", \"Jersey\", \"Jersey\", \"Jersey\", \"Jersey\", \"Jersey\", \"Jersey\", \"Jersey\", \"Jersey\", \"Jersey\", \"Jersey\", \"Jersey\", \"Jersey\", \"Jersey\", \"Jersey\", \"Jersey\", \"Jersey\", \"Jersey\", \"Jersey\", \"Jersey\", \"Jersey\", \"Jersey\", \"Jordan\", \"Jordan\", \"Jordan\", \"Jordan\", \"Jordan\", \"Jordan\", \"Jordan\", \"Jordan\", \"Jordan\", \"Jordan\", \"Jordan\", \"Jordan\", \"Jordan\", \"Jordan\", \"Jordan\", \"Jordan\", \"Jordan\", \"Jordan\", \"Jordan\", \"Jordan\", \"Jordan\", \"Jordan\", \"Jordan\", \"Jordan\", \"Jordan\", \"Jordan\", \"Jordan\", \"Jordan\", \"Jordan\", \"Jordan\", \"Jordan\", \"Jordan\", \"Jordan\", \"Jordan\", \"Jordan\", \"Jordan\", \"Jordan\", \"Jordan\", \"Jordan\", \"Jordan\", \"Jordan\", \"Jordan\", \"Jordan\", \"Jordan\", \"Jordan\", \"Kazakhstan\", \"Kazakhstan\", \"Kazakhstan\", \"Kazakhstan\", \"Kazakhstan\", \"Kazakhstan\", \"Kazakhstan\", \"Kazakhstan\", \"Kazakhstan\", \"Kazakhstan\", \"Kazakhstan\", \"Kazakhstan\", \"Kazakhstan\", \"Kazakhstan\", \"Kazakhstan\", \"Kazakhstan\", \"Kazakhstan\", \"Kazakhstan\", \"Kazakhstan\", \"Kazakhstan\", \"Kazakhstan\", \"Kazakhstan\", \"Kazakhstan\", \"Kazakhstan\", \"Kazakhstan\", \"Kuwait\", \"Kuwait\", \"Kuwait\", \"Kuwait\", \"Kuwait\", \"Kuwait\", \"Kuwait\", \"Kuwait\", \"Kuwait\", \"Kuwait\", \"Kuwait\", \"Kuwait\", \"Kuwait\", \"Kuwait\", \"Kuwait\", \"Kuwait\", \"Kuwait\", \"Kuwait\", \"Kuwait\", \"Kuwait\", \"Kuwait\", \"Kuwait\", \"Kuwait\", \"Kuwait\", \"Kuwait\", \"Kuwait\", \"Kuwait\", \"Kuwait\", \"Kuwait\", \"Kuwait\", \"Kuwait\", \"Kuwait\", \"Kuwait\", \"Kuwait\", \"Kuwait\", \"Kuwait\", \"Kuwait\", \"Kuwait\", \"Kuwait\", \"Kuwait\", \"Kuwait\", \"Kuwait\", \"Kuwait\", \"Kuwait\", \"Kuwait\", \"Kuwait\", \"Kuwait\", \"Kuwait\", \"Kuwait\", \"Kuwait\", \"Latvia\", \"Latvia\", \"Latvia\", \"Latvia\", \"Latvia\", \"Latvia\", \"Latvia\", \"Latvia\", \"Latvia\", \"Latvia\", \"Latvia\", \"Latvia\", \"Latvia\", \"Latvia\", \"Latvia\", \"Latvia\", \"Latvia\", \"Latvia\", \"Latvia\", \"Latvia\", \"Latvia\", \"Latvia\", \"Latvia\", \"Latvia\", \"Latvia\", \"Latvia\", \"Latvia\", \"Latvia\", \"Latvia\", \"Latvia\", \"Latvia\", \"Latvia\", \"Latvia\", \"Latvia\", \"Latvia\", \"Latvia\", \"Latvia\", \"Latvia\", \"Latvia\", \"Latvia\", \"Latvia\", \"Latvia\", \"Latvia\", \"Latvia\", \"Latvia\", \"Latvia\", \"Latvia\", \"Latvia\", \"Latvia\", \"Latvia\", \"Latvia\", \"Latvia\", \"Latvia\", \"Latvia\", \"Latvia\", \"Latvia\", \"Latvia\", \"Latvia\", \"Latvia\", \"Latvia\", \"Latvia\", \"Latvia\", \"Latvia\", \"Latvia\", \"Latvia\", \"Lebanon\", \"Lebanon\", \"Lebanon\", \"Lebanon\", \"Lebanon\", \"Lebanon\", \"Lebanon\", \"Lebanon\", \"Lebanon\", \"Lebanon\", \"Lebanon\", \"Lebanon\", \"Lebanon\", \"Lebanon\", \"Lebanon\", \"Lebanon\", \"Lebanon\", \"Lebanon\", \"Lebanon\", \"Lebanon\", \"Lebanon\", \"Lebanon\", \"Liechtenstein\", \"Liechtenstein\", \"Liechtenstein\", \"Liechtenstein\", \"Liechtenstein\", \"Liechtenstein\", \"Liechtenstein\", \"Liechtenstein\", \"Liechtenstein\", \"Liechtenstein\", \"Liechtenstein\", \"Liechtenstein\", \"Liechtenstein\", \"Liechtenstein\", \"Liechtenstein\", \"Liechtenstein\", \"Liechtenstein\", \"Liechtenstein\", \"Liechtenstein\", \"Liechtenstein\", \"Liechtenstein\", \"Liechtenstein\", \"Liechtenstein\", \"Liechtenstein\", \"Liechtenstein\", \"Liechtenstein\", \"Liechtenstein\", \"Liechtenstein\", \"Liechtenstein\", \"Lithuania\", \"Lithuania\", \"Lithuania\", \"Lithuania\", \"Lithuania\", \"Lithuania\", \"Lithuania\", \"Lithuania\", \"Lithuania\", \"Lithuania\", \"Lithuania\", \"Lithuania\", \"Lithuania\", \"Lithuania\", \"Lithuania\", \"Lithuania\", \"Lithuania\", \"Lithuania\", \"Lithuania\", \"Lithuania\", \"Lithuania\", \"Lithuania\", \"Lithuania\", \"Lithuania\", \"Lithuania\", \"Lithuania\", \"Lithuania\", \"Lithuania\", \"Lithuania\", \"Lithuania\", \"Lithuania\", \"Lithuania\", \"Lithuania\", \"Lithuania\", \"Lithuania\", \"Lithuania\", \"Lithuania\", \"Lithuania\", \"Lithuania\", \"Lithuania\", \"Lithuania\", \"Lithuania\", \"Lithuania\", \"Lithuania\", \"Lithuania\", \"Lithuania\", \"Lithuania\", \"Lithuania\", \"Lithuania\", \"Lithuania\", \"Lithuania\", \"Lithuania\", \"Lithuania\", \"Lithuania\", \"Lithuania\", \"Lithuania\", \"Lithuania\", \"Lithuania\", \"Lithuania\", \"Lithuania\", \"Lithuania\", \"Lithuania\", \"Lithuania\", \"Lithuania\", \"Lithuania\", \"Lithuania\", \"Lithuania\", \"Lithuania\", \"Lithuania\", \"Lithuania\", \"Luxembourg\", \"Luxembourg\", \"Luxembourg\", \"Luxembourg\", \"Luxembourg\", \"Luxembourg\", \"Luxembourg\", \"Luxembourg\", \"Luxembourg\", \"Luxembourg\", \"Luxembourg\", \"Luxembourg\", \"Luxembourg\", \"Luxembourg\", \"Luxembourg\", \"Luxembourg\", \"Luxembourg\", \"Luxembourg\", \"Luxembourg\", \"Luxembourg\", \"Luxembourg\", \"Luxembourg\", \"Luxembourg\", \"Luxembourg\", \"Luxembourg\", \"Luxembourg\", \"Luxembourg\", \"Luxembourg\", \"Luxembourg\", \"Luxembourg\", \"Luxembourg\", \"Luxembourg\", \"Luxembourg\", \"Luxembourg\", \"Luxembourg\", \"Luxembourg\", \"Luxembourg\", \"Luxembourg\", \"Luxembourg\", \"Luxembourg\", \"Luxembourg\", \"Luxembourg\", \"Luxembourg\", \"Luxembourg\", \"Luxembourg\", \"Luxembourg\", \"Luxembourg\", \"Luxembourg\", \"Luxembourg\", \"Luxembourg\", \"Luxembourg\", \"Luxembourg\", \"Luxembourg\", \"Luxembourg\", \"Luxembourg\", \"Luxembourg\", \"Luxembourg\", \"Luxembourg\", \"Luxembourg\", \"Luxembourg\", \"Luxembourg\", \"Luxembourg\", \"Luxembourg\", \"Luxembourg\", \"Luxembourg\", \"Macao\", \"Macao\", \"Macao\", \"Macao\", \"Macao\", \"Macao\", \"Macao\", \"Macao\", \"Macao\", \"Macao\", \"Macao\", \"Malaysia\", \"Malaysia\", \"Malaysia\", \"Malaysia\", \"Malaysia\", \"Malaysia\", \"Malaysia\", \"Malaysia\", \"Malaysia\", \"Malaysia\", \"Malaysia\", \"Maldives\", \"Maldives\", \"Maldives\", \"Maldives\", \"Maldives\", \"Maldives\", \"Maldives\", \"Maldives\", \"Maldives\", \"Maldives\", \"Maldives\", \"Maldives\", \"Maldives\", \"Maldives\", \"Maldives\", \"Maldives\", \"Maldives\", \"Maldives\", \"Maldives\", \"Maldives\", \"Maldives\", \"Maldives\", \"Maldives\", \"Maldives\", \"Maldives\", \"Maldives\", \"Maldives\", \"Maldives\", \"Maldives\", \"Maldives\", \"Maldives\", \"Maldives\", \"Maldives\", \"Malta\", \"Malta\", \"Malta\", \"Malta\", \"Malta\", \"Malta\", \"Malta\", \"Malta\", \"Malta\", \"Malta\", \"Malta\", \"Malta\", \"Malta\", \"Malta\", \"Malta\", \"Malta\", \"Malta\", \"Malta\", \"Malta\", \"Malta\", \"Malta\", \"Malta\", \"Malta\", \"Malta\", \"Malta\", \"Malta\", \"Malta\", \"Malta\", \"Malta\", \"Malta\", \"Malta\", \"Malta\", \"Malta\", \"Malta\", \"Malta\", \"Malta\", \"Malta\", \"Malta\", \"Malta\", \"Malta\", \"Malta\", \"Malta\", \"Malta\", \"Malta\", \"Malta\", \"Malta\", \"Malta\", \"Malta\", \"Mauritius\", \"Mauritius\", \"Mauritius\", \"Mauritius\", \"Mauritius\", \"Mauritius\", \"Mauritius\", \"Mauritius\", \"Mauritius\", \"Mauritius\", \"Mauritius\", \"Mauritius\", \"Mauritius\", \"Mauritius\", \"Mauritius\", \"Mauritius\", \"Mauritius\", \"Mauritius\", \"Mauritius\", \"Mauritius\", \"Mauritius\", \"Mauritius\", \"Mauritius\", \"Mauritius\", \"Mexico\", \"Mexico\", \"Mexico\", \"Mexico\", \"Mexico\", \"Mexico\", \"Mexico\", \"Mexico\", \"Mexico\", \"Mexico\", \"Mexico\", \"Mexico\", \"Mexico\", \"Mexico\", \"Mexico\", \"Mexico\", \"Mexico\", \"Mexico\", \"Mexico\", \"Mexico\", \"Mexico\", \"Mexico\", \"Mexico\", \"Mexico\", \"Mexico\", \"Mexico\", \"Mexico\", \"Mexico\", \"Mexico\", \"Mexico\", \"Mexico\", \"Mexico\", \"Mexico\", \"Mexico\", \"Mexico\", \"Mexico\", \"Mexico\", \"Mexico\", \"Mexico\", \"Mexico\", \"Mexico\", \"Mexico\", \"Mexico\", \"Mexico\", \"Mexico\", \"Mexico\", \"Mexico\", \"Mexico\", \"Mexico\", \"Mexico\", \"Mexico\", \"Mexico\", \"Mexico\", \"Mexico\", \"Mexico\", \"Mexico\", \"Mexico\", \"Mexico\", \"Mexico\", \"Mexico\", \"Mexico\", \"Mexico\", \"Mexico\", \"Mexico\", \"Mexico\", \"Mexico\", \"Mexico\", \"Mexico\", \"Mexico\", \"Mexico\", \"Mexico\", \"Mexico\", \"Mexico\", \"Monaco\", \"Monaco\", \"Monaco\", \"Monaco\", \"Monaco\", \"Monaco\", \"Monaco\", \"Monaco\", \"Monaco\", \"Monaco\", \"Monaco\", \"Monaco\", \"Monaco\", \"Monaco\", \"Monaco\", \"Monaco\", \"Monaco\", \"Monaco\", \"Monaco\", \"Monaco\", \"Mongolia\", \"Mongolia\", \"Mongolia\", \"Mongolia\", \"Mongolia\", \"Montenegro\", \"Montenegro\", \"Montenegro\", \"Montenegro\", \"Montenegro\", \"Montenegro\", \"Montenegro\", \"Montenegro\", \"Montenegro\", \"Montenegro\", \"Montenegro\", \"Montenegro\", \"Montenegro\", \"Montenegro\", \"Montserrat\", \"Montserrat\", \"Montserrat\", \"Montserrat\", \"Montserrat\", \"Montserrat\", \"Montserrat\", \"Montserrat\", \"Montserrat\", \"Montserrat\", \"Montserrat\", \"Montserrat\", \"Montserrat\", \"Montserrat\", \"Montserrat\", \"Montserrat\", \"Morocco\", \"Morocco\", \"Morocco\", \"Morocco\", \"Morocco\", \"Morocco\", \"Morocco\", \"Morocco\", \"Morocco\", \"Morocco\", \"Morocco\", \"Morocco\", \"Morocco\", \"Morocco\", \"Morocco\", \"Morocco\", \"Morocco\", \"Morocco\", \"Morocco\", \"Morocco\", \"Morocco\", \"Morocco\", \"Morocco\", \"Morocco\", \"Morocco\", \"Morocco\", \"Morocco\", \"Morocco\", \"Morocco\", \"Morocco\", \"Morocco\", \"Morocco\", \"Morocco\", \"Morocco\", \"Morocco\", \"Morocco\", \"Morocco\", \"Morocco\", \"Myanmar\", \"Myanmar\", \"Myanmar\", \"Myanmar\", \"Myanmar\", \"Myanmar\", \"Myanmar\", \"Myanmar\", \"Nepal\", \"Nepal\", \"Nepal\", \"Nepal\", \"Nepal\", \"Nepal\", \"Nepal\", \"Nepal\", \"Nepal\", \"Nepal\", \"Nepal\", \"Nepal\", \"Nepal\", \"Nepal\", \"Nepal\", \"Nepal\", \"Nepal\", \"Nepal\", \"Nepal\", \"Nepal\", \"Nepal\", \"Nepal\", \"Nepal\", \"Nepal\", \"Nepal\", \"Nepal\", \"Netherlands\", \"Netherlands\", \"Netherlands\", \"Netherlands\", \"Netherlands\", \"Netherlands\", \"Netherlands\", \"Netherlands\", \"Netherlands\", \"Netherlands\", \"Netherlands\", \"Netherlands\", \"Netherlands\", \"Netherlands\", \"Netherlands\", \"Netherlands\", \"Netherlands\", \"Netherlands\", \"Netherlands\", \"Netherlands\", \"Netherlands\", \"Netherlands\", \"Netherlands\", \"Netherlands\", \"Netherlands\", \"Netherlands\", \"Netherlands\", \"Netherlands\", \"Netherlands\", \"Netherlands\", \"Netherlands\", \"Netherlands\", \"Netherlands\", \"Netherlands\", \"Netherlands\", \"Netherlands\", \"Netherlands\", \"Netherlands\", \"Netherlands\", \"Netherlands\", \"Netherlands\", \"Netherlands\", \"Netherlands\", \"New Zealand\", \"New Zealand\", \"New Zealand\", \"New Zealand\", \"New Zealand\", \"New Zealand\", \"New Zealand\", \"New Zealand\", \"New Zealand\", \"New Zealand\", \"New Zealand\", \"New Zealand\", \"New Zealand\", \"New Zealand\", \"Northern Cyprus\", \"Northern Cyprus\", \"Northern Cyprus\", \"Northern Cyprus\", \"Northern Cyprus\", \"Northern Cyprus\", \"Northern Cyprus\", \"Northern Cyprus\", \"Northern Cyprus\", \"Norway\", \"Norway\", \"Norway\", \"Norway\", \"Norway\", \"Norway\", \"Norway\", \"Norway\", \"Norway\", \"Norway\", \"Norway\", \"Norway\", \"Norway\", \"Norway\", \"Norway\", \"Norway\", \"Norway\", \"Norway\", \"Norway\", \"Norway\", \"Norway\", \"Norway\", \"Norway\", \"Norway\", \"Norway\", \"Norway\", \"Norway\", \"Norway\", \"Norway\", \"Norway\", \"Norway\", \"Norway\", \"Norway\", \"Norway\", \"Norway\", \"Norway\", \"Norway\", \"Norway\", \"Norway\", \"Norway\", \"Norway\", \"Norway\", \"Norway\", \"Norway\", \"Norway\", \"Norway\", \"Norway\", \"Norway\", \"Norway\", \"Norway\", \"Norway\", \"Norway\", \"Norway\", \"Norway\", \"Norway\", \"Norway\", \"Norway\", \"Norway\", \"Norway\", \"Norway\", \"Norway\", \"Norway\", \"Norway\", \"Norway\", \"Norway\", \"Norway\", \"Norway\", \"Norway\", \"Oman\", \"Oman\", \"Oman\", \"Oman\", \"Oman\", \"Oman\", \"Oman\", \"Oman\", \"Oman\", \"Oman\", \"Oman\", \"Oman\", \"Oman\", \"Oman\", \"Oman\", \"Oman\", \"Oman\", \"Oman\", \"Oman\", \"Oman\", \"Oman\", \"Oman\", \"Oman\", \"Oman\", \"Oman\", \"Oman\", \"Oman\", \"Oman\", \"Oman\", \"Oman\", \"Oman\", \"Oman\", \"Oman\", \"Oman\", \"Oman\", \"Oman\", \"Oman\", \"Oman\", \"Oman\", \"Oman\", \"Oman\", \"Oman\", \"Oman\", \"Oman\", \"Oman\", \"Oman\", \"Oman\", \"Oman\", \"Oman\", \"Oman\", \"Oman\", \"Oman\", \"Oman\", \"Oman\", \"Oman\", \"Oman\", \"Oman\", \"Oman\", \"Pakistan\", \"Pakistan\", \"Pakistan\", \"Pakistan\", \"Pakistan\", \"Pakistan\", \"Pakistan\", \"Pakistan\", \"Pakistan\", \"Pakistan\", \"Pakistan\", \"Pakistan\", \"Pakistan\", \"Pakistan\", \"Pakistan\", \"Pakistan\", \"Pakistan\", \"Pakistan\", \"Pakistan\", \"Pakistan\", \"Panama\", \"Panama\", \"Panama\", \"Panama\", \"Panama\", \"Panama\", \"Panama\", \"Panama\", \"Panama\", \"Panama\", \"Panama\", \"Panama\", \"Panama\", \"Panama\", \"Panama\", \"Panama\", \"Panama\", \"Panama\", \"Panama\", \"Panama\", \"Panama\", \"Panama\", \"Panama\", \"Panama\", \"Panama\", \"Panama\", \"Panama\", \"Panama\", \"Panama\", \"Panama\", \"Panama\", \"Panama\", \"Panama\", \"Panama\", \"Panama\", \"Panama\", \"Panama\", \"Panama\", \"Panama\", \"Panama\", \"Panama\", \"Panama\", \"Panama\", \"Panama\", \"Panama\", \"Panama\", \"Panama\", \"Paraguay\", \"Paraguay\", \"Paraguay\", \"Paraguay\", \"Paraguay\", \"Peru\", \"Peru\", \"Peru\", \"Peru\", \"Peru\", \"Peru\", \"Peru\", \"Peru\", \"Peru\", \"Peru\", \"Peru\", \"Peru\", \"Peru\", \"Peru\", \"Peru\", \"Peru\", \"Peru\", \"Peru\", \"Peru\", \"Peru\", \"Peru\", \"Peru\", \"Peru\", \"Peru\", \"Peru\", \"Philippines\", \"Philippines\", \"Philippines\", \"Poland\", \"Poland\", \"Poland\", \"Poland\", \"Poland\", \"Poland\", \"Poland\", \"Poland\", \"Poland\", \"Poland\", \"Poland\", \"Poland\", \"Poland\", \"Poland\", \"Poland\", \"Poland\", \"Poland\", \"Poland\", \"Poland\", \"Poland\", \"Poland\", \"Poland\", \"Poland\", \"Poland\", \"Poland\", \"Poland\", \"Poland\", \"Poland\", \"Poland\", \"Poland\", \"Poland\", \"Poland\", \"Poland\", \"Poland\", \"Poland\", \"Poland\", \"Poland\", \"Poland\", \"Poland\", \"Poland\", \"Poland\", \"Poland\", \"Poland\", \"Poland\", \"Poland\", \"Poland\", \"Poland\", \"Poland\", \"Poland\", \"Poland\", \"Poland\", \"Poland\", \"Poland\", \"Poland\", \"Poland\", \"Poland\", \"Poland\", \"Poland\", \"Poland\", \"Poland\", \"Poland\", \"Poland\", \"Poland\", \"Poland\", \"Poland\", \"Poland\", \"Poland\", \"Poland\", \"Poland\", \"Portugal\", \"Portugal\", \"Portugal\", \"Portugal\", \"Portugal\", \"Portugal\", \"Portugal\", \"Portugal\", \"Portugal\", \"Portugal\", \"Portugal\", \"Portugal\", \"Portugal\", \"Portugal\", \"Portugal\", \"Portugal\", \"Portugal\", \"Portugal\", \"Portugal\", \"Portugal\", \"Portugal\", \"Portugal\", \"Portugal\", \"Portugal\", \"Portugal\", \"Portugal\", \"Portugal\", \"Portugal\", \"Portugal\", \"Portugal\", \"Portugal\", \"Portugal\", \"Portugal\", \"Portugal\", \"Portugal\", \"Portugal\", \"Portugal\", \"Portugal\", \"Portugal\", \"Portugal\", \"Portugal\", \"Portugal\", \"Portugal\", \"Portugal\", \"Portugal\", \"Portugal\", \"Portugal\", \"Portugal\", \"Portugal\", \"Portugal\", \"Portugal\", \"Portugal\", \"Portugal\", \"Portugal\", \"Portugal\", \"Portugal\", \"Portugal\", \"Portugal\", \"Portugal\", \"Portugal\", \"Portugal\", \"Portugal\", \"Portugal\", \"Portugal\", \"Portugal\", \"Portugal\", \"Portugal\", \"Portugal\", \"Portugal\", \"Portugal\", \"Qatar\", \"Qatar\", \"Qatar\", \"Qatar\", \"Qatar\", \"Qatar\", \"Qatar\", \"Qatar\", \"Qatar\", \"Qatar\", \"Qatar\", \"Qatar\", \"Qatar\", \"Qatar\", \"Qatar\", \"Qatar\", \"Qatar\", \"Qatar\", \"Qatar\", \"Qatar\", \"Qatar\", \"Qatar\", \"Qatar\", \"Qatar\", \"Qatar\", \"Qatar\", \"Qatar\", \"Qatar\", \"Qatar\", \"Qatar\", \"Qatar\", \"Qatar\", \"Qatar\", \"Qatar\", \"Qatar\", \"Qatar\", \"Qatar\", \"Qatar\", \"Qatar\", \"Qatar\", \"Qatar\", \"Qatar\", \"Qatar\", \"Qatar\", \"Qatar\", \"Qatar\", \"Qatar\", \"Qatar\", \"Qatar\", \"Qatar\", \"Qatar\", \"Qatar\", \"Qatar\", \"Qatar\", \"Qatar\", \"Qatar\", \"Qatar\", \"Qatar\", \"Qatar\", \"Romania\", \"Romania\", \"Romania\", \"Romania\", \"Romania\", \"Romania\", \"Romania\", \"Romania\", \"Romania\", \"Romania\", \"Romania\", \"Romania\", \"Romania\", \"Romania\", \"Romania\", \"Romania\", \"Romania\", \"Romania\", \"Romania\", \"Romania\", \"Romania\", \"Romania\", \"Romania\", \"Romania\", \"Romania\", \"Romania\", \"Romania\", \"Romania\", \"Romania\", \"Romania\", \"Romania\", \"Romania\", \"Romania\", \"Romania\", \"Romania\", \"Romania\", \"Romania\", \"Romania\", \"Romania\", \"Romania\", \"Romania\", \"Romania\", \"Romania\", \"Romania\", \"Romania\", \"Romania\", \"Romania\", \"Romania\", \"Romania\", \"Romania\", \"Romania\", \"Romania\", \"Romania\", \"Romania\", \"Romania\", \"Romania\", \"Romania\", \"Romania\", \"Romania\", \"Romania\", \"Romania\", \"Romania\", \"Romania\", \"Romania\", \"Romania\", \"Romania\", \"Romania\", \"Romania\", \"Romania\", \"Russia\", \"Russia\", \"Russia\", \"Russia\", \"Russia\", \"Russia\", \"Russia\", \"Russia\", \"Russia\", \"Russia\", \"Russia\", \"Russia\", \"Russia\", \"Russia\", \"Russia\", \"Russia\", \"Russia\", \"Russia\", \"Russia\", \"Russia\", \"Russia\", \"Russia\", \"Russia\", \"Russia\", \"Russia\", \"Russia\", \"Russia\", \"Russia\", \"Russia\", \"Russia\", \"Russia\", \"Russia\", \"Russia\", \"Russia\", \"Russia\", \"Russia\", \"Russia\", \"Russia\", \"Russia\", \"Russia\", \"Russia\", \"Russia\", \"Russia\", \"Russia\", \"Russia\", \"Russia\", \"Russia\", \"Russia\", \"Russia\", \"Russia\", \"Russia\", \"Russia\", \"Russia\", \"Russia\", \"Russia\", \"Russia\", \"Russia\", \"Russia\", \"Russia\", \"Russia\", \"Russia\", \"Russia\", \"Russia\", \"Russia\", \"Russia\", \"Russia\", \"Russia\", \"Russia\", \"Russia\", \"Russia\", \"Russia\", \"Russia\", \"Russia\", \"Russia\", \"Russia\", \"Russia\", \"Russia\", \"Russia\", \"Russia\", \"Russia\", \"Russia\", \"Russia\", \"Rwanda\", \"Rwanda\", \"Rwanda\", \"Rwanda\", \"Rwanda\", \"Rwanda\", \"Rwanda\", \"Rwanda\", \"Rwanda\", \"Rwanda\", \"Rwanda\", \"Rwanda\", \"Rwanda\", \"Rwanda\", \"Rwanda\", \"Rwanda\", \"Rwanda\", \"Rwanda\", \"Rwanda\", \"Rwanda\", \"Saint Helena\", \"San Marino\", \"San Marino\", \"San Marino\", \"San Marino\", \"San Marino\", \"San Marino\", \"San Marino\", \"Saudi Arabia\", \"Saudi Arabia\", \"Saudi Arabia\", \"Saudi Arabia\", \"Saudi Arabia\", \"Saudi Arabia\", \"Saudi Arabia\", \"Saudi Arabia\", \"Saudi Arabia\", \"Saudi Arabia\", \"Saudi Arabia\", \"Saudi Arabia\", \"Saudi Arabia\", \"Saudi Arabia\", \"Saudi Arabia\", \"Saudi Arabia\", \"Saudi Arabia\", \"Saudi Arabia\", \"Saudi Arabia\", \"Saudi Arabia\", \"Saudi Arabia\", \"Saudi Arabia\", \"Saudi Arabia\", \"Saudi Arabia\", \"Saudi Arabia\", \"Saudi Arabia\", \"Saudi Arabia\", \"Saudi Arabia\", \"Saudi Arabia\", \"Saudi Arabia\", \"Saudi Arabia\", \"Saudi Arabia\", \"Saudi Arabia\", \"Saudi Arabia\", \"Saudi Arabia\", \"Saudi Arabia\", \"Saudi Arabia\", \"Saudi Arabia\", \"Saudi Arabia\", \"Saudi Arabia\", \"Saudi Arabia\", \"Saudi Arabia\", \"Saudi Arabia\", \"Saudi Arabia\", \"Saudi Arabia\", \"Saudi Arabia\", \"Saudi Arabia\", \"Saudi Arabia\", \"Saudi Arabia\", \"Saudi Arabia\", \"Saudi Arabia\", \"Saudi Arabia\", \"Saudi Arabia\", \"Saudi Arabia\", \"Saudi Arabia\", \"Saudi Arabia\", \"Saudi Arabia\", \"Saudi Arabia\", \"Saudi Arabia\", \"Senegal\", \"Senegal\", \"Senegal\", \"Senegal\", \"Senegal\", \"Senegal\", \"Senegal\", \"Senegal\", \"Senegal\", \"Senegal\", \"Senegal\", \"Senegal\", \"Senegal\", \"Serbia\", \"Serbia\", \"Serbia\", \"Serbia\", \"Serbia\", \"Serbia\", \"Serbia\", \"Serbia\", \"Serbia\", \"Serbia\", \"Serbia\", \"Serbia\", \"Serbia\", \"Serbia\", \"Serbia\", \"Serbia\", \"Serbia\", \"Serbia\", \"Serbia\", \"Serbia\", \"Serbia\", \"Serbia\", \"Serbia\", \"Serbia\", \"Serbia\", \"Serbia\", \"Serbia\", \"Serbia\", \"Serbia\", \"Serbia\", \"Serbia\", \"Serbia\", \"Serbia\", \"Serbia\", \"Serbia\", \"Serbia\", \"Serbia\", \"Serbia\", \"Serbia\", \"Serbia\", \"Serbia\", \"Serbia\", \"Serbia\", \"Serbia\", \"Serbia\", \"Serbia\", \"Serbia\", \"Serbia\", \"Serbia\", \"Serbia\", \"Serbia\", \"Serbia\", \"Serbia\", \"Serbia\", \"Serbia\", \"Serbia\", \"Serbia\", \"Serbia\", \"Seychelles\", \"Seychelles\", \"Seychelles\", \"Seychelles\", \"Seychelles\", \"Seychelles\", \"Seychelles\", \"Seychelles\", \"Seychelles\", \"Seychelles\", \"Seychelles\", \"Seychelles\", \"Seychelles\", \"Seychelles\", \"Seychelles\", \"Seychelles\", \"Seychelles\", \"Seychelles\", \"Seychelles\", \"Seychelles\", \"Seychelles\", \"Seychelles\", \"Seychelles\", \"Seychelles\", \"Seychelles\", \"Seychelles\", \"Seychelles\", \"Seychelles\", \"Seychelles\", \"Seychelles\", \"Seychelles\", \"Seychelles\", \"Seychelles\", \"Seychelles\", \"Seychelles\", \"Seychelles\", \"Seychelles\", \"Seychelles\", \"Seychelles\", \"Seychelles\", \"Seychelles\", \"Seychelles\", \"Seychelles\", \"Seychelles\", \"Seychelles\", \"Seychelles\", \"Seychelles\", \"Seychelles\", \"Seychelles\", \"Seychelles\", \"Seychelles\", \"Seychelles\", \"Seychelles\", \"Seychelles\", \"Seychelles\", \"Seychelles\", \"Singapore\", \"Singapore\", \"Singapore\", \"Singapore\", \"Singapore\", \"Singapore\", \"Singapore\", \"Singapore\", \"Singapore\", \"Singapore\", \"Singapore\", \"Singapore\", \"Singapore\", \"Singapore\", \"Singapore\", \"Singapore\", \"Singapore\", \"Singapore\", \"Singapore\", \"Singapore\", \"Singapore\", \"Singapore\", \"Singapore\", \"Singapore\", \"Singapore\", \"Singapore\", \"Singapore\", \"Singapore\", \"Singapore\", \"Singapore\", \"Singapore\", \"Singapore\", \"Singapore\", \"Singapore\", \"Singapore\", \"Singapore\", \"Singapore\", \"Singapore\", \"Singapore\", \"Singapore\", \"Singapore\", \"Singapore\", \"Singapore\", \"Singapore\", \"Singapore\", \"Singapore\", \"Singapore\", \"Singapore\", \"Singapore\", \"Singapore\", \"Singapore\", \"Singapore\", \"Singapore\", \"Slovakia\", \"Slovakia\", \"Slovakia\", \"Slovakia\", \"Slovakia\", \"Slovakia\", \"Slovakia\", \"Slovakia\", \"Slovakia\", \"Slovakia\", \"Slovakia\", \"Slovakia\", \"Slovakia\", \"Slovakia\", \"Slovakia\", \"Slovakia\", \"Slovakia\", \"Slovakia\", \"Slovakia\", \"Slovakia\", \"Slovakia\", \"Slovakia\", \"Slovakia\", \"Slovakia\", \"Slovakia\", \"Slovakia\", \"Slovakia\", \"Slovakia\", \"Slovakia\", \"Slovakia\", \"Slovakia\", \"Slovakia\", \"Slovakia\", \"Slovakia\", \"Slovakia\", \"Slovakia\", \"Slovakia\", \"Slovakia\", \"Slovakia\", \"Slovakia\", \"Slovakia\", \"Slovakia\", \"Slovakia\", \"Slovakia\", \"Slovakia\", \"Slovakia\", \"Slovakia\", \"Slovakia\", \"Slovakia\", \"Slovakia\", \"Slovakia\", \"Slovakia\", \"Slovakia\", \"Slovakia\", \"Slovakia\", \"Slovakia\", \"Slovakia\", \"Slovakia\", \"Slovakia\", \"Slovakia\", \"Slovakia\", \"Slovakia\", \"Slovenia\", \"Slovenia\", \"Slovenia\", \"Slovenia\", \"Slovenia\", \"Slovenia\", \"Slovenia\", \"Slovenia\", \"Slovenia\", \"Slovenia\", \"Slovenia\", \"Slovenia\", \"Slovenia\", \"Slovenia\", \"Slovenia\", \"Slovenia\", \"Slovenia\", \"Slovenia\", \"Slovenia\", \"Slovenia\", \"Slovenia\", \"Slovenia\", \"Slovenia\", \"Slovenia\", \"Slovenia\", \"Slovenia\", \"Slovenia\", \"Slovenia\", \"Slovenia\", \"Slovenia\", \"Slovenia\", \"Slovenia\", \"Slovenia\", \"Slovenia\", \"Slovenia\", \"Slovenia\", \"Slovenia\", \"Slovenia\", \"Slovenia\", \"Slovenia\", \"Slovenia\", \"Slovenia\", \"Slovenia\", \"Slovenia\", \"Slovenia\", \"Slovenia\", \"Slovenia\", \"Slovenia\", \"Slovenia\", \"Slovenia\", \"Slovenia\", \"Slovenia\", \"Slovenia\", \"Slovenia\", \"Slovenia\", \"Slovenia\", \"Slovenia\", \"Slovenia\", \"Slovenia\", \"Slovenia\", \"Slovenia\", \"Slovenia\", \"Slovenia\", \"Slovenia\", \"Slovenia\", \"Slovenia\", \"Slovenia\", \"Slovenia\", \"Slovenia\", \"South Africa\", \"South Africa\", \"South Africa\", \"South Africa\", \"South Africa\", \"South Africa\", \"South Africa\", \"South Africa\", \"South Africa\", \"South Africa\", \"South Africa\", \"South Africa\", \"South Africa\", \"South Korea\", \"South Korea\", \"South Korea\", \"South Korea\", \"South Korea\", \"South Korea\", \"South Korea\", \"South Korea\", \"South Korea\", \"South Korea\", \"Spain\", \"Spain\", \"Spain\", \"Spain\", \"Spain\", \"Spain\", \"Spain\", \"Spain\", \"Spain\", \"Spain\", \"Spain\", \"Spain\", \"Spain\", \"Spain\", \"Spain\", \"Spain\", \"Spain\", \"Spain\", \"Spain\", \"Spain\", \"Spain\", \"Spain\", \"Spain\", \"Spain\", \"Spain\", \"Spain\", \"Spain\", \"Spain\", \"Spain\", \"Spain\", \"Spain\", \"Spain\", \"Spain\", \"Spain\", \"Spain\", \"Spain\", \"Spain\", \"Spain\", \"Spain\", \"Spain\", \"Spain\", \"Spain\", \"Spain\", \"Spain\", \"Spain\", \"Spain\", \"Spain\", \"Spain\", \"Spain\", \"Spain\", \"Spain\", \"Spain\", \"Spain\", \"Spain\", \"Spain\", \"Spain\", \"Spain\", \"Spain\", \"Spain\", \"Spain\", \"Sri Lanka\", \"Sri Lanka\", \"Sri Lanka\", \"Sri Lanka\", \"Sri Lanka\", \"Sri Lanka\", \"Sri Lanka\", \"Sri Lanka\", \"Sri Lanka\", \"Sri Lanka\", \"Sri Lanka\", \"Sri Lanka\", \"Sri Lanka\", \"Sri Lanka\", \"Sri Lanka\", \"Sri Lanka\", \"Sri Lanka\", \"Sri Lanka\", \"Sri Lanka\", \"Sri Lanka\", \"Sri Lanka\", \"Sri Lanka\", \"Sri Lanka\", \"Sri Lanka\", \"Sri Lanka\", \"Sri Lanka\", \"Sri Lanka\", \"Sri Lanka\", \"Sri Lanka\", \"Sri Lanka\", \"Sri Lanka\", \"Sri Lanka\", \"Sri Lanka\", \"Sri Lanka\", \"Sri Lanka\", \"Sri Lanka\", \"Sri Lanka\", \"Sri Lanka\", \"Sweden\", \"Sweden\", \"Sweden\", \"Sweden\", \"Sweden\", \"Sweden\", \"Sweden\", \"Sweden\", \"Sweden\", \"Sweden\", \"Sweden\", \"Sweden\", \"Sweden\", \"Sweden\", \"Sweden\", \"Sweden\", \"Sweden\", \"Sweden\", \"Sweden\", \"Sweden\", \"Sweden\", \"Sweden\", \"Sweden\", \"Sweden\", \"Sweden\", \"Sweden\", \"Sweden\", \"Sweden\", \"Sweden\", \"Sweden\", \"Sweden\", \"Sweden\", \"Sweden\", \"Sweden\", \"Sweden\", \"Sweden\", \"Sweden\", \"Sweden\", \"Sweden\", \"Sweden\", \"Sweden\", \"Sweden\", \"Sweden\", \"Sweden\", \"Sweden\", \"Sweden\", \"Sweden\", \"Sweden\", \"Sweden\", \"Sweden\", \"Sweden\", \"Sweden\", \"Sweden\", \"Sweden\", \"Sweden\", \"Sweden\", \"Sweden\", \"Sweden\", \"Sweden\", \"Sweden\", \"Sweden\", \"Sweden\", \"Sweden\", \"Sweden\", \"Sweden\", \"Sweden\", \"Sweden\", \"Sweden\", \"Sweden\", \"Switzerland\", \"Switzerland\", \"Switzerland\", \"Switzerland\", \"Switzerland\", \"Switzerland\", \"Switzerland\", \"Switzerland\", \"Switzerland\", \"Switzerland\", \"Switzerland\", \"Switzerland\", \"Switzerland\", \"Switzerland\", \"Switzerland\", \"Switzerland\", \"Switzerland\", \"Switzerland\", \"Switzerland\", \"Switzerland\", \"Switzerland\", \"Switzerland\", \"Switzerland\", \"Switzerland\", \"Switzerland\", \"Switzerland\", \"Switzerland\", \"Switzerland\", \"Switzerland\", \"Switzerland\", \"Switzerland\", \"Switzerland\", \"Switzerland\", \"Switzerland\", \"Switzerland\", \"Switzerland\", \"Switzerland\", \"Switzerland\", \"Switzerland\", \"Thailand\", \"Thailand\", \"Thailand\", \"Thailand\", \"Trinidad and Tobago\", \"Trinidad and Tobago\", \"Trinidad and Tobago\", \"Trinidad and Tobago\", \"Trinidad and Tobago\", \"Trinidad and Tobago\", \"Trinidad and Tobago\", \"Trinidad and Tobago\", \"Turkey\", \"Turkey\", \"Turkey\", \"Turkey\", \"Turkey\", \"Turkey\", \"Turkey\", \"Turkey\", \"Turkey\", \"Turkey\", \"Turkey\", \"Turkey\", \"Turkey\", \"Turkey\", \"Turkey\", \"Turkey\", \"Turkey\", \"Turkey\", \"Turkey\", \"Turkey\", \"Turkey\", \"Turkey\", \"Turkey\", \"Turkey\", \"Turkey\", \"Turkey\", \"Turkey\", \"Turkey\", \"Turkey\", \"Turkey\", \"Turkey\", \"Turkey\", \"Turkey\", \"Turkey\", \"Turkey\", \"Turkey\", \"Turkey\", \"Turkey\", \"Turkey\", \"Turkey\", \"Turkey\", \"Turkey\", \"Turkey\", \"Turkey\", \"Turkey\", \"Turkey\", \"Turkey\", \"Turkey\", \"Turkey\", \"Turkey\", \"Turkey\", \"Turkey\", \"Turkey\", \"Turks and Caicos Islands\", \"Turks and Caicos Islands\", \"Turks and Caicos Islands\", \"Turks and Caicos Islands\", \"Turks and Caicos Islands\", \"Turks and Caicos Islands\", \"Turks and Caicos Islands\", \"Turks and Caicos Islands\", \"Turks and Caicos Islands\", \"Turks and Caicos Islands\", \"Turks and Caicos Islands\", \"Turks and Caicos Islands\", \"Turks and Caicos Islands\", \"Turks and Caicos Islands\", \"Turks and Caicos Islands\", \"Turks and Caicos Islands\", \"Turks and Caicos Islands\", \"Turks and Caicos Islands\", \"Turks and Caicos Islands\", \"Turks and Caicos Islands\", \"Turks and Caicos Islands\", \"Turks and Caicos Islands\", \"Turks and Caicos Islands\", \"Turks and Caicos Islands\", \"Turks and Caicos Islands\", \"Turks and Caicos Islands\", \"Turks and Caicos Islands\", \"Turks and Caicos Islands\", \"Turks and Caicos Islands\", \"Turks and Caicos Islands\", \"Ukraine\", \"Ukraine\", \"Ukraine\", \"Ukraine\", \"Ukraine\", \"Ukraine\", \"Ukraine\", \"Ukraine\", \"Ukraine\", \"Ukraine\", \"Ukraine\", \"United Arab Emirates\", \"United Arab Emirates\", \"United Arab Emirates\", \"United Arab Emirates\", \"United Arab Emirates\", \"United Arab Emirates\", \"United Arab Emirates\", \"United Arab Emirates\", \"United Arab Emirates\", \"United Arab Emirates\", \"United Arab Emirates\", \"United Arab Emirates\", \"United Arab Emirates\", \"United Arab Emirates\", \"United Arab Emirates\", \"United Arab Emirates\", \"United Arab Emirates\", \"United Arab Emirates\", \"United Arab Emirates\", \"United Arab Emirates\", \"United Arab Emirates\", \"United Arab Emirates\", \"United Arab Emirates\", \"United Arab Emirates\", \"United Arab Emirates\", \"United Arab Emirates\", \"United Arab Emirates\", \"United Arab Emirates\", \"United Arab Emirates\", \"United Arab Emirates\", \"United Arab Emirates\", \"United Arab Emirates\", \"United Arab Emirates\", \"United Arab Emirates\", \"United Arab Emirates\", \"United Arab Emirates\", \"United Arab Emirates\", \"United Arab Emirates\", \"United Arab Emirates\", \"United Arab Emirates\", \"United Arab Emirates\", \"United Arab Emirates\", \"United Arab Emirates\", \"United Arab Emirates\", \"United Arab Emirates\", \"United Arab Emirates\", \"United Arab Emirates\", \"United Arab Emirates\", \"United Arab Emirates\", \"United Arab Emirates\", \"United Arab Emirates\", \"United Arab Emirates\", \"United Arab Emirates\", \"United Arab Emirates\", \"United Arab Emirates\", \"United Arab Emirates\", \"United Arab Emirates\", \"United Arab Emirates\", \"United Arab Emirates\", \"United Arab Emirates\", \"United Arab Emirates\", \"United Kingdom\", \"United Kingdom\", \"United Kingdom\", \"United Kingdom\", \"United Kingdom\", \"United Kingdom\", \"United Kingdom\", \"United Kingdom\", \"United Kingdom\", \"United Kingdom\", \"United Kingdom\", \"United Kingdom\", \"United Kingdom\", \"United Kingdom\", \"United Kingdom\", \"United Kingdom\", \"United Kingdom\", \"United Kingdom\", \"United Kingdom\", \"United Kingdom\", \"United Kingdom\", \"United Kingdom\", \"United Kingdom\", \"United Kingdom\", \"United Kingdom\", \"United Kingdom\", \"United Kingdom\", \"United Kingdom\", \"United Kingdom\", \"United Kingdom\", \"United Kingdom\", \"United Kingdom\", \"United Kingdom\", \"United Kingdom\", \"United Kingdom\", \"United Kingdom\", \"United Kingdom\", \"United Kingdom\", \"United Kingdom\", \"United Kingdom\", \"United Kingdom\", \"United Kingdom\", \"United Kingdom\", \"United Kingdom\", \"United Kingdom\", \"United Kingdom\", \"United Kingdom\", \"United Kingdom\", \"United Kingdom\", \"United Kingdom\", \"United Kingdom\", \"United Kingdom\", \"United Kingdom\", \"United Kingdom\", \"United Kingdom\", \"United Kingdom\", \"United Kingdom\", \"United Kingdom\", \"United Kingdom\", \"United Kingdom\", \"United Kingdom\", \"United Kingdom\", \"United Kingdom\", \"United Kingdom\", \"United Kingdom\", \"United Kingdom\", \"United Kingdom\", \"United Kingdom\", \"United Kingdom\", \"United Kingdom\", \"United Kingdom\", \"United Kingdom\", \"United Kingdom\", \"United Kingdom\", \"United Kingdom\", \"United Kingdom\", \"United Kingdom\", \"United Kingdom\", \"United Kingdom\", \"United Kingdom\", \"United Kingdom\", \"United Kingdom\", \"United Kingdom\", \"United States\", \"United States\", \"United States\", \"United States\", \"United States\", \"United States\", \"United States\", \"United States\", \"United States\", \"United States\", \"United States\", \"United States\", \"United States\", \"United States\", \"United States\", \"United States\", \"United States\", \"United States\", \"United States\", \"United States\", \"United States\", \"United States\", \"United States\", \"United States\", \"United States\", \"United States\", \"United States\", \"United States\", \"United States\", \"United States\", \"United States\", \"United States\", \"United States\", \"United States\", \"United States\", \"United States\", \"United States\", \"United States\", \"United States\", \"United States\", \"United States\", \"United States\", \"United States\", \"United States\", \"United States\", \"United States\", \"United States\", \"United States\", \"United States\", \"United States\", \"United States\", \"United States\", \"United States\", \"United States\", \"United States\", \"United States\", \"United States\", \"United States\", \"United States\", \"United States\", \"United States\", \"United States\", \"United States\", \"United States\", \"United States\", \"United States\", \"United States\", \"United States\", \"United States\", \"United States\", \"United States\", \"United States\", \"United States\", \"United States\", \"United States\", \"United States\", \"United States\", \"Uruguay\", \"Uruguay\", \"Uruguay\", \"Uruguay\", \"Uruguay\", \"Uruguay\", \"Uruguay\", \"Venezuela\", \"Venezuela\", \"Venezuela\", \"Venezuela\", \"Venezuela\", \"Venezuela\", \"Venezuela\", \"Venezuela\", \"Venezuela\", \"Venezuela\", \"Venezuela\", \"Venezuela\", \"Venezuela\", \"Venezuela\", \"Venezuela\", \"Venezuela\", \"Zimbabwe\", \"Zimbabwe\", \"Zimbabwe\", \"Zimbabwe\", \"Zimbabwe\", \"Zimbabwe\", \"Zimbabwe\", \"Zimbabwe\", \"Zimbabwe\", \"Zimbabwe\", \"Zimbabwe\", \"Zimbabwe\", \"Zimbabwe\", \"Zimbabwe\", \"Zimbabwe\", \"Zimbabwe\", \"Zimbabwe\"], \"locations\": [\"ALB\", \"ALB\", \"ALB\", \"ALB\", \"ALB\", \"ALB\", \"ALB\", \"ALB\", \"ALB\", \"ALB\", \"ALB\", \"ALB\", \"ALB\", \"ALB\", \"ALB\", \"ALB\", \"ALB\", \"ALB\", \"ALB\", \"ALB\", \"ALB\", \"ALB\", \"ALB\", \"ALB\", \"ALB\", \"ALB\", \"ALB\", \"ALB\", \"ALB\", \"ALB\", \"ALB\", \"ALB\", \"ALB\", \"ALB\", \"ALB\", \"ALB\", \"ALB\", \"ALB\", \"ALB\", \"ALB\", \"ALB\", \"ALB\", \"ALB\", \"ALB\", \"ALB\", \"ALB\", \"ALB\", \"ALB\", \"ALB\", \"ALB\", \"ALB\", \"ALB\", \"ALB\", \"DZA\", \"DZA\", \"DZA\", \"DZA\", \"DZA\", \"DZA\", \"DZA\", \"DZA\", \"DZA\", \"DZA\", \"DZA\", \"DZA\", \"DZA\", \"DZA\", \"DZA\", \"DZA\", \"DZA\", \"DZA\", \"DZA\", \"DZA\", \"DZA\", \"DZA\", \"AND\", \"AND\", \"AND\", \"AND\", \"AND\", \"AND\", \"AND\", \"AND\", \"AND\", \"AND\", \"AND\", \"AND\", \"AND\", \"AND\", \"AND\", \"AND\", \"AND\", \"AND\", \"AND\", \"AND\", \"AND\", \"AND\", \"AND\", \"AND\", \"AND\", \"AND\", \"AND\", \"AND\", \"AND\", \"AND\", \"AND\", \"AND\", \"AND\", \"AIA\", \"AIA\", \"AIA\", \"AIA\", \"AIA\", \"AIA\", \"AIA\", \"AIA\", \"AIA\", \"AIA\", \"AIA\", \"AIA\", \"AIA\", \"AIA\", \"AIA\", \"AIA\", \"AIA\", \"AIA\", \"AIA\", \"AIA\", \"AIA\", \"AIA\", \"AIA\", \"ARG\", \"ARG\", \"ARG\", \"ARG\", \"ARG\", \"ARG\", \"ARG\", \"ARG\", \"ARG\", \"ARG\", \"ARG\", \"ARG\", \"ARG\", \"ARG\", \"ARG\", \"ARG\", \"ARG\", \"ARG\", \"ARG\", \"ARG\", \"ARG\", \"ARG\", \"ARG\", \"ARG\", \"ARG\", \"ARG\", \"ARG\", \"ARG\", \"ARG\", \"ARG\", \"ARG\", \"ARG\", \"ARG\", \"ARG\", \"ARG\", \"ARG\", \"ARG\", \"ARG\", \"ARG\", \"ARG\", \"ARG\", \"ARG\", \"ARG\", \"ARG\", \"ARG\", \"ARG\", \"ARG\", \"ARG\", \"ARG\", \"ARG\", \"ARG\", \"ARG\", \"ARG\", \"ARG\", \"ARG\", \"ARG\", \"ARG\", \"ARG\", \"ARG\", \"ARG\", \"ARG\", \"ARG\", \"ARG\", \"ARG\", \"ARG\", \"ARG\", \"ARG\", \"AUS\", \"AUS\", \"AUS\", \"AUS\", \"AUS\", \"AUS\", \"AUS\", \"AUS\", \"AUS\", \"AUS\", \"AUS\", \"AUS\", \"AUS\", \"AUS\", \"AUS\", \"AUS\", \"AUS\", \"AUS\", \"AUS\", \"AUS\", \"AUT\", \"AUT\", \"AUT\", \"AUT\", \"AUT\", \"AUT\", \"AUT\", \"AUT\", \"AUT\", \"AUT\", \"AUT\", \"AUT\", \"AUT\", \"AUT\", \"AUT\", \"AUT\", \"AUT\", \"AUT\", \"AUT\", \"AUT\", \"AUT\", \"AUT\", \"AUT\", \"AUT\", \"AUT\", \"AUT\", \"AUT\", \"AUT\", \"AUT\", \"AUT\", \"AUT\", \"AUT\", \"AUT\", \"AUT\", \"AUT\", \"AUT\", \"AUT\", \"AUT\", \"AUT\", \"AUT\", \"AUT\", \"AUT\", \"AUT\", \"AUT\", \"AUT\", \"AUT\", \"AUT\", \"AUT\", \"AUT\", \"AUT\", \"AUT\", \"AUT\", \"AUT\", \"AUT\", \"AUT\", \"AUT\", \"AZE\", \"AZE\", \"AZE\", \"AZE\", \"AZE\", \"AZE\", \"AZE\", \"AZE\", \"AZE\", \"AZE\", \"AZE\", \"AZE\", \"AZE\", \"AZE\", \"AZE\", \"AZE\", \"AZE\", \"AZE\", \"AZE\", \"AZE\", \"AZE\", \"AZE\", \"AZE\", \"AZE\", \"AZE\", \"AZE\", \"AZE\", \"AZE\", \"AZE\", \"AZE\", \"AZE\", \"AZE\", \"AZE\", \"AZE\", \"AZE\", \"AZE\", \"AZE\", \"AZE\", \"AZE\", \"AZE\", \"AZE\", \"AZE\", \"AZE\", \"AZE\", \"AZE\", \"AZE\", \"BHR\", \"BHR\", \"BHR\", \"BHR\", \"BHR\", \"BHR\", \"BHR\", \"BHR\", \"BHR\", \"BHR\", \"BHR\", \"BHR\", \"BHR\", \"BHR\", \"BHR\", \"BHR\", \"BHR\", \"BHR\", \"BHR\", \"BHR\", \"BHR\", \"BHR\", \"BHR\", \"BHR\", \"BHR\", \"BHR\", \"BHR\", \"BHR\", \"BHR\", \"BHR\", \"BHR\", \"BHR\", \"BHR\", \"BHR\", \"BHR\", \"BHR\", \"BHR\", \"BHR\", \"BHR\", \"BHR\", \"BHR\", \"BHR\", \"BHR\", \"BHR\", \"BHR\", \"BHR\", \"BHR\", \"BHR\", \"BHR\", \"BHR\", \"BHR\", \"BHR\", \"BHR\", \"BHR\", \"BHR\", \"BHR\", \"BHR\", \"BHR\", \"BHR\", \"BHR\", \"BHR\", \"BHR\", \"BHR\", \"BHR\", \"BHR\", \"BHR\", \"BHR\", \"BHR\", \"BHR\", \"BHR\", \"BHR\", \"BHR\", \"BHR\", \"BHR\", \"BGD\", \"BGD\", \"BGD\", \"BGD\", \"BGD\", \"BGD\", \"BGD\", \"BGD\", \"BGD\", \"BGD\", \"BGD\", \"BGD\", \"BGD\", \"BGD\", \"BGD\", \"BGD\", \"BGD\", \"BGD\", \"BGD\", \"BGD\", \"BGD\", \"BGD\", \"BGD\", \"BGD\", \"BGD\", \"BGD\", \"BGD\", \"BGD\", \"BGD\", \"BGD\", \"BGD\", \"BGD\", \"BGD\", \"BGD\", \"BGD\", \"BGD\", \"BGD\", \"BGD\", \"BRB\", \"BRB\", \"BRB\", \"BRB\", \"BRB\", \"BRB\", \"BRB\", \"BRB\", \"BRB\", \"BRB\", \"BRB\", \"BRB\", \"BRB\", \"BRB\", \"BRB\", \"BRB\", \"BRB\", \"BRB\", \"BLR\", \"BLR\", \"BLR\", \"BLR\", \"BLR\", \"BLR\", \"BLR\", \"BLR\", \"BLR\", \"BLR\", \"BLR\", \"BLR\", \"BLR\", \"BLR\", \"BLR\", \"BLR\", \"BLR\", \"BLR\", \"BLR\", \"BLR\", \"BLR\", \"BLR\", \"BLR\", \"BLR\", \"BLR\", \"BLR\", \"BLR\", \"BLR\", \"BLR\", \"BLR\", \"BLR\", \"BLR\", \"BLR\", \"BLR\", \"BLR\", \"BLR\", \"BLR\", \"BLR\", \"BLR\", \"BLR\", \"BLR\", \"BLR\", \"BLR\", \"BLR\", \"BLR\", \"BLR\", \"BLR\", \"BLR\", \"BLR\", \"BLR\", \"BLR\", \"BLR\", \"BLR\", \"BEL\", \"BEL\", \"BEL\", \"BEL\", \"BEL\", \"BEL\", \"BEL\", \"BEL\", \"BEL\", \"BEL\", \"BEL\", \"BEL\", \"BEL\", \"BEL\", \"BEL\", \"BEL\", \"BEL\", \"BEL\", \"BEL\", \"BEL\", \"BEL\", \"BEL\", \"BEL\", \"BEL\", \"BEL\", \"BEL\", \"BEL\", \"BEL\", \"BEL\", \"BEL\", \"BEL\", \"BEL\", \"BEL\", \"BEL\", \"BEL\", \"BEL\", \"BEL\", \"BEL\", \"BEL\", \"BEL\", \"BEL\", \"BEL\", \"BEL\", \"BEL\", \"BEL\", \"BEL\", \"BEL\", \"BEL\", \"BEL\", \"BEL\", \"BEL\", \"BEL\", \"BEL\", \"BEL\", \"BEL\", \"BEL\", \"BEL\", \"BEL\", \"BEL\", \"BEL\", \"BEL\", \"BEL\", \"BEL\", \"BEL\", \"BEL\", \"BEL\", \"BEL\", \"BEL\", \"BLZ\", \"BLZ\", \"BLZ\", \"BLZ\", \"BLZ\", \"BLZ\", \"BMU\", \"BMU\", \"BMU\", \"BMU\", \"BMU\", \"BMU\", \"BMU\", \"BMU\", \"BMU\", \"BMU\", \"BMU\", \"BMU\", \"BMU\", \"BMU\", \"BMU\", \"BMU\", \"BMU\", \"BMU\", \"BMU\", \"BMU\", \"BMU\", \"BMU\", \"BMU\", \"BMU\", \"BMU\", \"BMU\", \"BMU\", \"BMU\", \"BMU\", \"BMU\", \"BMU\", \"BMU\", \"BMU\", \"BMU\", \"BMU\", \"BMU\", \"BMU\", \"BMU\", \"BMU\", \"BMU\", \"BMU\", \"BMU\", \"BMU\", \"BMU\", \"BMU\", \"BMU\", \"BMU\", \"BMU\", \"BMU\", \"BMU\", \"BMU\", \"BMU\", \"BMU\", \"BOL\", \"BOL\", \"BOL\", \"BOL\", \"BOL\", \"BOL\", \"BOL\", \"BOL\", \"BOL\", \"BOL\", \"BOL\", \"BOL\", \"BOL\", \"BOL\", \"BOL\", \"BOL\", \"BOL\", \"BOL\", \"BOL\", \"BOL\", \"BOL\", \"BOL\", \"BOL\", \"BOL\", \"BOL\", \"BOL\", \"BOL\", \"BOL\", \"BOL\", \"BOL\", \"BOL\", \"BOL\", \"BOL\", \"BOL\", \"BOL\", \"BOL\", \"BOL\", \"BOL\", \"BRA\", \"BRA\", \"BRA\", \"BRA\", \"BRA\", \"BRA\", \"BRA\", \"BRA\", \"BRA\", \"BRA\", \"BRA\", \"BRA\", \"BRA\", \"BRA\", \"BRA\", \"BRA\", \"BRA\", \"BRA\", \"BRA\", \"BRA\", \"BRA\", \"BRA\", \"BRA\", \"BRA\", \"BRA\", \"BRA\", \"BRA\", \"BRA\", \"BRA\", \"BRA\", \"BRA\", \"BRA\", \"BRA\", \"BRA\", \"BRA\", \"BRA\", \"BRA\", \"BRA\", \"BRA\", \"BRA\", \"BRA\", \"BRA\", \"BRA\", \"BRA\", \"BRA\", \"BRA\", \"BRA\", \"BRA\", \"BRA\", \"BRA\", \"BGR\", \"BGR\", \"BGR\", \"BGR\", \"BGR\", \"BGR\", \"BGR\", \"BGR\", \"BGR\", \"BGR\", \"BGR\", \"BGR\", \"BGR\", \"BGR\", \"BGR\", \"BGR\", \"BGR\", \"BGR\", \"BGR\", \"BGR\", \"BGR\", \"BGR\", \"BGR\", \"BGR\", \"BGR\", \"BGR\", \"BGR\", \"BGR\", \"BGR\", \"BGR\", \"BGR\", \"BGR\", \"BGR\", \"BGR\", \"BGR\", \"BGR\", \"BGR\", \"BGR\", \"BGR\", \"BGR\", \"BGR\", \"BGR\", \"BGR\", \"BGR\", \"BGR\", \"BGR\", \"BGR\", \"BGR\", \"BGR\", \"BGR\", \"BGR\", \"BGR\", \"BGR\", \"BGR\", \"BGR\", \"BGR\", \"BGR\", \"BGR\", \"BGR\", \"BGR\", \"BGR\", \"BGR\", \"BGR\", \"BGR\", \"BGR\", \"BGR\", \"BGR\", \"BGR\", \"KHM\", \"KHM\", \"KHM\", \"KHM\", \"KHM\", \"KHM\", \"KHM\", \"KHM\", \"KHM\", \"KHM\", \"KHM\", \"KHM\", \"KHM\", \"KHM\", \"KHM\", \"KHM\", \"KHM\", \"KHM\", \"KHM\", \"KHM\", \"KHM\", \"KHM\", \"KHM\", \"KHM\", \"KHM\", \"KHM\", \"CAN\", \"CAN\", \"CAN\", \"CAN\", \"CAN\", \"CAN\", \"CAN\", \"CAN\", \"CAN\", \"CAN\", \"CAN\", \"CAN\", \"CAN\", \"CAN\", \"CAN\", \"CAN\", \"CAN\", \"CAN\", \"CAN\", \"CAN\", \"CAN\", \"CAN\", \"CAN\", \"CAN\", \"CAN\", \"CAN\", \"CAN\", \"CAN\", \"CAN\", \"CAN\", \"CAN\", \"CAN\", \"CAN\", \"CAN\", \"CAN\", \"CAN\", \"CAN\", \"CAN\", \"CAN\", \"CAN\", \"CAN\", \"CAN\", \"CAN\", \"CAN\", \"CAN\", \"CAN\", \"CAN\", \"CAN\", \"CAN\", \"CAN\", \"CAN\", \"CAN\", \"CAN\", \"CAN\", \"CAN\", \"CAN\", \"CAN\", \"CAN\", \"CAN\", \"CAN\", \"CAN\", \"CAN\", \"CAN\", \"CAN\", \"CAN\", \"CAN\", \"CAN\", \"CAN\", \"CAN\", \"CAN\", \"CAN\", \"CAN\", \"CAN\", \"CAN\", \"CAN\", \"CAN\", \"CAN\", \"CAN\", \"CAN\", \"CAN\", \"CAN\", \"CAN\", \"CAN\", \"CYM\", \"CYM\", \"CYM\", \"CYM\", \"CYM\", \"CYM\", \"CYM\", \"CYM\", \"CYM\", \"CYM\", \"CYM\", \"CYM\", \"CYM\", \"CYM\", \"CYM\", \"CYM\", \"CYM\", \"CYM\", \"CYM\", \"CYM\", \"CYM\", \"CYM\", \"CYM\", \"CYM\", \"CYM\", \"CYM\", \"CYM\", \"CYM\", \"CYM\", \"CYM\", \"CYM\", \"CYM\", \"CYM\", \"CYM\", \"CYM\", \"CYM\", \"CYM\", \"CYM\", \"CYM\", \"CYM\", \"CYM\", \"CYM\", \"CYM\", \"CYM\", \"CYM\", \"CYM\", \"CYM\", \"CYM\", \"CYM\", \"CYM\", \"CYM\", \"CYM\", \"CYM\", \"CYM\", \"CYM\", \"CYM\", \"CYM\", \"CYM\", \"CYM\", \"CYM\", \"CYM\", \"CYM\", \"CYM\", \"CYM\", \"CYM\", \"CYM\", \"CYM\", \"CYM\", \"CHL\", \"CHL\", \"CHL\", \"CHL\", \"CHL\", \"CHL\", \"CHL\", \"CHL\", \"CHL\", \"CHL\", \"CHL\", \"CHL\", \"CHL\", \"CHL\", \"CHL\", \"CHL\", \"CHL\", \"CHL\", \"CHL\", \"CHL\", \"CHL\", \"CHL\", \"CHL\", \"CHL\", \"CHL\", \"CHL\", \"CHL\", \"CHL\", \"CHL\", \"CHL\", \"CHL\", \"CHL\", \"CHL\", \"CHL\", \"CHL\", \"CHL\", \"CHL\", \"CHL\", \"CHL\", \"CHL\", \"CHL\", \"CHL\", \"CHL\", \"CHL\", \"CHL\", \"CHL\", \"CHL\", \"CHL\", \"CHL\", \"CHL\", \"CHL\", \"CHL\", \"CHL\", \"CHL\", \"CHL\", \"CHL\", \"CHL\", \"CHL\", \"CHL\", \"CHL\", \"CHL\", \"CHL\", \"CHL\", \"CHL\", \"CHL\", \"CHL\", \"CHL\", \"CHL\", \"CHL\", \"CHL\", \"CHL\", \"CHL\", \"CHL\", \"CHN\", \"CHN\", \"CHN\", \"CHN\", \"CHN\", \"CHN\", \"CHN\", \"CHN\", \"CHN\", \"CHN\", \"CHN\", \"CHN\", \"CHN\", \"CHN\", \"CHN\", \"CHN\", \"CHN\", \"CHN\", \"CHN\", \"CHN\", \"CHN\", \"CHN\", \"CHN\", \"CHN\", \"CHN\", \"CHN\", \"CHN\", \"CHN\", \"CHN\", \"CHN\", \"CHN\", \"CHN\", \"CHN\", \"CHN\", \"CHN\", \"CHN\", \"CHN\", \"CHN\", \"CHN\", \"CHN\", \"CHN\", \"CHN\", \"CHN\", \"CHN\", \"CHN\", \"CHN\", \"CHN\", \"CHN\", \"CHN\", \"CHN\", \"CHN\", \"CHN\", \"CHN\", \"CHN\", \"CHN\", \"CHN\", \"CHN\", \"CHN\", \"CHN\", \"CHN\", \"CHN\", \"CHN\", \"CHN\", \"CHN\", \"CHN\", \"CHN\", \"CHN\", \"CHN\", \"CHN\", \"CHN\", \"CHN\", \"CHN\", \"CHN\", \"CHN\", \"CHN\", \"CHN\", \"COL\", \"COL\", \"COL\", \"COL\", \"COL\", \"COL\", \"COL\", \"COL\", \"COL\", \"COL\", \"COL\", \"COL\", \"COL\", \"COL\", \"COL\", \"COL\", \"COL\", \"COL\", \"COL\", \"CRI\", \"CRI\", \"CRI\", \"CRI\", \"CRI\", \"CRI\", \"CRI\", \"CRI\", \"CRI\", \"CRI\", \"CRI\", \"CRI\", \"CRI\", \"CRI\", \"CRI\", \"CRI\", \"CRI\", \"CRI\", \"CRI\", \"CRI\", \"CRI\", \"CRI\", \"CRI\", \"CRI\", \"CRI\", \"CRI\", \"CRI\", \"CRI\", \"CRI\", \"CRI\", \"CRI\", \"CRI\", \"CRI\", \"CRI\", \"CRI\", \"CRI\", \"CRI\", \"CRI\", \"CRI\", \"CRI\", \"CRI\", \"CRI\", \"CRI\", \"CRI\", \"CRI\", \"CRI\", \"CRI\", \"CRI\", \"CRI\", \"CRI\", \"CRI\", \"CRI\", \"CRI\", \"CRI\", \"CRI\", \"CRI\", \"CRI\", \"CRI\", \"CRI\", \"CRI\", \"CRI\", \"CRI\", \"CRI\", \"CRI\", \"CRI\", \"CRI\", \"CRI\", \"CRI\", \"CRI\", \"CRI\", \"CRI\", \"CRI\", \"HRV\", \"HRV\", \"HRV\", \"HRV\", \"HRV\", \"HRV\", \"HRV\", \"HRV\", \"HRV\", \"HRV\", \"HRV\", \"HRV\", \"HRV\", \"HRV\", \"HRV\", \"HRV\", \"HRV\", \"HRV\", \"HRV\", \"HRV\", \"HRV\", \"HRV\", \"HRV\", \"HRV\", \"HRV\", \"HRV\", \"HRV\", \"HRV\", \"HRV\", \"HRV\", \"HRV\", \"HRV\", \"HRV\", \"HRV\", \"HRV\", \"HRV\", \"HRV\", \"HRV\", \"HRV\", \"HRV\", \"HRV\", \"HRV\", \"HRV\", \"HRV\", \"HRV\", \"HRV\", \"HRV\", \"HRV\", \"HRV\", \"HRV\", \"HRV\", \"HRV\", \"HRV\", \"HRV\", \"HRV\", \"HRV\", \"HRV\", \"HRV\", \"HRV\", \"HRV\", \"HRV\", \"HRV\", \"HRV\", \"HRV\", \"HRV\", \"CYP\", \"CYP\", \"CYP\", \"CYP\", \"CYP\", \"CYP\", \"CYP\", \"CYP\", \"CYP\", \"CYP\", \"CYP\", \"CYP\", \"CYP\", \"CYP\", \"CYP\", \"CYP\", \"CYP\", \"CYP\", \"CYP\", \"CYP\", \"CYP\", \"CYP\", \"CYP\", \"CYP\", \"CYP\", \"CYP\", \"CYP\", \"CYP\", \"CYP\", \"CYP\", \"CYP\", \"CYP\", \"CYP\", \"CYP\", \"CYP\", \"CYP\", \"CYP\", \"CYP\", \"CYP\", \"CYP\", \"CYP\", \"CYP\", \"CYP\", \"CYP\", \"CYP\", \"CYP\", \"CYP\", \"CYP\", \"CYP\", \"CYP\", \"CYP\", \"CYP\", \"CYP\", \"CYP\", \"CYP\", \"CYP\", \"CYP\", \"CYP\", \"CYP\", \"CZE\", \"CZE\", \"CZE\", \"CZE\", \"CZE\", \"CZE\", \"CZE\", \"CZE\", \"CZE\", \"CZE\", \"CZE\", \"CZE\", \"CZE\", \"CZE\", \"CZE\", \"CZE\", \"CZE\", \"CZE\", \"CZE\", \"CZE\", \"CZE\", \"CZE\", \"CZE\", \"CZE\", \"CZE\", \"CZE\", \"CZE\", \"CZE\", \"CZE\", \"CZE\", \"CZE\", \"CZE\", \"CZE\", \"CZE\", \"CZE\", \"CZE\", \"CZE\", \"CZE\", \"CZE\", \"CZE\", \"CZE\", \"CZE\", \"CZE\", \"CZE\", \"CZE\", \"CZE\", \"CZE\", \"CZE\", \"CZE\", \"CZE\", \"CZE\", \"CZE\", \"CZE\", \"CZE\", \"CZE\", \"CZE\", \"CZE\", \"CZE\", \"CZE\", \"CZE\", \"CZE\", \"CZE\", \"CZE\", \"CZE\", \"CZE\", \"CZE\", \"CZE\", \"CZE\", \"CZE\", \"CZE\", \"DNK\", \"DNK\", \"DNK\", \"DNK\", \"DNK\", \"DNK\", \"DNK\", \"DNK\", \"DNK\", \"DNK\", \"DNK\", \"DNK\", \"DNK\", \"DNK\", \"DNK\", \"DNK\", \"DNK\", \"DNK\", \"DNK\", \"DNK\", \"DNK\", \"DNK\", \"DNK\", \"DNK\", \"DNK\", \"DNK\", \"DNK\", \"DNK\", \"DNK\", \"DNK\", \"DNK\", \"DNK\", \"DNK\", \"DNK\", \"DNK\", \"DNK\", \"DNK\", \"DNK\", \"DNK\", \"DNK\", \"DNK\", \"DNK\", \"DNK\", \"DNK\", \"DNK\", \"DNK\", \"DNK\", \"DNK\", \"DNK\", \"DNK\", \"DNK\", \"DNK\", \"DNK\", \"DNK\", \"DNK\", \"DNK\", \"DNK\", \"DNK\", \"DNK\", \"DNK\", \"DNK\", \"DNK\", \"DNK\", \"DNK\", \"DNK\", \"DNK\", \"DNK\", \"DNK\", \"DNK\", \"DOM\", \"DOM\", \"DOM\", \"DOM\", \"DOM\", \"DOM\", \"DOM\", \"DOM\", \"DOM\", \"DOM\", \"DOM\", \"DOM\", \"DOM\", \"DOM\", \"DOM\", \"DOM\", \"DOM\", \"DOM\", \"DOM\", \"DOM\", \"ECU\", \"ECU\", \"ECU\", \"ECU\", \"ECU\", \"ECU\", \"ECU\", \"ECU\", \"ECU\", \"ECU\", \"ECU\", \"ECU\", \"ECU\", \"ECU\", \"ECU\", \"ECU\", \"ECU\", \"ECU\", \"ECU\", \"ECU\", \"ECU\", \"ECU\", \"ECU\", \"ECU\", \"ECU\", \"ECU\", \"ECU\", \"ECU\", \"ECU\", \"ECU\", \"ECU\", \"ECU\", \"ECU\", \"ECU\", \"ECU\", \"ECU\", \"ECU\", \"ECU\", \"ECU\", \"ECU\", \"ECU\", \"ECU\", \"ECU\", \"ECU\", \"EGY\", \"EGY\", \"EGY\", \"EGY\", \"EGY\", \"EGY\", \"EGY\", \"SLV\", \"SLV\", \"SLV\", \"SLV\", \"SLV\", \"SLV\", \"SLV\", \"SLV\", \"SLV\", \"EST\", \"EST\", \"EST\", \"EST\", \"EST\", \"EST\", \"EST\", \"EST\", \"EST\", \"EST\", \"EST\", \"EST\", \"EST\", \"EST\", \"EST\", \"EST\", \"EST\", \"EST\", \"EST\", \"EST\", \"EST\", \"EST\", \"EST\", \"EST\", \"EST\", \"EST\", \"EST\", \"EST\", \"EST\", \"EST\", \"EST\", \"EST\", \"EST\", \"EST\", \"EST\", \"EST\", \"EST\", \"EST\", \"EST\", \"EST\", \"EST\", \"EST\", \"EST\", \"EST\", \"EST\", \"EST\", \"EST\", \"EST\", \"EST\", \"EST\", \"EST\", \"EST\", \"EST\", \"EST\", \"EST\", \"EST\", \"EST\", \"EST\", \"EST\", \"EST\", \"EST\", \"EST\", \"EST\", \"EST\", \"EST\", \"EST\", \"EST\", \"EST\", \"FRO\", \"FRO\", \"FRO\", \"FRO\", \"FRO\", \"FRO\", \"FRO\", \"FRO\", \"FRO\", \"FRO\", \"FRO\", \"FRO\", \"FRO\", \"FRO\", \"FRO\", \"FRO\", \"FRO\", \"FRO\", \"FRO\", \"FRO\", \"FRO\", \"FRO\", \"FRO\", \"FRO\", \"FRO\", \"FRO\", \"FRO\", \"FRO\", \"FRO\", \"FRO\", \"FRO\", \"FRO\", \"FRO\", \"FRO\", \"FRO\", \"FRO\", \"FRO\", \"FLK\", \"FLK\", \"FLK\", \"FLK\", \"FLK\", \"FLK\", \"FLK\", \"FLK\", \"FLK\", \"FLK\", \"FLK\", \"FLK\", \"FLK\", \"FLK\", \"FLK\", \"FLK\", \"FIN\", \"FIN\", \"FIN\", \"FIN\", \"FIN\", \"FIN\", \"FIN\", \"FIN\", \"FIN\", \"FIN\", \"FIN\", \"FIN\", \"FIN\", \"FIN\", \"FIN\", \"FIN\", \"FIN\", \"FIN\", \"FIN\", \"FIN\", \"FIN\", \"FIN\", \"FIN\", \"FIN\", \"FIN\", \"FIN\", \"FIN\", \"FIN\", \"FIN\", \"FIN\", \"FIN\", \"FIN\", \"FIN\", \"FIN\", \"FIN\", \"FIN\", \"FIN\", \"FIN\", \"FIN\", \"FIN\", \"FIN\", \"FIN\", \"FIN\", \"FIN\", \"FIN\", \"FIN\", \"FIN\", \"FIN\", \"FIN\", \"FIN\", \"FIN\", \"FIN\", \"FIN\", \"FIN\", \"FIN\", \"FIN\", \"FIN\", \"FIN\", \"FIN\", \"FIN\", \"FIN\", \"FIN\", \"FIN\", \"FIN\", \"FIN\", \"FIN\", \"FRA\", \"FRA\", \"FRA\", \"FRA\", \"FRA\", \"FRA\", \"FRA\", \"FRA\", \"FRA\", \"FRA\", \"FRA\", \"FRA\", \"FRA\", \"FRA\", \"FRA\", \"FRA\", \"FRA\", \"FRA\", \"FRA\", \"FRA\", \"FRA\", \"FRA\", \"FRA\", \"FRA\", \"FRA\", \"FRA\", \"FRA\", \"FRA\", \"FRA\", \"FRA\", \"FRA\", \"FRA\", \"FRA\", \"FRA\", \"FRA\", \"FRA\", \"FRA\", \"FRA\", \"FRA\", \"FRA\", \"FRA\", \"FRA\", \"FRA\", \"FRA\", \"FRA\", \"FRA\", \"FRA\", \"FRA\", \"FRA\", \"FRA\", \"FRA\", \"FRA\", \"FRA\", \"FRA\", \"FRA\", \"FRA\", \"FRA\", \"FRA\", \"FRA\", \"FRA\", \"FRA\", \"FRA\", \"FRA\", \"FRA\", \"FRA\", \"FRA\", \"FRA\", \"FRA\", \"FRA\", \"DEU\", \"DEU\", \"DEU\", \"DEU\", \"DEU\", \"DEU\", \"DEU\", \"DEU\", \"DEU\", \"DEU\", \"DEU\", \"DEU\", \"DEU\", \"DEU\", \"DEU\", \"DEU\", \"DEU\", \"DEU\", \"DEU\", \"DEU\", \"DEU\", \"DEU\", \"DEU\", \"DEU\", \"DEU\", \"DEU\", \"DEU\", \"DEU\", \"DEU\", \"DEU\", \"DEU\", \"DEU\", \"DEU\", \"DEU\", \"DEU\", \"DEU\", \"DEU\", \"DEU\", \"DEU\", \"DEU\", \"DEU\", \"DEU\", \"DEU\", \"DEU\", \"DEU\", \"DEU\", \"DEU\", \"DEU\", \"DEU\", \"DEU\", \"DEU\", \"DEU\", \"DEU\", \"DEU\", \"DEU\", \"DEU\", \"DEU\", \"DEU\", \"DEU\", \"DEU\", \"DEU\", \"DEU\", \"DEU\", \"DEU\", \"DEU\", \"DEU\", \"DEU\", \"DEU\", \"DEU\", \"GIB\", \"GIB\", \"GIB\", \"GIB\", \"GIB\", \"GIB\", \"GIB\", \"GIB\", \"GIB\", \"GIB\", \"GIB\", \"GIB\", \"GIB\", \"GIB\", \"GIB\", \"GIB\", \"GIB\", \"GIB\", \"GIB\", \"GIB\", \"GIB\", \"GIB\", \"GIB\", \"GIB\", \"GIB\", \"GIB\", \"GIB\", \"GIB\", \"GIB\", \"GIB\", \"GIB\", \"GIB\", \"GIB\", \"GIB\", \"GIB\", \"GIB\", \"GIB\", \"GIB\", \"GIB\", \"GIB\", \"GIB\", \"GIB\", \"GIB\", \"GIB\", \"GIB\", \"GIB\", \"GIB\", \"GIB\", \"GIB\", \"GIB\", \"GIB\", \"GIB\", \"GIB\", \"GIB\", \"GIB\", \"GIB\", \"GRC\", \"GRC\", \"GRC\", \"GRC\", \"GRC\", \"GRC\", \"GRC\", \"GRC\", \"GRC\", \"GRC\", \"GRC\", \"GRC\", \"GRC\", \"GRC\", \"GRC\", \"GRC\", \"GRC\", \"GRC\", \"GRC\", \"GRC\", \"GRC\", \"GRC\", \"GRC\", \"GRC\", \"GRC\", \"GRC\", \"GRC\", \"GRC\", \"GRC\", \"GRC\", \"GRC\", \"GRC\", \"GRC\", \"GRC\", \"GRC\", \"GRC\", \"GRC\", \"GRC\", \"GRC\", \"GRC\", \"GRC\", \"GRC\", \"GRC\", \"GRC\", \"GRC\", \"GRC\", \"GRC\", \"GRC\", \"GRC\", \"GRC\", \"GRC\", \"GRC\", \"GRC\", \"GRC\", \"GRC\", \"GRC\", \"GRC\", \"GRC\", \"GRC\", \"GRC\", \"GRC\", \"GRC\", \"GRC\", \"GRC\", \"GRC\", \"GRC\", \"GRC\", \"GRC\", \"GRC\", \"GRL\", \"GRL\", \"GRL\", \"GRL\", \"GRL\", \"GRL\", \"GRL\", \"GRL\", \"GRL\", \"GRL\", \"GRL\", \"GRL\", \"GRL\", \"GRL\", \"GRL\", \"GRL\", \"GRL\", \"GRL\", \"GRL\", \"GRL\", \"GRL\", \"GRL\", \"GRL\", \"GRL\", \"GRL\", \"GRL\", \"GRL\", \"GRL\", \"GRL\", \"GRL\", \"GRL\", \"GRL\", \"GRL\", \"GRL\", \"GTM\", \"GTM\", \"GTM\", \"GTM\", \"GTM\", \"GGY\", \"GGY\", \"GGY\", \"GGY\", \"GGY\", \"GGY\", \"GGY\", \"GGY\", \"GGY\", \"GGY\", \"GGY\", \"GGY\", \"GGY\", \"GGY\", \"GGY\", \"GGY\", \"GGY\", \"GGY\", \"GGY\", \"GGY\", \"GGY\", \"GGY\", \"GGY\", \"GGY\", \"GGY\", \"GGY\", \"GGY\", \"GGY\", \"GGY\", \"GGY\", \"GGY\", \"GGY\", \"GGY\", \"GGY\", \"GGY\", \"GGY\", \"GGY\", \"GGY\", \"GUY\", \"GUY\", \"GUY\", \"GUY\", \"GUY\", \"GUY\", \"GUY\", \"GUY\", \"GUY\", \"GUY\", \"GUY\", \"GUY\", \"HND\", \"HKG\", \"HKG\", \"HKG\", \"HKG\", \"HKG\", \"HKG\", \"HKG\", \"HKG\", \"HKG\", \"HKG\", \"HKG\", \"HUN\", \"HUN\", \"HUN\", \"HUN\", \"HUN\", \"HUN\", \"HUN\", \"HUN\", \"HUN\", \"HUN\", \"HUN\", \"HUN\", \"HUN\", \"HUN\", \"HUN\", \"HUN\", \"HUN\", \"HUN\", \"HUN\", \"HUN\", \"HUN\", \"HUN\", \"HUN\", \"HUN\", \"HUN\", \"HUN\", \"HUN\", \"HUN\", \"HUN\", \"HUN\", \"HUN\", \"HUN\", \"HUN\", \"HUN\", \"HUN\", \"HUN\", \"HUN\", \"HUN\", \"HUN\", \"HUN\", \"HUN\", \"HUN\", \"HUN\", \"HUN\", \"HUN\", \"HUN\", \"HUN\", \"HUN\", \"HUN\", \"HUN\", \"HUN\", \"HUN\", \"HUN\", \"HUN\", \"HUN\", \"HUN\", \"HUN\", \"HUN\", \"HUN\", \"HUN\", \"HUN\", \"HUN\", \"HUN\", \"HUN\", \"HUN\", \"HUN\", \"HUN\", \"HUN\", \"HUN\", \"ISL\", \"ISL\", \"ISL\", \"ISL\", \"ISL\", \"ISL\", \"ISL\", \"ISL\", \"ISL\", \"ISL\", \"ISL\", \"ISL\", \"ISL\", \"ISL\", \"ISL\", \"ISL\", \"ISL\", \"ISL\", \"ISL\", \"ISL\", \"ISL\", \"ISL\", \"ISL\", \"ISL\", \"ISL\", \"ISL\", \"ISL\", \"ISL\", \"ISL\", \"ISL\", \"ISL\", \"ISL\", \"ISL\", \"ISL\", \"ISL\", \"ISL\", \"ISL\", \"ISL\", \"ISL\", \"ISL\", \"ISL\", \"ISL\", \"ISL\", \"ISL\", \"ISL\", \"ISL\", \"ISL\", \"ISL\", \"ISL\", \"ISL\", \"ISL\", \"ISL\", \"ISL\", \"ISL\", \"ISL\", \"ISL\", \"ISL\", \"ISL\", \"ISL\", \"ISL\", \"ISL\", \"ISL\", \"ISL\", \"ISL\", \"ISL\", \"ISL\", \"IND\", \"IND\", \"IND\", \"IND\", \"IND\", \"IND\", \"IND\", \"IND\", \"IND\", \"IND\", \"IND\", \"IND\", \"IND\", \"IND\", \"IND\", \"IND\", \"IND\", \"IND\", \"IND\", \"IND\", \"IND\", \"IND\", \"IND\", \"IND\", \"IND\", \"IND\", \"IND\", \"IND\", \"IND\", \"IND\", \"IND\", \"IND\", \"IND\", \"IND\", \"IND\", \"IND\", \"IND\", \"IND\", \"IND\", \"IND\", \"IND\", \"IND\", \"IND\", \"IND\", \"IND\", \"IND\", \"IND\", \"IND\", \"IND\", \"IND\", \"IND\", \"IDN\", \"IDN\", \"IDN\", \"IDN\", \"IDN\", \"IDN\", \"IDN\", \"IDN\", \"IDN\", \"IDN\", \"IDN\", \"IDN\", \"IDN\", \"IDN\", \"IDN\", \"IDN\", \"IDN\", \"IDN\", \"IDN\", \"IDN\", \"IDN\", \"IDN\", \"IDN\", \"IDN\", \"IDN\", \"IDN\", \"IDN\", \"IDN\", \"IDN\", \"IDN\", \"IDN\", \"IDN\", \"IDN\", \"IDN\", \"IDN\", \"IDN\", \"IDN\", \"IDN\", \"IDN\", \"IDN\", \"IDN\", \"IDN\", \"IDN\", \"IDN\", \"IDN\", \"IDN\", \"IDN\", \"IDN\", \"IDN\", \"IDN\", \"IDN\", \"IDN\", \"IDN\", \"IRN\", \"IRN\", \"IRN\", \"IRN\", \"IRN\", \"IRN\", \"IRN\", \"IRN\", \"IRN\", \"IRN\", \"IRL\", \"IRL\", \"IRL\", \"IRL\", \"IRL\", \"IRL\", \"IRL\", \"IRL\", \"IRL\", \"IRL\", \"IRL\", \"IRL\", \"IRL\", \"IRL\", \"IRL\", \"IRL\", \"IRL\", \"IRL\", \"IRL\", \"IRL\", \"IRL\", \"IRL\", \"IRL\", \"IRL\", \"IRL\", \"IRL\", \"IRL\", \"IRL\", \"IRL\", \"IRL\", \"IRL\", \"IRL\", \"IRL\", \"IRL\", \"IRL\", \"IRL\", \"IRL\", \"IRL\", \"IRL\", \"IRL\", \"IRL\", \"IRL\", \"IRL\", \"IRL\", \"IRL\", \"IRL\", \"IRL\", \"IRL\", \"IRL\", \"IRL\", \"IRL\", \"IRL\", \"IRL\", \"IRL\", \"IRL\", \"IRL\", \"IRL\", \"IRL\", \"IRL\", \"IRL\", \"IRL\", \"IRL\", \"IRL\", \"IRL\", \"IMN\", \"IMN\", \"IMN\", \"IMN\", \"IMN\", \"IMN\", \"IMN\", \"IMN\", \"IMN\", \"IMN\", \"IMN\", \"IMN\", \"IMN\", \"IMN\", \"IMN\", \"IMN\", \"IMN\", \"IMN\", \"IMN\", \"IMN\", \"IMN\", \"IMN\", \"IMN\", \"IMN\", \"IMN\", \"IMN\", \"IMN\", \"IMN\", \"IMN\", \"IMN\", \"IMN\", \"IMN\", \"IMN\", \"IMN\", \"IMN\", \"IMN\", \"IMN\", \"IMN\", \"IMN\", \"IMN\", \"IMN\", \"IMN\", \"IMN\", \"IMN\", \"IMN\", \"ISR\", \"ISR\", \"ISR\", \"ISR\", \"ISR\", \"ISR\", \"ISR\", \"ISR\", \"ISR\", \"ISR\", \"ISR\", \"ISR\", \"ISR\", \"ISR\", \"ISR\", \"ISR\", \"ISR\", \"ISR\", \"ISR\", \"ISR\", \"ISR\", \"ISR\", \"ISR\", \"ISR\", \"ISR\", \"ISR\", \"ISR\", \"ISR\", \"ISR\", \"ISR\", \"ISR\", \"ISR\", \"ISR\", \"ISR\", \"ISR\", \"ISR\", \"ISR\", \"ISR\", \"ISR\", \"ISR\", \"ISR\", \"ISR\", \"ISR\", \"ISR\", \"ISR\", \"ISR\", \"ISR\", \"ISR\", \"ISR\", \"ISR\", \"ISR\", \"ISR\", \"ISR\", \"ISR\", \"ISR\", \"ISR\", \"ISR\", \"ISR\", \"ISR\", \"ISR\", \"ISR\", \"ISR\", \"ISR\", \"ISR\", \"ISR\", \"ISR\", \"ISR\", \"ISR\", \"ISR\", \"ISR\", \"ISR\", \"ISR\", \"ISR\", \"ISR\", \"ISR\", \"ISR\", \"ISR\", \"ISR\", \"ITA\", \"ITA\", \"ITA\", \"ITA\", \"ITA\", \"ITA\", \"ITA\", \"ITA\", \"ITA\", \"ITA\", \"ITA\", \"ITA\", \"ITA\", \"ITA\", \"ITA\", \"ITA\", \"ITA\", \"ITA\", \"ITA\", \"ITA\", \"ITA\", \"ITA\", \"ITA\", \"ITA\", \"ITA\", \"ITA\", \"ITA\", \"ITA\", \"ITA\", \"ITA\", \"ITA\", \"ITA\", \"ITA\", \"ITA\", \"ITA\", \"ITA\", \"ITA\", \"ITA\", \"ITA\", \"ITA\", \"ITA\", \"ITA\", \"ITA\", \"ITA\", \"ITA\", \"ITA\", \"ITA\", \"ITA\", \"ITA\", \"ITA\", \"ITA\", \"ITA\", \"ITA\", \"ITA\", \"ITA\", \"ITA\", \"ITA\", \"ITA\", \"ITA\", \"ITA\", \"ITA\", \"ITA\", \"ITA\", \"ITA\", \"ITA\", \"ITA\", \"ITA\", \"ITA\", \"ITA\", \"ITA\", \"JPN\", \"JPN\", \"JPN\", \"JPN\", \"JPN\", \"JPN\", \"JPN\", \"JPN\", \"JPN\", \"JPN\", \"JPN\", \"JPN\", \"JPN\", \"JPN\", \"JPN\", \"JPN\", \"JPN\", \"JEY\", \"JEY\", \"JEY\", \"JEY\", \"JEY\", \"JEY\", \"JEY\", \"JEY\", \"JEY\", \"JEY\", \"JEY\", \"JEY\", \"JEY\", \"JEY\", \"JEY\", \"JEY\", \"JEY\", \"JEY\", \"JEY\", \"JEY\", \"JEY\", \"JEY\", \"JEY\", \"JEY\", \"JEY\", \"JEY\", \"JEY\", \"JEY\", \"JEY\", \"JEY\", \"JEY\", \"JEY\", \"JEY\", \"JEY\", \"JEY\", \"JEY\", \"JOR\", \"JOR\", \"JOR\", \"JOR\", \"JOR\", \"JOR\", \"JOR\", \"JOR\", \"JOR\", \"JOR\", \"JOR\", \"JOR\", \"JOR\", \"JOR\", \"JOR\", \"JOR\", \"JOR\", \"JOR\", \"JOR\", \"JOR\", \"JOR\", \"JOR\", \"JOR\", \"JOR\", \"JOR\", \"JOR\", \"JOR\", \"JOR\", \"JOR\", \"JOR\", \"JOR\", \"JOR\", \"JOR\", \"JOR\", \"JOR\", \"JOR\", \"JOR\", \"JOR\", \"JOR\", \"JOR\", \"JOR\", \"JOR\", \"JOR\", \"JOR\", \"JOR\", \"KAZ\", \"KAZ\", \"KAZ\", \"KAZ\", \"KAZ\", \"KAZ\", \"KAZ\", \"KAZ\", \"KAZ\", \"KAZ\", \"KAZ\", \"KAZ\", \"KAZ\", \"KAZ\", \"KAZ\", \"KAZ\", \"KAZ\", \"KAZ\", \"KAZ\", \"KAZ\", \"KAZ\", \"KAZ\", \"KAZ\", \"KAZ\", \"KAZ\", \"KWT\", \"KWT\", \"KWT\", \"KWT\", \"KWT\", \"KWT\", \"KWT\", \"KWT\", \"KWT\", \"KWT\", \"KWT\", \"KWT\", \"KWT\", \"KWT\", \"KWT\", \"KWT\", \"KWT\", \"KWT\", \"KWT\", \"KWT\", \"KWT\", \"KWT\", \"KWT\", \"KWT\", \"KWT\", \"KWT\", \"KWT\", \"KWT\", \"KWT\", \"KWT\", \"KWT\", \"KWT\", \"KWT\", \"KWT\", \"KWT\", \"KWT\", \"KWT\", \"KWT\", \"KWT\", \"KWT\", \"KWT\", \"KWT\", \"KWT\", \"KWT\", \"KWT\", \"KWT\", \"KWT\", \"KWT\", \"KWT\", \"KWT\", \"LVA\", \"LVA\", \"LVA\", \"LVA\", \"LVA\", \"LVA\", \"LVA\", \"LVA\", \"LVA\", \"LVA\", \"LVA\", \"LVA\", \"LVA\", \"LVA\", \"LVA\", \"LVA\", \"LVA\", \"LVA\", \"LVA\", \"LVA\", \"LVA\", \"LVA\", \"LVA\", \"LVA\", \"LVA\", \"LVA\", \"LVA\", \"LVA\", \"LVA\", \"LVA\", \"LVA\", \"LVA\", \"LVA\", \"LVA\", \"LVA\", \"LVA\", \"LVA\", \"LVA\", \"LVA\", \"LVA\", \"LVA\", \"LVA\", \"LVA\", \"LVA\", \"LVA\", \"LVA\", \"LVA\", \"LVA\", \"LVA\", \"LVA\", \"LVA\", \"LVA\", \"LVA\", \"LVA\", \"LVA\", \"LVA\", \"LVA\", \"LVA\", \"LVA\", \"LVA\", \"LVA\", \"LVA\", \"LVA\", \"LVA\", \"LVA\", \"LBN\", \"LBN\", \"LBN\", \"LBN\", \"LBN\", \"LBN\", \"LBN\", \"LBN\", \"LBN\", \"LBN\", \"LBN\", \"LBN\", \"LBN\", \"LBN\", \"LBN\", \"LBN\", \"LBN\", \"LBN\", \"LBN\", \"LBN\", \"LBN\", \"LBN\", \"LIE\", \"LIE\", \"LIE\", \"LIE\", \"LIE\", \"LIE\", \"LIE\", \"LIE\", \"LIE\", \"LIE\", \"LIE\", \"LIE\", \"LIE\", \"LIE\", \"LIE\", \"LIE\", \"LIE\", \"LIE\", \"LIE\", \"LIE\", \"LIE\", \"LIE\", \"LIE\", \"LIE\", \"LIE\", \"LIE\", \"LIE\", \"LIE\", \"LIE\", \"LTU\", \"LTU\", \"LTU\", \"LTU\", \"LTU\", \"LTU\", \"LTU\", \"LTU\", \"LTU\", \"LTU\", \"LTU\", \"LTU\", \"LTU\", \"LTU\", \"LTU\", \"LTU\", \"LTU\", \"LTU\", \"LTU\", \"LTU\", \"LTU\", \"LTU\", \"LTU\", \"LTU\", \"LTU\", \"LTU\", \"LTU\", \"LTU\", \"LTU\", \"LTU\", \"LTU\", \"LTU\", \"LTU\", \"LTU\", \"LTU\", \"LTU\", \"LTU\", \"LTU\", \"LTU\", \"LTU\", \"LTU\", \"LTU\", \"LTU\", \"LTU\", \"LTU\", \"LTU\", \"LTU\", \"LTU\", \"LTU\", \"LTU\", \"LTU\", \"LTU\", \"LTU\", \"LTU\", \"LTU\", \"LTU\", \"LTU\", \"LTU\", \"LTU\", \"LTU\", \"LTU\", \"LTU\", \"LTU\", \"LTU\", \"LTU\", \"LTU\", \"LTU\", \"LTU\", \"LTU\", \"LTU\", \"LUX\", \"LUX\", \"LUX\", \"LUX\", \"LUX\", \"LUX\", \"LUX\", \"LUX\", \"LUX\", \"LUX\", \"LUX\", \"LUX\", \"LUX\", \"LUX\", \"LUX\", \"LUX\", \"LUX\", \"LUX\", \"LUX\", \"LUX\", \"LUX\", \"LUX\", \"LUX\", \"LUX\", \"LUX\", \"LUX\", \"LUX\", \"LUX\", \"LUX\", \"LUX\", \"LUX\", \"LUX\", \"LUX\", \"LUX\", \"LUX\", \"LUX\", \"LUX\", \"LUX\", \"LUX\", \"LUX\", \"LUX\", \"LUX\", \"LUX\", \"LUX\", \"LUX\", \"LUX\", \"LUX\", \"LUX\", \"LUX\", \"LUX\", \"LUX\", \"LUX\", \"LUX\", \"LUX\", \"LUX\", \"LUX\", \"LUX\", \"LUX\", \"LUX\", \"LUX\", \"LUX\", \"LUX\", \"LUX\", \"LUX\", \"LUX\", \"MAC\", \"MAC\", \"MAC\", \"MAC\", \"MAC\", \"MAC\", \"MAC\", \"MAC\", \"MAC\", \"MAC\", \"MAC\", \"MYS\", \"MYS\", \"MYS\", \"MYS\", \"MYS\", \"MYS\", \"MYS\", \"MYS\", \"MYS\", \"MYS\", \"MYS\", \"MDV\", \"MDV\", \"MDV\", \"MDV\", \"MDV\", \"MDV\", \"MDV\", \"MDV\", \"MDV\", \"MDV\", \"MDV\", \"MDV\", \"MDV\", \"MDV\", \"MDV\", \"MDV\", \"MDV\", \"MDV\", \"MDV\", \"MDV\", \"MDV\", \"MDV\", \"MDV\", \"MDV\", \"MDV\", \"MDV\", \"MDV\", \"MDV\", \"MDV\", \"MDV\", \"MDV\", \"MDV\", \"MDV\", \"MLT\", \"MLT\", \"MLT\", \"MLT\", \"MLT\", \"MLT\", \"MLT\", \"MLT\", \"MLT\", \"MLT\", \"MLT\", \"MLT\", \"MLT\", \"MLT\", \"MLT\", \"MLT\", \"MLT\", \"MLT\", \"MLT\", \"MLT\", \"MLT\", \"MLT\", \"MLT\", \"MLT\", \"MLT\", \"MLT\", \"MLT\", \"MLT\", \"MLT\", \"MLT\", \"MLT\", \"MLT\", \"MLT\", \"MLT\", \"MLT\", \"MLT\", \"MLT\", \"MLT\", \"MLT\", \"MLT\", \"MLT\", \"MLT\", \"MLT\", \"MLT\", \"MLT\", \"MLT\", \"MLT\", \"MLT\", \"MUS\", \"MUS\", \"MUS\", \"MUS\", \"MUS\", \"MUS\", \"MUS\", \"MUS\", \"MUS\", \"MUS\", \"MUS\", \"MUS\", \"MUS\", \"MUS\", \"MUS\", \"MUS\", \"MUS\", \"MUS\", \"MUS\", \"MUS\", \"MUS\", \"MUS\", \"MUS\", \"MUS\", \"MEX\", \"MEX\", \"MEX\", \"MEX\", \"MEX\", \"MEX\", \"MEX\", \"MEX\", \"MEX\", \"MEX\", \"MEX\", \"MEX\", \"MEX\", \"MEX\", \"MEX\", \"MEX\", \"MEX\", \"MEX\", \"MEX\", \"MEX\", \"MEX\", \"MEX\", \"MEX\", \"MEX\", \"MEX\", \"MEX\", \"MEX\", \"MEX\", \"MEX\", \"MEX\", \"MEX\", \"MEX\", \"MEX\", \"MEX\", \"MEX\", \"MEX\", \"MEX\", \"MEX\", \"MEX\", \"MEX\", \"MEX\", \"MEX\", \"MEX\", \"MEX\", \"MEX\", \"MEX\", \"MEX\", \"MEX\", \"MEX\", \"MEX\", \"MEX\", \"MEX\", \"MEX\", \"MEX\", \"MEX\", \"MEX\", \"MEX\", \"MEX\", \"MEX\", \"MEX\", \"MEX\", \"MEX\", \"MEX\", \"MEX\", \"MEX\", \"MEX\", \"MEX\", \"MEX\", \"MEX\", \"MEX\", \"MEX\", \"MEX\", \"MEX\", \"MCO\", \"MCO\", \"MCO\", \"MCO\", \"MCO\", \"MCO\", \"MCO\", \"MCO\", \"MCO\", \"MCO\", \"MCO\", \"MCO\", \"MCO\", \"MCO\", \"MCO\", \"MCO\", \"MCO\", \"MCO\", \"MCO\", \"MCO\", \"MNG\", \"MNG\", \"MNG\", \"MNG\", \"MNG\", \"MNE\", \"MNE\", \"MNE\", \"MNE\", \"MNE\", \"MNE\", \"MNE\", \"MNE\", \"MNE\", \"MNE\", \"MNE\", \"MNE\", \"MNE\", \"MNE\", \"MSR\", \"MSR\", \"MSR\", \"MSR\", \"MSR\", \"MSR\", \"MSR\", \"MSR\", \"MSR\", \"MSR\", \"MSR\", \"MSR\", \"MSR\", \"MSR\", \"MSR\", \"MSR\", \"MAR\", \"MAR\", \"MAR\", \"MAR\", \"MAR\", \"MAR\", \"MAR\", \"MAR\", \"MAR\", \"MAR\", \"MAR\", \"MAR\", \"MAR\", \"MAR\", \"MAR\", \"MAR\", \"MAR\", \"MAR\", \"MAR\", \"MAR\", \"MAR\", \"MAR\", \"MAR\", \"MAR\", \"MAR\", \"MAR\", \"MAR\", \"MAR\", \"MAR\", \"MAR\", \"MAR\", \"MAR\", \"MAR\", \"MAR\", \"MAR\", \"MAR\", \"MAR\", \"MAR\", \"MMR\", \"MMR\", \"MMR\", \"MMR\", \"MMR\", \"MMR\", \"MMR\", \"MMR\", \"NPL\", \"NPL\", \"NPL\", \"NPL\", \"NPL\", \"NPL\", \"NPL\", \"NPL\", \"NPL\", \"NPL\", \"NPL\", \"NPL\", \"NPL\", \"NPL\", \"NPL\", \"NPL\", \"NPL\", \"NPL\", \"NPL\", \"NPL\", \"NPL\", \"NPL\", \"NPL\", \"NPL\", \"NPL\", \"NPL\", \"NLD\", \"NLD\", \"NLD\", \"NLD\", \"NLD\", \"NLD\", \"NLD\", \"NLD\", \"NLD\", \"NLD\", \"NLD\", \"NLD\", \"NLD\", \"NLD\", \"NLD\", \"NLD\", \"NLD\", \"NLD\", \"NLD\", \"NLD\", \"NLD\", \"NLD\", \"NLD\", \"NLD\", \"NLD\", \"NLD\", \"NLD\", \"NLD\", \"NLD\", \"NLD\", \"NLD\", \"NLD\", \"NLD\", \"NLD\", \"NLD\", \"NLD\", \"NLD\", \"NLD\", \"NLD\", \"NLD\", \"NLD\", \"NLD\", \"NLD\", \"NZL\", \"NZL\", \"NZL\", \"NZL\", \"NZL\", \"NZL\", \"NZL\", \"NZL\", \"NZL\", \"NZL\", \"NZL\", \"NZL\", \"NZL\", \"NZL\", \"OWID_NCY\", \"OWID_NCY\", \"OWID_NCY\", \"OWID_NCY\", \"OWID_NCY\", \"OWID_NCY\", \"OWID_NCY\", \"OWID_NCY\", \"OWID_NCY\", \"NOR\", \"NOR\", \"NOR\", \"NOR\", \"NOR\", \"NOR\", \"NOR\", \"NOR\", \"NOR\", \"NOR\", \"NOR\", \"NOR\", \"NOR\", \"NOR\", \"NOR\", \"NOR\", \"NOR\", \"NOR\", \"NOR\", \"NOR\", \"NOR\", \"NOR\", \"NOR\", \"NOR\", \"NOR\", \"NOR\", \"NOR\", \"NOR\", \"NOR\", \"NOR\", \"NOR\", \"NOR\", \"NOR\", \"NOR\", \"NOR\", \"NOR\", \"NOR\", \"NOR\", \"NOR\", \"NOR\", \"NOR\", \"NOR\", \"NOR\", \"NOR\", \"NOR\", \"NOR\", \"NOR\", \"NOR\", \"NOR\", \"NOR\", \"NOR\", \"NOR\", \"NOR\", \"NOR\", \"NOR\", \"NOR\", \"NOR\", \"NOR\", \"NOR\", \"NOR\", \"NOR\", \"NOR\", \"NOR\", \"NOR\", \"NOR\", \"NOR\", \"NOR\", \"NOR\", \"OMN\", \"OMN\", \"OMN\", \"OMN\", \"OMN\", \"OMN\", \"OMN\", \"OMN\", \"OMN\", \"OMN\", \"OMN\", \"OMN\", \"OMN\", \"OMN\", \"OMN\", \"OMN\", \"OMN\", \"OMN\", \"OMN\", \"OMN\", \"OMN\", \"OMN\", \"OMN\", \"OMN\", \"OMN\", \"OMN\", \"OMN\", \"OMN\", \"OMN\", \"OMN\", \"OMN\", \"OMN\", \"OMN\", \"OMN\", \"OMN\", \"OMN\", \"OMN\", \"OMN\", \"OMN\", \"OMN\", \"OMN\", \"OMN\", \"OMN\", \"OMN\", \"OMN\", \"OMN\", \"OMN\", \"OMN\", \"OMN\", \"OMN\", \"OMN\", \"OMN\", \"OMN\", \"OMN\", \"OMN\", \"OMN\", \"OMN\", \"OMN\", \"PAK\", \"PAK\", \"PAK\", \"PAK\", \"PAK\", \"PAK\", \"PAK\", \"PAK\", \"PAK\", \"PAK\", \"PAK\", \"PAK\", \"PAK\", \"PAK\", \"PAK\", \"PAK\", \"PAK\", \"PAK\", \"PAK\", \"PAK\", \"PAN\", \"PAN\", \"PAN\", \"PAN\", \"PAN\", \"PAN\", \"PAN\", \"PAN\", \"PAN\", \"PAN\", \"PAN\", \"PAN\", \"PAN\", \"PAN\", \"PAN\", \"PAN\", \"PAN\", \"PAN\", \"PAN\", \"PAN\", \"PAN\", \"PAN\", \"PAN\", \"PAN\", \"PAN\", \"PAN\", \"PAN\", \"PAN\", \"PAN\", \"PAN\", \"PAN\", \"PAN\", \"PAN\", \"PAN\", \"PAN\", \"PAN\", \"PAN\", \"PAN\", \"PAN\", \"PAN\", \"PAN\", \"PAN\", \"PAN\", \"PAN\", \"PAN\", \"PAN\", \"PAN\", \"PRY\", \"PRY\", \"PRY\", \"PRY\", \"PRY\", \"PER\", \"PER\", \"PER\", \"PER\", \"PER\", \"PER\", \"PER\", \"PER\", \"PER\", \"PER\", \"PER\", \"PER\", \"PER\", \"PER\", \"PER\", \"PER\", \"PER\", \"PER\", \"PER\", \"PER\", \"PER\", \"PER\", \"PER\", \"PER\", \"PER\", \"PHL\", \"PHL\", \"PHL\", \"POL\", \"POL\", \"POL\", \"POL\", \"POL\", \"POL\", \"POL\", \"POL\", \"POL\", \"POL\", \"POL\", \"POL\", \"POL\", \"POL\", \"POL\", \"POL\", \"POL\", \"POL\", \"POL\", \"POL\", \"POL\", \"POL\", \"POL\", \"POL\", \"POL\", \"POL\", \"POL\", \"POL\", \"POL\", \"POL\", \"POL\", \"POL\", \"POL\", \"POL\", \"POL\", \"POL\", \"POL\", \"POL\", \"POL\", \"POL\", \"POL\", \"POL\", \"POL\", \"POL\", \"POL\", \"POL\", \"POL\", \"POL\", \"POL\", \"POL\", \"POL\", \"POL\", \"POL\", \"POL\", \"POL\", \"POL\", \"POL\", \"POL\", \"POL\", \"POL\", \"POL\", \"POL\", \"POL\", \"POL\", \"POL\", \"POL\", \"POL\", \"POL\", \"POL\", \"PRT\", \"PRT\", \"PRT\", \"PRT\", \"PRT\", \"PRT\", \"PRT\", \"PRT\", \"PRT\", \"PRT\", \"PRT\", \"PRT\", \"PRT\", \"PRT\", \"PRT\", \"PRT\", \"PRT\", \"PRT\", \"PRT\", \"PRT\", \"PRT\", \"PRT\", \"PRT\", \"PRT\", \"PRT\", \"PRT\", \"PRT\", \"PRT\", \"PRT\", \"PRT\", \"PRT\", \"PRT\", \"PRT\", \"PRT\", \"PRT\", \"PRT\", \"PRT\", \"PRT\", \"PRT\", \"PRT\", \"PRT\", \"PRT\", \"PRT\", \"PRT\", \"PRT\", \"PRT\", \"PRT\", \"PRT\", \"PRT\", \"PRT\", \"PRT\", \"PRT\", \"PRT\", \"PRT\", \"PRT\", \"PRT\", \"PRT\", \"PRT\", \"PRT\", \"PRT\", \"PRT\", \"PRT\", \"PRT\", \"PRT\", \"PRT\", \"PRT\", \"PRT\", \"PRT\", \"PRT\", \"PRT\", \"QAT\", \"QAT\", \"QAT\", \"QAT\", \"QAT\", \"QAT\", \"QAT\", \"QAT\", \"QAT\", \"QAT\", \"QAT\", \"QAT\", \"QAT\", \"QAT\", \"QAT\", \"QAT\", \"QAT\", \"QAT\", \"QAT\", \"QAT\", \"QAT\", \"QAT\", \"QAT\", \"QAT\", \"QAT\", \"QAT\", \"QAT\", \"QAT\", \"QAT\", \"QAT\", \"QAT\", \"QAT\", \"QAT\", \"QAT\", \"QAT\", \"QAT\", \"QAT\", \"QAT\", \"QAT\", \"QAT\", \"QAT\", \"QAT\", \"QAT\", \"QAT\", \"QAT\", \"QAT\", \"QAT\", \"QAT\", \"QAT\", \"QAT\", \"QAT\", \"QAT\", \"QAT\", \"QAT\", \"QAT\", \"QAT\", \"QAT\", \"QAT\", \"QAT\", \"ROU\", \"ROU\", \"ROU\", \"ROU\", \"ROU\", \"ROU\", \"ROU\", \"ROU\", \"ROU\", \"ROU\", \"ROU\", \"ROU\", \"ROU\", \"ROU\", \"ROU\", \"ROU\", \"ROU\", \"ROU\", \"ROU\", \"ROU\", \"ROU\", \"ROU\", \"ROU\", \"ROU\", \"ROU\", \"ROU\", \"ROU\", \"ROU\", \"ROU\", \"ROU\", \"ROU\", \"ROU\", \"ROU\", \"ROU\", \"ROU\", \"ROU\", \"ROU\", \"ROU\", \"ROU\", \"ROU\", \"ROU\", \"ROU\", \"ROU\", \"ROU\", \"ROU\", \"ROU\", \"ROU\", \"ROU\", \"ROU\", \"ROU\", \"ROU\", \"ROU\", \"ROU\", \"ROU\", \"ROU\", \"ROU\", \"ROU\", \"ROU\", \"ROU\", \"ROU\", \"ROU\", \"ROU\", \"ROU\", \"ROU\", \"ROU\", \"ROU\", \"ROU\", \"ROU\", \"ROU\", \"RUS\", \"RUS\", \"RUS\", \"RUS\", \"RUS\", \"RUS\", \"RUS\", \"RUS\", \"RUS\", \"RUS\", \"RUS\", \"RUS\", \"RUS\", \"RUS\", \"RUS\", \"RUS\", \"RUS\", \"RUS\", \"RUS\", \"RUS\", \"RUS\", \"RUS\", \"RUS\", \"RUS\", \"RUS\", \"RUS\", \"RUS\", \"RUS\", \"RUS\", \"RUS\", \"RUS\", \"RUS\", \"RUS\", \"RUS\", \"RUS\", \"RUS\", \"RUS\", \"RUS\", \"RUS\", \"RUS\", \"RUS\", \"RUS\", \"RUS\", \"RUS\", \"RUS\", \"RUS\", \"RUS\", \"RUS\", \"RUS\", \"RUS\", \"RUS\", \"RUS\", \"RUS\", \"RUS\", \"RUS\", \"RUS\", \"RUS\", \"RUS\", \"RUS\", \"RUS\", \"RUS\", \"RUS\", \"RUS\", \"RUS\", \"RUS\", \"RUS\", \"RUS\", \"RUS\", \"RUS\", \"RUS\", \"RUS\", \"RUS\", \"RUS\", \"RUS\", \"RUS\", \"RUS\", \"RUS\", \"RUS\", \"RUS\", \"RUS\", \"RUS\", \"RUS\", \"RWA\", \"RWA\", \"RWA\", \"RWA\", \"RWA\", \"RWA\", \"RWA\", \"RWA\", \"RWA\", \"RWA\", \"RWA\", \"RWA\", \"RWA\", \"RWA\", \"RWA\", \"RWA\", \"RWA\", \"RWA\", \"RWA\", \"RWA\", \"SHN\", \"SMR\", \"SMR\", \"SMR\", \"SMR\", \"SMR\", \"SMR\", \"SMR\", \"SAU\", \"SAU\", \"SAU\", \"SAU\", \"SAU\", \"SAU\", \"SAU\", \"SAU\", \"SAU\", \"SAU\", \"SAU\", \"SAU\", \"SAU\", \"SAU\", \"SAU\", \"SAU\", \"SAU\", \"SAU\", \"SAU\", \"SAU\", \"SAU\", \"SAU\", \"SAU\", \"SAU\", \"SAU\", \"SAU\", \"SAU\", \"SAU\", \"SAU\", \"SAU\", \"SAU\", \"SAU\", \"SAU\", \"SAU\", \"SAU\", \"SAU\", \"SAU\", \"SAU\", \"SAU\", \"SAU\", \"SAU\", \"SAU\", \"SAU\", \"SAU\", \"SAU\", \"SAU\", \"SAU\", \"SAU\", \"SAU\", \"SAU\", \"SAU\", \"SAU\", \"SAU\", \"SAU\", \"SAU\", \"SAU\", \"SAU\", \"SAU\", \"SAU\", \"SEN\", \"SEN\", \"SEN\", \"SEN\", \"SEN\", \"SEN\", \"SEN\", \"SEN\", \"SEN\", \"SEN\", \"SEN\", \"SEN\", \"SEN\", \"SRB\", \"SRB\", \"SRB\", \"SRB\", \"SRB\", \"SRB\", \"SRB\", \"SRB\", \"SRB\", \"SRB\", \"SRB\", \"SRB\", \"SRB\", \"SRB\", \"SRB\", \"SRB\", \"SRB\", \"SRB\", \"SRB\", \"SRB\", \"SRB\", \"SRB\", \"SRB\", \"SRB\", \"SRB\", \"SRB\", \"SRB\", \"SRB\", \"SRB\", \"SRB\", \"SRB\", \"SRB\", \"SRB\", \"SRB\", \"SRB\", \"SRB\", \"SRB\", \"SRB\", \"SRB\", \"SRB\", \"SRB\", \"SRB\", \"SRB\", \"SRB\", \"SRB\", \"SRB\", \"SRB\", \"SRB\", \"SRB\", \"SRB\", \"SRB\", \"SRB\", \"SRB\", \"SRB\", \"SRB\", \"SRB\", \"SRB\", \"SRB\", \"SYC\", \"SYC\", \"SYC\", \"SYC\", \"SYC\", \"SYC\", \"SYC\", \"SYC\", \"SYC\", \"SYC\", \"SYC\", \"SYC\", \"SYC\", \"SYC\", \"SYC\", \"SYC\", \"SYC\", \"SYC\", \"SYC\", \"SYC\", \"SYC\", \"SYC\", \"SYC\", \"SYC\", \"SYC\", \"SYC\", \"SYC\", \"SYC\", \"SYC\", \"SYC\", \"SYC\", \"SYC\", \"SYC\", \"SYC\", \"SYC\", \"SYC\", \"SYC\", \"SYC\", \"SYC\", \"SYC\", \"SYC\", \"SYC\", \"SYC\", \"SYC\", \"SYC\", \"SYC\", \"SYC\", \"SYC\", \"SYC\", \"SYC\", \"SYC\", \"SYC\", \"SYC\", \"SYC\", \"SYC\", \"SYC\", \"SGP\", \"SGP\", \"SGP\", \"SGP\", \"SGP\", \"SGP\", \"SGP\", \"SGP\", \"SGP\", \"SGP\", \"SGP\", \"SGP\", \"SGP\", \"SGP\", \"SGP\", \"SGP\", \"SGP\", \"SGP\", \"SGP\", \"SGP\", \"SGP\", \"SGP\", \"SGP\", \"SGP\", \"SGP\", \"SGP\", \"SGP\", \"SGP\", \"SGP\", \"SGP\", \"SGP\", \"SGP\", \"SGP\", \"SGP\", \"SGP\", \"SGP\", \"SGP\", \"SGP\", \"SGP\", \"SGP\", \"SGP\", \"SGP\", \"SGP\", \"SGP\", \"SGP\", \"SGP\", \"SGP\", \"SGP\", \"SGP\", \"SGP\", \"SGP\", \"SGP\", \"SGP\", \"SVK\", \"SVK\", \"SVK\", \"SVK\", \"SVK\", \"SVK\", \"SVK\", \"SVK\", \"SVK\", \"SVK\", \"SVK\", \"SVK\", \"SVK\", \"SVK\", \"SVK\", \"SVK\", \"SVK\", \"SVK\", \"SVK\", \"SVK\", \"SVK\", \"SVK\", \"SVK\", \"SVK\", \"SVK\", \"SVK\", \"SVK\", \"SVK\", \"SVK\", \"SVK\", \"SVK\", \"SVK\", \"SVK\", \"SVK\", \"SVK\", \"SVK\", \"SVK\", \"SVK\", \"SVK\", \"SVK\", \"SVK\", \"SVK\", \"SVK\", \"SVK\", \"SVK\", \"SVK\", \"SVK\", \"SVK\", \"SVK\", \"SVK\", \"SVK\", \"SVK\", \"SVK\", \"SVK\", \"SVK\", \"SVK\", \"SVK\", \"SVK\", \"SVK\", \"SVK\", \"SVK\", \"SVK\", \"SVN\", \"SVN\", \"SVN\", \"SVN\", \"SVN\", \"SVN\", \"SVN\", \"SVN\", \"SVN\", \"SVN\", \"SVN\", \"SVN\", \"SVN\", \"SVN\", \"SVN\", \"SVN\", \"SVN\", \"SVN\", \"SVN\", \"SVN\", \"SVN\", \"SVN\", \"SVN\", \"SVN\", \"SVN\", \"SVN\", \"SVN\", \"SVN\", \"SVN\", \"SVN\", \"SVN\", \"SVN\", \"SVN\", \"SVN\", \"SVN\", \"SVN\", \"SVN\", \"SVN\", \"SVN\", \"SVN\", \"SVN\", \"SVN\", \"SVN\", \"SVN\", \"SVN\", \"SVN\", \"SVN\", \"SVN\", \"SVN\", \"SVN\", \"SVN\", \"SVN\", \"SVN\", \"SVN\", \"SVN\", \"SVN\", \"SVN\", \"SVN\", \"SVN\", \"SVN\", \"SVN\", \"SVN\", \"SVN\", \"SVN\", \"SVN\", \"SVN\", \"SVN\", \"SVN\", \"SVN\", \"ZAF\", \"ZAF\", \"ZAF\", \"ZAF\", \"ZAF\", \"ZAF\", \"ZAF\", \"ZAF\", \"ZAF\", \"ZAF\", \"ZAF\", \"ZAF\", \"ZAF\", \"KOR\", \"KOR\", \"KOR\", \"KOR\", \"KOR\", \"KOR\", \"KOR\", \"KOR\", \"KOR\", \"KOR\", \"ESP\", \"ESP\", \"ESP\", \"ESP\", \"ESP\", \"ESP\", \"ESP\", \"ESP\", \"ESP\", \"ESP\", \"ESP\", \"ESP\", \"ESP\", \"ESP\", \"ESP\", \"ESP\", \"ESP\", \"ESP\", \"ESP\", \"ESP\", \"ESP\", \"ESP\", \"ESP\", \"ESP\", \"ESP\", \"ESP\", \"ESP\", \"ESP\", \"ESP\", \"ESP\", \"ESP\", \"ESP\", \"ESP\", \"ESP\", \"ESP\", \"ESP\", \"ESP\", \"ESP\", \"ESP\", \"ESP\", \"ESP\", \"ESP\", \"ESP\", \"ESP\", \"ESP\", \"ESP\", \"ESP\", \"ESP\", \"ESP\", \"ESP\", \"ESP\", \"ESP\", \"ESP\", \"ESP\", \"ESP\", \"ESP\", \"ESP\", \"ESP\", \"ESP\", \"ESP\", \"LKA\", \"LKA\", \"LKA\", \"LKA\", \"LKA\", \"LKA\", \"LKA\", \"LKA\", \"LKA\", \"LKA\", \"LKA\", \"LKA\", \"LKA\", \"LKA\", \"LKA\", \"LKA\", \"LKA\", \"LKA\", \"LKA\", \"LKA\", \"LKA\", \"LKA\", \"LKA\", \"LKA\", \"LKA\", \"LKA\", \"LKA\", \"LKA\", \"LKA\", \"LKA\", \"LKA\", \"LKA\", \"LKA\", \"LKA\", \"LKA\", \"LKA\", \"LKA\", \"LKA\", \"SWE\", \"SWE\", \"SWE\", \"SWE\", \"SWE\", \"SWE\", \"SWE\", \"SWE\", \"SWE\", \"SWE\", \"SWE\", \"SWE\", \"SWE\", \"SWE\", \"SWE\", \"SWE\", \"SWE\", \"SWE\", \"SWE\", \"SWE\", \"SWE\", \"SWE\", \"SWE\", \"SWE\", \"SWE\", \"SWE\", \"SWE\", \"SWE\", \"SWE\", \"SWE\", \"SWE\", \"SWE\", \"SWE\", \"SWE\", \"SWE\", \"SWE\", \"SWE\", \"SWE\", \"SWE\", \"SWE\", \"SWE\", \"SWE\", \"SWE\", \"SWE\", \"SWE\", \"SWE\", \"SWE\", \"SWE\", \"SWE\", \"SWE\", \"SWE\", \"SWE\", \"SWE\", \"SWE\", \"SWE\", \"SWE\", \"SWE\", \"SWE\", \"SWE\", \"SWE\", \"SWE\", \"SWE\", \"SWE\", \"SWE\", \"SWE\", \"SWE\", \"SWE\", \"SWE\", \"SWE\", \"CHE\", \"CHE\", \"CHE\", \"CHE\", \"CHE\", \"CHE\", \"CHE\", \"CHE\", \"CHE\", \"CHE\", \"CHE\", \"CHE\", \"CHE\", \"CHE\", \"CHE\", \"CHE\", \"CHE\", \"CHE\", \"CHE\", \"CHE\", \"CHE\", \"CHE\", \"CHE\", \"CHE\", \"CHE\", \"CHE\", \"CHE\", \"CHE\", \"CHE\", \"CHE\", \"CHE\", \"CHE\", \"CHE\", \"CHE\", \"CHE\", \"CHE\", \"CHE\", \"CHE\", \"CHE\", \"THA\", \"THA\", \"THA\", \"THA\", \"TTO\", \"TTO\", \"TTO\", \"TTO\", \"TTO\", \"TTO\", \"TTO\", \"TTO\", \"TUR\", \"TUR\", \"TUR\", \"TUR\", \"TUR\", \"TUR\", \"TUR\", \"TUR\", \"TUR\", \"TUR\", \"TUR\", \"TUR\", \"TUR\", \"TUR\", \"TUR\", \"TUR\", \"TUR\", \"TUR\", \"TUR\", \"TUR\", \"TUR\", \"TUR\", \"TUR\", \"TUR\", \"TUR\", \"TUR\", \"TUR\", \"TUR\", \"TUR\", \"TUR\", \"TUR\", \"TUR\", \"TUR\", \"TUR\", \"TUR\", \"TUR\", \"TUR\", \"TUR\", \"TUR\", \"TUR\", \"TUR\", \"TUR\", \"TUR\", \"TUR\", \"TUR\", \"TUR\", \"TUR\", \"TUR\", \"TUR\", \"TUR\", \"TUR\", \"TUR\", \"TUR\", \"TCA\", \"TCA\", \"TCA\", \"TCA\", \"TCA\", \"TCA\", \"TCA\", \"TCA\", \"TCA\", \"TCA\", \"TCA\", \"TCA\", \"TCA\", \"TCA\", \"TCA\", \"TCA\", \"TCA\", \"TCA\", \"TCA\", \"TCA\", \"TCA\", \"TCA\", \"TCA\", \"TCA\", \"TCA\", \"TCA\", \"TCA\", \"TCA\", \"TCA\", \"TCA\", \"UKR\", \"UKR\", \"UKR\", \"UKR\", \"UKR\", \"UKR\", \"UKR\", \"UKR\", \"UKR\", \"UKR\", \"UKR\", \"ARE\", \"ARE\", \"ARE\", \"ARE\", \"ARE\", \"ARE\", \"ARE\", \"ARE\", \"ARE\", \"ARE\", \"ARE\", \"ARE\", \"ARE\", \"ARE\", \"ARE\", \"ARE\", \"ARE\", \"ARE\", \"ARE\", \"ARE\", \"ARE\", \"ARE\", \"ARE\", \"ARE\", \"ARE\", \"ARE\", \"ARE\", \"ARE\", \"ARE\", \"ARE\", \"ARE\", \"ARE\", \"ARE\", \"ARE\", \"ARE\", \"ARE\", \"ARE\", \"ARE\", \"ARE\", \"ARE\", \"ARE\", \"ARE\", \"ARE\", \"ARE\", \"ARE\", \"ARE\", \"ARE\", \"ARE\", \"ARE\", \"ARE\", \"ARE\", \"ARE\", \"ARE\", \"ARE\", \"ARE\", \"ARE\", \"ARE\", \"ARE\", \"ARE\", \"ARE\", \"ARE\", \"GBR\", \"GBR\", \"GBR\", \"GBR\", \"GBR\", \"GBR\", \"GBR\", \"GBR\", \"GBR\", \"GBR\", \"GBR\", \"GBR\", \"GBR\", \"GBR\", \"GBR\", \"GBR\", \"GBR\", \"GBR\", \"GBR\", \"GBR\", \"GBR\", \"GBR\", \"GBR\", \"GBR\", \"GBR\", \"GBR\", \"GBR\", \"GBR\", \"GBR\", \"GBR\", \"GBR\", \"GBR\", \"GBR\", \"GBR\", \"GBR\", \"GBR\", \"GBR\", \"GBR\", \"GBR\", \"GBR\", \"GBR\", \"GBR\", \"GBR\", \"GBR\", \"GBR\", \"GBR\", \"GBR\", \"GBR\", \"GBR\", \"GBR\", \"GBR\", \"GBR\", \"GBR\", \"GBR\", \"GBR\", \"GBR\", \"GBR\", \"GBR\", \"GBR\", \"GBR\", \"GBR\", \"GBR\", \"GBR\", \"GBR\", \"GBR\", \"GBR\", \"GBR\", \"GBR\", \"GBR\", \"GBR\", \"GBR\", \"GBR\", \"GBR\", \"GBR\", \"GBR\", \"GBR\", \"GBR\", \"GBR\", \"GBR\", \"GBR\", \"GBR\", \"GBR\", \"GBR\", \"USA\", \"USA\", \"USA\", \"USA\", \"USA\", \"USA\", \"USA\", \"USA\", \"USA\", \"USA\", \"USA\", \"USA\", \"USA\", \"USA\", \"USA\", \"USA\", \"USA\", \"USA\", \"USA\", \"USA\", \"USA\", \"USA\", \"USA\", \"USA\", \"USA\", \"USA\", \"USA\", \"USA\", \"USA\", \"USA\", \"USA\", \"USA\", \"USA\", \"USA\", \"USA\", \"USA\", \"USA\", \"USA\", \"USA\", \"USA\", \"USA\", \"USA\", \"USA\", \"USA\", \"USA\", \"USA\", \"USA\", \"USA\", \"USA\", \"USA\", \"USA\", \"USA\", \"USA\", \"USA\", \"USA\", \"USA\", \"USA\", \"USA\", \"USA\", \"USA\", \"USA\", \"USA\", \"USA\", \"USA\", \"USA\", \"USA\", \"USA\", \"USA\", \"USA\", \"USA\", \"USA\", \"USA\", \"USA\", \"USA\", \"USA\", \"USA\", \"USA\", \"URY\", \"URY\", \"URY\", \"URY\", \"URY\", \"URY\", \"URY\", \"VEN\", \"VEN\", \"VEN\", \"VEN\", \"VEN\", \"VEN\", \"VEN\", \"VEN\", \"VEN\", \"VEN\", \"VEN\", \"VEN\", \"VEN\", \"VEN\", \"VEN\", \"VEN\", \"ZWE\", \"ZWE\", \"ZWE\", \"ZWE\", \"ZWE\", \"ZWE\", \"ZWE\", \"ZWE\", \"ZWE\", \"ZWE\", \"ZWE\", \"ZWE\", \"ZWE\", \"ZWE\", \"ZWE\", \"ZWE\", \"ZWE\"], \"name\": \"\", \"type\": \"choropleth\", \"z\": [\"Pfizer/BioNTech\", \"Pfizer/BioNTech\", \"Pfizer/BioNTech\", \"Pfizer/BioNTech\", \"Pfizer/BioNTech\", \"Pfizer/BioNTech\", \"Pfizer/BioNTech\", \"Pfizer/BioNTech\", \"Pfizer/BioNTech\", \"Pfizer/BioNTech\", \"Pfizer/BioNTech\", \"Pfizer/BioNTech\", \"Pfizer/BioNTech\", \"Pfizer/BioNTech\", \"Pfizer/BioNTech\", \"Pfizer/BioNTech\", \"Pfizer/BioNTech\", \"Pfizer/BioNTech\", \"Pfizer/BioNTech\", \"Pfizer/BioNTech\", \"Pfizer/BioNTech\", \"Pfizer/BioNTech\", \"Pfizer/BioNTech\", \"Pfizer/BioNTech\", \"Pfizer/BioNTech\", \"Pfizer/BioNTech\", \"Pfizer/BioNTech\", \"Pfizer/BioNTech\", \"Pfizer/BioNTech\", \"Pfizer/BioNTech\", \"Pfizer/BioNTech\", \"Pfizer/BioNTech\", \"Pfizer/BioNTech\", \"Pfizer/BioNTech\", \"Pfizer/BioNTech\", \"Pfizer/BioNTech\", \"Pfizer/BioNTech\", \"Pfizer/BioNTech\", \"Pfizer/BioNTech\", \"Pfizer/BioNTech\", \"Pfizer/BioNTech\", \"Pfizer/BioNTech\", \"Pfizer/BioNTech\", \"Pfizer/BioNTech\", \"Pfizer/BioNTech\", \"Pfizer/BioNTech\", \"Pfizer/BioNTech\", \"Pfizer/BioNTech\", \"Pfizer/BioNTech\", \"Pfizer/BioNTech\", \"Pfizer/BioNTech\", \"Pfizer/BioNTech\", \"Pfizer/BioNTech\", \"Sputnik V\", \"Sputnik V\", \"Sputnik V\", \"Sputnik V\", \"Sputnik V\", \"Sputnik V\", \"Sputnik V\", \"Sputnik V\", \"Sputnik V\", \"Sputnik V\", \"Sputnik V\", \"Sputnik V\", \"Sputnik V\", \"Sputnik V\", \"Sputnik V\", \"Sputnik V\", \"Sputnik V\", \"Sputnik V\", \"Sputnik V\", \"Sputnik V\", \"Sputnik V\", \"Sputnik V\", \"Pfizer/BioNTech\", \"Pfizer/BioNTech\", \"Pfizer/BioNTech\", \"Pfizer/BioNTech\", \"Pfizer/BioNTech\", \"Pfizer/BioNTech\", \"Pfizer/BioNTech\", \"Pfizer/BioNTech\", \"Pfizer/BioNTech\", \"Pfizer/BioNTech\", \"Pfizer/BioNTech\", \"Pfizer/BioNTech\", \"Pfizer/BioNTech\", \"Pfizer/BioNTech\", \"Pfizer/BioNTech\", \"Pfizer/BioNTech\", \"Pfizer/BioNTech\", \"Pfizer/BioNTech\", \"Pfizer/BioNTech\", \"Pfizer/BioNTech\", \"Pfizer/BioNTech\", \"Pfizer/BioNTech\", \"Pfizer/BioNTech\", \"Pfizer/BioNTech\", \"Pfizer/BioNTech\", \"Pfizer/BioNTech\", \"Pfizer/BioNTech\", \"Pfizer/BioNTech\", \"Pfizer/BioNTech\", \"Pfizer/BioNTech\", \"Pfizer/BioNTech\", \"Pfizer/BioNTech\", \"Pfizer/BioNTech\", \"Oxford/AstraZeneca\", \"Oxford/AstraZeneca\", \"Oxford/AstraZeneca\", \"Oxford/AstraZeneca\", \"Oxford/AstraZeneca\", \"Oxford/AstraZeneca\", \"Oxford/AstraZeneca\", \"Oxford/AstraZeneca\", \"Oxford/AstraZeneca\", \"Oxford/AstraZeneca\", \"Oxford/AstraZeneca\", \"Oxford/AstraZeneca\", \"Oxford/AstraZeneca\", \"Oxford/AstraZeneca\", \"Oxford/AstraZeneca\", \"Oxford/AstraZeneca\", \"Oxford/AstraZeneca\", \"Oxford/AstraZeneca\", \"Oxford/AstraZeneca\", \"Oxford/AstraZeneca\", \"Oxford/AstraZeneca\", \"Oxford/AstraZeneca\", \"Oxford/AstraZeneca\", \"Sputnik V\", \"Sputnik V\", \"Sputnik V\", \"Sputnik V\", \"Sputnik V\", \"Sputnik V\", \"Sputnik V\", \"Sputnik V\", \"Sputnik V\", \"Sputnik V\", \"Sputnik V\", \"Sputnik V\", \"Sputnik V\", \"Sputnik V\", \"Sputnik V\", \"Sputnik V\", \"Sputnik V\", \"Sputnik V\", \"Sputnik V\", \"Sputnik V\", \"Sputnik V\", \"Sputnik V\", \"Sputnik V\", \"Sputnik V\", \"Sputnik V\", \"Sputnik V\", \"Sputnik V\", \"Sputnik V\", \"Sputnik V\", \"Sputnik V\", \"Sputnik V\", \"Sputnik V\", \"Sputnik V\", \"Sputnik V\", \"Sputnik V\", \"Sputnik V\", \"Sputnik V\", \"Sputnik V\", \"Sputnik V\", \"Sputnik V\", \"Sputnik V\", \"Sputnik V\", \"Sputnik V\", \"Sputnik V\", \"Sputnik V\", \"Sputnik V\", \"Sputnik V\", \"Sputnik V\", \"Sputnik V\", \"Sputnik V\", \"Sputnik V\", \"Sputnik V\", \"Sputnik V\", \"Sputnik V\", \"Sputnik V\", \"Sputnik V\", \"Sputnik V\", \"Sputnik V\", \"Sputnik V\", \"Sputnik V\", \"Sputnik V\", \"Sputnik V\", \"Sputnik V\", \"Sputnik V\", \"Sputnik V\", \"Sputnik V\", \"Sputnik V\", \"Pfizer/BioNTech\", \"Pfizer/BioNTech\", \"Pfizer/BioNTech\", \"Pfizer/BioNTech\", \"Pfizer/BioNTech\", \"Pfizer/BioNTech\", \"Pfizer/BioNTech\", \"Pfizer/BioNTech\", \"Pfizer/BioNTech\", \"Pfizer/BioNTech\", \"Pfizer/BioNTech\", \"Pfizer/BioNTech\", \"Pfizer/BioNTech\", \"Pfizer/BioNTech\", \"Pfizer/BioNTech\", \"Pfizer/BioNTech\", \"Pfizer/BioNTech\", \"Pfizer/BioNTech\", \"Pfizer/BioNTech\", \"Pfizer/BioNTech\", \"Moderna, Oxford/AstraZeneca, Pfizer/BioNTech\", \"Moderna, Oxford/AstraZeneca, Pfizer/BioNTech\", \"Moderna, Oxford/AstraZeneca, Pfizer/BioNTech\", \"Moderna, Oxford/AstraZeneca, Pfizer/BioNTech\", \"Moderna, Oxford/AstraZeneca, Pfizer/BioNTech\", \"Moderna, Oxford/AstraZeneca, Pfizer/BioNTech\", \"Moderna, Oxford/AstraZeneca, Pfizer/BioNTech\", \"Moderna, Oxford/AstraZeneca, Pfizer/BioNTech\", \"Moderna, Oxford/AstraZeneca, Pfizer/BioNTech\", \"Moderna, Oxford/AstraZeneca, Pfizer/BioNTech\", \"Moderna, Oxford/AstraZeneca, Pfizer/BioNTech\", \"Moderna, Oxford/AstraZeneca, Pfizer/BioNTech\", \"Moderna, Oxford/AstraZeneca, Pfizer/BioNTech\", \"Moderna, Oxford/AstraZeneca, Pfizer/BioNTech\", \"Moderna, Oxford/AstraZeneca, Pfizer/BioNTech\", \"Moderna, Oxford/AstraZeneca, Pfizer/BioNTech\", \"Moderna, Oxford/AstraZeneca, Pfizer/BioNTech\", \"Moderna, Oxford/AstraZeneca, Pfizer/BioNTech\", \"Moderna, Oxford/AstraZeneca, Pfizer/BioNTech\", \"Moderna, Oxford/AstraZeneca, Pfizer/BioNTech\", \"Moderna, Oxford/AstraZeneca, Pfizer/BioNTech\", \"Moderna, Oxford/AstraZeneca, Pfizer/BioNTech\", \"Moderna, Oxford/AstraZeneca, Pfizer/BioNTech\", \"Moderna, Oxford/AstraZeneca, Pfizer/BioNTech\", \"Moderna, Oxford/AstraZeneca, Pfizer/BioNTech\", \"Moderna, Oxford/AstraZeneca, Pfizer/BioNTech\", \"Moderna, Oxford/AstraZeneca, Pfizer/BioNTech\", \"Moderna, Oxford/AstraZeneca, Pfizer/BioNTech\", \"Moderna, Oxford/AstraZeneca, Pfizer/BioNTech\", \"Moderna, Oxford/AstraZeneca, Pfizer/BioNTech\", \"Moderna, Oxford/AstraZeneca, Pfizer/BioNTech\", \"Moderna, Oxford/AstraZeneca, Pfizer/BioNTech\", \"Moderna, Oxford/AstraZeneca, Pfizer/BioNTech\", \"Moderna, Oxford/AstraZeneca, Pfizer/BioNTech\", \"Moderna, Oxford/AstraZeneca, Pfizer/BioNTech\", \"Moderna, Oxford/AstraZeneca, Pfizer/BioNTech\", \"Moderna, Oxford/AstraZeneca, Pfizer/BioNTech\", \"Moderna, Oxford/AstraZeneca, Pfizer/BioNTech\", \"Moderna, Oxford/AstraZeneca, Pfizer/BioNTech\", \"Moderna, Oxford/AstraZeneca, Pfizer/BioNTech\", \"Moderna, Oxford/AstraZeneca, Pfizer/BioNTech\", \"Moderna, Oxford/AstraZeneca, Pfizer/BioNTech\", \"Moderna, Oxford/AstraZeneca, Pfizer/BioNTech\", \"Moderna, Oxford/AstraZeneca, Pfizer/BioNTech\", \"Moderna, Oxford/AstraZeneca, Pfizer/BioNTech\", \"Moderna, Oxford/AstraZeneca, Pfizer/BioNTech\", \"Moderna, Oxford/AstraZeneca, Pfizer/BioNTech\", \"Moderna, Oxford/AstraZeneca, Pfizer/BioNTech\", \"Moderna, Oxford/AstraZeneca, Pfizer/BioNTech\", \"Moderna, Oxford/AstraZeneca, Pfizer/BioNTech\", \"Moderna, Oxford/AstraZeneca, Pfizer/BioNTech\", \"Moderna, Oxford/AstraZeneca, Pfizer/BioNTech\", \"Moderna, Oxford/AstraZeneca, Pfizer/BioNTech\", \"Moderna, Oxford/AstraZeneca, Pfizer/BioNTech\", \"Moderna, Oxford/AstraZeneca, Pfizer/BioNTech\", \"Moderna, Oxford/AstraZeneca, Pfizer/BioNTech\", \"Oxford/AstraZeneca, Sputnik V\", \"Oxford/AstraZeneca, Sputnik V\", \"Oxford/AstraZeneca, Sputnik V\", \"Oxford/AstraZeneca, Sputnik V\", \"Oxford/AstraZeneca, Sputnik V\", \"Oxford/AstraZeneca, Sputnik V\", \"Oxford/AstraZeneca, Sputnik V\", \"Oxford/AstraZeneca, Sputnik V\", \"Oxford/AstraZeneca, Sputnik V\", \"Oxford/AstraZeneca, Sputnik V\", \"Oxford/AstraZeneca, Sputnik V\", \"Oxford/AstraZeneca, Sputnik V\", \"Oxford/AstraZeneca, Sputnik V\", \"Oxford/AstraZeneca, Sputnik V\", \"Oxford/AstraZeneca, Sputnik V\", \"Oxford/AstraZeneca, Sputnik V\", \"Oxford/AstraZeneca, Sputnik V\", \"Oxford/AstraZeneca, Sputnik V\", \"Oxford/AstraZeneca, Sputnik V\", \"Oxford/AstraZeneca, Sputnik V\", \"Oxford/AstraZeneca, Sputnik V\", \"Oxford/AstraZeneca, Sputnik V\", \"Oxford/AstraZeneca, Sputnik V\", \"Oxford/AstraZeneca, Sputnik V\", \"Oxford/AstraZeneca, Sputnik V\", \"Oxford/AstraZeneca, Sputnik V\", \"Oxford/AstraZeneca, Sputnik V\", \"Oxford/AstraZeneca, Sputnik V\", \"Oxford/AstraZeneca, Sputnik V\", \"Oxford/AstraZeneca, Sputnik V\", \"Oxford/AstraZeneca, Sputnik V\", \"Oxford/AstraZeneca, Sputnik V\", \"Oxford/AstraZeneca, Sputnik V\", \"Oxford/AstraZeneca, Sputnik V\", \"Oxford/AstraZeneca, Sputnik V\", \"Oxford/AstraZeneca, Sputnik V\", \"Oxford/AstraZeneca, Sputnik V\", \"Oxford/AstraZeneca, Sputnik V\", \"Oxford/AstraZeneca, Sputnik V\", \"Oxford/AstraZeneca, Sputnik V\", \"Oxford/AstraZeneca, Sputnik V\", \"Oxford/AstraZeneca, Sputnik V\", \"Oxford/AstraZeneca, Sputnik V\", \"Oxford/AstraZeneca, Sputnik V\", \"Oxford/AstraZeneca, Sputnik V\", \"Oxford/AstraZeneca, Sputnik V\", \"Oxford/AstraZeneca, Pfizer/BioNTech, Sinopharm/Beijing, Sputnik V\", \"Oxford/AstraZeneca, Pfizer/BioNTech, Sinopharm/Beijing, Sputnik V\", \"Oxford/AstraZeneca, Pfizer/BioNTech, Sinopharm/Beijing, Sputnik V\", \"Oxford/AstraZeneca, Pfizer/BioNTech, Sinopharm/Beijing, Sputnik V\", \"Oxford/AstraZeneca, Pfizer/BioNTech, Sinopharm/Beijing, Sputnik V\", \"Oxford/AstraZeneca, Pfizer/BioNTech, Sinopharm/Beijing, Sputnik V\", \"Oxford/AstraZeneca, Pfizer/BioNTech, Sinopharm/Beijing, Sputnik V\", \"Oxford/AstraZeneca, Pfizer/BioNTech, Sinopharm/Beijing, Sputnik V\", \"Oxford/AstraZeneca, Pfizer/BioNTech, Sinopharm/Beijing, Sputnik V\", \"Oxford/AstraZeneca, Pfizer/BioNTech, Sinopharm/Beijing, Sputnik V\", \"Oxford/AstraZeneca, Pfizer/BioNTech, Sinopharm/Beijing, Sputnik V\", \"Oxford/AstraZeneca, Pfizer/BioNTech, Sinopharm/Beijing, Sputnik V\", \"Oxford/AstraZeneca, Pfizer/BioNTech, Sinopharm/Beijing, Sputnik V\", \"Oxford/AstraZeneca, Pfizer/BioNTech, Sinopharm/Beijing, Sputnik V\", \"Oxford/AstraZeneca, Pfizer/BioNTech, Sinopharm/Beijing, Sputnik V\", \"Oxford/AstraZeneca, Pfizer/BioNTech, Sinopharm/Beijing, Sputnik V\", \"Oxford/AstraZeneca, Pfizer/BioNTech, Sinopharm/Beijing, Sputnik V\", \"Oxford/AstraZeneca, Pfizer/BioNTech, Sinopharm/Beijing, Sputnik V\", \"Oxford/AstraZeneca, Pfizer/BioNTech, Sinopharm/Beijing, Sputnik V\", \"Oxford/AstraZeneca, Pfizer/BioNTech, Sinopharm/Beijing, Sputnik V\", \"Oxford/AstraZeneca, Pfizer/BioNTech, Sinopharm/Beijing, Sputnik V\", \"Oxford/AstraZeneca, Pfizer/BioNTech, Sinopharm/Beijing, Sputnik V\", \"Oxford/AstraZeneca, Pfizer/BioNTech, Sinopharm/Beijing, Sputnik V\", \"Oxford/AstraZeneca, Pfizer/BioNTech, Sinopharm/Beijing, Sputnik V\", \"Oxford/AstraZeneca, Pfizer/BioNTech, Sinopharm/Beijing, Sputnik V\", \"Oxford/AstraZeneca, Pfizer/BioNTech, Sinopharm/Beijing, Sputnik V\", \"Oxford/AstraZeneca, Pfizer/BioNTech, Sinopharm/Beijing, Sputnik V\", \"Oxford/AstraZeneca, Pfizer/BioNTech, Sinopharm/Beijing, Sputnik V\", \"Oxford/AstraZeneca, Pfizer/BioNTech, Sinopharm/Beijing, Sputnik V\", \"Oxford/AstraZeneca, Pfizer/BioNTech, Sinopharm/Beijing, Sputnik V\", \"Oxford/AstraZeneca, Pfizer/BioNTech, Sinopharm/Beijing, Sputnik V\", \"Oxford/AstraZeneca, Pfizer/BioNTech, Sinopharm/Beijing, Sputnik V\", \"Oxford/AstraZeneca, Pfizer/BioNTech, Sinopharm/Beijing, Sputnik V\", \"Oxford/AstraZeneca, Pfizer/BioNTech, Sinopharm/Beijing, Sputnik V\", \"Oxford/AstraZeneca, Pfizer/BioNTech, Sinopharm/Beijing, Sputnik V\", \"Oxford/AstraZeneca, Pfizer/BioNTech, Sinopharm/Beijing, Sputnik V\", \"Oxford/AstraZeneca, Pfizer/BioNTech, Sinopharm/Beijing, Sputnik V\", \"Oxford/AstraZeneca, Pfizer/BioNTech, Sinopharm/Beijing, Sputnik V\", \"Oxford/AstraZeneca, Pfizer/BioNTech, Sinopharm/Beijing, Sputnik V\", \"Oxford/AstraZeneca, Pfizer/BioNTech, Sinopharm/Beijing, Sputnik V\", \"Oxford/AstraZeneca, Pfizer/BioNTech, Sinopharm/Beijing, Sputnik V\", \"Oxford/AstraZeneca, Pfizer/BioNTech, Sinopharm/Beijing, Sputnik V\", \"Oxford/AstraZeneca, Pfizer/BioNTech, Sinopharm/Beijing, Sputnik V\", \"Oxford/AstraZeneca, Pfizer/BioNTech, Sinopharm/Beijing, Sputnik V\", \"Oxford/AstraZeneca, Pfizer/BioNTech, Sinopharm/Beijing, Sputnik V\", \"Oxford/AstraZeneca, Pfizer/BioNTech, Sinopharm/Beijing, Sputnik V\", \"Oxford/AstraZeneca, Pfizer/BioNTech, Sinopharm/Beijing, Sputnik V\", \"Oxford/AstraZeneca, Pfizer/BioNTech, Sinopharm/Beijing, Sputnik V\", \"Oxford/AstraZeneca, Pfizer/BioNTech, Sinopharm/Beijing, Sputnik V\", \"Oxford/AstraZeneca, Pfizer/BioNTech, Sinopharm/Beijing, Sputnik V\", \"Oxford/AstraZeneca, Pfizer/BioNTech, Sinopharm/Beijing, Sputnik V\", \"Oxford/AstraZeneca, Pfizer/BioNTech, Sinopharm/Beijing, Sputnik V\", \"Oxford/AstraZeneca, Pfizer/BioNTech, Sinopharm/Beijing, Sputnik V\", \"Oxford/AstraZeneca, Pfizer/BioNTech, Sinopharm/Beijing, Sputnik V\", \"Oxford/AstraZeneca, Pfizer/BioNTech, Sinopharm/Beijing, Sputnik V\", \"Oxford/AstraZeneca, Pfizer/BioNTech, Sinopharm/Beijing, Sputnik V\", \"Oxford/AstraZeneca, Pfizer/BioNTech, Sinopharm/Beijing, Sputnik V\", \"Oxford/AstraZeneca, Pfizer/BioNTech, Sinopharm/Beijing, Sputnik V\", \"Oxford/AstraZeneca, Pfizer/BioNTech, Sinopharm/Beijing, Sputnik V\", \"Oxford/AstraZeneca, Pfizer/BioNTech, Sinopharm/Beijing, Sputnik V\", \"Oxford/AstraZeneca, Pfizer/BioNTech, Sinopharm/Beijing, Sputnik V\", \"Oxford/AstraZeneca, Pfizer/BioNTech, Sinopharm/Beijing, Sputnik V\", \"Oxford/AstraZeneca, Pfizer/BioNTech, Sinopharm/Beijing, Sputnik V\", \"Oxford/AstraZeneca, Pfizer/BioNTech, Sinopharm/Beijing, Sputnik V\", \"Oxford/AstraZeneca, Pfizer/BioNTech, Sinopharm/Beijing, Sputnik V\", \"Oxford/AstraZeneca, Pfizer/BioNTech, Sinopharm/Beijing, Sputnik V\", \"Oxford/AstraZeneca, Pfizer/BioNTech, Sinopharm/Beijing, Sputnik V\", \"Oxford/AstraZeneca, Pfizer/BioNTech, Sinopharm/Beijing, Sputnik V\", \"Oxford/AstraZeneca, Pfizer/BioNTech, Sinopharm/Beijing, Sputnik V\", \"Oxford/AstraZeneca, Pfizer/BioNTech, Sinopharm/Beijing, Sputnik V\", \"Oxford/AstraZeneca, Pfizer/BioNTech, Sinopharm/Beijing, Sputnik V\", \"Oxford/AstraZeneca, Pfizer/BioNTech, Sinopharm/Beijing, Sputnik V\", \"Oxford/AstraZeneca, Pfizer/BioNTech, Sinopharm/Beijing, Sputnik V\", \"Oxford/AstraZeneca, Pfizer/BioNTech, Sinopharm/Beijing, Sputnik V\", \"Oxford/AstraZeneca\", \"Oxford/AstraZeneca\", \"Oxford/AstraZeneca\", \"Oxford/AstraZeneca\", \"Oxford/AstraZeneca\", \"Oxford/AstraZeneca\", \"Oxford/AstraZeneca\", \"Oxford/AstraZeneca\", \"Oxford/AstraZeneca\", \"Oxford/AstraZeneca\", \"Oxford/AstraZeneca\", \"Oxford/AstraZeneca\", \"Oxford/AstraZeneca\", \"Oxford/AstraZeneca\", \"Oxford/AstraZeneca\", \"Oxford/AstraZeneca\", \"Oxford/AstraZeneca\", \"Oxford/AstraZeneca\", \"Oxford/AstraZeneca\", \"Oxford/AstraZeneca\", \"Oxford/AstraZeneca\", \"Oxford/AstraZeneca\", \"Oxford/AstraZeneca\", \"Oxford/AstraZeneca\", \"Oxford/AstraZeneca\", \"Oxford/AstraZeneca\", \"Oxford/AstraZeneca\", \"Oxford/AstraZeneca\", \"Oxford/AstraZeneca\", \"Oxford/AstraZeneca\", \"Oxford/AstraZeneca\", \"Oxford/AstraZeneca\", \"Oxford/AstraZeneca\", \"Oxford/AstraZeneca\", \"Oxford/AstraZeneca\", \"Oxford/AstraZeneca\", \"Oxford/AstraZeneca\", \"Oxford/AstraZeneca\", \"Oxford/AstraZeneca\", \"Oxford/AstraZeneca\", \"Oxford/AstraZeneca\", \"Oxford/AstraZeneca\", \"Oxford/AstraZeneca\", \"Oxford/AstraZeneca\", \"Oxford/AstraZeneca\", \"Oxford/AstraZeneca\", \"Oxford/AstraZeneca\", \"Oxford/AstraZeneca\", \"Oxford/AstraZeneca\", \"Oxford/AstraZeneca\", \"Oxford/AstraZeneca\", \"Oxford/AstraZeneca\", \"Oxford/AstraZeneca\", \"Oxford/AstraZeneca\", \"Oxford/AstraZeneca\", \"Oxford/AstraZeneca\", \"Sputnik V\", \"Sputnik V\", \"Sputnik V\", \"Sputnik V\", \"Sputnik V\", \"Sputnik V\", \"Sputnik V\", \"Sputnik V\", \"Sputnik V\", \"Sputnik V\", \"Sputnik V\", \"Sputnik V\", \"Sputnik V\", \"Sputnik V\", \"Sputnik V\", \"Sputnik V\", \"Sputnik V\", \"Sputnik V\", \"Sputnik V\", \"Sputnik V\", \"Sputnik V\", \"Sputnik V\", \"Sputnik V\", \"Sputnik V\", \"Sputnik V\", \"Sputnik V\", \"Sputnik V\", \"Sputnik V\", \"Sputnik V\", \"Sputnik V\", \"Sputnik V\", \"Sputnik V\", \"Sputnik V\", \"Sputnik V\", \"Sputnik V\", \"Sputnik V\", \"Sputnik V\", \"Sputnik V\", \"Sputnik V\", \"Sputnik V\", \"Sputnik V\", \"Sputnik V\", \"Sputnik V\", \"Sputnik V\", \"Sputnik V\", \"Sputnik V\", \"Sputnik V\", \"Sputnik V\", \"Sputnik V\", \"Sputnik V\", \"Sputnik V\", \"Sputnik V\", \"Sputnik V\", \"Moderna, Oxford/AstraZeneca, Pfizer/BioNTech\", \"Moderna, Oxford/AstraZeneca, Pfizer/BioNTech\", \"Moderna, Oxford/AstraZeneca, Pfizer/BioNTech\", \"Moderna, Oxford/AstraZeneca, Pfizer/BioNTech\", \"Moderna, Oxford/AstraZeneca, Pfizer/BioNTech\", \"Moderna, Oxford/AstraZeneca, Pfizer/BioNTech\", \"Moderna, Oxford/AstraZeneca, Pfizer/BioNTech\", \"Moderna, Oxford/AstraZeneca, Pfizer/BioNTech\", \"Moderna, Oxford/AstraZeneca, Pfizer/BioNTech\", \"Moderna, Oxford/AstraZeneca, Pfizer/BioNTech\", \"Moderna, Oxford/AstraZeneca, Pfizer/BioNTech\", \"Moderna, Oxford/AstraZeneca, Pfizer/BioNTech\", \"Moderna, Oxford/AstraZeneca, Pfizer/BioNTech\", \"Moderna, Oxford/AstraZeneca, Pfizer/BioNTech\", \"Moderna, Oxford/AstraZeneca, Pfizer/BioNTech\", \"Moderna, Oxford/AstraZeneca, Pfizer/BioNTech\", \"Moderna, Oxford/AstraZeneca, Pfizer/BioNTech\", \"Moderna, Oxford/AstraZeneca, Pfizer/BioNTech\", \"Moderna, Oxford/AstraZeneca, Pfizer/BioNTech\", \"Moderna, Oxford/AstraZeneca, Pfizer/BioNTech\", \"Moderna, Oxford/AstraZeneca, Pfizer/BioNTech\", \"Moderna, Oxford/AstraZeneca, Pfizer/BioNTech\", \"Moderna, Oxford/AstraZeneca, Pfizer/BioNTech\", \"Moderna, Oxford/AstraZeneca, Pfizer/BioNTech\", \"Moderna, Oxford/AstraZeneca, Pfizer/BioNTech\", \"Moderna, Oxford/AstraZeneca, Pfizer/BioNTech\", \"Moderna, Oxford/AstraZeneca, Pfizer/BioNTech\", \"Moderna, Oxford/AstraZeneca, Pfizer/BioNTech\", \"Moderna, Oxford/AstraZeneca, Pfizer/BioNTech\", \"Moderna, Oxford/AstraZeneca, Pfizer/BioNTech\", \"Moderna, Oxford/AstraZeneca, Pfizer/BioNTech\", \"Moderna, Oxford/AstraZeneca, Pfizer/BioNTech\", \"Moderna, Oxford/AstraZeneca, Pfizer/BioNTech\", \"Moderna, Oxford/AstraZeneca, Pfizer/BioNTech\", \"Moderna, Oxford/AstraZeneca, Pfizer/BioNTech\", \"Moderna, Oxford/AstraZeneca, Pfizer/BioNTech\", \"Moderna, Oxford/AstraZeneca, Pfizer/BioNTech\", \"Moderna, Oxford/AstraZeneca, Pfizer/BioNTech\", \"Moderna, Oxford/AstraZeneca, Pfizer/BioNTech\", \"Moderna, Oxford/AstraZeneca, Pfizer/BioNTech\", \"Moderna, Oxford/AstraZeneca, Pfizer/BioNTech\", \"Moderna, Oxford/AstraZeneca, Pfizer/BioNTech\", \"Moderna, Oxford/AstraZeneca, Pfizer/BioNTech\", \"Moderna, Oxford/AstraZeneca, Pfizer/BioNTech\", \"Moderna, Oxford/AstraZeneca, Pfizer/BioNTech\", \"Moderna, Oxford/AstraZeneca, Pfizer/BioNTech\", \"Moderna, Oxford/AstraZeneca, Pfizer/BioNTech\", \"Moderna, Oxford/AstraZeneca, Pfizer/BioNTech\", \"Moderna, Oxford/AstraZeneca, Pfizer/BioNTech\", \"Moderna, Oxford/AstraZeneca, Pfizer/BioNTech\", \"Moderna, Oxford/AstraZeneca, Pfizer/BioNTech\", \"Moderna, Oxford/AstraZeneca, Pfizer/BioNTech\", \"Moderna, Oxford/AstraZeneca, Pfizer/BioNTech\", \"Moderna, Oxford/AstraZeneca, Pfizer/BioNTech\", \"Moderna, Oxford/AstraZeneca, Pfizer/BioNTech\", \"Moderna, Oxford/AstraZeneca, Pfizer/BioNTech\", \"Moderna, Oxford/AstraZeneca, Pfizer/BioNTech\", \"Moderna, Oxford/AstraZeneca, Pfizer/BioNTech\", \"Moderna, Oxford/AstraZeneca, Pfizer/BioNTech\", \"Moderna, Oxford/AstraZeneca, Pfizer/BioNTech\", \"Moderna, Oxford/AstraZeneca, Pfizer/BioNTech\", \"Moderna, Oxford/AstraZeneca, Pfizer/BioNTech\", \"Moderna, Oxford/AstraZeneca, Pfizer/BioNTech\", \"Moderna, Oxford/AstraZeneca, Pfizer/BioNTech\", \"Moderna, Oxford/AstraZeneca, Pfizer/BioNTech\", \"Moderna, Oxford/AstraZeneca, Pfizer/BioNTech\", \"Moderna, Oxford/AstraZeneca, Pfizer/BioNTech\", \"Moderna, Oxford/AstraZeneca, Pfizer/BioNTech\", \"Oxford/AstraZeneca\", \"Oxford/AstraZeneca\", \"Oxford/AstraZeneca\", \"Oxford/AstraZeneca\", \"Oxford/AstraZeneca\", \"Oxford/AstraZeneca\", \"Pfizer/BioNTech\", \"Pfizer/BioNTech\", \"Pfizer/BioNTech\", \"Pfizer/BioNTech\", \"Pfizer/BioNTech\", \"Pfizer/BioNTech\", \"Pfizer/BioNTech\", \"Pfizer/BioNTech\", \"Pfizer/BioNTech\", \"Pfizer/BioNTech\", \"Pfizer/BioNTech\", \"Pfizer/BioNTech\", \"Pfizer/BioNTech\", \"Pfizer/BioNTech\", \"Pfizer/BioNTech\", \"Pfizer/BioNTech\", \"Pfizer/BioNTech\", \"Pfizer/BioNTech\", \"Pfizer/BioNTech\", \"Pfizer/BioNTech\", \"Pfizer/BioNTech\", \"Pfizer/BioNTech\", \"Pfizer/BioNTech\", \"Pfizer/BioNTech\", \"Pfizer/BioNTech\", \"Pfizer/BioNTech\", \"Pfizer/BioNTech\", \"Pfizer/BioNTech\", \"Pfizer/BioNTech\", \"Pfizer/BioNTech\", \"Pfizer/BioNTech\", \"Pfizer/BioNTech\", \"Pfizer/BioNTech\", \"Pfizer/BioNTech\", \"Pfizer/BioNTech\", \"Pfizer/BioNTech\", \"Pfizer/BioNTech\", \"Pfizer/BioNTech\", \"Pfizer/BioNTech\", \"Pfizer/BioNTech\", \"Pfizer/BioNTech\", \"Pfizer/BioNTech\", \"Pfizer/BioNTech\", \"Pfizer/BioNTech\", \"Pfizer/BioNTech\", \"Pfizer/BioNTech\", \"Pfizer/BioNTech\", \"Pfizer/BioNTech\", \"Pfizer/BioNTech\", \"Pfizer/BioNTech\", \"Pfizer/BioNTech\", \"Pfizer/BioNTech\", \"Pfizer/BioNTech\", \"Sputnik V\", \"Sputnik V\", \"Sputnik V\", \"Sputnik V\", \"Sputnik V\", \"Sputnik V\", \"Sputnik V\", \"Sputnik V\", \"Sputnik V\", \"Sputnik V\", \"Sputnik V\", \"Sputnik V\", \"Sputnik V\", \"Sputnik V\", \"Sputnik V\", \"Sputnik V\", \"Sputnik V\", \"Sputnik V\", \"Sputnik V\", \"Sputnik V\", \"Sputnik V\", \"Sputnik V\", \"Sputnik V\", \"Sputnik V\", \"Sputnik V\", \"Sputnik V\", \"Sputnik V\", \"Sputnik V\", \"Sputnik V\", \"Sputnik V\", \"Sputnik V\", \"Sputnik V\", \"Sputnik V\", \"Sputnik V\", \"Sputnik V\", \"Sputnik V\", \"Sputnik V\", \"Sputnik V\", \"Oxford/AstraZeneca, Sinovac\", \"Oxford/AstraZeneca, Sinovac\", \"Oxford/AstraZeneca, Sinovac\", \"Oxford/AstraZeneca, Sinovac\", \"Oxford/AstraZeneca, Sinovac\", \"Oxford/AstraZeneca, Sinovac\", \"Oxford/AstraZeneca, Sinovac\", \"Oxford/AstraZeneca, Sinovac\", \"Oxford/AstraZeneca, Sinovac\", \"Oxford/AstraZeneca, Sinovac\", \"Oxford/AstraZeneca, Sinovac\", \"Oxford/AstraZeneca, Sinovac\", \"Oxford/AstraZeneca, Sinovac\", \"Oxford/AstraZeneca, Sinovac\", \"Oxford/AstraZeneca, Sinovac\", \"Oxford/AstraZeneca, Sinovac\", \"Oxford/AstraZeneca, Sinovac\", \"Oxford/AstraZeneca, Sinovac\", \"Oxford/AstraZeneca, Sinovac\", \"Oxford/AstraZeneca, Sinovac\", \"Oxford/AstraZeneca, Sinovac\", \"Oxford/AstraZeneca, Sinovac\", \"Oxford/AstraZeneca, Sinovac\", \"Oxford/AstraZeneca, Sinovac\", \"Oxford/AstraZeneca, Sinovac\", \"Oxford/AstraZeneca, Sinovac\", \"Oxford/AstraZeneca, Sinovac\", \"Oxford/AstraZeneca, Sinovac\", \"Oxford/AstraZeneca, Sinovac\", \"Oxford/AstraZeneca, Sinovac\", \"Oxford/AstraZeneca, Sinovac\", \"Oxford/AstraZeneca, Sinovac\", \"Oxford/AstraZeneca, Sinovac\", \"Oxford/AstraZeneca, Sinovac\", \"Oxford/AstraZeneca, Sinovac\", \"Oxford/AstraZeneca, Sinovac\", \"Oxford/AstraZeneca, Sinovac\", \"Oxford/AstraZeneca, Sinovac\", \"Oxford/AstraZeneca, Sinovac\", \"Oxford/AstraZeneca, Sinovac\", \"Oxford/AstraZeneca, Sinovac\", \"Oxford/AstraZeneca, Sinovac\", \"Oxford/AstraZeneca, Sinovac\", \"Oxford/AstraZeneca, Sinovac\", \"Oxford/AstraZeneca, Sinovac\", \"Oxford/AstraZeneca, Sinovac\", \"Oxford/AstraZeneca, Sinovac\", \"Oxford/AstraZeneca, Sinovac\", \"Oxford/AstraZeneca, Sinovac\", \"Oxford/AstraZeneca, Sinovac\", \"Moderna, Oxford/AstraZeneca, Pfizer/BioNTech\", \"Moderna, Oxford/AstraZeneca, Pfizer/BioNTech\", \"Moderna, Oxford/AstraZeneca, Pfizer/BioNTech\", \"Moderna, Oxford/AstraZeneca, Pfizer/BioNTech\", \"Moderna, Oxford/AstraZeneca, Pfizer/BioNTech\", \"Moderna, Oxford/AstraZeneca, Pfizer/BioNTech\", \"Moderna, Oxford/AstraZeneca, Pfizer/BioNTech\", \"Moderna, Oxford/AstraZeneca, Pfizer/BioNTech\", \"Moderna, Oxford/AstraZeneca, Pfizer/BioNTech\", \"Moderna, Oxford/AstraZeneca, Pfizer/BioNTech\", \"Moderna, Oxford/AstraZeneca, Pfizer/BioNTech\", \"Moderna, Oxford/AstraZeneca, Pfizer/BioNTech\", \"Moderna, Oxford/AstraZeneca, Pfizer/BioNTech\", \"Moderna, Oxford/AstraZeneca, Pfizer/BioNTech\", \"Moderna, Oxford/AstraZeneca, Pfizer/BioNTech\", \"Moderna, Oxford/AstraZeneca, Pfizer/BioNTech\", \"Moderna, Oxford/AstraZeneca, Pfizer/BioNTech\", \"Moderna, Oxford/AstraZeneca, Pfizer/BioNTech\", \"Moderna, Oxford/AstraZeneca, Pfizer/BioNTech\", \"Moderna, Oxford/AstraZeneca, Pfizer/BioNTech\", \"Moderna, Oxford/AstraZeneca, Pfizer/BioNTech\", \"Moderna, Oxford/AstraZeneca, Pfizer/BioNTech\", \"Moderna, Oxford/AstraZeneca, Pfizer/BioNTech\", \"Moderna, Oxford/AstraZeneca, Pfizer/BioNTech\", \"Moderna, Oxford/AstraZeneca, Pfizer/BioNTech\", \"Moderna, Oxford/AstraZeneca, Pfizer/BioNTech\", \"Moderna, Oxford/AstraZeneca, Pfizer/BioNTech\", \"Moderna, Oxford/AstraZeneca, Pfizer/BioNTech\", \"Moderna, Oxford/AstraZeneca, Pfizer/BioNTech\", \"Moderna, Oxford/AstraZeneca, Pfizer/BioNTech\", \"Moderna, Oxford/AstraZeneca, Pfizer/BioNTech\", \"Moderna, Oxford/AstraZeneca, Pfizer/BioNTech\", \"Moderna, Oxford/AstraZeneca, Pfizer/BioNTech\", \"Moderna, Oxford/AstraZeneca, Pfizer/BioNTech\", \"Moderna, Oxford/AstraZeneca, Pfizer/BioNTech\", \"Moderna, Oxford/AstraZeneca, Pfizer/BioNTech\", \"Moderna, Oxford/AstraZeneca, Pfizer/BioNTech\", \"Moderna, Oxford/AstraZeneca, Pfizer/BioNTech\", \"Moderna, Oxford/AstraZeneca, Pfizer/BioNTech\", \"Moderna, Oxford/AstraZeneca, Pfizer/BioNTech\", \"Moderna, Oxford/AstraZeneca, Pfizer/BioNTech\", \"Moderna, Oxford/AstraZeneca, Pfizer/BioNTech\", \"Moderna, Oxford/AstraZeneca, Pfizer/BioNTech\", \"Moderna, Oxford/AstraZeneca, Pfizer/BioNTech\", \"Moderna, Oxford/AstraZeneca, Pfizer/BioNTech\", \"Moderna, Oxford/AstraZeneca, Pfizer/BioNTech\", \"Moderna, Oxford/AstraZeneca, Pfizer/BioNTech\", \"Moderna, Oxford/AstraZeneca, Pfizer/BioNTech\", \"Moderna, Oxford/AstraZeneca, Pfizer/BioNTech\", \"Moderna, Oxford/AstraZeneca, Pfizer/BioNTech\", \"Moderna, Oxford/AstraZeneca, Pfizer/BioNTech\", \"Moderna, Oxford/AstraZeneca, Pfizer/BioNTech\", \"Moderna, Oxford/AstraZeneca, Pfizer/BioNTech\", \"Moderna, Oxford/AstraZeneca, Pfizer/BioNTech\", \"Moderna, Oxford/AstraZeneca, Pfizer/BioNTech\", \"Moderna, Oxford/AstraZeneca, Pfizer/BioNTech\", \"Moderna, Oxford/AstraZeneca, Pfizer/BioNTech\", \"Moderna, Oxford/AstraZeneca, Pfizer/BioNTech\", \"Moderna, Oxford/AstraZeneca, Pfizer/BioNTech\", \"Moderna, Oxford/AstraZeneca, Pfizer/BioNTech\", \"Moderna, Oxford/AstraZeneca, Pfizer/BioNTech\", \"Moderna, Oxford/AstraZeneca, Pfizer/BioNTech\", \"Moderna, Oxford/AstraZeneca, Pfizer/BioNTech\", \"Moderna, Oxford/AstraZeneca, Pfizer/BioNTech\", \"Moderna, Oxford/AstraZeneca, Pfizer/BioNTech\", \"Moderna, Oxford/AstraZeneca, Pfizer/BioNTech\", \"Moderna, Oxford/AstraZeneca, Pfizer/BioNTech\", \"Moderna, Oxford/AstraZeneca, Pfizer/BioNTech\", \"Sinopharm/Beijing\", \"Sinopharm/Beijing\", \"Sinopharm/Beijing\", \"Sinopharm/Beijing\", \"Sinopharm/Beijing\", \"Sinopharm/Beijing\", \"Sinopharm/Beijing\", \"Sinopharm/Beijing\", \"Sinopharm/Beijing\", \"Sinopharm/Beijing\", \"Sinopharm/Beijing\", \"Sinopharm/Beijing\", \"Sinopharm/Beijing\", \"Sinopharm/Beijing\", \"Sinopharm/Beijing\", \"Sinopharm/Beijing\", \"Sinopharm/Beijing\", \"Sinopharm/Beijing\", \"Sinopharm/Beijing\", \"Sinopharm/Beijing\", \"Sinopharm/Beijing\", \"Sinopharm/Beijing\", \"Sinopharm/Beijing\", \"Sinopharm/Beijing\", \"Sinopharm/Beijing\", \"Sinopharm/Beijing\", \"Moderna, Pfizer/BioNTech\", \"Moderna, Pfizer/BioNTech\", \"Moderna, Pfizer/BioNTech\", \"Moderna, Pfizer/BioNTech\", \"Moderna, Pfizer/BioNTech\", \"Moderna, Pfizer/BioNTech\", \"Moderna, Pfizer/BioNTech\", \"Moderna, Pfizer/BioNTech\", \"Moderna, Pfizer/BioNTech\", \"Moderna, Pfizer/BioNTech\", \"Moderna, Pfizer/BioNTech\", \"Moderna, Pfizer/BioNTech\", \"Moderna, Pfizer/BioNTech\", \"Moderna, Pfizer/BioNTech\", \"Moderna, Pfizer/BioNTech\", \"Moderna, Pfizer/BioNTech\", \"Moderna, Pfizer/BioNTech\", \"Moderna, Pfizer/BioNTech\", \"Moderna, Pfizer/BioNTech\", \"Moderna, Pfizer/BioNTech\", \"Moderna, Pfizer/BioNTech\", \"Moderna, Pfizer/BioNTech\", \"Moderna, Pfizer/BioNTech\", \"Moderna, Pfizer/BioNTech\", \"Moderna, Pfizer/BioNTech\", \"Moderna, Pfizer/BioNTech\", \"Moderna, Pfizer/BioNTech\", \"Moderna, Pfizer/BioNTech\", \"Moderna, Pfizer/BioNTech\", \"Moderna, Pfizer/BioNTech\", \"Moderna, Pfizer/BioNTech\", \"Moderna, Pfizer/BioNTech\", \"Moderna, Pfizer/BioNTech\", \"Moderna, Pfizer/BioNTech\", \"Moderna, Pfizer/BioNTech\", \"Moderna, Pfizer/BioNTech\", \"Moderna, Pfizer/BioNTech\", \"Moderna, Pfizer/BioNTech\", \"Moderna, Pfizer/BioNTech\", \"Moderna, Pfizer/BioNTech\", \"Moderna, Pfizer/BioNTech\", \"Moderna, Pfizer/BioNTech\", \"Moderna, Pfizer/BioNTech\", \"Moderna, Pfizer/BioNTech\", \"Moderna, Pfizer/BioNTech\", \"Moderna, Pfizer/BioNTech\", \"Moderna, Pfizer/BioNTech\", \"Moderna, Pfizer/BioNTech\", \"Moderna, Pfizer/BioNTech\", \"Moderna, Pfizer/BioNTech\", \"Moderna, Pfizer/BioNTech\", \"Moderna, Pfizer/BioNTech\", \"Moderna, Pfizer/BioNTech\", \"Moderna, Pfizer/BioNTech\", \"Moderna, Pfizer/BioNTech\", \"Moderna, Pfizer/BioNTech\", \"Moderna, Pfizer/BioNTech\", \"Moderna, Pfizer/BioNTech\", \"Moderna, Pfizer/BioNTech\", \"Moderna, Pfizer/BioNTech\", \"Moderna, Pfizer/BioNTech\", \"Moderna, Pfizer/BioNTech\", \"Moderna, Pfizer/BioNTech\", \"Moderna, Pfizer/BioNTech\", \"Moderna, Pfizer/BioNTech\", \"Moderna, Pfizer/BioNTech\", \"Moderna, Pfizer/BioNTech\", \"Moderna, Pfizer/BioNTech\", \"Moderna, Pfizer/BioNTech\", \"Moderna, Pfizer/BioNTech\", \"Moderna, Pfizer/BioNTech\", \"Moderna, Pfizer/BioNTech\", \"Moderna, Pfizer/BioNTech\", \"Moderna, Pfizer/BioNTech\", \"Moderna, Pfizer/BioNTech\", \"Moderna, Pfizer/BioNTech\", \"Moderna, Pfizer/BioNTech\", \"Moderna, Pfizer/BioNTech\", \"Moderna, Pfizer/BioNTech\", \"Moderna, Pfizer/BioNTech\", \"Moderna, Pfizer/BioNTech\", \"Moderna, Pfizer/BioNTech\", \"Moderna, Pfizer/BioNTech\", \"Pfizer/BioNTech\", \"Pfizer/BioNTech\", \"Pfizer/BioNTech\", \"Pfizer/BioNTech\", \"Pfizer/BioNTech\", \"Pfizer/BioNTech\", \"Pfizer/BioNTech\", \"Pfizer/BioNTech\", \"Pfizer/BioNTech\", \"Pfizer/BioNTech\", \"Pfizer/BioNTech\", \"Pfizer/BioNTech\", \"Pfizer/BioNTech\", \"Pfizer/BioNTech\", \"Pfizer/BioNTech\", \"Pfizer/BioNTech\", \"Pfizer/BioNTech\", \"Pfizer/BioNTech\", \"Pfizer/BioNTech\", \"Pfizer/BioNTech\", \"Pfizer/BioNTech\", \"Pfizer/BioNTech\", \"Pfizer/BioNTech\", \"Pfizer/BioNTech\", \"Pfizer/BioNTech\", \"Pfizer/BioNTech\", \"Pfizer/BioNTech\", \"Pfizer/BioNTech\", \"Pfizer/BioNTech\", \"Pfizer/BioNTech\", \"Pfizer/BioNTech\", \"Pfizer/BioNTech\", \"Pfizer/BioNTech\", \"Pfizer/BioNTech\", \"Pfizer/BioNTech\", \"Pfizer/BioNTech\", \"Pfizer/BioNTech\", \"Pfizer/BioNTech\", \"Pfizer/BioNTech\", \"Pfizer/BioNTech\", \"Pfizer/BioNTech\", \"Pfizer/BioNTech\", \"Pfizer/BioNTech\", \"Pfizer/BioNTech\", \"Pfizer/BioNTech\", \"Pfizer/BioNTech\", \"Pfizer/BioNTech\", \"Pfizer/BioNTech\", \"Pfizer/BioNTech\", \"Pfizer/BioNTech\", \"Pfizer/BioNTech\", \"Pfizer/BioNTech\", \"Pfizer/BioNTech\", \"Pfizer/BioNTech\", \"Pfizer/BioNTech\", \"Pfizer/BioNTech\", \"Pfizer/BioNTech\", \"Pfizer/BioNTech\", \"Pfizer/BioNTech\", \"Pfizer/BioNTech\", \"Pfizer/BioNTech\", \"Pfizer/BioNTech\", \"Pfizer/BioNTech\", \"Pfizer/BioNTech\", \"Pfizer/BioNTech\", \"Pfizer/BioNTech\", \"Pfizer/BioNTech\", \"Pfizer/BioNTech\", \"Pfizer/BioNTech, Sinovac\", \"Pfizer/BioNTech, Sinovac\", \"Pfizer/BioNTech, Sinovac\", \"Pfizer/BioNTech, Sinovac\", \"Pfizer/BioNTech, Sinovac\", \"Pfizer/BioNTech, Sinovac\", \"Pfizer/BioNTech, Sinovac\", \"Pfizer/BioNTech, Sinovac\", \"Pfizer/BioNTech, Sinovac\", \"Pfizer/BioNTech, Sinovac\", \"Pfizer/BioNTech, Sinovac\", \"Pfizer/BioNTech, Sinovac\", \"Pfizer/BioNTech, Sinovac\", \"Pfizer/BioNTech, Sinovac\", \"Pfizer/BioNTech, Sinovac\", \"Pfizer/BioNTech, Sinovac\", \"Pfizer/BioNTech, Sinovac\", \"Pfizer/BioNTech, Sinovac\", \"Pfizer/BioNTech, Sinovac\", \"Pfizer/BioNTech, Sinovac\", \"Pfizer/BioNTech, Sinovac\", \"Pfizer/BioNTech, Sinovac\", \"Pfizer/BioNTech, Sinovac\", \"Pfizer/BioNTech, Sinovac\", \"Pfizer/BioNTech, Sinovac\", \"Pfizer/BioNTech, Sinovac\", \"Pfizer/BioNTech, Sinovac\", \"Pfizer/BioNTech, Sinovac\", \"Pfizer/BioNTech, Sinovac\", \"Pfizer/BioNTech, Sinovac\", \"Pfizer/BioNTech, Sinovac\", \"Pfizer/BioNTech, Sinovac\", \"Pfizer/BioNTech, Sinovac\", \"Pfizer/BioNTech, Sinovac\", \"Pfizer/BioNTech, Sinovac\", \"Pfizer/BioNTech, Sinovac\", \"Pfizer/BioNTech, Sinovac\", \"Pfizer/BioNTech, Sinovac\", \"Pfizer/BioNTech, Sinovac\", \"Pfizer/BioNTech, Sinovac\", \"Pfizer/BioNTech, Sinovac\", \"Pfizer/BioNTech, Sinovac\", \"Pfizer/BioNTech, Sinovac\", \"Pfizer/BioNTech, Sinovac\", \"Pfizer/BioNTech, Sinovac\", \"Pfizer/BioNTech, Sinovac\", \"Pfizer/BioNTech, Sinovac\", \"Pfizer/BioNTech, Sinovac\", \"Pfizer/BioNTech, Sinovac\", \"Pfizer/BioNTech, Sinovac\", \"Pfizer/BioNTech, Sinovac\", \"Pfizer/BioNTech, Sinovac\", \"Pfizer/BioNTech, Sinovac\", \"Pfizer/BioNTech, Sinovac\", \"Pfizer/BioNTech, Sinovac\", \"Pfizer/BioNTech, Sinovac\", \"Pfizer/BioNTech, Sinovac\", \"Pfizer/BioNTech, Sinovac\", \"Pfizer/BioNTech, Sinovac\", \"Pfizer/BioNTech, Sinovac\", \"Pfizer/BioNTech, Sinovac\", \"Pfizer/BioNTech, Sinovac\", \"Pfizer/BioNTech, Sinovac\", \"Pfizer/BioNTech, Sinovac\", \"Pfizer/BioNTech, Sinovac\", \"Pfizer/BioNTech, Sinovac\", \"Pfizer/BioNTech, Sinovac\", \"Pfizer/BioNTech, Sinovac\", \"Pfizer/BioNTech, Sinovac\", \"Pfizer/BioNTech, Sinovac\", \"Pfizer/BioNTech, Sinovac\", \"Pfizer/BioNTech, Sinovac\", \"Pfizer/BioNTech, Sinovac\", \"Sinopharm/Beijing, Sinopharm/Wuhan, Sinovac\", \"Sinopharm/Beijing, Sinopharm/Wuhan, Sinovac\", \"Sinopharm/Beijing, Sinopharm/Wuhan, Sinovac\", \"Sinopharm/Beijing, Sinopharm/Wuhan, Sinovac\", \"Sinopharm/Beijing, Sinopharm/Wuhan, Sinovac\", \"Sinopharm/Beijing, Sinopharm/Wuhan, Sinovac\", \"Sinopharm/Beijing, Sinopharm/Wuhan, Sinovac\", \"Sinopharm/Beijing, Sinopharm/Wuhan, Sinovac\", \"Sinopharm/Beijing, Sinopharm/Wuhan, Sinovac\", \"Sinopharm/Beijing, Sinopharm/Wuhan, Sinovac\", \"Sinopharm/Beijing, Sinopharm/Wuhan, Sinovac\", \"Sinopharm/Beijing, Sinopharm/Wuhan, Sinovac\", \"Sinopharm/Beijing, Sinopharm/Wuhan, Sinovac\", \"Sinopharm/Beijing, Sinopharm/Wuhan, Sinovac\", \"Sinopharm/Beijing, Sinopharm/Wuhan, Sinovac\", \"Sinopharm/Beijing, Sinopharm/Wuhan, Sinovac\", \"Sinopharm/Beijing, Sinopharm/Wuhan, Sinovac\", \"Sinopharm/Beijing, Sinopharm/Wuhan, Sinovac\", \"Sinopharm/Beijing, Sinopharm/Wuhan, Sinovac\", \"Sinopharm/Beijing, Sinopharm/Wuhan, Sinovac\", \"Sinopharm/Beijing, Sinopharm/Wuhan, Sinovac\", \"Sinopharm/Beijing, Sinopharm/Wuhan, Sinovac\", \"Sinopharm/Beijing, Sinopharm/Wuhan, Sinovac\", \"Sinopharm/Beijing, Sinopharm/Wuhan, Sinovac\", \"Sinopharm/Beijing, Sinopharm/Wuhan, Sinovac\", \"Sinopharm/Beijing, Sinopharm/Wuhan, Sinovac\", \"Sinopharm/Beijing, Sinopharm/Wuhan, Sinovac\", \"Sinopharm/Beijing, Sinopharm/Wuhan, Sinovac\", \"Sinopharm/Beijing, Sinopharm/Wuhan, Sinovac\", \"Sinopharm/Beijing, Sinopharm/Wuhan, Sinovac\", \"Sinopharm/Beijing, Sinopharm/Wuhan, Sinovac\", \"Sinopharm/Beijing, Sinopharm/Wuhan, Sinovac\", \"Sinopharm/Beijing, Sinopharm/Wuhan, Sinovac\", \"Sinopharm/Beijing, Sinopharm/Wuhan, Sinovac\", \"Sinopharm/Beijing, Sinopharm/Wuhan, Sinovac\", \"Sinopharm/Beijing, Sinopharm/Wuhan, Sinovac\", \"Sinopharm/Beijing, Sinopharm/Wuhan, Sinovac\", \"Sinopharm/Beijing, Sinopharm/Wuhan, Sinovac\", \"Sinopharm/Beijing, Sinopharm/Wuhan, Sinovac\", \"Sinopharm/Beijing, Sinopharm/Wuhan, Sinovac\", \"Sinopharm/Beijing, Sinopharm/Wuhan, Sinovac\", \"Sinopharm/Beijing, Sinopharm/Wuhan, Sinovac\", \"Sinopharm/Beijing, Sinopharm/Wuhan, Sinovac\", \"Sinopharm/Beijing, Sinopharm/Wuhan, Sinovac\", \"Sinopharm/Beijing, Sinopharm/Wuhan, Sinovac\", \"Sinopharm/Beijing, Sinopharm/Wuhan, Sinovac\", \"Sinopharm/Beijing, Sinopharm/Wuhan, Sinovac\", \"Sinopharm/Beijing, Sinopharm/Wuhan, Sinovac\", \"Sinopharm/Beijing, Sinopharm/Wuhan, Sinovac\", \"Sinopharm/Beijing, Sinopharm/Wuhan, Sinovac\", \"Sinopharm/Beijing, Sinopharm/Wuhan, Sinovac\", \"Sinopharm/Beijing, Sinopharm/Wuhan, Sinovac\", \"Sinopharm/Beijing, Sinopharm/Wuhan, Sinovac\", \"Sinopharm/Beijing, Sinopharm/Wuhan, Sinovac\", \"Sinopharm/Beijing, Sinopharm/Wuhan, Sinovac\", \"Sinopharm/Beijing, Sinopharm/Wuhan, Sinovac\", \"Sinopharm/Beijing, Sinopharm/Wuhan, Sinovac\", \"Sinopharm/Beijing, Sinopharm/Wuhan, Sinovac\", \"Sinopharm/Beijing, Sinopharm/Wuhan, Sinovac\", \"Sinopharm/Beijing, Sinopharm/Wuhan, Sinovac\", \"Sinopharm/Beijing, Sinopharm/Wuhan, Sinovac\", \"Sinopharm/Beijing, Sinopharm/Wuhan, Sinovac\", \"Sinopharm/Beijing, Sinopharm/Wuhan, Sinovac\", \"Sinopharm/Beijing, Sinopharm/Wuhan, Sinovac\", \"Sinopharm/Beijing, Sinopharm/Wuhan, Sinovac\", \"Sinopharm/Beijing, Sinopharm/Wuhan, Sinovac\", \"Sinopharm/Beijing, Sinopharm/Wuhan, Sinovac\", \"Sinopharm/Beijing, Sinopharm/Wuhan, Sinovac\", \"Sinopharm/Beijing, Sinopharm/Wuhan, Sinovac\", \"Sinopharm/Beijing, Sinopharm/Wuhan, Sinovac\", \"Sinopharm/Beijing, Sinopharm/Wuhan, Sinovac\", \"Sinopharm/Beijing, Sinopharm/Wuhan, Sinovac\", \"Sinopharm/Beijing, Sinopharm/Wuhan, Sinovac\", \"Sinopharm/Beijing, Sinopharm/Wuhan, Sinovac\", \"Sinopharm/Beijing, Sinopharm/Wuhan, Sinovac\", \"Sinopharm/Beijing, Sinopharm/Wuhan, Sinovac\", \"Pfizer/BioNTech\", \"Pfizer/BioNTech\", \"Pfizer/BioNTech\", \"Pfizer/BioNTech\", \"Pfizer/BioNTech\", \"Pfizer/BioNTech\", \"Pfizer/BioNTech\", \"Pfizer/BioNTech\", \"Pfizer/BioNTech\", \"Pfizer/BioNTech\", \"Pfizer/BioNTech\", \"Pfizer/BioNTech\", \"Pfizer/BioNTech\", \"Pfizer/BioNTech\", \"Pfizer/BioNTech\", \"Pfizer/BioNTech\", \"Pfizer/BioNTech\", \"Pfizer/BioNTech\", \"Pfizer/BioNTech\", \"Pfizer/BioNTech\", \"Pfizer/BioNTech\", \"Pfizer/BioNTech\", \"Pfizer/BioNTech\", \"Pfizer/BioNTech\", \"Pfizer/BioNTech\", \"Pfizer/BioNTech\", \"Pfizer/BioNTech\", \"Pfizer/BioNTech\", \"Pfizer/BioNTech\", \"Pfizer/BioNTech\", \"Pfizer/BioNTech\", \"Pfizer/BioNTech\", \"Pfizer/BioNTech\", \"Pfizer/BioNTech\", \"Pfizer/BioNTech\", \"Pfizer/BioNTech\", \"Pfizer/BioNTech\", \"Pfizer/BioNTech\", \"Pfizer/BioNTech\", \"Pfizer/BioNTech\", \"Pfizer/BioNTech\", \"Pfizer/BioNTech\", \"Pfizer/BioNTech\", \"Pfizer/BioNTech\", \"Pfizer/BioNTech\", \"Pfizer/BioNTech\", \"Pfizer/BioNTech\", \"Pfizer/BioNTech\", \"Pfizer/BioNTech\", \"Pfizer/BioNTech\", \"Pfizer/BioNTech\", \"Pfizer/BioNTech\", \"Pfizer/BioNTech\", \"Pfizer/BioNTech\", \"Pfizer/BioNTech\", \"Pfizer/BioNTech\", \"Pfizer/BioNTech\", \"Pfizer/BioNTech\", \"Pfizer/BioNTech\", \"Pfizer/BioNTech\", \"Pfizer/BioNTech\", \"Pfizer/BioNTech\", \"Pfizer/BioNTech\", \"Pfizer/BioNTech\", \"Pfizer/BioNTech\", \"Pfizer/BioNTech\", \"Pfizer/BioNTech\", \"Pfizer/BioNTech\", \"Pfizer/BioNTech\", \"Pfizer/BioNTech\", \"Pfizer/BioNTech\", \"Pfizer/BioNTech\", \"Pfizer/BioNTech\", \"Pfizer/BioNTech\", \"Pfizer/BioNTech\", \"Pfizer/BioNTech\", \"Pfizer/BioNTech\", \"Pfizer/BioNTech\", \"Pfizer/BioNTech\", \"Pfizer/BioNTech\", \"Pfizer/BioNTech\", \"Pfizer/BioNTech\", \"Pfizer/BioNTech\", \"Pfizer/BioNTech\", \"Pfizer/BioNTech\", \"Pfizer/BioNTech\", \"Pfizer/BioNTech\", \"Pfizer/BioNTech\", \"Pfizer/BioNTech\", \"Pfizer/BioNTech\", \"Pfizer/BioNTech\", \"Pfizer/BioNTech\", \"Pfizer/BioNTech\", \"Pfizer/BioNTech\", \"Pfizer/BioNTech\", \"Pfizer/BioNTech\", \"Pfizer/BioNTech\", \"Pfizer/BioNTech\", \"Pfizer/BioNTech\", \"Pfizer/BioNTech\", \"Pfizer/BioNTech\", \"Pfizer/BioNTech\", \"Pfizer/BioNTech\", \"Pfizer/BioNTech\", \"Pfizer/BioNTech\", \"Pfizer/BioNTech\", \"Pfizer/BioNTech\", \"Pfizer/BioNTech\", \"Pfizer/BioNTech\", \"Pfizer/BioNTech\", \"Pfizer/BioNTech\", \"Pfizer/BioNTech\", \"Pfizer/BioNTech\", \"Pfizer/BioNTech\", \"Pfizer/BioNTech\", \"Pfizer/BioNTech\", \"Pfizer/BioNTech\", \"Pfizer/BioNTech\", \"Pfizer/BioNTech\", \"Pfizer/BioNTech\", \"Pfizer/BioNTech\", \"Pfizer/BioNTech\", \"Pfizer/BioNTech\", \"Pfizer/BioNTech\", \"Pfizer/BioNTech\", \"Pfizer/BioNTech\", \"Pfizer/BioNTech\", \"Pfizer/BioNTech\", \"Pfizer/BioNTech\", \"Pfizer/BioNTech\", \"Pfizer/BioNTech\", \"Pfizer/BioNTech\", \"Pfizer/BioNTech\", \"Pfizer/BioNTech\", \"Pfizer/BioNTech\", \"Pfizer/BioNTech\", \"Pfizer/BioNTech\", \"Pfizer/BioNTech\", \"Pfizer/BioNTech\", \"Pfizer/BioNTech\", \"Pfizer/BioNTech\", \"Pfizer/BioNTech\", \"Pfizer/BioNTech\", \"Pfizer/BioNTech\", \"Pfizer/BioNTech\", \"Pfizer/BioNTech\", \"Pfizer/BioNTech\", \"Pfizer/BioNTech\", \"Pfizer/BioNTech\", \"Pfizer/BioNTech\", \"Pfizer/BioNTech\", \"Pfizer/BioNTech\", \"Pfizer/BioNTech\", \"Pfizer/BioNTech\", \"Pfizer/BioNTech\", \"Pfizer/BioNTech\", \"Pfizer/BioNTech\", \"Pfizer/BioNTech\", \"Pfizer/BioNTech\", \"Pfizer/BioNTech\", \"Pfizer/BioNTech\", \"Pfizer/BioNTech\", \"Pfizer/BioNTech\", \"Pfizer/BioNTech\", \"Pfizer/BioNTech\", \"Pfizer/BioNTech\", \"Pfizer/BioNTech\", \"Pfizer/BioNTech\", \"Pfizer/BioNTech\", \"Pfizer/BioNTech\", \"Pfizer/BioNTech\", \"Pfizer/BioNTech\", \"Pfizer/BioNTech\", \"Pfizer/BioNTech\", \"Pfizer/BioNTech\", \"Pfizer/BioNTech\", \"Pfizer/BioNTech\", \"Pfizer/BioNTech\", \"Pfizer/BioNTech\", \"Pfizer/BioNTech\", \"Pfizer/BioNTech\", \"Pfizer/BioNTech\", \"Pfizer/BioNTech\", \"Pfizer/BioNTech\", \"Pfizer/BioNTech\", \"Pfizer/BioNTech\", \"Pfizer/BioNTech\", \"Pfizer/BioNTech\", \"Pfizer/BioNTech\", \"Pfizer/BioNTech\", \"Pfizer/BioNTech\", \"Pfizer/BioNTech\", \"Pfizer/BioNTech\", \"Pfizer/BioNTech\", \"Pfizer/BioNTech\", \"Pfizer/BioNTech\", \"Pfizer/BioNTech\", \"Pfizer/BioNTech\", \"Pfizer/BioNTech\", \"Pfizer/BioNTech\", \"Pfizer/BioNTech\", \"Pfizer/BioNTech\", \"Pfizer/BioNTech\", \"Pfizer/BioNTech\", \"Pfizer/BioNTech\", \"Pfizer/BioNTech\", \"Pfizer/BioNTech\", \"Pfizer/BioNTech\", \"Pfizer/BioNTech\", \"Pfizer/BioNTech\", \"Pfizer/BioNTech\", \"Pfizer/BioNTech\", \"Pfizer/BioNTech\", \"Pfizer/BioNTech\", \"Pfizer/BioNTech\", \"Moderna, Oxford/AstraZeneca, Pfizer/BioNTech\", \"Moderna, Oxford/AstraZeneca, Pfizer/BioNTech\", \"Moderna, Oxford/AstraZeneca, Pfizer/BioNTech\", \"Moderna, Oxford/AstraZeneca, Pfizer/BioNTech\", \"Moderna, Oxford/AstraZeneca, Pfizer/BioNTech\", \"Moderna, Oxford/AstraZeneca, Pfizer/BioNTech\", \"Moderna, Oxford/AstraZeneca, Pfizer/BioNTech\", \"Moderna, Oxford/AstraZeneca, Pfizer/BioNTech\", \"Moderna, Oxford/AstraZeneca, Pfizer/BioNTech\", \"Moderna, Oxford/AstraZeneca, Pfizer/BioNTech\", \"Moderna, Oxford/AstraZeneca, Pfizer/BioNTech\", \"Moderna, Oxford/AstraZeneca, Pfizer/BioNTech\", \"Moderna, Oxford/AstraZeneca, Pfizer/BioNTech\", \"Moderna, Oxford/AstraZeneca, Pfizer/BioNTech\", \"Moderna, Oxford/AstraZeneca, Pfizer/BioNTech\", \"Moderna, Oxford/AstraZeneca, Pfizer/BioNTech\", \"Moderna, Oxford/AstraZeneca, Pfizer/BioNTech\", \"Moderna, Oxford/AstraZeneca, Pfizer/BioNTech\", \"Moderna, Oxford/AstraZeneca, Pfizer/BioNTech\", \"Moderna, Oxford/AstraZeneca, Pfizer/BioNTech\", \"Moderna, Oxford/AstraZeneca, Pfizer/BioNTech\", \"Moderna, Oxford/AstraZeneca, Pfizer/BioNTech\", \"Moderna, Oxford/AstraZeneca, Pfizer/BioNTech\", \"Moderna, Oxford/AstraZeneca, Pfizer/BioNTech\", \"Moderna, Oxford/AstraZeneca, Pfizer/BioNTech\", \"Moderna, Oxford/AstraZeneca, Pfizer/BioNTech\", \"Moderna, Oxford/AstraZeneca, Pfizer/BioNTech\", \"Moderna, Oxford/AstraZeneca, Pfizer/BioNTech\", \"Moderna, Oxford/AstraZeneca, Pfizer/BioNTech\", \"Moderna, Oxford/AstraZeneca, Pfizer/BioNTech\", \"Moderna, Oxford/AstraZeneca, Pfizer/BioNTech\", \"Moderna, Oxford/AstraZeneca, Pfizer/BioNTech\", \"Moderna, Oxford/AstraZeneca, Pfizer/BioNTech\", \"Moderna, Oxford/AstraZeneca, Pfizer/BioNTech\", \"Moderna, Oxford/AstraZeneca, Pfizer/BioNTech\", \"Moderna, Oxford/AstraZeneca, Pfizer/BioNTech\", \"Moderna, Oxford/AstraZeneca, Pfizer/BioNTech\", \"Moderna, Oxford/AstraZeneca, Pfizer/BioNTech\", \"Moderna, Oxford/AstraZeneca, Pfizer/BioNTech\", \"Moderna, Oxford/AstraZeneca, Pfizer/BioNTech\", \"Moderna, Oxford/AstraZeneca, Pfizer/BioNTech\", \"Moderna, Oxford/AstraZeneca, Pfizer/BioNTech\", \"Moderna, Oxford/AstraZeneca, Pfizer/BioNTech\", \"Moderna, Oxford/AstraZeneca, Pfizer/BioNTech\", \"Moderna, Oxford/AstraZeneca, Pfizer/BioNTech\", \"Moderna, Oxford/AstraZeneca, Pfizer/BioNTech\", \"Moderna, Oxford/AstraZeneca, Pfizer/BioNTech\", \"Moderna, Oxford/AstraZeneca, Pfizer/BioNTech\", \"Moderna, Oxford/AstraZeneca, Pfizer/BioNTech\", \"Moderna, Oxford/AstraZeneca, Pfizer/BioNTech\", \"Moderna, Oxford/AstraZeneca, Pfizer/BioNTech\", \"Moderna, Oxford/AstraZeneca, Pfizer/BioNTech\", \"Moderna, Oxford/AstraZeneca, Pfizer/BioNTech\", \"Moderna, Oxford/AstraZeneca, Pfizer/BioNTech\", \"Moderna, Oxford/AstraZeneca, Pfizer/BioNTech\", \"Moderna, Oxford/AstraZeneca, Pfizer/BioNTech\", \"Moderna, Oxford/AstraZeneca, Pfizer/BioNTech\", \"Moderna, Oxford/AstraZeneca, Pfizer/BioNTech\", \"Moderna, Oxford/AstraZeneca, Pfizer/BioNTech\", \"Moderna, Oxford/AstraZeneca, Pfizer/BioNTech\", \"Moderna, Oxford/AstraZeneca, Pfizer/BioNTech\", \"Moderna, Oxford/AstraZeneca, Pfizer/BioNTech\", \"Moderna, Oxford/AstraZeneca, Pfizer/BioNTech\", \"Moderna, Oxford/AstraZeneca, Pfizer/BioNTech\", \"Moderna, Oxford/AstraZeneca, Pfizer/BioNTech\", \"Moderna, Oxford/AstraZeneca, Pfizer/BioNTech\", \"Moderna, Oxford/AstraZeneca, Pfizer/BioNTech\", \"Moderna, Oxford/AstraZeneca, Pfizer/BioNTech\", \"Moderna, Oxford/AstraZeneca, Pfizer/BioNTech\", \"Moderna, Oxford/AstraZeneca, Pfizer/BioNTech\", \"Moderna, Pfizer/BioNTech\", \"Moderna, Pfizer/BioNTech\", \"Moderna, Pfizer/BioNTech\", \"Moderna, Pfizer/BioNTech\", \"Moderna, Pfizer/BioNTech\", \"Moderna, Pfizer/BioNTech\", \"Moderna, Pfizer/BioNTech\", \"Moderna, Pfizer/BioNTech\", \"Moderna, Pfizer/BioNTech\", \"Moderna, Pfizer/BioNTech\", \"Moderna, Pfizer/BioNTech\", \"Moderna, Pfizer/BioNTech\", \"Moderna, Pfizer/BioNTech\", \"Moderna, Pfizer/BioNTech\", \"Moderna, Pfizer/BioNTech\", \"Moderna, Pfizer/BioNTech\", \"Moderna, Pfizer/BioNTech\", \"Moderna, Pfizer/BioNTech\", \"Moderna, Pfizer/BioNTech\", \"Moderna, Pfizer/BioNTech\", \"Moderna, Pfizer/BioNTech\", \"Moderna, Pfizer/BioNTech\", \"Moderna, Pfizer/BioNTech\", \"Moderna, Pfizer/BioNTech\", \"Moderna, Pfizer/BioNTech\", \"Moderna, Pfizer/BioNTech\", \"Moderna, Pfizer/BioNTech\", \"Moderna, Pfizer/BioNTech\", \"Moderna, Pfizer/BioNTech\", \"Moderna, Pfizer/BioNTech\", \"Moderna, Pfizer/BioNTech\", \"Moderna, Pfizer/BioNTech\", \"Moderna, Pfizer/BioNTech\", \"Moderna, Pfizer/BioNTech\", \"Moderna, Pfizer/BioNTech\", \"Moderna, Pfizer/BioNTech\", \"Moderna, Pfizer/BioNTech\", \"Moderna, Pfizer/BioNTech\", \"Moderna, Pfizer/BioNTech\", \"Moderna, Pfizer/BioNTech\", \"Moderna, Pfizer/BioNTech\", \"Moderna, Pfizer/BioNTech\", \"Moderna, Pfizer/BioNTech\", \"Moderna, Pfizer/BioNTech\", \"Moderna, Pfizer/BioNTech\", \"Moderna, Pfizer/BioNTech\", \"Moderna, Pfizer/BioNTech\", \"Moderna, Pfizer/BioNTech\", \"Moderna, Pfizer/BioNTech\", \"Moderna, Pfizer/BioNTech\", \"Moderna, Pfizer/BioNTech\", \"Moderna, Pfizer/BioNTech\", \"Moderna, Pfizer/BioNTech\", \"Moderna, Pfizer/BioNTech\", \"Moderna, Pfizer/BioNTech\", \"Moderna, Pfizer/BioNTech\", \"Moderna, Pfizer/BioNTech\", \"Moderna, Pfizer/BioNTech\", \"Moderna, Pfizer/BioNTech\", \"Moderna, Pfizer/BioNTech\", \"Moderna, Pfizer/BioNTech\", \"Moderna, Pfizer/BioNTech\", \"Moderna, Pfizer/BioNTech\", \"Moderna, Pfizer/BioNTech\", \"Moderna, Pfizer/BioNTech\", \"Moderna, Pfizer/BioNTech\", \"Moderna, Pfizer/BioNTech\", \"Moderna, Pfizer/BioNTech\", \"Moderna, Pfizer/BioNTech\", \"Oxford/AstraZeneca\", \"Oxford/AstraZeneca\", \"Oxford/AstraZeneca\", \"Oxford/AstraZeneca\", \"Oxford/AstraZeneca\", \"Oxford/AstraZeneca\", \"Oxford/AstraZeneca\", \"Oxford/AstraZeneca\", \"Oxford/AstraZeneca\", \"Oxford/AstraZeneca\", \"Oxford/AstraZeneca\", \"Oxford/AstraZeneca\", \"Oxford/AstraZeneca\", \"Oxford/AstraZeneca\", \"Oxford/AstraZeneca\", \"Oxford/AstraZeneca\", \"Oxford/AstraZeneca\", \"Oxford/AstraZeneca\", \"Oxford/AstraZeneca\", \"Oxford/AstraZeneca\", \"Pfizer/BioNTech\", \"Pfizer/BioNTech\", \"Pfizer/BioNTech\", \"Pfizer/BioNTech\", \"Pfizer/BioNTech\", \"Pfizer/BioNTech\", \"Pfizer/BioNTech\", \"Pfizer/BioNTech\", \"Pfizer/BioNTech\", \"Pfizer/BioNTech\", \"Pfizer/BioNTech\", \"Pfizer/BioNTech\", \"Pfizer/BioNTech\", \"Pfizer/BioNTech\", \"Pfizer/BioNTech\", \"Pfizer/BioNTech\", \"Pfizer/BioNTech\", \"Pfizer/BioNTech\", \"Pfizer/BioNTech\", \"Pfizer/BioNTech\", \"Pfizer/BioNTech\", \"Pfizer/BioNTech\", \"Pfizer/BioNTech\", \"Pfizer/BioNTech\", \"Pfizer/BioNTech\", \"Pfizer/BioNTech\", \"Pfizer/BioNTech\", \"Pfizer/BioNTech\", \"Pfizer/BioNTech\", \"Pfizer/BioNTech\", \"Pfizer/BioNTech\", \"Pfizer/BioNTech\", \"Pfizer/BioNTech\", \"Pfizer/BioNTech\", \"Pfizer/BioNTech\", \"Pfizer/BioNTech\", \"Pfizer/BioNTech\", \"Pfizer/BioNTech\", \"Pfizer/BioNTech\", \"Pfizer/BioNTech\", \"Pfizer/BioNTech\", \"Pfizer/BioNTech\", \"Pfizer/BioNTech\", \"Pfizer/BioNTech\", \"Sinopharm/Beijing\", \"Sinopharm/Beijing\", \"Sinopharm/Beijing\", \"Sinopharm/Beijing\", \"Sinopharm/Beijing\", \"Sinopharm/Beijing\", \"Sinopharm/Beijing\", \"Oxford/AstraZeneca\", \"Oxford/AstraZeneca\", \"Oxford/AstraZeneca\", \"Oxford/AstraZeneca\", \"Oxford/AstraZeneca\", \"Oxford/AstraZeneca\", \"Oxford/AstraZeneca\", \"Oxford/AstraZeneca\", \"Oxford/AstraZeneca\", \"Moderna, Oxford/AstraZeneca, Pfizer/BioNTech\", \"Moderna, Oxford/AstraZeneca, Pfizer/BioNTech\", \"Moderna, Oxford/AstraZeneca, Pfizer/BioNTech\", \"Moderna, Oxford/AstraZeneca, Pfizer/BioNTech\", \"Moderna, Oxford/AstraZeneca, Pfizer/BioNTech\", \"Moderna, Oxford/AstraZeneca, Pfizer/BioNTech\", \"Moderna, Oxford/AstraZeneca, Pfizer/BioNTech\", \"Moderna, Oxford/AstraZeneca, Pfizer/BioNTech\", \"Moderna, Oxford/AstraZeneca, Pfizer/BioNTech\", \"Moderna, Oxford/AstraZeneca, Pfizer/BioNTech\", \"Moderna, Oxford/AstraZeneca, Pfizer/BioNTech\", \"Moderna, Oxford/AstraZeneca, Pfizer/BioNTech\", \"Moderna, Oxford/AstraZeneca, Pfizer/BioNTech\", \"Moderna, Oxford/AstraZeneca, Pfizer/BioNTech\", \"Moderna, Oxford/AstraZeneca, Pfizer/BioNTech\", \"Moderna, Oxford/AstraZeneca, Pfizer/BioNTech\", \"Moderna, Oxford/AstraZeneca, Pfizer/BioNTech\", \"Moderna, Oxford/AstraZeneca, Pfizer/BioNTech\", \"Moderna, Oxford/AstraZeneca, Pfizer/BioNTech\", \"Moderna, Oxford/AstraZeneca, Pfizer/BioNTech\", \"Moderna, Oxford/AstraZeneca, Pfizer/BioNTech\", \"Moderna, Oxford/AstraZeneca, Pfizer/BioNTech\", \"Moderna, Oxford/AstraZeneca, Pfizer/BioNTech\", \"Moderna, Oxford/AstraZeneca, Pfizer/BioNTech\", \"Moderna, Oxford/AstraZeneca, Pfizer/BioNTech\", \"Moderna, Oxford/AstraZeneca, Pfizer/BioNTech\", \"Moderna, Oxford/AstraZeneca, Pfizer/BioNTech\", \"Moderna, Oxford/AstraZeneca, Pfizer/BioNTech\", \"Moderna, Oxford/AstraZeneca, Pfizer/BioNTech\", \"Moderna, Oxford/AstraZeneca, Pfizer/BioNTech\", \"Moderna, Oxford/AstraZeneca, Pfizer/BioNTech\", \"Moderna, Oxford/AstraZeneca, Pfizer/BioNTech\", \"Moderna, Oxford/AstraZeneca, Pfizer/BioNTech\", \"Moderna, Oxford/AstraZeneca, Pfizer/BioNTech\", \"Moderna, Oxford/AstraZeneca, Pfizer/BioNTech\", \"Moderna, Oxford/AstraZeneca, Pfizer/BioNTech\", \"Moderna, Oxford/AstraZeneca, Pfizer/BioNTech\", \"Moderna, Oxford/AstraZeneca, Pfizer/BioNTech\", \"Moderna, Oxford/AstraZeneca, Pfizer/BioNTech\", \"Moderna, Oxford/AstraZeneca, Pfizer/BioNTech\", \"Moderna, Oxford/AstraZeneca, Pfizer/BioNTech\", \"Moderna, Oxford/AstraZeneca, Pfizer/BioNTech\", \"Moderna, Oxford/AstraZeneca, Pfizer/BioNTech\", \"Moderna, Oxford/AstraZeneca, Pfizer/BioNTech\", \"Moderna, Oxford/AstraZeneca, Pfizer/BioNTech\", \"Moderna, Oxford/AstraZeneca, Pfizer/BioNTech\", \"Moderna, Oxford/AstraZeneca, Pfizer/BioNTech\", \"Moderna, Oxford/AstraZeneca, Pfizer/BioNTech\", \"Moderna, Oxford/AstraZeneca, Pfizer/BioNTech\", \"Moderna, Oxford/AstraZeneca, Pfizer/BioNTech\", \"Moderna, Oxford/AstraZeneca, Pfizer/BioNTech\", \"Moderna, Oxford/AstraZeneca, Pfizer/BioNTech\", \"Moderna, Oxford/AstraZeneca, Pfizer/BioNTech\", \"Moderna, Oxford/AstraZeneca, Pfizer/BioNTech\", \"Moderna, Oxford/AstraZeneca, Pfizer/BioNTech\", \"Moderna, Oxford/AstraZeneca, Pfizer/BioNTech\", \"Moderna, Oxford/AstraZeneca, Pfizer/BioNTech\", \"Moderna, Oxford/AstraZeneca, Pfizer/BioNTech\", \"Moderna, Oxford/AstraZeneca, Pfizer/BioNTech\", \"Moderna, Oxford/AstraZeneca, Pfizer/BioNTech\", \"Moderna, Oxford/AstraZeneca, Pfizer/BioNTech\", \"Moderna, Oxford/AstraZeneca, Pfizer/BioNTech\", \"Moderna, Oxford/AstraZeneca, Pfizer/BioNTech\", \"Moderna, Oxford/AstraZeneca, Pfizer/BioNTech\", \"Moderna, Oxford/AstraZeneca, Pfizer/BioNTech\", \"Moderna, Oxford/AstraZeneca, Pfizer/BioNTech\", \"Moderna, Oxford/AstraZeneca, Pfizer/BioNTech\", \"Moderna, Oxford/AstraZeneca, Pfizer/BioNTech\", \"Pfizer/BioNTech\", \"Pfizer/BioNTech\", \"Pfizer/BioNTech\", \"Pfizer/BioNTech\", \"Pfizer/BioNTech\", \"Pfizer/BioNTech\", \"Pfizer/BioNTech\", \"Pfizer/BioNTech\", \"Pfizer/BioNTech\", \"Pfizer/BioNTech\", \"Pfizer/BioNTech\", \"Pfizer/BioNTech\", \"Pfizer/BioNTech\", \"Pfizer/BioNTech\", \"Pfizer/BioNTech\", \"Pfizer/BioNTech\", \"Pfizer/BioNTech\", \"Pfizer/BioNTech\", \"Pfizer/BioNTech\", \"Pfizer/BioNTech\", \"Pfizer/BioNTech\", \"Pfizer/BioNTech\", \"Pfizer/BioNTech\", \"Pfizer/BioNTech\", \"Pfizer/BioNTech\", \"Pfizer/BioNTech\", \"Pfizer/BioNTech\", \"Pfizer/BioNTech\", \"Pfizer/BioNTech\", \"Pfizer/BioNTech\", \"Pfizer/BioNTech\", \"Pfizer/BioNTech\", \"Pfizer/BioNTech\", \"Pfizer/BioNTech\", \"Pfizer/BioNTech\", \"Pfizer/BioNTech\", \"Pfizer/BioNTech\", \"Oxford/AstraZeneca\", \"Oxford/AstraZeneca\", \"Oxford/AstraZeneca\", \"Oxford/AstraZeneca\", \"Oxford/AstraZeneca\", \"Oxford/AstraZeneca\", \"Oxford/AstraZeneca\", \"Oxford/AstraZeneca\", \"Oxford/AstraZeneca\", \"Oxford/AstraZeneca\", \"Oxford/AstraZeneca\", \"Oxford/AstraZeneca\", \"Oxford/AstraZeneca\", \"Oxford/AstraZeneca\", \"Oxford/AstraZeneca\", \"Oxford/AstraZeneca\", \"Moderna, Oxford/AstraZeneca, Pfizer/BioNTech\", \"Moderna, Oxford/AstraZeneca, Pfizer/BioNTech\", \"Moderna, Oxford/AstraZeneca, Pfizer/BioNTech\", \"Moderna, Oxford/AstraZeneca, Pfizer/BioNTech\", \"Moderna, Oxford/AstraZeneca, Pfizer/BioNTech\", \"Moderna, Oxford/AstraZeneca, Pfizer/BioNTech\", \"Moderna, Oxford/AstraZeneca, Pfizer/BioNTech\", \"Moderna, Oxford/AstraZeneca, Pfizer/BioNTech\", \"Moderna, Oxford/AstraZeneca, Pfizer/BioNTech\", \"Moderna, Oxford/AstraZeneca, Pfizer/BioNTech\", \"Moderna, Oxford/AstraZeneca, Pfizer/BioNTech\", \"Moderna, Oxford/AstraZeneca, Pfizer/BioNTech\", \"Moderna, Oxford/AstraZeneca, Pfizer/BioNTech\", \"Moderna, Oxford/AstraZeneca, Pfizer/BioNTech\", \"Moderna, Oxford/AstraZeneca, Pfizer/BioNTech\", \"Moderna, Oxford/AstraZeneca, Pfizer/BioNTech\", \"Moderna, Oxford/AstraZeneca, Pfizer/BioNTech\", \"Moderna, Oxford/AstraZeneca, Pfizer/BioNTech\", \"Moderna, Oxford/AstraZeneca, Pfizer/BioNTech\", \"Moderna, Oxford/AstraZeneca, Pfizer/BioNTech\", \"Moderna, Oxford/AstraZeneca, Pfizer/BioNTech\", \"Moderna, Oxford/AstraZeneca, Pfizer/BioNTech\", \"Moderna, Oxford/AstraZeneca, Pfizer/BioNTech\", \"Moderna, Oxford/AstraZeneca, Pfizer/BioNTech\", \"Moderna, Oxford/AstraZeneca, Pfizer/BioNTech\", \"Moderna, Oxford/AstraZeneca, Pfizer/BioNTech\", \"Moderna, Oxford/AstraZeneca, Pfizer/BioNTech\", \"Moderna, Oxford/AstraZeneca, Pfizer/BioNTech\", \"Moderna, Oxford/AstraZeneca, Pfizer/BioNTech\", \"Moderna, Oxford/AstraZeneca, Pfizer/BioNTech\", \"Moderna, Oxford/AstraZeneca, Pfizer/BioNTech\", \"Moderna, Oxford/AstraZeneca, Pfizer/BioNTech\", \"Moderna, Oxford/AstraZeneca, Pfizer/BioNTech\", \"Moderna, Oxford/AstraZeneca, Pfizer/BioNTech\", \"Moderna, Oxford/AstraZeneca, Pfizer/BioNTech\", \"Moderna, Oxford/AstraZeneca, Pfizer/BioNTech\", \"Moderna, Oxford/AstraZeneca, Pfizer/BioNTech\", \"Moderna, Oxford/AstraZeneca, Pfizer/BioNTech\", \"Moderna, Oxford/AstraZeneca, Pfizer/BioNTech\", \"Moderna, Oxford/AstraZeneca, Pfizer/BioNTech\", \"Moderna, Oxford/AstraZeneca, Pfizer/BioNTech\", \"Moderna, Oxford/AstraZeneca, Pfizer/BioNTech\", \"Moderna, Oxford/AstraZeneca, Pfizer/BioNTech\", \"Moderna, Oxford/AstraZeneca, Pfizer/BioNTech\", \"Moderna, Oxford/AstraZeneca, Pfizer/BioNTech\", \"Moderna, Oxford/AstraZeneca, Pfizer/BioNTech\", \"Moderna, Oxford/AstraZeneca, Pfizer/BioNTech\", \"Moderna, Oxford/AstraZeneca, Pfizer/BioNTech\", \"Moderna, Oxford/AstraZeneca, Pfizer/BioNTech\", \"Moderna, Oxford/AstraZeneca, Pfizer/BioNTech\", \"Moderna, Oxford/AstraZeneca, Pfizer/BioNTech\", \"Moderna, Oxford/AstraZeneca, Pfizer/BioNTech\", \"Moderna, Oxford/AstraZeneca, Pfizer/BioNTech\", \"Moderna, Oxford/AstraZeneca, Pfizer/BioNTech\", \"Moderna, Oxford/AstraZeneca, Pfizer/BioNTech\", \"Moderna, Oxford/AstraZeneca, Pfizer/BioNTech\", \"Moderna, Oxford/AstraZeneca, Pfizer/BioNTech\", \"Moderna, Oxford/AstraZeneca, Pfizer/BioNTech\", \"Moderna, Oxford/AstraZeneca, Pfizer/BioNTech\", \"Moderna, Oxford/AstraZeneca, Pfizer/BioNTech\", \"Moderna, Oxford/AstraZeneca, Pfizer/BioNTech\", \"Moderna, Oxford/AstraZeneca, Pfizer/BioNTech\", \"Moderna, Oxford/AstraZeneca, Pfizer/BioNTech\", \"Moderna, Oxford/AstraZeneca, Pfizer/BioNTech\", \"Moderna, Oxford/AstraZeneca, Pfizer/BioNTech\", \"Moderna, Oxford/AstraZeneca, Pfizer/BioNTech\", \"Moderna, Oxford/AstraZeneca, Pfizer/BioNTech\", \"Moderna, Oxford/AstraZeneca, Pfizer/BioNTech\", \"Moderna, Oxford/AstraZeneca, Pfizer/BioNTech\", \"Moderna, Oxford/AstraZeneca, Pfizer/BioNTech\", \"Moderna, Oxford/AstraZeneca, Pfizer/BioNTech\", \"Moderna, Oxford/AstraZeneca, Pfizer/BioNTech\", \"Moderna, Oxford/AstraZeneca, Pfizer/BioNTech\", \"Moderna, Oxford/AstraZeneca, Pfizer/BioNTech\", \"Moderna, Oxford/AstraZeneca, Pfizer/BioNTech\", \"Moderna, Oxford/AstraZeneca, Pfizer/BioNTech\", \"Moderna, Oxford/AstraZeneca, Pfizer/BioNTech\", \"Moderna, Oxford/AstraZeneca, Pfizer/BioNTech\", \"Moderna, Oxford/AstraZeneca, Pfizer/BioNTech\", \"Moderna, Oxford/AstraZeneca, Pfizer/BioNTech\", \"Moderna, Oxford/AstraZeneca, Pfizer/BioNTech\", \"Moderna, Oxford/AstraZeneca, Pfizer/BioNTech\", \"Moderna, Oxford/AstraZeneca, Pfizer/BioNTech\", \"Moderna, Oxford/AstraZeneca, Pfizer/BioNTech\", \"Moderna, Oxford/AstraZeneca, Pfizer/BioNTech\", \"Moderna, Oxford/AstraZeneca, Pfizer/BioNTech\", \"Moderna, Oxford/AstraZeneca, Pfizer/BioNTech\", \"Moderna, Oxford/AstraZeneca, Pfizer/BioNTech\", \"Moderna, Oxford/AstraZeneca, Pfizer/BioNTech\", \"Moderna, Oxford/AstraZeneca, Pfizer/BioNTech\", \"Moderna, Oxford/AstraZeneca, Pfizer/BioNTech\", \"Moderna, Oxford/AstraZeneca, Pfizer/BioNTech\", \"Moderna, Oxford/AstraZeneca, Pfizer/BioNTech\", \"Moderna, Oxford/AstraZeneca, Pfizer/BioNTech\", \"Moderna, Oxford/AstraZeneca, Pfizer/BioNTech\", \"Moderna, Oxford/AstraZeneca, Pfizer/BioNTech\", \"Moderna, Oxford/AstraZeneca, Pfizer/BioNTech\", \"Moderna, Oxford/AstraZeneca, Pfizer/BioNTech\", \"Moderna, Oxford/AstraZeneca, Pfizer/BioNTech\", \"Moderna, Oxford/AstraZeneca, Pfizer/BioNTech\", \"Moderna, Oxford/AstraZeneca, Pfizer/BioNTech\", \"Moderna, Oxford/AstraZeneca, Pfizer/BioNTech\", \"Moderna, Oxford/AstraZeneca, Pfizer/BioNTech\", \"Moderna, Oxford/AstraZeneca, Pfizer/BioNTech\", \"Moderna, Oxford/AstraZeneca, Pfizer/BioNTech\", \"Moderna, Oxford/AstraZeneca, Pfizer/BioNTech\", \"Moderna, Oxford/AstraZeneca, Pfizer/BioNTech\", \"Moderna, Oxford/AstraZeneca, Pfizer/BioNTech\", \"Moderna, Oxford/AstraZeneca, Pfizer/BioNTech\", \"Moderna, Oxford/AstraZeneca, Pfizer/BioNTech\", \"Moderna, Oxford/AstraZeneca, Pfizer/BioNTech\", \"Moderna, Oxford/AstraZeneca, Pfizer/BioNTech\", \"Moderna, Oxford/AstraZeneca, Pfizer/BioNTech\", \"Moderna, Oxford/AstraZeneca, Pfizer/BioNTech\", \"Moderna, Oxford/AstraZeneca, Pfizer/BioNTech\", \"Moderna, Oxford/AstraZeneca, Pfizer/BioNTech\", \"Moderna, Oxford/AstraZeneca, Pfizer/BioNTech\", \"Moderna, Oxford/AstraZeneca, Pfizer/BioNTech\", \"Moderna, Oxford/AstraZeneca, Pfizer/BioNTech\", \"Moderna, Oxford/AstraZeneca, Pfizer/BioNTech\", \"Moderna, Oxford/AstraZeneca, Pfizer/BioNTech\", \"Moderna, Oxford/AstraZeneca, Pfizer/BioNTech\", \"Moderna, Oxford/AstraZeneca, Pfizer/BioNTech\", \"Moderna, Oxford/AstraZeneca, Pfizer/BioNTech\", \"Moderna, Oxford/AstraZeneca, Pfizer/BioNTech\", \"Moderna, Oxford/AstraZeneca, Pfizer/BioNTech\", \"Moderna, Oxford/AstraZeneca, Pfizer/BioNTech\", \"Moderna, Oxford/AstraZeneca, Pfizer/BioNTech\", \"Moderna, Oxford/AstraZeneca, Pfizer/BioNTech\", \"Moderna, Oxford/AstraZeneca, Pfizer/BioNTech\", \"Moderna, Oxford/AstraZeneca, Pfizer/BioNTech\", \"Moderna, Oxford/AstraZeneca, Pfizer/BioNTech\", \"Moderna, Oxford/AstraZeneca, Pfizer/BioNTech\", \"Moderna, Oxford/AstraZeneca, Pfizer/BioNTech\", \"Moderna, Oxford/AstraZeneca, Pfizer/BioNTech\", \"Moderna, Oxford/AstraZeneca, Pfizer/BioNTech\", \"Moderna, Oxford/AstraZeneca, Pfizer/BioNTech\", \"Moderna, Oxford/AstraZeneca, Pfizer/BioNTech\", \"Moderna, Oxford/AstraZeneca, Pfizer/BioNTech\", \"Moderna, Oxford/AstraZeneca, Pfizer/BioNTech\", \"Moderna, Oxford/AstraZeneca, Pfizer/BioNTech\", \"Moderna, Oxford/AstraZeneca, Pfizer/BioNTech\", \"Moderna, Oxford/AstraZeneca, Pfizer/BioNTech\", \"Moderna, Oxford/AstraZeneca, Pfizer/BioNTech\", \"Moderna, Oxford/AstraZeneca, Pfizer/BioNTech\", \"Moderna, Oxford/AstraZeneca, Pfizer/BioNTech\", \"Moderna, Oxford/AstraZeneca, Pfizer/BioNTech\", \"Moderna, Oxford/AstraZeneca, Pfizer/BioNTech\", \"Moderna, Oxford/AstraZeneca, Pfizer/BioNTech\", \"Moderna, Oxford/AstraZeneca, Pfizer/BioNTech\", \"Moderna, Oxford/AstraZeneca, Pfizer/BioNTech\", \"Moderna, Oxford/AstraZeneca, Pfizer/BioNTech\", \"Moderna, Oxford/AstraZeneca, Pfizer/BioNTech\", \"Moderna, Oxford/AstraZeneca, Pfizer/BioNTech\", \"Moderna, Oxford/AstraZeneca, Pfizer/BioNTech\", \"Moderna, Oxford/AstraZeneca, Pfizer/BioNTech\", \"Moderna, Oxford/AstraZeneca, Pfizer/BioNTech\", \"Moderna, Oxford/AstraZeneca, Pfizer/BioNTech\", \"Moderna, Oxford/AstraZeneca, Pfizer/BioNTech\", \"Moderna, Oxford/AstraZeneca, Pfizer/BioNTech\", \"Moderna, Oxford/AstraZeneca, Pfizer/BioNTech\", \"Moderna, Oxford/AstraZeneca, Pfizer/BioNTech\", \"Moderna, Oxford/AstraZeneca, Pfizer/BioNTech\", \"Moderna, Oxford/AstraZeneca, Pfizer/BioNTech\", \"Moderna, Oxford/AstraZeneca, Pfizer/BioNTech\", \"Moderna, Oxford/AstraZeneca, Pfizer/BioNTech\", \"Moderna, Oxford/AstraZeneca, Pfizer/BioNTech\", \"Moderna, Oxford/AstraZeneca, Pfizer/BioNTech\", \"Moderna, Oxford/AstraZeneca, Pfizer/BioNTech\", \"Moderna, Oxford/AstraZeneca, Pfizer/BioNTech\", \"Moderna, Oxford/AstraZeneca, Pfizer/BioNTech\", \"Moderna, Oxford/AstraZeneca, Pfizer/BioNTech\", \"Moderna, Oxford/AstraZeneca, Pfizer/BioNTech\", \"Moderna, Oxford/AstraZeneca, Pfizer/BioNTech\", \"Moderna, Oxford/AstraZeneca, Pfizer/BioNTech\", \"Moderna, Oxford/AstraZeneca, Pfizer/BioNTech\", \"Moderna, Oxford/AstraZeneca, Pfizer/BioNTech\", \"Moderna, Oxford/AstraZeneca, Pfizer/BioNTech\", \"Moderna, Oxford/AstraZeneca, Pfizer/BioNTech\", \"Moderna, Oxford/AstraZeneca, Pfizer/BioNTech\", \"Moderna, Oxford/AstraZeneca, Pfizer/BioNTech\", \"Moderna, Oxford/AstraZeneca, Pfizer/BioNTech\", \"Moderna, Oxford/AstraZeneca, Pfizer/BioNTech\", \"Moderna, Oxford/AstraZeneca, Pfizer/BioNTech\", \"Moderna, Oxford/AstraZeneca, Pfizer/BioNTech\", \"Moderna, Oxford/AstraZeneca, Pfizer/BioNTech\", \"Moderna, Oxford/AstraZeneca, Pfizer/BioNTech\", \"Moderna, Oxford/AstraZeneca, Pfizer/BioNTech\", \"Moderna, Oxford/AstraZeneca, Pfizer/BioNTech\", \"Moderna, Oxford/AstraZeneca, Pfizer/BioNTech\", \"Moderna, Oxford/AstraZeneca, Pfizer/BioNTech\", \"Moderna, Oxford/AstraZeneca, Pfizer/BioNTech\", \"Moderna, Oxford/AstraZeneca, Pfizer/BioNTech\", \"Moderna, Oxford/AstraZeneca, Pfizer/BioNTech\", \"Moderna, Oxford/AstraZeneca, Pfizer/BioNTech\", \"Moderna, Oxford/AstraZeneca, Pfizer/BioNTech\", \"Moderna, Oxford/AstraZeneca, Pfizer/BioNTech\", \"Moderna, Oxford/AstraZeneca, Pfizer/BioNTech\", \"Moderna, Oxford/AstraZeneca, Pfizer/BioNTech\", \"Moderna, Oxford/AstraZeneca, Pfizer/BioNTech\", \"Moderna, Oxford/AstraZeneca, Pfizer/BioNTech\", \"Moderna, Oxford/AstraZeneca, Pfizer/BioNTech\", \"Moderna, Oxford/AstraZeneca, Pfizer/BioNTech\", \"Moderna, Oxford/AstraZeneca, Pfizer/BioNTech\", \"Pfizer/BioNTech\", \"Pfizer/BioNTech\", \"Pfizer/BioNTech\", \"Pfizer/BioNTech\", \"Pfizer/BioNTech\", \"Pfizer/BioNTech\", \"Pfizer/BioNTech\", \"Pfizer/BioNTech\", \"Pfizer/BioNTech\", \"Pfizer/BioNTech\", \"Pfizer/BioNTech\", \"Pfizer/BioNTech\", \"Pfizer/BioNTech\", \"Pfizer/BioNTech\", \"Pfizer/BioNTech\", \"Pfizer/BioNTech\", \"Pfizer/BioNTech\", \"Pfizer/BioNTech\", \"Pfizer/BioNTech\", \"Pfizer/BioNTech\", \"Pfizer/BioNTech\", \"Pfizer/BioNTech\", \"Pfizer/BioNTech\", \"Pfizer/BioNTech\", \"Pfizer/BioNTech\", \"Pfizer/BioNTech\", \"Pfizer/BioNTech\", \"Pfizer/BioNTech\", \"Pfizer/BioNTech\", \"Pfizer/BioNTech\", \"Pfizer/BioNTech\", \"Pfizer/BioNTech\", \"Pfizer/BioNTech\", \"Pfizer/BioNTech\", \"Pfizer/BioNTech\", \"Pfizer/BioNTech\", \"Pfizer/BioNTech\", \"Pfizer/BioNTech\", \"Pfizer/BioNTech\", \"Pfizer/BioNTech\", \"Pfizer/BioNTech\", \"Pfizer/BioNTech\", \"Pfizer/BioNTech\", \"Pfizer/BioNTech\", \"Pfizer/BioNTech\", \"Pfizer/BioNTech\", \"Pfizer/BioNTech\", \"Pfizer/BioNTech\", \"Pfizer/BioNTech\", \"Pfizer/BioNTech\", \"Pfizer/BioNTech\", \"Pfizer/BioNTech\", \"Pfizer/BioNTech\", \"Pfizer/BioNTech\", \"Pfizer/BioNTech\", \"Pfizer/BioNTech\", \"Moderna, Oxford/AstraZeneca, Pfizer/BioNTech\", \"Moderna, Oxford/AstraZeneca, Pfizer/BioNTech\", \"Moderna, Oxford/AstraZeneca, Pfizer/BioNTech\", \"Moderna, Oxford/AstraZeneca, Pfizer/BioNTech\", \"Moderna, Oxford/AstraZeneca, Pfizer/BioNTech\", \"Moderna, Oxford/AstraZeneca, Pfizer/BioNTech\", \"Moderna, Oxford/AstraZeneca, Pfizer/BioNTech\", \"Moderna, Oxford/AstraZeneca, Pfizer/BioNTech\", \"Moderna, Oxford/AstraZeneca, Pfizer/BioNTech\", \"Moderna, Oxford/AstraZeneca, Pfizer/BioNTech\", \"Moderna, Oxford/AstraZeneca, Pfizer/BioNTech\", \"Moderna, Oxford/AstraZeneca, Pfizer/BioNTech\", \"Moderna, Oxford/AstraZeneca, Pfizer/BioNTech\", \"Moderna, Oxford/AstraZeneca, Pfizer/BioNTech\", \"Moderna, Oxford/AstraZeneca, Pfizer/BioNTech\", \"Moderna, Oxford/AstraZeneca, Pfizer/BioNTech\", \"Moderna, Oxford/AstraZeneca, Pfizer/BioNTech\", \"Moderna, Oxford/AstraZeneca, Pfizer/BioNTech\", \"Moderna, Oxford/AstraZeneca, Pfizer/BioNTech\", \"Moderna, Oxford/AstraZeneca, Pfizer/BioNTech\", \"Moderna, Oxford/AstraZeneca, Pfizer/BioNTech\", \"Moderna, Oxford/AstraZeneca, Pfizer/BioNTech\", \"Moderna, Oxford/AstraZeneca, Pfizer/BioNTech\", \"Moderna, Oxford/AstraZeneca, Pfizer/BioNTech\", \"Moderna, Oxford/AstraZeneca, Pfizer/BioNTech\", \"Moderna, Oxford/AstraZeneca, Pfizer/BioNTech\", \"Moderna, Oxford/AstraZeneca, Pfizer/BioNTech\", \"Moderna, Oxford/AstraZeneca, Pfizer/BioNTech\", \"Moderna, Oxford/AstraZeneca, Pfizer/BioNTech\", \"Moderna, Oxford/AstraZeneca, Pfizer/BioNTech\", \"Moderna, Oxford/AstraZeneca, Pfizer/BioNTech\", \"Moderna, Oxford/AstraZeneca, Pfizer/BioNTech\", \"Moderna, Oxford/AstraZeneca, Pfizer/BioNTech\", \"Moderna, Oxford/AstraZeneca, Pfizer/BioNTech\", \"Moderna, Oxford/AstraZeneca, Pfizer/BioNTech\", \"Moderna, Oxford/AstraZeneca, Pfizer/BioNTech\", \"Moderna, Oxford/AstraZeneca, Pfizer/BioNTech\", \"Moderna, Oxford/AstraZeneca, Pfizer/BioNTech\", \"Moderna, Oxford/AstraZeneca, Pfizer/BioNTech\", \"Moderna, Oxford/AstraZeneca, Pfizer/BioNTech\", \"Moderna, Oxford/AstraZeneca, Pfizer/BioNTech\", \"Moderna, Oxford/AstraZeneca, Pfizer/BioNTech\", \"Moderna, Oxford/AstraZeneca, Pfizer/BioNTech\", \"Moderna, Oxford/AstraZeneca, Pfizer/BioNTech\", \"Moderna, Oxford/AstraZeneca, Pfizer/BioNTech\", \"Moderna, Oxford/AstraZeneca, Pfizer/BioNTech\", \"Moderna, Oxford/AstraZeneca, Pfizer/BioNTech\", \"Moderna, Oxford/AstraZeneca, Pfizer/BioNTech\", \"Moderna, Oxford/AstraZeneca, Pfizer/BioNTech\", \"Moderna, Oxford/AstraZeneca, Pfizer/BioNTech\", \"Moderna, Oxford/AstraZeneca, Pfizer/BioNTech\", \"Moderna, Oxford/AstraZeneca, Pfizer/BioNTech\", \"Moderna, Oxford/AstraZeneca, Pfizer/BioNTech\", \"Moderna, Oxford/AstraZeneca, Pfizer/BioNTech\", \"Moderna, Oxford/AstraZeneca, Pfizer/BioNTech\", \"Moderna, Oxford/AstraZeneca, Pfizer/BioNTech\", \"Moderna, Oxford/AstraZeneca, Pfizer/BioNTech\", \"Moderna, Oxford/AstraZeneca, Pfizer/BioNTech\", \"Moderna, Oxford/AstraZeneca, Pfizer/BioNTech\", \"Moderna, Oxford/AstraZeneca, Pfizer/BioNTech\", \"Moderna, Oxford/AstraZeneca, Pfizer/BioNTech\", \"Moderna, Oxford/AstraZeneca, Pfizer/BioNTech\", \"Moderna, Oxford/AstraZeneca, Pfizer/BioNTech\", \"Moderna, Oxford/AstraZeneca, Pfizer/BioNTech\", \"Moderna, Oxford/AstraZeneca, Pfizer/BioNTech\", \"Moderna, Oxford/AstraZeneca, Pfizer/BioNTech\", \"Moderna, Oxford/AstraZeneca, Pfizer/BioNTech\", \"Moderna, Oxford/AstraZeneca, Pfizer/BioNTech\", \"Moderna, Oxford/AstraZeneca, Pfizer/BioNTech\", \"Pfizer/BioNTech\", \"Pfizer/BioNTech\", \"Pfizer/BioNTech\", \"Pfizer/BioNTech\", \"Pfizer/BioNTech\", \"Pfizer/BioNTech\", \"Pfizer/BioNTech\", \"Pfizer/BioNTech\", \"Pfizer/BioNTech\", \"Pfizer/BioNTech\", \"Pfizer/BioNTech\", \"Pfizer/BioNTech\", \"Pfizer/BioNTech\", \"Pfizer/BioNTech\", \"Pfizer/BioNTech\", \"Pfizer/BioNTech\", \"Pfizer/BioNTech\", \"Pfizer/BioNTech\", \"Pfizer/BioNTech\", \"Pfizer/BioNTech\", \"Pfizer/BioNTech\", \"Pfizer/BioNTech\", \"Pfizer/BioNTech\", \"Pfizer/BioNTech\", \"Pfizer/BioNTech\", \"Pfizer/BioNTech\", \"Pfizer/BioNTech\", \"Pfizer/BioNTech\", \"Pfizer/BioNTech\", \"Pfizer/BioNTech\", \"Pfizer/BioNTech\", \"Pfizer/BioNTech\", \"Pfizer/BioNTech\", \"Pfizer/BioNTech\", \"Sinovac\", \"Sinovac\", \"Sinovac\", \"Sinovac\", \"Sinovac\", \"Pfizer/BioNTech\", \"Pfizer/BioNTech\", \"Pfizer/BioNTech\", \"Pfizer/BioNTech\", \"Pfizer/BioNTech\", \"Pfizer/BioNTech\", \"Pfizer/BioNTech\", \"Pfizer/BioNTech\", \"Pfizer/BioNTech\", \"Pfizer/BioNTech\", \"Pfizer/BioNTech\", \"Pfizer/BioNTech\", \"Pfizer/BioNTech\", \"Pfizer/BioNTech\", \"Pfizer/BioNTech\", \"Pfizer/BioNTech\", \"Pfizer/BioNTech\", \"Pfizer/BioNTech\", \"Pfizer/BioNTech\", \"Pfizer/BioNTech\", \"Pfizer/BioNTech\", \"Pfizer/BioNTech\", \"Pfizer/BioNTech\", \"Pfizer/BioNTech\", \"Pfizer/BioNTech\", \"Pfizer/BioNTech\", \"Pfizer/BioNTech\", \"Pfizer/BioNTech\", \"Pfizer/BioNTech\", \"Pfizer/BioNTech\", \"Pfizer/BioNTech\", \"Pfizer/BioNTech\", \"Pfizer/BioNTech\", \"Pfizer/BioNTech\", \"Pfizer/BioNTech\", \"Pfizer/BioNTech\", \"Pfizer/BioNTech\", \"Pfizer/BioNTech\", \"Oxford/AstraZeneca\", \"Oxford/AstraZeneca\", \"Oxford/AstraZeneca\", \"Oxford/AstraZeneca\", \"Oxford/AstraZeneca\", \"Oxford/AstraZeneca\", \"Oxford/AstraZeneca\", \"Oxford/AstraZeneca\", \"Oxford/AstraZeneca\", \"Oxford/AstraZeneca\", \"Oxford/AstraZeneca\", \"Oxford/AstraZeneca\", \"Moderna\", \"Pfizer/BioNTech, Sinovac\", \"Pfizer/BioNTech, Sinovac\", \"Pfizer/BioNTech, Sinovac\", \"Pfizer/BioNTech, Sinovac\", \"Pfizer/BioNTech, Sinovac\", \"Pfizer/BioNTech, Sinovac\", \"Pfizer/BioNTech, Sinovac\", \"Pfizer/BioNTech, Sinovac\", \"Pfizer/BioNTech, Sinovac\", \"Pfizer/BioNTech, Sinovac\", \"Pfizer/BioNTech, Sinovac\", \"Moderna, Oxford/AstraZeneca, Pfizer/BioNTech, Sinopharm/Beijing, Sputnik V\", \"Moderna, Oxford/AstraZeneca, Pfizer/BioNTech, Sinopharm/Beijing, Sputnik V\", \"Moderna, Oxford/AstraZeneca, Pfizer/BioNTech, Sinopharm/Beijing, Sputnik V\", \"Moderna, Oxford/AstraZeneca, Pfizer/BioNTech, Sinopharm/Beijing, Sputnik V\", \"Moderna, Oxford/AstraZeneca, Pfizer/BioNTech, Sinopharm/Beijing, Sputnik V\", \"Moderna, Oxford/AstraZeneca, Pfizer/BioNTech, Sinopharm/Beijing, Sputnik V\", \"Moderna, Oxford/AstraZeneca, Pfizer/BioNTech, Sinopharm/Beijing, Sputnik V\", \"Moderna, Oxford/AstraZeneca, Pfizer/BioNTech, Sinopharm/Beijing, Sputnik V\", \"Moderna, Oxford/AstraZeneca, Pfizer/BioNTech, Sinopharm/Beijing, Sputnik V\", \"Moderna, Oxford/AstraZeneca, Pfizer/BioNTech, Sinopharm/Beijing, Sputnik V\", \"Moderna, Oxford/AstraZeneca, Pfizer/BioNTech, Sinopharm/Beijing, Sputnik V\", \"Moderna, Oxford/AstraZeneca, Pfizer/BioNTech, Sinopharm/Beijing, Sputnik V\", \"Moderna, Oxford/AstraZeneca, Pfizer/BioNTech, Sinopharm/Beijing, Sputnik V\", \"Moderna, Oxford/AstraZeneca, Pfizer/BioNTech, Sinopharm/Beijing, Sputnik V\", \"Moderna, Oxford/AstraZeneca, Pfizer/BioNTech, Sinopharm/Beijing, Sputnik V\", \"Moderna, Oxford/AstraZeneca, Pfizer/BioNTech, Sinopharm/Beijing, Sputnik V\", \"Moderna, Oxford/AstraZeneca, Pfizer/BioNTech, Sinopharm/Beijing, Sputnik V\", \"Moderna, Oxford/AstraZeneca, Pfizer/BioNTech, Sinopharm/Beijing, Sputnik V\", \"Moderna, Oxford/AstraZeneca, Pfizer/BioNTech, Sinopharm/Beijing, Sputnik V\", \"Moderna, Oxford/AstraZeneca, Pfizer/BioNTech, Sinopharm/Beijing, Sputnik V\", \"Moderna, Oxford/AstraZeneca, Pfizer/BioNTech, Sinopharm/Beijing, Sputnik V\", \"Moderna, Oxford/AstraZeneca, Pfizer/BioNTech, Sinopharm/Beijing, Sputnik V\", \"Moderna, Oxford/AstraZeneca, Pfizer/BioNTech, Sinopharm/Beijing, Sputnik V\", \"Moderna, Oxford/AstraZeneca, Pfizer/BioNTech, Sinopharm/Beijing, Sputnik V\", \"Moderna, Oxford/AstraZeneca, Pfizer/BioNTech, Sinopharm/Beijing, Sputnik V\", \"Moderna, Oxford/AstraZeneca, Pfizer/BioNTech, Sinopharm/Beijing, Sputnik V\", \"Moderna, Oxford/AstraZeneca, Pfizer/BioNTech, Sinopharm/Beijing, Sputnik V\", \"Moderna, Oxford/AstraZeneca, Pfizer/BioNTech, Sinopharm/Beijing, Sputnik V\", \"Moderna, Oxford/AstraZeneca, Pfizer/BioNTech, Sinopharm/Beijing, Sputnik V\", \"Moderna, Oxford/AstraZeneca, Pfizer/BioNTech, Sinopharm/Beijing, Sputnik V\", \"Moderna, Oxford/AstraZeneca, Pfizer/BioNTech, Sinopharm/Beijing, Sputnik V\", \"Moderna, Oxford/AstraZeneca, Pfizer/BioNTech, Sinopharm/Beijing, Sputnik V\", \"Moderna, Oxford/AstraZeneca, Pfizer/BioNTech, Sinopharm/Beijing, Sputnik V\", \"Moderna, Oxford/AstraZeneca, Pfizer/BioNTech, Sinopharm/Beijing, Sputnik V\", \"Moderna, Oxford/AstraZeneca, Pfizer/BioNTech, Sinopharm/Beijing, Sputnik V\", \"Moderna, Oxford/AstraZeneca, Pfizer/BioNTech, Sinopharm/Beijing, Sputnik V\", \"Moderna, Oxford/AstraZeneca, Pfizer/BioNTech, Sinopharm/Beijing, Sputnik V\", \"Moderna, Oxford/AstraZeneca, Pfizer/BioNTech, Sinopharm/Beijing, Sputnik V\", \"Moderna, Oxford/AstraZeneca, Pfizer/BioNTech, Sinopharm/Beijing, Sputnik V\", \"Moderna, Oxford/AstraZeneca, Pfizer/BioNTech, Sinopharm/Beijing, Sputnik V\", \"Moderna, Oxford/AstraZeneca, Pfizer/BioNTech, Sinopharm/Beijing, Sputnik V\", \"Moderna, Oxford/AstraZeneca, Pfizer/BioNTech, Sinopharm/Beijing, Sputnik V\", \"Moderna, Oxford/AstraZeneca, Pfizer/BioNTech, Sinopharm/Beijing, Sputnik V\", \"Moderna, Oxford/AstraZeneca, Pfizer/BioNTech, Sinopharm/Beijing, Sputnik V\", \"Moderna, Oxford/AstraZeneca, Pfizer/BioNTech, Sinopharm/Beijing, Sputnik V\", \"Moderna, Oxford/AstraZeneca, Pfizer/BioNTech, Sinopharm/Beijing, Sputnik V\", \"Moderna, Oxford/AstraZeneca, Pfizer/BioNTech, Sinopharm/Beijing, Sputnik V\", \"Moderna, Oxford/AstraZeneca, Pfizer/BioNTech, Sinopharm/Beijing, Sputnik V\", \"Moderna, Oxford/AstraZeneca, Pfizer/BioNTech, Sinopharm/Beijing, Sputnik V\", \"Moderna, Oxford/AstraZeneca, Pfizer/BioNTech, Sinopharm/Beijing, Sputnik V\", \"Moderna, Oxford/AstraZeneca, Pfizer/BioNTech, Sinopharm/Beijing, Sputnik V\", \"Moderna, Oxford/AstraZeneca, Pfizer/BioNTech, Sinopharm/Beijing, Sputnik V\", \"Moderna, Oxford/AstraZeneca, Pfizer/BioNTech, Sinopharm/Beijing, Sputnik V\", \"Moderna, Oxford/AstraZeneca, Pfizer/BioNTech, Sinopharm/Beijing, Sputnik V\", \"Moderna, Oxford/AstraZeneca, Pfizer/BioNTech, Sinopharm/Beijing, Sputnik V\", \"Moderna, Oxford/AstraZeneca, Pfizer/BioNTech, Sinopharm/Beijing, Sputnik V\", \"Moderna, Oxford/AstraZeneca, Pfizer/BioNTech, Sinopharm/Beijing, Sputnik V\", \"Moderna, Oxford/AstraZeneca, Pfizer/BioNTech, Sinopharm/Beijing, Sputnik V\", \"Moderna, Oxford/AstraZeneca, Pfizer/BioNTech, Sinopharm/Beijing, Sputnik V\", \"Moderna, Oxford/AstraZeneca, Pfizer/BioNTech, Sinopharm/Beijing, Sputnik V\", \"Moderna, Oxford/AstraZeneca, Pfizer/BioNTech, Sinopharm/Beijing, Sputnik V\", \"Moderna, Oxford/AstraZeneca, Pfizer/BioNTech, Sinopharm/Beijing, Sputnik V\", \"Moderna, Oxford/AstraZeneca, Pfizer/BioNTech, Sinopharm/Beijing, Sputnik V\", \"Moderna, Oxford/AstraZeneca, Pfizer/BioNTech, Sinopharm/Beijing, Sputnik V\", \"Moderna, Oxford/AstraZeneca, Pfizer/BioNTech, Sinopharm/Beijing, Sputnik V\", \"Moderna, Oxford/AstraZeneca, Pfizer/BioNTech, Sinopharm/Beijing, Sputnik V\", \"Moderna, Oxford/AstraZeneca, Pfizer/BioNTech, Sinopharm/Beijing, Sputnik V\", \"Moderna, Oxford/AstraZeneca, Pfizer/BioNTech, Sinopharm/Beijing, Sputnik V\", \"Moderna, Oxford/AstraZeneca, Pfizer/BioNTech, Sinopharm/Beijing, Sputnik V\", \"Moderna, Oxford/AstraZeneca, Pfizer/BioNTech\", \"Moderna, Oxford/AstraZeneca, Pfizer/BioNTech\", \"Moderna, Oxford/AstraZeneca, Pfizer/BioNTech\", \"Moderna, Oxford/AstraZeneca, Pfizer/BioNTech\", \"Moderna, Oxford/AstraZeneca, Pfizer/BioNTech\", \"Moderna, Oxford/AstraZeneca, Pfizer/BioNTech\", \"Moderna, Oxford/AstraZeneca, Pfizer/BioNTech\", \"Moderna, Oxford/AstraZeneca, Pfizer/BioNTech\", \"Moderna, Oxford/AstraZeneca, Pfizer/BioNTech\", \"Moderna, Oxford/AstraZeneca, Pfizer/BioNTech\", \"Moderna, Oxford/AstraZeneca, Pfizer/BioNTech\", \"Moderna, Oxford/AstraZeneca, Pfizer/BioNTech\", \"Moderna, Oxford/AstraZeneca, Pfizer/BioNTech\", \"Moderna, Oxford/AstraZeneca, Pfizer/BioNTech\", \"Moderna, Oxford/AstraZeneca, Pfizer/BioNTech\", \"Moderna, Oxford/AstraZeneca, Pfizer/BioNTech\", \"Moderna, Oxford/AstraZeneca, Pfizer/BioNTech\", \"Moderna, Oxford/AstraZeneca, Pfizer/BioNTech\", \"Moderna, Oxford/AstraZeneca, Pfizer/BioNTech\", \"Moderna, Oxford/AstraZeneca, Pfizer/BioNTech\", \"Moderna, Oxford/AstraZeneca, Pfizer/BioNTech\", \"Moderna, Oxford/AstraZeneca, Pfizer/BioNTech\", \"Moderna, Oxford/AstraZeneca, Pfizer/BioNTech\", \"Moderna, Oxford/AstraZeneca, Pfizer/BioNTech\", \"Moderna, Oxford/AstraZeneca, Pfizer/BioNTech\", \"Moderna, Oxford/AstraZeneca, Pfizer/BioNTech\", \"Moderna, Oxford/AstraZeneca, Pfizer/BioNTech\", \"Moderna, Oxford/AstraZeneca, Pfizer/BioNTech\", \"Moderna, Oxford/AstraZeneca, Pfizer/BioNTech\", \"Moderna, Oxford/AstraZeneca, Pfizer/BioNTech\", \"Moderna, Oxford/AstraZeneca, Pfizer/BioNTech\", \"Moderna, Oxford/AstraZeneca, Pfizer/BioNTech\", \"Moderna, Oxford/AstraZeneca, Pfizer/BioNTech\", \"Moderna, Oxford/AstraZeneca, Pfizer/BioNTech\", \"Moderna, Oxford/AstraZeneca, Pfizer/BioNTech\", \"Moderna, Oxford/AstraZeneca, Pfizer/BioNTech\", \"Moderna, Oxford/AstraZeneca, Pfizer/BioNTech\", \"Moderna, Oxford/AstraZeneca, Pfizer/BioNTech\", \"Moderna, Oxford/AstraZeneca, Pfizer/BioNTech\", \"Moderna, Oxford/AstraZeneca, Pfizer/BioNTech\", \"Moderna, Oxford/AstraZeneca, Pfizer/BioNTech\", \"Moderna, Oxford/AstraZeneca, Pfizer/BioNTech\", \"Moderna, Oxford/AstraZeneca, Pfizer/BioNTech\", \"Moderna, Oxford/AstraZeneca, Pfizer/BioNTech\", \"Moderna, Oxford/AstraZeneca, Pfizer/BioNTech\", \"Moderna, Oxford/AstraZeneca, Pfizer/BioNTech\", \"Moderna, Oxford/AstraZeneca, Pfizer/BioNTech\", \"Moderna, Oxford/AstraZeneca, Pfizer/BioNTech\", \"Moderna, Oxford/AstraZeneca, Pfizer/BioNTech\", \"Moderna, Oxford/AstraZeneca, Pfizer/BioNTech\", \"Moderna, Oxford/AstraZeneca, Pfizer/BioNTech\", \"Moderna, Oxford/AstraZeneca, Pfizer/BioNTech\", \"Moderna, Oxford/AstraZeneca, Pfizer/BioNTech\", \"Moderna, Oxford/AstraZeneca, Pfizer/BioNTech\", \"Moderna, Oxford/AstraZeneca, Pfizer/BioNTech\", \"Moderna, Oxford/AstraZeneca, Pfizer/BioNTech\", \"Moderna, Oxford/AstraZeneca, Pfizer/BioNTech\", \"Moderna, Oxford/AstraZeneca, Pfizer/BioNTech\", \"Moderna, Oxford/AstraZeneca, Pfizer/BioNTech\", \"Moderna, Oxford/AstraZeneca, Pfizer/BioNTech\", \"Moderna, Oxford/AstraZeneca, Pfizer/BioNTech\", \"Moderna, Oxford/AstraZeneca, Pfizer/BioNTech\", \"Moderna, Oxford/AstraZeneca, Pfizer/BioNTech\", \"Moderna, Oxford/AstraZeneca, Pfizer/BioNTech\", \"Moderna, Oxford/AstraZeneca, Pfizer/BioNTech\", \"Moderna, Oxford/AstraZeneca, Pfizer/BioNTech\", \"Covaxin, Oxford/AstraZeneca\", \"Covaxin, Oxford/AstraZeneca\", \"Covaxin, Oxford/AstraZeneca\", \"Covaxin, Oxford/AstraZeneca\", \"Covaxin, Oxford/AstraZeneca\", \"Covaxin, Oxford/AstraZeneca\", \"Covaxin, Oxford/AstraZeneca\", \"Covaxin, Oxford/AstraZeneca\", \"Covaxin, Oxford/AstraZeneca\", \"Covaxin, Oxford/AstraZeneca\", \"Covaxin, Oxford/AstraZeneca\", \"Covaxin, Oxford/AstraZeneca\", \"Covaxin, Oxford/AstraZeneca\", \"Covaxin, Oxford/AstraZeneca\", \"Covaxin, Oxford/AstraZeneca\", \"Covaxin, Oxford/AstraZeneca\", \"Covaxin, Oxford/AstraZeneca\", \"Covaxin, Oxford/AstraZeneca\", \"Covaxin, Oxford/AstraZeneca\", \"Covaxin, Oxford/AstraZeneca\", \"Covaxin, Oxford/AstraZeneca\", \"Covaxin, Oxford/AstraZeneca\", \"Covaxin, Oxford/AstraZeneca\", \"Covaxin, Oxford/AstraZeneca\", \"Covaxin, Oxford/AstraZeneca\", \"Covaxin, Oxford/AstraZeneca\", \"Covaxin, Oxford/AstraZeneca\", \"Covaxin, Oxford/AstraZeneca\", \"Covaxin, Oxford/AstraZeneca\", \"Covaxin, Oxford/AstraZeneca\", \"Covaxin, Oxford/AstraZeneca\", \"Covaxin, Oxford/AstraZeneca\", \"Covaxin, Oxford/AstraZeneca\", \"Covaxin, Oxford/AstraZeneca\", \"Covaxin, Oxford/AstraZeneca\", \"Covaxin, Oxford/AstraZeneca\", \"Covaxin, Oxford/AstraZeneca\", \"Covaxin, Oxford/AstraZeneca\", \"Covaxin, Oxford/AstraZeneca\", \"Covaxin, Oxford/AstraZeneca\", \"Covaxin, Oxford/AstraZeneca\", \"Covaxin, Oxford/AstraZeneca\", \"Covaxin, Oxford/AstraZeneca\", \"Covaxin, Oxford/AstraZeneca\", \"Covaxin, Oxford/AstraZeneca\", \"Covaxin, Oxford/AstraZeneca\", \"Covaxin, Oxford/AstraZeneca\", \"Covaxin, Oxford/AstraZeneca\", \"Covaxin, Oxford/AstraZeneca\", \"Covaxin, Oxford/AstraZeneca\", \"Covaxin, Oxford/AstraZeneca\", \"Sinovac\", \"Sinovac\", \"Sinovac\", \"Sinovac\", \"Sinovac\", \"Sinovac\", \"Sinovac\", \"Sinovac\", \"Sinovac\", \"Sinovac\", \"Sinovac\", \"Sinovac\", \"Sinovac\", \"Sinovac\", \"Sinovac\", \"Sinovac\", \"Sinovac\", \"Sinovac\", \"Sinovac\", \"Sinovac\", \"Sinovac\", \"Sinovac\", \"Sinovac\", \"Sinovac\", \"Sinovac\", \"Sinovac\", \"Sinovac\", \"Sinovac\", \"Sinovac\", \"Sinovac\", \"Sinovac\", \"Sinovac\", \"Sinovac\", \"Sinovac\", \"Sinovac\", \"Sinovac\", \"Sinovac\", \"Sinovac\", \"Sinovac\", \"Sinovac\", \"Sinovac\", \"Sinovac\", \"Sinovac\", \"Sinovac\", \"Sinovac\", \"Sinovac\", \"Sinovac\", \"Sinovac\", \"Sinovac\", \"Sinovac\", \"Sinovac\", \"Sinovac\", \"Sinovac\", \"Sputnik V\", \"Sputnik V\", \"Sputnik V\", \"Sputnik V\", \"Sputnik V\", \"Sputnik V\", \"Sputnik V\", \"Sputnik V\", \"Sputnik V\", \"Sputnik V\", \"Moderna, Oxford/AstraZeneca, Pfizer/BioNTech\", \"Moderna, Oxford/AstraZeneca, Pfizer/BioNTech\", \"Moderna, Oxford/AstraZeneca, Pfizer/BioNTech\", \"Moderna, Oxford/AstraZeneca, Pfizer/BioNTech\", \"Moderna, Oxford/AstraZeneca, Pfizer/BioNTech\", \"Moderna, Oxford/AstraZeneca, Pfizer/BioNTech\", \"Moderna, Oxford/AstraZeneca, Pfizer/BioNTech\", \"Moderna, Oxford/AstraZeneca, Pfizer/BioNTech\", \"Moderna, Oxford/AstraZeneca, Pfizer/BioNTech\", \"Moderna, Oxford/AstraZeneca, Pfizer/BioNTech\", \"Moderna, Oxford/AstraZeneca, Pfizer/BioNTech\", \"Moderna, Oxford/AstraZeneca, Pfizer/BioNTech\", \"Moderna, Oxford/AstraZeneca, Pfizer/BioNTech\", \"Moderna, Oxford/AstraZeneca, Pfizer/BioNTech\", \"Moderna, Oxford/AstraZeneca, Pfizer/BioNTech\", \"Moderna, Oxford/AstraZeneca, Pfizer/BioNTech\", \"Moderna, Oxford/AstraZeneca, Pfizer/BioNTech\", \"Moderna, Oxford/AstraZeneca, Pfizer/BioNTech\", \"Moderna, Oxford/AstraZeneca, Pfizer/BioNTech\", \"Moderna, Oxford/AstraZeneca, Pfizer/BioNTech\", \"Moderna, Oxford/AstraZeneca, Pfizer/BioNTech\", \"Moderna, Oxford/AstraZeneca, Pfizer/BioNTech\", \"Moderna, Oxford/AstraZeneca, Pfizer/BioNTech\", \"Moderna, Oxford/AstraZeneca, Pfizer/BioNTech\", \"Moderna, Oxford/AstraZeneca, Pfizer/BioNTech\", \"Moderna, Oxford/AstraZeneca, Pfizer/BioNTech\", \"Moderna, Oxford/AstraZeneca, Pfizer/BioNTech\", \"Moderna, Oxford/AstraZeneca, Pfizer/BioNTech\", \"Moderna, Oxford/AstraZeneca, Pfizer/BioNTech\", \"Moderna, Oxford/AstraZeneca, Pfizer/BioNTech\", \"Moderna, Oxford/AstraZeneca, Pfizer/BioNTech\", \"Moderna, Oxford/AstraZeneca, Pfizer/BioNTech\", \"Moderna, Oxford/AstraZeneca, Pfizer/BioNTech\", \"Moderna, Oxford/AstraZeneca, Pfizer/BioNTech\", \"Moderna, Oxford/AstraZeneca, Pfizer/BioNTech\", \"Moderna, Oxford/AstraZeneca, Pfizer/BioNTech\", \"Moderna, Oxford/AstraZeneca, Pfizer/BioNTech\", \"Moderna, Oxford/AstraZeneca, Pfizer/BioNTech\", \"Moderna, Oxford/AstraZeneca, Pfizer/BioNTech\", \"Moderna, Oxford/AstraZeneca, Pfizer/BioNTech\", \"Moderna, Oxford/AstraZeneca, Pfizer/BioNTech\", \"Moderna, Oxford/AstraZeneca, Pfizer/BioNTech\", \"Moderna, Oxford/AstraZeneca, Pfizer/BioNTech\", \"Moderna, Oxford/AstraZeneca, Pfizer/BioNTech\", \"Moderna, Oxford/AstraZeneca, Pfizer/BioNTech\", \"Moderna, Oxford/AstraZeneca, Pfizer/BioNTech\", \"Moderna, Oxford/AstraZeneca, Pfizer/BioNTech\", \"Moderna, Oxford/AstraZeneca, Pfizer/BioNTech\", \"Moderna, Oxford/AstraZeneca, Pfizer/BioNTech\", \"Moderna, Oxford/AstraZeneca, Pfizer/BioNTech\", \"Moderna, Oxford/AstraZeneca, Pfizer/BioNTech\", \"Moderna, Oxford/AstraZeneca, Pfizer/BioNTech\", \"Moderna, Oxford/AstraZeneca, Pfizer/BioNTech\", \"Moderna, Oxford/AstraZeneca, Pfizer/BioNTech\", \"Moderna, Oxford/AstraZeneca, Pfizer/BioNTech\", \"Moderna, Oxford/AstraZeneca, Pfizer/BioNTech\", \"Moderna, Oxford/AstraZeneca, Pfizer/BioNTech\", \"Moderna, Oxford/AstraZeneca, Pfizer/BioNTech\", \"Moderna, Oxford/AstraZeneca, Pfizer/BioNTech\", \"Moderna, Oxford/AstraZeneca, Pfizer/BioNTech\", \"Moderna, Oxford/AstraZeneca, Pfizer/BioNTech\", \"Moderna, Oxford/AstraZeneca, Pfizer/BioNTech\", \"Moderna, Oxford/AstraZeneca, Pfizer/BioNTech\", \"Moderna, Oxford/AstraZeneca, Pfizer/BioNTech\", \"Oxford/AstraZeneca, Pfizer/BioNTech\", \"Oxford/AstraZeneca, Pfizer/BioNTech\", \"Oxford/AstraZeneca, Pfizer/BioNTech\", \"Oxford/AstraZeneca, Pfizer/BioNTech\", \"Oxford/AstraZeneca, Pfizer/BioNTech\", \"Oxford/AstraZeneca, Pfizer/BioNTech\", \"Oxford/AstraZeneca, Pfizer/BioNTech\", \"Oxford/AstraZeneca, Pfizer/BioNTech\", \"Oxford/AstraZeneca, Pfizer/BioNTech\", \"Oxford/AstraZeneca, Pfizer/BioNTech\", \"Oxford/AstraZeneca, Pfizer/BioNTech\", \"Oxford/AstraZeneca, Pfizer/BioNTech\", \"Oxford/AstraZeneca, Pfizer/BioNTech\", \"Oxford/AstraZeneca, Pfizer/BioNTech\", \"Oxford/AstraZeneca, Pfizer/BioNTech\", \"Oxford/AstraZeneca, Pfizer/BioNTech\", \"Oxford/AstraZeneca, Pfizer/BioNTech\", \"Oxford/AstraZeneca, Pfizer/BioNTech\", \"Oxford/AstraZeneca, Pfizer/BioNTech\", \"Oxford/AstraZeneca, Pfizer/BioNTech\", \"Oxford/AstraZeneca, Pfizer/BioNTech\", \"Oxford/AstraZeneca, Pfizer/BioNTech\", \"Oxford/AstraZeneca, Pfizer/BioNTech\", \"Oxford/AstraZeneca, Pfizer/BioNTech\", \"Oxford/AstraZeneca, Pfizer/BioNTech\", \"Oxford/AstraZeneca, Pfizer/BioNTech\", \"Oxford/AstraZeneca, Pfizer/BioNTech\", \"Oxford/AstraZeneca, Pfizer/BioNTech\", \"Oxford/AstraZeneca, Pfizer/BioNTech\", \"Oxford/AstraZeneca, Pfizer/BioNTech\", \"Oxford/AstraZeneca, Pfizer/BioNTech\", \"Oxford/AstraZeneca, Pfizer/BioNTech\", \"Oxford/AstraZeneca, Pfizer/BioNTech\", \"Oxford/AstraZeneca, Pfizer/BioNTech\", \"Oxford/AstraZeneca, Pfizer/BioNTech\", \"Oxford/AstraZeneca, Pfizer/BioNTech\", \"Oxford/AstraZeneca, Pfizer/BioNTech\", \"Oxford/AstraZeneca, Pfizer/BioNTech\", \"Oxford/AstraZeneca, Pfizer/BioNTech\", \"Oxford/AstraZeneca, Pfizer/BioNTech\", \"Oxford/AstraZeneca, Pfizer/BioNTech\", \"Oxford/AstraZeneca, Pfizer/BioNTech\", \"Oxford/AstraZeneca, Pfizer/BioNTech\", \"Oxford/AstraZeneca, Pfizer/BioNTech\", \"Oxford/AstraZeneca, Pfizer/BioNTech\", \"Moderna, Pfizer/BioNTech\", \"Moderna, Pfizer/BioNTech\", \"Moderna, Pfizer/BioNTech\", \"Moderna, Pfizer/BioNTech\", \"Moderna, Pfizer/BioNTech\", \"Moderna, Pfizer/BioNTech\", \"Moderna, Pfizer/BioNTech\", \"Moderna, Pfizer/BioNTech\", \"Moderna, Pfizer/BioNTech\", \"Moderna, Pfizer/BioNTech\", \"Moderna, Pfizer/BioNTech\", \"Moderna, Pfizer/BioNTech\", \"Moderna, Pfizer/BioNTech\", \"Moderna, Pfizer/BioNTech\", \"Moderna, Pfizer/BioNTech\", \"Moderna, Pfizer/BioNTech\", \"Moderna, Pfizer/BioNTech\", \"Moderna, Pfizer/BioNTech\", \"Moderna, Pfizer/BioNTech\", \"Moderna, Pfizer/BioNTech\", \"Moderna, Pfizer/BioNTech\", \"Moderna, Pfizer/BioNTech\", \"Moderna, Pfizer/BioNTech\", \"Moderna, Pfizer/BioNTech\", \"Moderna, Pfizer/BioNTech\", \"Moderna, Pfizer/BioNTech\", \"Moderna, Pfizer/BioNTech\", \"Moderna, Pfizer/BioNTech\", \"Moderna, Pfizer/BioNTech\", \"Moderna, Pfizer/BioNTech\", \"Moderna, Pfizer/BioNTech\", \"Moderna, Pfizer/BioNTech\", \"Moderna, Pfizer/BioNTech\", \"Moderna, Pfizer/BioNTech\", \"Moderna, Pfizer/BioNTech\", \"Moderna, Pfizer/BioNTech\", \"Moderna, Pfizer/BioNTech\", \"Moderna, Pfizer/BioNTech\", \"Moderna, Pfizer/BioNTech\", \"Moderna, Pfizer/BioNTech\", \"Moderna, Pfizer/BioNTech\", \"Moderna, Pfizer/BioNTech\", \"Moderna, Pfizer/BioNTech\", \"Moderna, Pfizer/BioNTech\", \"Moderna, Pfizer/BioNTech\", \"Moderna, Pfizer/BioNTech\", \"Moderna, Pfizer/BioNTech\", \"Moderna, Pfizer/BioNTech\", \"Moderna, Pfizer/BioNTech\", \"Moderna, Pfizer/BioNTech\", \"Moderna, Pfizer/BioNTech\", \"Moderna, Pfizer/BioNTech\", \"Moderna, Pfizer/BioNTech\", \"Moderna, Pfizer/BioNTech\", \"Moderna, Pfizer/BioNTech\", \"Moderna, Pfizer/BioNTech\", \"Moderna, Pfizer/BioNTech\", \"Moderna, Pfizer/BioNTech\", \"Moderna, Pfizer/BioNTech\", \"Moderna, Pfizer/BioNTech\", \"Moderna, Pfizer/BioNTech\", \"Moderna, Pfizer/BioNTech\", \"Moderna, Pfizer/BioNTech\", \"Moderna, Pfizer/BioNTech\", \"Moderna, Pfizer/BioNTech\", \"Moderna, Pfizer/BioNTech\", \"Moderna, Pfizer/BioNTech\", \"Moderna, Pfizer/BioNTech\", \"Moderna, Pfizer/BioNTech\", \"Moderna, Pfizer/BioNTech\", \"Moderna, Pfizer/BioNTech\", \"Moderna, Pfizer/BioNTech\", \"Moderna, Pfizer/BioNTech\", \"Moderna, Pfizer/BioNTech\", \"Moderna, Pfizer/BioNTech\", \"Moderna, Pfizer/BioNTech\", \"Moderna, Pfizer/BioNTech\", \"Moderna, Pfizer/BioNTech\", \"Moderna, Oxford/AstraZeneca, Pfizer/BioNTech\", \"Moderna, Oxford/AstraZeneca, Pfizer/BioNTech\", \"Moderna, Oxford/AstraZeneca, Pfizer/BioNTech\", \"Moderna, Oxford/AstraZeneca, Pfizer/BioNTech\", \"Moderna, Oxford/AstraZeneca, Pfizer/BioNTech\", \"Moderna, Oxford/AstraZeneca, Pfizer/BioNTech\", \"Moderna, Oxford/AstraZeneca, Pfizer/BioNTech\", \"Moderna, Oxford/AstraZeneca, Pfizer/BioNTech\", \"Moderna, Oxford/AstraZeneca, Pfizer/BioNTech\", \"Moderna, Oxford/AstraZeneca, Pfizer/BioNTech\", \"Moderna, Oxford/AstraZeneca, Pfizer/BioNTech\", \"Moderna, Oxford/AstraZeneca, Pfizer/BioNTech\", \"Moderna, Oxford/AstraZeneca, Pfizer/BioNTech\", \"Moderna, Oxford/AstraZeneca, Pfizer/BioNTech\", \"Moderna, Oxford/AstraZeneca, Pfizer/BioNTech\", \"Moderna, Oxford/AstraZeneca, Pfizer/BioNTech\", \"Moderna, Oxford/AstraZeneca, Pfizer/BioNTech\", \"Moderna, Oxford/AstraZeneca, Pfizer/BioNTech\", \"Moderna, Oxford/AstraZeneca, Pfizer/BioNTech\", \"Moderna, Oxford/AstraZeneca, Pfizer/BioNTech\", \"Moderna, Oxford/AstraZeneca, Pfizer/BioNTech\", \"Moderna, Oxford/AstraZeneca, Pfizer/BioNTech\", \"Moderna, Oxford/AstraZeneca, Pfizer/BioNTech\", \"Moderna, Oxford/AstraZeneca, Pfizer/BioNTech\", \"Moderna, Oxford/AstraZeneca, Pfizer/BioNTech\", \"Moderna, Oxford/AstraZeneca, Pfizer/BioNTech\", \"Moderna, Oxford/AstraZeneca, Pfizer/BioNTech\", \"Moderna, Oxford/AstraZeneca, Pfizer/BioNTech\", \"Moderna, Oxford/AstraZeneca, Pfizer/BioNTech\", \"Moderna, Oxford/AstraZeneca, Pfizer/BioNTech\", \"Moderna, Oxford/AstraZeneca, Pfizer/BioNTech\", \"Moderna, Oxford/AstraZeneca, Pfizer/BioNTech\", \"Moderna, Oxford/AstraZeneca, Pfizer/BioNTech\", \"Moderna, Oxford/AstraZeneca, Pfizer/BioNTech\", \"Moderna, Oxford/AstraZeneca, Pfizer/BioNTech\", \"Moderna, Oxford/AstraZeneca, Pfizer/BioNTech\", \"Moderna, Oxford/AstraZeneca, Pfizer/BioNTech\", \"Moderna, Oxford/AstraZeneca, Pfizer/BioNTech\", \"Moderna, Oxford/AstraZeneca, Pfizer/BioNTech\", \"Moderna, Oxford/AstraZeneca, Pfizer/BioNTech\", \"Moderna, Oxford/AstraZeneca, Pfizer/BioNTech\", \"Moderna, Oxford/AstraZeneca, Pfizer/BioNTech\", \"Moderna, Oxford/AstraZeneca, Pfizer/BioNTech\", \"Moderna, Oxford/AstraZeneca, Pfizer/BioNTech\", \"Moderna, Oxford/AstraZeneca, Pfizer/BioNTech\", \"Moderna, Oxford/AstraZeneca, Pfizer/BioNTech\", \"Moderna, Oxford/AstraZeneca, Pfizer/BioNTech\", \"Moderna, Oxford/AstraZeneca, Pfizer/BioNTech\", \"Moderna, Oxford/AstraZeneca, Pfizer/BioNTech\", \"Moderna, Oxford/AstraZeneca, Pfizer/BioNTech\", \"Moderna, Oxford/AstraZeneca, Pfizer/BioNTech\", \"Moderna, Oxford/AstraZeneca, Pfizer/BioNTech\", \"Moderna, Oxford/AstraZeneca, Pfizer/BioNTech\", \"Moderna, Oxford/AstraZeneca, Pfizer/BioNTech\", \"Moderna, Oxford/AstraZeneca, Pfizer/BioNTech\", \"Moderna, Oxford/AstraZeneca, Pfizer/BioNTech\", \"Moderna, Oxford/AstraZeneca, Pfizer/BioNTech\", \"Moderna, Oxford/AstraZeneca, Pfizer/BioNTech\", \"Moderna, Oxford/AstraZeneca, Pfizer/BioNTech\", \"Moderna, Oxford/AstraZeneca, Pfizer/BioNTech\", \"Moderna, Oxford/AstraZeneca, Pfizer/BioNTech\", \"Moderna, Oxford/AstraZeneca, Pfizer/BioNTech\", \"Moderna, Oxford/AstraZeneca, Pfizer/BioNTech\", \"Moderna, Oxford/AstraZeneca, Pfizer/BioNTech\", \"Moderna, Oxford/AstraZeneca, Pfizer/BioNTech\", \"Moderna, Oxford/AstraZeneca, Pfizer/BioNTech\", \"Moderna, Oxford/AstraZeneca, Pfizer/BioNTech\", \"Moderna, Oxford/AstraZeneca, Pfizer/BioNTech\", \"Moderna, Oxford/AstraZeneca, Pfizer/BioNTech\", \"Moderna, Oxford/AstraZeneca, Pfizer/BioNTech\", \"Pfizer/BioNTech\", \"Pfizer/BioNTech\", \"Pfizer/BioNTech\", \"Pfizer/BioNTech\", \"Pfizer/BioNTech\", \"Pfizer/BioNTech\", \"Pfizer/BioNTech\", \"Pfizer/BioNTech\", \"Pfizer/BioNTech\", \"Pfizer/BioNTech\", \"Pfizer/BioNTech\", \"Pfizer/BioNTech\", \"Pfizer/BioNTech\", \"Pfizer/BioNTech\", \"Pfizer/BioNTech\", \"Pfizer/BioNTech\", \"Pfizer/BioNTech\", \"Oxford/AstraZeneca, Pfizer/BioNTech\", \"Oxford/AstraZeneca, Pfizer/BioNTech\", \"Oxford/AstraZeneca, Pfizer/BioNTech\", \"Oxford/AstraZeneca, Pfizer/BioNTech\", \"Oxford/AstraZeneca, Pfizer/BioNTech\", \"Oxford/AstraZeneca, Pfizer/BioNTech\", \"Oxford/AstraZeneca, Pfizer/BioNTech\", \"Oxford/AstraZeneca, Pfizer/BioNTech\", \"Oxford/AstraZeneca, Pfizer/BioNTech\", \"Oxford/AstraZeneca, Pfizer/BioNTech\", \"Oxford/AstraZeneca, Pfizer/BioNTech\", \"Oxford/AstraZeneca, Pfizer/BioNTech\", \"Oxford/AstraZeneca, Pfizer/BioNTech\", \"Oxford/AstraZeneca, Pfizer/BioNTech\", \"Oxford/AstraZeneca, Pfizer/BioNTech\", \"Oxford/AstraZeneca, Pfizer/BioNTech\", \"Oxford/AstraZeneca, Pfizer/BioNTech\", \"Oxford/AstraZeneca, Pfizer/BioNTech\", \"Oxford/AstraZeneca, Pfizer/BioNTech\", \"Oxford/AstraZeneca, Pfizer/BioNTech\", \"Oxford/AstraZeneca, Pfizer/BioNTech\", \"Oxford/AstraZeneca, Pfizer/BioNTech\", \"Oxford/AstraZeneca, Pfizer/BioNTech\", \"Oxford/AstraZeneca, Pfizer/BioNTech\", \"Oxford/AstraZeneca, Pfizer/BioNTech\", \"Oxford/AstraZeneca, Pfizer/BioNTech\", \"Oxford/AstraZeneca, Pfizer/BioNTech\", \"Oxford/AstraZeneca, Pfizer/BioNTech\", \"Oxford/AstraZeneca, Pfizer/BioNTech\", \"Oxford/AstraZeneca, Pfizer/BioNTech\", \"Oxford/AstraZeneca, Pfizer/BioNTech\", \"Oxford/AstraZeneca, Pfizer/BioNTech\", \"Oxford/AstraZeneca, Pfizer/BioNTech\", \"Oxford/AstraZeneca, Pfizer/BioNTech\", \"Oxford/AstraZeneca, Pfizer/BioNTech\", \"Oxford/AstraZeneca, Pfizer/BioNTech\", \"Pfizer/BioNTech, Sinopharm/Beijing\", \"Pfizer/BioNTech, Sinopharm/Beijing\", \"Pfizer/BioNTech, Sinopharm/Beijing\", \"Pfizer/BioNTech, Sinopharm/Beijing\", \"Pfizer/BioNTech, Sinopharm/Beijing\", \"Pfizer/BioNTech, Sinopharm/Beijing\", \"Pfizer/BioNTech, Sinopharm/Beijing\", \"Pfizer/BioNTech, Sinopharm/Beijing\", \"Pfizer/BioNTech, Sinopharm/Beijing\", \"Pfizer/BioNTech, Sinopharm/Beijing\", \"Pfizer/BioNTech, Sinopharm/Beijing\", \"Pfizer/BioNTech, Sinopharm/Beijing\", \"Pfizer/BioNTech, Sinopharm/Beijing\", \"Pfizer/BioNTech, Sinopharm/Beijing\", \"Pfizer/BioNTech, Sinopharm/Beijing\", \"Pfizer/BioNTech, Sinopharm/Beijing\", \"Pfizer/BioNTech, Sinopharm/Beijing\", \"Pfizer/BioNTech, Sinopharm/Beijing\", \"Pfizer/BioNTech, Sinopharm/Beijing\", \"Pfizer/BioNTech, Sinopharm/Beijing\", \"Pfizer/BioNTech, Sinopharm/Beijing\", \"Pfizer/BioNTech, Sinopharm/Beijing\", \"Pfizer/BioNTech, Sinopharm/Beijing\", \"Pfizer/BioNTech, Sinopharm/Beijing\", \"Pfizer/BioNTech, Sinopharm/Beijing\", \"Pfizer/BioNTech, Sinopharm/Beijing\", \"Pfizer/BioNTech, Sinopharm/Beijing\", \"Pfizer/BioNTech, Sinopharm/Beijing\", \"Pfizer/BioNTech, Sinopharm/Beijing\", \"Pfizer/BioNTech, Sinopharm/Beijing\", \"Pfizer/BioNTech, Sinopharm/Beijing\", \"Pfizer/BioNTech, Sinopharm/Beijing\", \"Pfizer/BioNTech, Sinopharm/Beijing\", \"Pfizer/BioNTech, Sinopharm/Beijing\", \"Pfizer/BioNTech, Sinopharm/Beijing\", \"Pfizer/BioNTech, Sinopharm/Beijing\", \"Pfizer/BioNTech, Sinopharm/Beijing\", \"Pfizer/BioNTech, Sinopharm/Beijing\", \"Pfizer/BioNTech, Sinopharm/Beijing\", \"Pfizer/BioNTech, Sinopharm/Beijing\", \"Pfizer/BioNTech, Sinopharm/Beijing\", \"Pfizer/BioNTech, Sinopharm/Beijing\", \"Pfizer/BioNTech, Sinopharm/Beijing\", \"Pfizer/BioNTech, Sinopharm/Beijing\", \"Pfizer/BioNTech, Sinopharm/Beijing\", \"Sputnik V\", \"Sputnik V\", \"Sputnik V\", \"Sputnik V\", \"Sputnik V\", \"Sputnik V\", \"Sputnik V\", \"Sputnik V\", \"Sputnik V\", \"Sputnik V\", \"Sputnik V\", \"Sputnik V\", \"Sputnik V\", \"Sputnik V\", \"Sputnik V\", \"Sputnik V\", \"Sputnik V\", \"Sputnik V\", \"Sputnik V\", \"Sputnik V\", \"Sputnik V\", \"Sputnik V\", \"Sputnik V\", \"Sputnik V\", \"Sputnik V\", \"Pfizer/BioNTech\", \"Pfizer/BioNTech\", \"Pfizer/BioNTech\", \"Pfizer/BioNTech\", \"Pfizer/BioNTech\", \"Pfizer/BioNTech\", \"Pfizer/BioNTech\", \"Pfizer/BioNTech\", \"Pfizer/BioNTech\", \"Pfizer/BioNTech\", \"Pfizer/BioNTech\", \"Pfizer/BioNTech\", \"Pfizer/BioNTech\", \"Pfizer/BioNTech\", \"Pfizer/BioNTech\", \"Pfizer/BioNTech\", \"Pfizer/BioNTech\", \"Pfizer/BioNTech\", \"Pfizer/BioNTech\", \"Pfizer/BioNTech\", \"Pfizer/BioNTech\", \"Pfizer/BioNTech\", \"Pfizer/BioNTech\", \"Pfizer/BioNTech\", \"Pfizer/BioNTech\", \"Pfizer/BioNTech\", \"Pfizer/BioNTech\", \"Pfizer/BioNTech\", \"Pfizer/BioNTech\", \"Pfizer/BioNTech\", \"Pfizer/BioNTech\", \"Pfizer/BioNTech\", \"Pfizer/BioNTech\", \"Pfizer/BioNTech\", \"Pfizer/BioNTech\", \"Pfizer/BioNTech\", \"Pfizer/BioNTech\", \"Pfizer/BioNTech\", \"Pfizer/BioNTech\", \"Pfizer/BioNTech\", \"Pfizer/BioNTech\", \"Pfizer/BioNTech\", \"Pfizer/BioNTech\", \"Pfizer/BioNTech\", \"Pfizer/BioNTech\", \"Pfizer/BioNTech\", \"Pfizer/BioNTech\", \"Pfizer/BioNTech\", \"Pfizer/BioNTech\", \"Pfizer/BioNTech\", \"Moderna, Oxford/AstraZeneca, Pfizer/BioNTech\", \"Moderna, Oxford/AstraZeneca, Pfizer/BioNTech\", \"Moderna, Oxford/AstraZeneca, Pfizer/BioNTech\", \"Moderna, Oxford/AstraZeneca, Pfizer/BioNTech\", \"Moderna, Oxford/AstraZeneca, Pfizer/BioNTech\", \"Moderna, Oxford/AstraZeneca, Pfizer/BioNTech\", \"Moderna, Oxford/AstraZeneca, Pfizer/BioNTech\", \"Moderna, Oxford/AstraZeneca, Pfizer/BioNTech\", \"Moderna, Oxford/AstraZeneca, Pfizer/BioNTech\", \"Moderna, Oxford/AstraZeneca, Pfizer/BioNTech\", \"Moderna, Oxford/AstraZeneca, Pfizer/BioNTech\", \"Moderna, Oxford/AstraZeneca, Pfizer/BioNTech\", \"Moderna, Oxford/AstraZeneca, Pfizer/BioNTech\", \"Moderna, Oxford/AstraZeneca, Pfizer/BioNTech\", \"Moderna, Oxford/AstraZeneca, Pfizer/BioNTech\", \"Moderna, Oxford/AstraZeneca, Pfizer/BioNTech\", \"Moderna, Oxford/AstraZeneca, Pfizer/BioNTech\", \"Moderna, Oxford/AstraZeneca, Pfizer/BioNTech\", \"Moderna, Oxford/AstraZeneca, Pfizer/BioNTech\", \"Moderna, Oxford/AstraZeneca, Pfizer/BioNTech\", \"Moderna, Oxford/AstraZeneca, Pfizer/BioNTech\", \"Moderna, Oxford/AstraZeneca, Pfizer/BioNTech\", \"Moderna, Oxford/AstraZeneca, Pfizer/BioNTech\", \"Moderna, Oxford/AstraZeneca, Pfizer/BioNTech\", \"Moderna, Oxford/AstraZeneca, Pfizer/BioNTech\", \"Moderna, Oxford/AstraZeneca, Pfizer/BioNTech\", \"Moderna, Oxford/AstraZeneca, Pfizer/BioNTech\", \"Moderna, Oxford/AstraZeneca, Pfizer/BioNTech\", \"Moderna, Oxford/AstraZeneca, Pfizer/BioNTech\", \"Moderna, Oxford/AstraZeneca, Pfizer/BioNTech\", \"Moderna, Oxford/AstraZeneca, Pfizer/BioNTech\", \"Moderna, Oxford/AstraZeneca, Pfizer/BioNTech\", \"Moderna, Oxford/AstraZeneca, Pfizer/BioNTech\", \"Moderna, Oxford/AstraZeneca, Pfizer/BioNTech\", \"Moderna, Oxford/AstraZeneca, Pfizer/BioNTech\", \"Moderna, Oxford/AstraZeneca, Pfizer/BioNTech\", \"Moderna, Oxford/AstraZeneca, Pfizer/BioNTech\", \"Moderna, Oxford/AstraZeneca, Pfizer/BioNTech\", \"Moderna, Oxford/AstraZeneca, Pfizer/BioNTech\", \"Moderna, Oxford/AstraZeneca, Pfizer/BioNTech\", \"Moderna, Oxford/AstraZeneca, Pfizer/BioNTech\", \"Moderna, Oxford/AstraZeneca, Pfizer/BioNTech\", \"Moderna, Oxford/AstraZeneca, Pfizer/BioNTech\", \"Moderna, Oxford/AstraZeneca, Pfizer/BioNTech\", \"Moderna, Oxford/AstraZeneca, Pfizer/BioNTech\", \"Moderna, Oxford/AstraZeneca, Pfizer/BioNTech\", \"Moderna, Oxford/AstraZeneca, Pfizer/BioNTech\", \"Moderna, Oxford/AstraZeneca, Pfizer/BioNTech\", \"Moderna, Oxford/AstraZeneca, Pfizer/BioNTech\", \"Moderna, Oxford/AstraZeneca, Pfizer/BioNTech\", \"Moderna, Oxford/AstraZeneca, Pfizer/BioNTech\", \"Moderna, Oxford/AstraZeneca, Pfizer/BioNTech\", \"Moderna, Oxford/AstraZeneca, Pfizer/BioNTech\", \"Moderna, Oxford/AstraZeneca, Pfizer/BioNTech\", \"Moderna, Oxford/AstraZeneca, Pfizer/BioNTech\", \"Moderna, Oxford/AstraZeneca, Pfizer/BioNTech\", \"Moderna, Oxford/AstraZeneca, Pfizer/BioNTech\", \"Moderna, Oxford/AstraZeneca, Pfizer/BioNTech\", \"Moderna, Oxford/AstraZeneca, Pfizer/BioNTech\", \"Moderna, Oxford/AstraZeneca, Pfizer/BioNTech\", \"Moderna, Oxford/AstraZeneca, Pfizer/BioNTech\", \"Moderna, Oxford/AstraZeneca, Pfizer/BioNTech\", \"Moderna, Oxford/AstraZeneca, Pfizer/BioNTech\", \"Moderna, Oxford/AstraZeneca, Pfizer/BioNTech\", \"Moderna, Oxford/AstraZeneca, Pfizer/BioNTech\", \"Pfizer/BioNTech\", \"Pfizer/BioNTech\", \"Pfizer/BioNTech\", \"Pfizer/BioNTech\", \"Pfizer/BioNTech\", \"Pfizer/BioNTech\", \"Pfizer/BioNTech\", \"Pfizer/BioNTech\", \"Pfizer/BioNTech\", \"Pfizer/BioNTech\", \"Pfizer/BioNTech\", \"Pfizer/BioNTech\", \"Pfizer/BioNTech\", \"Pfizer/BioNTech\", \"Pfizer/BioNTech\", \"Pfizer/BioNTech\", \"Pfizer/BioNTech\", \"Pfizer/BioNTech\", \"Pfizer/BioNTech\", \"Pfizer/BioNTech\", \"Pfizer/BioNTech\", \"Pfizer/BioNTech\", \"Moderna, Pfizer/BioNTech\", \"Moderna, Pfizer/BioNTech\", \"Moderna, Pfizer/BioNTech\", \"Moderna, Pfizer/BioNTech\", \"Moderna, Pfizer/BioNTech\", \"Moderna, Pfizer/BioNTech\", \"Moderna, Pfizer/BioNTech\", \"Moderna, Pfizer/BioNTech\", \"Moderna, Pfizer/BioNTech\", \"Moderna, Pfizer/BioNTech\", \"Moderna, Pfizer/BioNTech\", \"Moderna, Pfizer/BioNTech\", \"Moderna, Pfizer/BioNTech\", \"Moderna, Pfizer/BioNTech\", \"Moderna, Pfizer/BioNTech\", \"Moderna, Pfizer/BioNTech\", \"Moderna, Pfizer/BioNTech\", \"Moderna, Pfizer/BioNTech\", \"Moderna, Pfizer/BioNTech\", \"Moderna, Pfizer/BioNTech\", \"Moderna, Pfizer/BioNTech\", \"Moderna, Pfizer/BioNTech\", \"Moderna, Pfizer/BioNTech\", \"Moderna, Pfizer/BioNTech\", \"Moderna, Pfizer/BioNTech\", \"Moderna, Pfizer/BioNTech\", \"Moderna, Pfizer/BioNTech\", \"Moderna, Pfizer/BioNTech\", \"Moderna, Pfizer/BioNTech\", \"Moderna, Oxford/AstraZeneca, Pfizer/BioNTech\", \"Moderna, Oxford/AstraZeneca, Pfizer/BioNTech\", \"Moderna, Oxford/AstraZeneca, Pfizer/BioNTech\", \"Moderna, Oxford/AstraZeneca, Pfizer/BioNTech\", \"Moderna, Oxford/AstraZeneca, Pfizer/BioNTech\", \"Moderna, Oxford/AstraZeneca, Pfizer/BioNTech\", \"Moderna, Oxford/AstraZeneca, Pfizer/BioNTech\", \"Moderna, Oxford/AstraZeneca, Pfizer/BioNTech\", \"Moderna, Oxford/AstraZeneca, Pfizer/BioNTech\", \"Moderna, Oxford/AstraZeneca, Pfizer/BioNTech\", \"Moderna, Oxford/AstraZeneca, Pfizer/BioNTech\", \"Moderna, Oxford/AstraZeneca, Pfizer/BioNTech\", \"Moderna, Oxford/AstraZeneca, Pfizer/BioNTech\", \"Moderna, Oxford/AstraZeneca, Pfizer/BioNTech\", \"Moderna, Oxford/AstraZeneca, Pfizer/BioNTech\", \"Moderna, Oxford/AstraZeneca, Pfizer/BioNTech\", \"Moderna, Oxford/AstraZeneca, Pfizer/BioNTech\", \"Moderna, Oxford/AstraZeneca, Pfizer/BioNTech\", \"Moderna, Oxford/AstraZeneca, Pfizer/BioNTech\", \"Moderna, Oxford/AstraZeneca, Pfizer/BioNTech\", \"Moderna, Oxford/AstraZeneca, Pfizer/BioNTech\", \"Moderna, Oxford/AstraZeneca, Pfizer/BioNTech\", \"Moderna, Oxford/AstraZeneca, Pfizer/BioNTech\", \"Moderna, Oxford/AstraZeneca, Pfizer/BioNTech\", \"Moderna, Oxford/AstraZeneca, Pfizer/BioNTech\", \"Moderna, Oxford/AstraZeneca, Pfizer/BioNTech\", \"Moderna, Oxford/AstraZeneca, Pfizer/BioNTech\", \"Moderna, Oxford/AstraZeneca, Pfizer/BioNTech\", \"Moderna, Oxford/AstraZeneca, Pfizer/BioNTech\", \"Moderna, Oxford/AstraZeneca, Pfizer/BioNTech\", \"Moderna, Oxford/AstraZeneca, Pfizer/BioNTech\", \"Moderna, Oxford/AstraZeneca, Pfizer/BioNTech\", \"Moderna, Oxford/AstraZeneca, Pfizer/BioNTech\", \"Moderna, Oxford/AstraZeneca, Pfizer/BioNTech\", \"Moderna, Oxford/AstraZeneca, Pfizer/BioNTech\", \"Moderna, Oxford/AstraZeneca, Pfizer/BioNTech\", \"Moderna, Oxford/AstraZeneca, Pfizer/BioNTech\", \"Moderna, Oxford/AstraZeneca, Pfizer/BioNTech\", \"Moderna, Oxford/AstraZeneca, Pfizer/BioNTech\", \"Moderna, Oxford/AstraZeneca, Pfizer/BioNTech\", \"Moderna, Oxford/AstraZeneca, Pfizer/BioNTech\", \"Moderna, Oxford/AstraZeneca, Pfizer/BioNTech\", \"Moderna, Oxford/AstraZeneca, Pfizer/BioNTech\", \"Moderna, Oxford/AstraZeneca, Pfizer/BioNTech\", \"Moderna, Oxford/AstraZeneca, Pfizer/BioNTech\", \"Moderna, Oxford/AstraZeneca, Pfizer/BioNTech\", \"Moderna, Oxford/AstraZeneca, Pfizer/BioNTech\", \"Moderna, Oxford/AstraZeneca, Pfizer/BioNTech\", \"Moderna, Oxford/AstraZeneca, Pfizer/BioNTech\", \"Moderna, Oxford/AstraZeneca, Pfizer/BioNTech\", \"Moderna, Oxford/AstraZeneca, Pfizer/BioNTech\", \"Moderna, Oxford/AstraZeneca, Pfizer/BioNTech\", \"Moderna, Oxford/AstraZeneca, Pfizer/BioNTech\", \"Moderna, Oxford/AstraZeneca, Pfizer/BioNTech\", \"Moderna, Oxford/AstraZeneca, Pfizer/BioNTech\", \"Moderna, Oxford/AstraZeneca, Pfizer/BioNTech\", \"Moderna, Oxford/AstraZeneca, Pfizer/BioNTech\", \"Moderna, Oxford/AstraZeneca, Pfizer/BioNTech\", \"Moderna, Oxford/AstraZeneca, Pfizer/BioNTech\", \"Moderna, Oxford/AstraZeneca, Pfizer/BioNTech\", \"Moderna, Oxford/AstraZeneca, Pfizer/BioNTech\", \"Moderna, Oxford/AstraZeneca, Pfizer/BioNTech\", \"Moderna, Oxford/AstraZeneca, Pfizer/BioNTech\", \"Moderna, Oxford/AstraZeneca, Pfizer/BioNTech\", \"Moderna, Oxford/AstraZeneca, Pfizer/BioNTech\", \"Moderna, Oxford/AstraZeneca, Pfizer/BioNTech\", \"Moderna, Oxford/AstraZeneca, Pfizer/BioNTech\", \"Moderna, Oxford/AstraZeneca, Pfizer/BioNTech\", \"Moderna, Oxford/AstraZeneca, Pfizer/BioNTech\", \"Moderna, Oxford/AstraZeneca, Pfizer/BioNTech\", \"Moderna, Oxford/AstraZeneca, Pfizer/BioNTech\", \"Moderna, Oxford/AstraZeneca, Pfizer/BioNTech\", \"Moderna, Oxford/AstraZeneca, Pfizer/BioNTech\", \"Moderna, Oxford/AstraZeneca, Pfizer/BioNTech\", \"Moderna, Oxford/AstraZeneca, Pfizer/BioNTech\", \"Moderna, Oxford/AstraZeneca, Pfizer/BioNTech\", \"Moderna, Oxford/AstraZeneca, Pfizer/BioNTech\", \"Moderna, Oxford/AstraZeneca, Pfizer/BioNTech\", \"Moderna, Oxford/AstraZeneca, Pfizer/BioNTech\", \"Moderna, Oxford/AstraZeneca, Pfizer/BioNTech\", \"Moderna, Oxford/AstraZeneca, Pfizer/BioNTech\", \"Moderna, Oxford/AstraZeneca, Pfizer/BioNTech\", \"Moderna, Oxford/AstraZeneca, Pfizer/BioNTech\", \"Moderna, Oxford/AstraZeneca, Pfizer/BioNTech\", \"Moderna, Oxford/AstraZeneca, Pfizer/BioNTech\", \"Moderna, Oxford/AstraZeneca, Pfizer/BioNTech\", \"Moderna, Oxford/AstraZeneca, Pfizer/BioNTech\", \"Moderna, Oxford/AstraZeneca, Pfizer/BioNTech\", \"Moderna, Oxford/AstraZeneca, Pfizer/BioNTech\", \"Moderna, Oxford/AstraZeneca, Pfizer/BioNTech\", \"Moderna, Oxford/AstraZeneca, Pfizer/BioNTech\", \"Moderna, Oxford/AstraZeneca, Pfizer/BioNTech\", \"Moderna, Oxford/AstraZeneca, Pfizer/BioNTech\", \"Moderna, Oxford/AstraZeneca, Pfizer/BioNTech\", \"Moderna, Oxford/AstraZeneca, Pfizer/BioNTech\", \"Moderna, Oxford/AstraZeneca, Pfizer/BioNTech\", \"Moderna, Oxford/AstraZeneca, Pfizer/BioNTech\", \"Moderna, Oxford/AstraZeneca, Pfizer/BioNTech\", \"Moderna, Oxford/AstraZeneca, Pfizer/BioNTech\", \"Moderna, Oxford/AstraZeneca, Pfizer/BioNTech\", \"Moderna, Oxford/AstraZeneca, Pfizer/BioNTech\", \"Moderna, Oxford/AstraZeneca, Pfizer/BioNTech\", \"Moderna, Oxford/AstraZeneca, Pfizer/BioNTech\", \"Moderna, Oxford/AstraZeneca, Pfizer/BioNTech\", \"Moderna, Oxford/AstraZeneca, Pfizer/BioNTech\", \"Moderna, Oxford/AstraZeneca, Pfizer/BioNTech\", \"Moderna, Oxford/AstraZeneca, Pfizer/BioNTech\", \"Moderna, Oxford/AstraZeneca, Pfizer/BioNTech\", \"Moderna, Oxford/AstraZeneca, Pfizer/BioNTech\", \"Moderna, Oxford/AstraZeneca, Pfizer/BioNTech\", \"Moderna, Oxford/AstraZeneca, Pfizer/BioNTech\", \"Moderna, Oxford/AstraZeneca, Pfizer/BioNTech\", \"Moderna, Oxford/AstraZeneca, Pfizer/BioNTech\", \"Moderna, Oxford/AstraZeneca, Pfizer/BioNTech\", \"Moderna, Oxford/AstraZeneca, Pfizer/BioNTech\", \"Moderna, Oxford/AstraZeneca, Pfizer/BioNTech\", \"Moderna, Oxford/AstraZeneca, Pfizer/BioNTech\", \"Moderna, Oxford/AstraZeneca, Pfizer/BioNTech\", \"Moderna, Oxford/AstraZeneca, Pfizer/BioNTech\", \"Moderna, Oxford/AstraZeneca, Pfizer/BioNTech\", \"Moderna, Oxford/AstraZeneca, Pfizer/BioNTech\", \"Moderna, Oxford/AstraZeneca, Pfizer/BioNTech\", \"Moderna, Oxford/AstraZeneca, Pfizer/BioNTech\", \"Moderna, Oxford/AstraZeneca, Pfizer/BioNTech\", \"Moderna, Oxford/AstraZeneca, Pfizer/BioNTech\", \"Moderna, Oxford/AstraZeneca, Pfizer/BioNTech\", \"Moderna, Oxford/AstraZeneca, Pfizer/BioNTech\", \"Moderna, Oxford/AstraZeneca, Pfizer/BioNTech\", \"Moderna, Oxford/AstraZeneca, Pfizer/BioNTech\", \"Moderna, Oxford/AstraZeneca, Pfizer/BioNTech\", \"Moderna, Oxford/AstraZeneca, Pfizer/BioNTech\", \"Moderna, Oxford/AstraZeneca, Pfizer/BioNTech\", \"Moderna, Oxford/AstraZeneca, Pfizer/BioNTech\", \"Moderna, Oxford/AstraZeneca, Pfizer/BioNTech\", \"Moderna, Oxford/AstraZeneca, Pfizer/BioNTech\", \"Sinopharm/Beijing\", \"Sinopharm/Beijing\", \"Sinopharm/Beijing\", \"Sinopharm/Beijing\", \"Sinopharm/Beijing\", \"Sinopharm/Beijing\", \"Sinopharm/Beijing\", \"Sinopharm/Beijing\", \"Sinopharm/Beijing\", \"Sinopharm/Beijing\", \"Sinopharm/Beijing\", \"Sinovac\", \"Sinovac\", \"Sinovac\", \"Sinovac\", \"Sinovac\", \"Sinovac\", \"Sinovac\", \"Sinovac\", \"Sinovac\", \"Sinovac\", \"Sinovac\", \"Oxford/AstraZeneca\", \"Oxford/AstraZeneca\", \"Oxford/AstraZeneca\", \"Oxford/AstraZeneca\", \"Oxford/AstraZeneca\", \"Oxford/AstraZeneca\", \"Oxford/AstraZeneca\", \"Oxford/AstraZeneca\", \"Oxford/AstraZeneca\", \"Oxford/AstraZeneca\", \"Oxford/AstraZeneca\", \"Oxford/AstraZeneca\", \"Oxford/AstraZeneca\", \"Oxford/AstraZeneca\", \"Oxford/AstraZeneca\", \"Oxford/AstraZeneca\", \"Oxford/AstraZeneca\", \"Oxford/AstraZeneca\", \"Oxford/AstraZeneca\", \"Oxford/AstraZeneca\", \"Oxford/AstraZeneca\", \"Oxford/AstraZeneca\", \"Oxford/AstraZeneca\", \"Oxford/AstraZeneca\", \"Oxford/AstraZeneca\", \"Oxford/AstraZeneca\", \"Oxford/AstraZeneca\", \"Oxford/AstraZeneca\", \"Oxford/AstraZeneca\", \"Oxford/AstraZeneca\", \"Oxford/AstraZeneca\", \"Oxford/AstraZeneca\", \"Oxford/AstraZeneca\", \"Pfizer/BioNTech\", \"Pfizer/BioNTech\", \"Pfizer/BioNTech\", \"Pfizer/BioNTech\", \"Pfizer/BioNTech\", \"Pfizer/BioNTech\", \"Pfizer/BioNTech\", \"Pfizer/BioNTech\", \"Pfizer/BioNTech\", \"Pfizer/BioNTech\", \"Pfizer/BioNTech\", \"Pfizer/BioNTech\", \"Pfizer/BioNTech\", \"Pfizer/BioNTech\", \"Pfizer/BioNTech\", \"Pfizer/BioNTech\", \"Pfizer/BioNTech\", \"Pfizer/BioNTech\", \"Pfizer/BioNTech\", \"Pfizer/BioNTech\", \"Pfizer/BioNTech\", \"Pfizer/BioNTech\", \"Pfizer/BioNTech\", \"Pfizer/BioNTech\", \"Pfizer/BioNTech\", \"Pfizer/BioNTech\", \"Pfizer/BioNTech\", \"Pfizer/BioNTech\", \"Pfizer/BioNTech\", \"Pfizer/BioNTech\", \"Pfizer/BioNTech\", \"Pfizer/BioNTech\", \"Pfizer/BioNTech\", \"Pfizer/BioNTech\", \"Pfizer/BioNTech\", \"Pfizer/BioNTech\", \"Pfizer/BioNTech\", \"Pfizer/BioNTech\", \"Pfizer/BioNTech\", \"Pfizer/BioNTech\", \"Pfizer/BioNTech\", \"Pfizer/BioNTech\", \"Pfizer/BioNTech\", \"Pfizer/BioNTech\", \"Pfizer/BioNTech\", \"Pfizer/BioNTech\", \"Pfizer/BioNTech\", \"Pfizer/BioNTech\", \"Oxford/AstraZeneca\", \"Oxford/AstraZeneca\", \"Oxford/AstraZeneca\", \"Oxford/AstraZeneca\", \"Oxford/AstraZeneca\", \"Oxford/AstraZeneca\", \"Oxford/AstraZeneca\", \"Oxford/AstraZeneca\", \"Oxford/AstraZeneca\", \"Oxford/AstraZeneca\", \"Oxford/AstraZeneca\", \"Oxford/AstraZeneca\", \"Oxford/AstraZeneca\", \"Oxford/AstraZeneca\", \"Oxford/AstraZeneca\", \"Oxford/AstraZeneca\", \"Oxford/AstraZeneca\", \"Oxford/AstraZeneca\", \"Oxford/AstraZeneca\", \"Oxford/AstraZeneca\", \"Oxford/AstraZeneca\", \"Oxford/AstraZeneca\", \"Oxford/AstraZeneca\", \"Oxford/AstraZeneca\", \"Oxford/AstraZeneca, Pfizer/BioNTech, Sputnik V\", \"Oxford/AstraZeneca, Pfizer/BioNTech, Sputnik V\", \"Oxford/AstraZeneca, Pfizer/BioNTech, Sputnik V\", \"Oxford/AstraZeneca, Pfizer/BioNTech, Sputnik V\", \"Oxford/AstraZeneca, Pfizer/BioNTech, Sputnik V\", \"Oxford/AstraZeneca, Pfizer/BioNTech, Sputnik V\", \"Oxford/AstraZeneca, Pfizer/BioNTech, Sputnik V\", \"Oxford/AstraZeneca, Pfizer/BioNTech, Sputnik V\", \"Oxford/AstraZeneca, Pfizer/BioNTech, Sputnik V\", \"Oxford/AstraZeneca, Pfizer/BioNTech, Sputnik V\", \"Oxford/AstraZeneca, Pfizer/BioNTech, Sputnik V\", \"Oxford/AstraZeneca, Pfizer/BioNTech, Sputnik V\", \"Oxford/AstraZeneca, Pfizer/BioNTech, Sputnik V\", \"Oxford/AstraZeneca, Pfizer/BioNTech, Sputnik V\", \"Oxford/AstraZeneca, Pfizer/BioNTech, Sputnik V\", \"Oxford/AstraZeneca, Pfizer/BioNTech, Sputnik V\", \"Oxford/AstraZeneca, Pfizer/BioNTech, Sputnik V\", \"Oxford/AstraZeneca, Pfizer/BioNTech, Sputnik V\", \"Oxford/AstraZeneca, Pfizer/BioNTech, Sputnik V\", \"Oxford/AstraZeneca, Pfizer/BioNTech, Sputnik V\", \"Oxford/AstraZeneca, Pfizer/BioNTech, Sputnik V\", \"Oxford/AstraZeneca, Pfizer/BioNTech, Sputnik V\", \"Oxford/AstraZeneca, Pfizer/BioNTech, Sputnik V\", \"Oxford/AstraZeneca, Pfizer/BioNTech, Sputnik V\", \"Oxford/AstraZeneca, Pfizer/BioNTech, Sputnik V\", \"Oxford/AstraZeneca, Pfizer/BioNTech, Sputnik V\", \"Oxford/AstraZeneca, Pfizer/BioNTech, Sputnik V\", \"Oxford/AstraZeneca, Pfizer/BioNTech, Sputnik V\", \"Oxford/AstraZeneca, Pfizer/BioNTech, Sputnik V\", \"Oxford/AstraZeneca, Pfizer/BioNTech, Sputnik V\", \"Oxford/AstraZeneca, Pfizer/BioNTech, Sputnik V\", \"Oxford/AstraZeneca, Pfizer/BioNTech, Sputnik V\", \"Oxford/AstraZeneca, Pfizer/BioNTech, Sputnik V\", \"Oxford/AstraZeneca, Pfizer/BioNTech, Sputnik V\", \"Oxford/AstraZeneca, Pfizer/BioNTech, Sputnik V\", \"Oxford/AstraZeneca, Pfizer/BioNTech, Sputnik V\", \"Oxford/AstraZeneca, Pfizer/BioNTech, Sputnik V\", \"Oxford/AstraZeneca, Pfizer/BioNTech, Sputnik V\", \"Oxford/AstraZeneca, Pfizer/BioNTech, Sputnik V\", \"Oxford/AstraZeneca, Pfizer/BioNTech, Sputnik V\", \"Oxford/AstraZeneca, Pfizer/BioNTech, Sputnik V\", \"Oxford/AstraZeneca, Pfizer/BioNTech, Sputnik V\", \"Oxford/AstraZeneca, Pfizer/BioNTech, Sputnik V\", \"Oxford/AstraZeneca, Pfizer/BioNTech, Sputnik V\", \"Oxford/AstraZeneca, Pfizer/BioNTech, Sputnik V\", \"Oxford/AstraZeneca, Pfizer/BioNTech, Sputnik V\", \"Oxford/AstraZeneca, Pfizer/BioNTech, Sputnik V\", \"Oxford/AstraZeneca, Pfizer/BioNTech, Sputnik V\", \"Oxford/AstraZeneca, Pfizer/BioNTech, Sputnik V\", \"Oxford/AstraZeneca, Pfizer/BioNTech, Sputnik V\", \"Oxford/AstraZeneca, Pfizer/BioNTech, Sputnik V\", \"Oxford/AstraZeneca, Pfizer/BioNTech, Sputnik V\", \"Oxford/AstraZeneca, Pfizer/BioNTech, Sputnik V\", \"Oxford/AstraZeneca, Pfizer/BioNTech, Sputnik V\", \"Oxford/AstraZeneca, Pfizer/BioNTech, Sputnik V\", \"Oxford/AstraZeneca, Pfizer/BioNTech, Sputnik V\", \"Oxford/AstraZeneca, Pfizer/BioNTech, Sputnik V\", \"Oxford/AstraZeneca, Pfizer/BioNTech, Sputnik V\", \"Oxford/AstraZeneca, Pfizer/BioNTech, Sputnik V\", \"Oxford/AstraZeneca, Pfizer/BioNTech, Sputnik V\", \"Oxford/AstraZeneca, Pfizer/BioNTech, Sputnik V\", \"Oxford/AstraZeneca, Pfizer/BioNTech, Sputnik V\", \"Oxford/AstraZeneca, Pfizer/BioNTech, Sputnik V\", \"Oxford/AstraZeneca, Pfizer/BioNTech, Sputnik V\", \"Oxford/AstraZeneca, Pfizer/BioNTech, Sputnik V\", \"Oxford/AstraZeneca, Pfizer/BioNTech, Sputnik V\", \"Oxford/AstraZeneca, Pfizer/BioNTech, Sputnik V\", \"Oxford/AstraZeneca, Pfizer/BioNTech, Sputnik V\", \"Oxford/AstraZeneca, Pfizer/BioNTech, Sputnik V\", \"Oxford/AstraZeneca, Pfizer/BioNTech, Sputnik V\", \"Oxford/AstraZeneca, Pfizer/BioNTech, Sputnik V\", \"Oxford/AstraZeneca, Pfizer/BioNTech, Sputnik V\", \"Oxford/AstraZeneca, Pfizer/BioNTech, Sputnik V\", \"Pfizer/BioNTech\", \"Pfizer/BioNTech\", \"Pfizer/BioNTech\", \"Pfizer/BioNTech\", \"Pfizer/BioNTech\", \"Pfizer/BioNTech\", \"Pfizer/BioNTech\", \"Pfizer/BioNTech\", \"Pfizer/BioNTech\", \"Pfizer/BioNTech\", \"Pfizer/BioNTech\", \"Pfizer/BioNTech\", \"Pfizer/BioNTech\", \"Pfizer/BioNTech\", \"Pfizer/BioNTech\", \"Pfizer/BioNTech\", \"Pfizer/BioNTech\", \"Pfizer/BioNTech\", \"Pfizer/BioNTech\", \"Pfizer/BioNTech\", \"Oxford/AstraZeneca\", \"Oxford/AstraZeneca\", \"Oxford/AstraZeneca\", \"Oxford/AstraZeneca\", \"Oxford/AstraZeneca\", \"Sputnik V\", \"Sputnik V\", \"Sputnik V\", \"Sputnik V\", \"Sputnik V\", \"Sputnik V\", \"Sputnik V\", \"Sputnik V\", \"Sputnik V\", \"Sputnik V\", \"Sputnik V\", \"Sputnik V\", \"Sputnik V\", \"Sputnik V\", \"Oxford/AstraZeneca\", \"Oxford/AstraZeneca\", \"Oxford/AstraZeneca\", \"Oxford/AstraZeneca\", \"Oxford/AstraZeneca\", \"Oxford/AstraZeneca\", \"Oxford/AstraZeneca\", \"Oxford/AstraZeneca\", \"Oxford/AstraZeneca\", \"Oxford/AstraZeneca\", \"Oxford/AstraZeneca\", \"Oxford/AstraZeneca\", \"Oxford/AstraZeneca\", \"Oxford/AstraZeneca\", \"Oxford/AstraZeneca\", \"Oxford/AstraZeneca\", \"Oxford/AstraZeneca, Sinopharm/Beijing\", \"Oxford/AstraZeneca, Sinopharm/Beijing\", \"Oxford/AstraZeneca, Sinopharm/Beijing\", \"Oxford/AstraZeneca, Sinopharm/Beijing\", \"Oxford/AstraZeneca, Sinopharm/Beijing\", \"Oxford/AstraZeneca, Sinopharm/Beijing\", \"Oxford/AstraZeneca, Sinopharm/Beijing\", \"Oxford/AstraZeneca, Sinopharm/Beijing\", \"Oxford/AstraZeneca, Sinopharm/Beijing\", \"Oxford/AstraZeneca, Sinopharm/Beijing\", \"Oxford/AstraZeneca, Sinopharm/Beijing\", \"Oxford/AstraZeneca, Sinopharm/Beijing\", \"Oxford/AstraZeneca, Sinopharm/Beijing\", \"Oxford/AstraZeneca, Sinopharm/Beijing\", \"Oxford/AstraZeneca, Sinopharm/Beijing\", \"Oxford/AstraZeneca, Sinopharm/Beijing\", \"Oxford/AstraZeneca, Sinopharm/Beijing\", \"Oxford/AstraZeneca, Sinopharm/Beijing\", \"Oxford/AstraZeneca, Sinopharm/Beijing\", \"Oxford/AstraZeneca, Sinopharm/Beijing\", \"Oxford/AstraZeneca, Sinopharm/Beijing\", \"Oxford/AstraZeneca, Sinopharm/Beijing\", \"Oxford/AstraZeneca, Sinopharm/Beijing\", \"Oxford/AstraZeneca, Sinopharm/Beijing\", \"Oxford/AstraZeneca, Sinopharm/Beijing\", \"Oxford/AstraZeneca, Sinopharm/Beijing\", \"Oxford/AstraZeneca, Sinopharm/Beijing\", \"Oxford/AstraZeneca, Sinopharm/Beijing\", \"Oxford/AstraZeneca, Sinopharm/Beijing\", \"Oxford/AstraZeneca, Sinopharm/Beijing\", \"Oxford/AstraZeneca, Sinopharm/Beijing\", \"Oxford/AstraZeneca, Sinopharm/Beijing\", \"Oxford/AstraZeneca, Sinopharm/Beijing\", \"Oxford/AstraZeneca, Sinopharm/Beijing\", \"Oxford/AstraZeneca, Sinopharm/Beijing\", \"Oxford/AstraZeneca, Sinopharm/Beijing\", \"Oxford/AstraZeneca, Sinopharm/Beijing\", \"Oxford/AstraZeneca, Sinopharm/Beijing\", \"Oxford/AstraZeneca\", \"Oxford/AstraZeneca\", \"Oxford/AstraZeneca\", \"Oxford/AstraZeneca\", \"Oxford/AstraZeneca\", \"Oxford/AstraZeneca\", \"Oxford/AstraZeneca\", \"Oxford/AstraZeneca\", \"Oxford/AstraZeneca\", \"Oxford/AstraZeneca\", \"Oxford/AstraZeneca\", \"Oxford/AstraZeneca\", \"Oxford/AstraZeneca\", \"Oxford/AstraZeneca\", \"Oxford/AstraZeneca\", \"Oxford/AstraZeneca\", \"Oxford/AstraZeneca\", \"Oxford/AstraZeneca\", \"Oxford/AstraZeneca\", \"Oxford/AstraZeneca\", \"Oxford/AstraZeneca\", \"Oxford/AstraZeneca\", \"Oxford/AstraZeneca\", \"Oxford/AstraZeneca\", \"Oxford/AstraZeneca\", \"Oxford/AstraZeneca\", \"Oxford/AstraZeneca\", \"Oxford/AstraZeneca\", \"Oxford/AstraZeneca\", \"Oxford/AstraZeneca\", \"Oxford/AstraZeneca\", \"Oxford/AstraZeneca\", \"Oxford/AstraZeneca\", \"Oxford/AstraZeneca\", \"Moderna, Oxford/AstraZeneca, Pfizer/BioNTech\", \"Moderna, Oxford/AstraZeneca, Pfizer/BioNTech\", \"Moderna, Oxford/AstraZeneca, Pfizer/BioNTech\", \"Moderna, Oxford/AstraZeneca, Pfizer/BioNTech\", \"Moderna, Oxford/AstraZeneca, Pfizer/BioNTech\", \"Moderna, Oxford/AstraZeneca, Pfizer/BioNTech\", \"Moderna, Oxford/AstraZeneca, Pfizer/BioNTech\", \"Moderna, Oxford/AstraZeneca, Pfizer/BioNTech\", \"Moderna, Oxford/AstraZeneca, Pfizer/BioNTech\", \"Moderna, Oxford/AstraZeneca, Pfizer/BioNTech\", \"Moderna, Oxford/AstraZeneca, Pfizer/BioNTech\", \"Moderna, Oxford/AstraZeneca, Pfizer/BioNTech\", \"Moderna, Oxford/AstraZeneca, Pfizer/BioNTech\", \"Moderna, Oxford/AstraZeneca, Pfizer/BioNTech\", \"Moderna, Oxford/AstraZeneca, Pfizer/BioNTech\", \"Moderna, Oxford/AstraZeneca, Pfizer/BioNTech\", \"Moderna, Oxford/AstraZeneca, Pfizer/BioNTech\", \"Moderna, Oxford/AstraZeneca, Pfizer/BioNTech\", \"Moderna, Oxford/AstraZeneca, Pfizer/BioNTech\", \"Moderna, Oxford/AstraZeneca, Pfizer/BioNTech\", \"Moderna, Oxford/AstraZeneca, Pfizer/BioNTech\", \"Moderna, Oxford/AstraZeneca, Pfizer/BioNTech\", \"Moderna, Oxford/AstraZeneca, Pfizer/BioNTech\", \"Moderna, Oxford/AstraZeneca, Pfizer/BioNTech\", \"Moderna, Oxford/AstraZeneca, Pfizer/BioNTech\", \"Moderna, Oxford/AstraZeneca, Pfizer/BioNTech\", \"Moderna, Oxford/AstraZeneca, Pfizer/BioNTech\", \"Moderna, Oxford/AstraZeneca, Pfizer/BioNTech\", \"Moderna, Oxford/AstraZeneca, Pfizer/BioNTech\", \"Moderna, Oxford/AstraZeneca, Pfizer/BioNTech\", \"Moderna, Oxford/AstraZeneca, Pfizer/BioNTech\", \"Moderna, Oxford/AstraZeneca, Pfizer/BioNTech\", \"Moderna, Oxford/AstraZeneca, Pfizer/BioNTech\", \"Moderna, Oxford/AstraZeneca, Pfizer/BioNTech\", \"Moderna, Oxford/AstraZeneca, Pfizer/BioNTech\", \"Moderna, Oxford/AstraZeneca, Pfizer/BioNTech\", \"Moderna, Oxford/AstraZeneca, Pfizer/BioNTech\", \"Moderna, Oxford/AstraZeneca, Pfizer/BioNTech\", \"Moderna, Oxford/AstraZeneca, Pfizer/BioNTech\", \"Moderna, Oxford/AstraZeneca, Pfizer/BioNTech\", \"Moderna, Oxford/AstraZeneca, Pfizer/BioNTech\", \"Moderna, Oxford/AstraZeneca, Pfizer/BioNTech\", \"Moderna, Oxford/AstraZeneca, Pfizer/BioNTech\", \"Pfizer/BioNTech\", \"Pfizer/BioNTech\", \"Pfizer/BioNTech\", \"Pfizer/BioNTech\", \"Pfizer/BioNTech\", \"Pfizer/BioNTech\", \"Pfizer/BioNTech\", \"Pfizer/BioNTech\", \"Pfizer/BioNTech\", \"Pfizer/BioNTech\", \"Pfizer/BioNTech\", \"Pfizer/BioNTech\", \"Pfizer/BioNTech\", \"Pfizer/BioNTech\", \"Pfizer/BioNTech, Sinovac\", \"Pfizer/BioNTech, Sinovac\", \"Pfizer/BioNTech, Sinovac\", \"Pfizer/BioNTech, Sinovac\", \"Pfizer/BioNTech, Sinovac\", \"Pfizer/BioNTech, Sinovac\", \"Pfizer/BioNTech, Sinovac\", \"Pfizer/BioNTech, Sinovac\", \"Pfizer/BioNTech, Sinovac\", \"Moderna, Oxford/AstraZeneca, Pfizer/BioNTech\", \"Moderna, Oxford/AstraZeneca, Pfizer/BioNTech\", \"Moderna, Oxford/AstraZeneca, Pfizer/BioNTech\", \"Moderna, Oxford/AstraZeneca, Pfizer/BioNTech\", \"Moderna, Oxford/AstraZeneca, Pfizer/BioNTech\", \"Moderna, Oxford/AstraZeneca, Pfizer/BioNTech\", \"Moderna, Oxford/AstraZeneca, Pfizer/BioNTech\", \"Moderna, Oxford/AstraZeneca, Pfizer/BioNTech\", \"Moderna, Oxford/AstraZeneca, Pfizer/BioNTech\", \"Moderna, Oxford/AstraZeneca, Pfizer/BioNTech\", \"Moderna, Oxford/AstraZeneca, Pfizer/BioNTech\", \"Moderna, Oxford/AstraZeneca, Pfizer/BioNTech\", \"Moderna, Oxford/AstraZeneca, Pfizer/BioNTech\", \"Moderna, Oxford/AstraZeneca, Pfizer/BioNTech\", \"Moderna, Oxford/AstraZeneca, Pfizer/BioNTech\", \"Moderna, Oxford/AstraZeneca, Pfizer/BioNTech\", \"Moderna, Oxford/AstraZeneca, Pfizer/BioNTech\", \"Moderna, Oxford/AstraZeneca, Pfizer/BioNTech\", \"Moderna, Oxford/AstraZeneca, Pfizer/BioNTech\", \"Moderna, Oxford/AstraZeneca, Pfizer/BioNTech\", \"Moderna, Oxford/AstraZeneca, Pfizer/BioNTech\", \"Moderna, Oxford/AstraZeneca, Pfizer/BioNTech\", \"Moderna, Oxford/AstraZeneca, Pfizer/BioNTech\", \"Moderna, Oxford/AstraZeneca, Pfizer/BioNTech\", \"Moderna, Oxford/AstraZeneca, Pfizer/BioNTech\", \"Moderna, Oxford/AstraZeneca, Pfizer/BioNTech\", \"Moderna, Oxford/AstraZeneca, Pfizer/BioNTech\", \"Moderna, Oxford/AstraZeneca, Pfizer/BioNTech\", \"Moderna, Oxford/AstraZeneca, Pfizer/BioNTech\", \"Moderna, Oxford/AstraZeneca, Pfizer/BioNTech\", \"Moderna, Oxford/AstraZeneca, Pfizer/BioNTech\", \"Moderna, Oxford/AstraZeneca, Pfizer/BioNTech\", \"Moderna, Oxford/AstraZeneca, Pfizer/BioNTech\", \"Moderna, Oxford/AstraZeneca, Pfizer/BioNTech\", \"Moderna, Oxford/AstraZeneca, Pfizer/BioNTech\", \"Moderna, Oxford/AstraZeneca, Pfizer/BioNTech\", \"Moderna, Oxford/AstraZeneca, Pfizer/BioNTech\", \"Moderna, Oxford/AstraZeneca, Pfizer/BioNTech\", \"Moderna, Oxford/AstraZeneca, Pfizer/BioNTech\", \"Moderna, Oxford/AstraZeneca, Pfizer/BioNTech\", \"Moderna, Oxford/AstraZeneca, Pfizer/BioNTech\", \"Moderna, Oxford/AstraZeneca, Pfizer/BioNTech\", \"Moderna, Oxford/AstraZeneca, Pfizer/BioNTech\", \"Moderna, Oxford/AstraZeneca, Pfizer/BioNTech\", \"Moderna, Oxford/AstraZeneca, Pfizer/BioNTech\", \"Moderna, Oxford/AstraZeneca, Pfizer/BioNTech\", \"Moderna, Oxford/AstraZeneca, Pfizer/BioNTech\", \"Moderna, Oxford/AstraZeneca, Pfizer/BioNTech\", \"Moderna, Oxford/AstraZeneca, Pfizer/BioNTech\", \"Moderna, Oxford/AstraZeneca, Pfizer/BioNTech\", \"Moderna, Oxford/AstraZeneca, Pfizer/BioNTech\", \"Moderna, Oxford/AstraZeneca, Pfizer/BioNTech\", \"Moderna, Oxford/AstraZeneca, Pfizer/BioNTech\", \"Moderna, Oxford/AstraZeneca, Pfizer/BioNTech\", \"Moderna, Oxford/AstraZeneca, Pfizer/BioNTech\", \"Moderna, Oxford/AstraZeneca, Pfizer/BioNTech\", \"Moderna, Oxford/AstraZeneca, Pfizer/BioNTech\", \"Moderna, Oxford/AstraZeneca, Pfizer/BioNTech\", \"Moderna, Oxford/AstraZeneca, Pfizer/BioNTech\", \"Moderna, Oxford/AstraZeneca, Pfizer/BioNTech\", \"Moderna, Oxford/AstraZeneca, Pfizer/BioNTech\", \"Moderna, Oxford/AstraZeneca, Pfizer/BioNTech\", \"Moderna, Oxford/AstraZeneca, Pfizer/BioNTech\", \"Moderna, Oxford/AstraZeneca, Pfizer/BioNTech\", \"Moderna, Oxford/AstraZeneca, Pfizer/BioNTech\", \"Moderna, Oxford/AstraZeneca, Pfizer/BioNTech\", \"Moderna, Oxford/AstraZeneca, Pfizer/BioNTech\", \"Moderna, Oxford/AstraZeneca, Pfizer/BioNTech\", \"Oxford/AstraZeneca, Pfizer/BioNTech\", \"Oxford/AstraZeneca, Pfizer/BioNTech\", \"Oxford/AstraZeneca, Pfizer/BioNTech\", \"Oxford/AstraZeneca, Pfizer/BioNTech\", \"Oxford/AstraZeneca, Pfizer/BioNTech\", \"Oxford/AstraZeneca, Pfizer/BioNTech\", \"Oxford/AstraZeneca, Pfizer/BioNTech\", \"Oxford/AstraZeneca, Pfizer/BioNTech\", \"Oxford/AstraZeneca, Pfizer/BioNTech\", \"Oxford/AstraZeneca, Pfizer/BioNTech\", \"Oxford/AstraZeneca, Pfizer/BioNTech\", \"Oxford/AstraZeneca, Pfizer/BioNTech\", \"Oxford/AstraZeneca, Pfizer/BioNTech\", \"Oxford/AstraZeneca, Pfizer/BioNTech\", \"Oxford/AstraZeneca, Pfizer/BioNTech\", \"Oxford/AstraZeneca, Pfizer/BioNTech\", \"Oxford/AstraZeneca, Pfizer/BioNTech\", \"Oxford/AstraZeneca, Pfizer/BioNTech\", \"Oxford/AstraZeneca, Pfizer/BioNTech\", \"Oxford/AstraZeneca, Pfizer/BioNTech\", \"Oxford/AstraZeneca, Pfizer/BioNTech\", \"Oxford/AstraZeneca, Pfizer/BioNTech\", \"Oxford/AstraZeneca, Pfizer/BioNTech\", \"Oxford/AstraZeneca, Pfizer/BioNTech\", \"Oxford/AstraZeneca, Pfizer/BioNTech\", \"Oxford/AstraZeneca, Pfizer/BioNTech\", \"Oxford/AstraZeneca, Pfizer/BioNTech\", \"Oxford/AstraZeneca, Pfizer/BioNTech\", \"Oxford/AstraZeneca, Pfizer/BioNTech\", \"Oxford/AstraZeneca, Pfizer/BioNTech\", \"Oxford/AstraZeneca, Pfizer/BioNTech\", \"Oxford/AstraZeneca, Pfizer/BioNTech\", \"Oxford/AstraZeneca, Pfizer/BioNTech\", \"Oxford/AstraZeneca, Pfizer/BioNTech\", \"Oxford/AstraZeneca, Pfizer/BioNTech\", \"Oxford/AstraZeneca, Pfizer/BioNTech\", \"Oxford/AstraZeneca, Pfizer/BioNTech\", \"Oxford/AstraZeneca, Pfizer/BioNTech\", \"Oxford/AstraZeneca, Pfizer/BioNTech\", \"Oxford/AstraZeneca, Pfizer/BioNTech\", \"Oxford/AstraZeneca, Pfizer/BioNTech\", \"Oxford/AstraZeneca, Pfizer/BioNTech\", \"Oxford/AstraZeneca, Pfizer/BioNTech\", \"Oxford/AstraZeneca, Pfizer/BioNTech\", \"Oxford/AstraZeneca, Pfizer/BioNTech\", \"Oxford/AstraZeneca, Pfizer/BioNTech\", \"Oxford/AstraZeneca, Pfizer/BioNTech\", \"Oxford/AstraZeneca, Pfizer/BioNTech\", \"Oxford/AstraZeneca, Pfizer/BioNTech\", \"Oxford/AstraZeneca, Pfizer/BioNTech\", \"Oxford/AstraZeneca, Pfizer/BioNTech\", \"Oxford/AstraZeneca, Pfizer/BioNTech\", \"Oxford/AstraZeneca, Pfizer/BioNTech\", \"Oxford/AstraZeneca, Pfizer/BioNTech\", \"Oxford/AstraZeneca, Pfizer/BioNTech\", \"Oxford/AstraZeneca, Pfizer/BioNTech\", \"Oxford/AstraZeneca, Pfizer/BioNTech\", \"Oxford/AstraZeneca, Pfizer/BioNTech\", \"Oxford/AstraZeneca, Sinopharm/Beijing, Sputnik V\", \"Oxford/AstraZeneca, Sinopharm/Beijing, Sputnik V\", \"Oxford/AstraZeneca, Sinopharm/Beijing, Sputnik V\", \"Oxford/AstraZeneca, Sinopharm/Beijing, Sputnik V\", \"Oxford/AstraZeneca, Sinopharm/Beijing, Sputnik V\", \"Oxford/AstraZeneca, Sinopharm/Beijing, Sputnik V\", \"Oxford/AstraZeneca, Sinopharm/Beijing, Sputnik V\", \"Oxford/AstraZeneca, Sinopharm/Beijing, Sputnik V\", \"Oxford/AstraZeneca, Sinopharm/Beijing, Sputnik V\", \"Oxford/AstraZeneca, Sinopharm/Beijing, Sputnik V\", \"Oxford/AstraZeneca, Sinopharm/Beijing, Sputnik V\", \"Oxford/AstraZeneca, Sinopharm/Beijing, Sputnik V\", \"Oxford/AstraZeneca, Sinopharm/Beijing, Sputnik V\", \"Oxford/AstraZeneca, Sinopharm/Beijing, Sputnik V\", \"Oxford/AstraZeneca, Sinopharm/Beijing, Sputnik V\", \"Oxford/AstraZeneca, Sinopharm/Beijing, Sputnik V\", \"Oxford/AstraZeneca, Sinopharm/Beijing, Sputnik V\", \"Oxford/AstraZeneca, Sinopharm/Beijing, Sputnik V\", \"Oxford/AstraZeneca, Sinopharm/Beijing, Sputnik V\", \"Oxford/AstraZeneca, Sinopharm/Beijing, Sputnik V\", \"Pfizer/BioNTech\", \"Pfizer/BioNTech\", \"Pfizer/BioNTech\", \"Pfizer/BioNTech\", \"Pfizer/BioNTech\", \"Pfizer/BioNTech\", \"Pfizer/BioNTech\", \"Pfizer/BioNTech\", \"Pfizer/BioNTech\", \"Pfizer/BioNTech\", \"Pfizer/BioNTech\", \"Pfizer/BioNTech\", \"Pfizer/BioNTech\", \"Pfizer/BioNTech\", \"Pfizer/BioNTech\", \"Pfizer/BioNTech\", \"Pfizer/BioNTech\", \"Pfizer/BioNTech\", \"Pfizer/BioNTech\", \"Pfizer/BioNTech\", \"Pfizer/BioNTech\", \"Pfizer/BioNTech\", \"Pfizer/BioNTech\", \"Pfizer/BioNTech\", \"Pfizer/BioNTech\", \"Pfizer/BioNTech\", \"Pfizer/BioNTech\", \"Pfizer/BioNTech\", \"Pfizer/BioNTech\", \"Pfizer/BioNTech\", \"Pfizer/BioNTech\", \"Pfizer/BioNTech\", \"Pfizer/BioNTech\", \"Pfizer/BioNTech\", \"Pfizer/BioNTech\", \"Pfizer/BioNTech\", \"Pfizer/BioNTech\", \"Pfizer/BioNTech\", \"Pfizer/BioNTech\", \"Pfizer/BioNTech\", \"Pfizer/BioNTech\", \"Pfizer/BioNTech\", \"Pfizer/BioNTech\", \"Pfizer/BioNTech\", \"Pfizer/BioNTech\", \"Pfizer/BioNTech\", \"Pfizer/BioNTech\", \"Sputnik V\", \"Sputnik V\", \"Sputnik V\", \"Sputnik V\", \"Sputnik V\", \"Sinopharm/Beijing\", \"Sinopharm/Beijing\", \"Sinopharm/Beijing\", \"Sinopharm/Beijing\", \"Sinopharm/Beijing\", \"Sinopharm/Beijing\", \"Sinopharm/Beijing\", \"Sinopharm/Beijing\", \"Sinopharm/Beijing\", \"Sinopharm/Beijing\", \"Sinopharm/Beijing\", \"Sinopharm/Beijing\", \"Sinopharm/Beijing\", \"Sinopharm/Beijing\", \"Sinopharm/Beijing\", \"Sinopharm/Beijing\", \"Sinopharm/Beijing\", \"Sinopharm/Beijing\", \"Sinopharm/Beijing\", \"Sinopharm/Beijing\", \"Sinopharm/Beijing\", \"Sinopharm/Beijing\", \"Sinopharm/Beijing\", \"Sinopharm/Beijing\", \"Sinopharm/Beijing\", \"Sinovac\", \"Sinovac\", \"Sinovac\", \"Moderna, Oxford/AstraZeneca, Pfizer/BioNTech\", \"Moderna, Oxford/AstraZeneca, Pfizer/BioNTech\", \"Moderna, Oxford/AstraZeneca, Pfizer/BioNTech\", \"Moderna, Oxford/AstraZeneca, Pfizer/BioNTech\", \"Moderna, Oxford/AstraZeneca, Pfizer/BioNTech\", \"Moderna, Oxford/AstraZeneca, Pfizer/BioNTech\", \"Moderna, Oxford/AstraZeneca, Pfizer/BioNTech\", \"Moderna, Oxford/AstraZeneca, Pfizer/BioNTech\", \"Moderna, Oxford/AstraZeneca, Pfizer/BioNTech\", \"Moderna, Oxford/AstraZeneca, Pfizer/BioNTech\", \"Moderna, Oxford/AstraZeneca, Pfizer/BioNTech\", \"Moderna, Oxford/AstraZeneca, Pfizer/BioNTech\", \"Moderna, Oxford/AstraZeneca, Pfizer/BioNTech\", \"Moderna, Oxford/AstraZeneca, Pfizer/BioNTech\", \"Moderna, Oxford/AstraZeneca, Pfizer/BioNTech\", \"Moderna, Oxford/AstraZeneca, Pfizer/BioNTech\", \"Moderna, Oxford/AstraZeneca, Pfizer/BioNTech\", \"Moderna, Oxford/AstraZeneca, Pfizer/BioNTech\", \"Moderna, Oxford/AstraZeneca, Pfizer/BioNTech\", \"Moderna, Oxford/AstraZeneca, Pfizer/BioNTech\", \"Moderna, Oxford/AstraZeneca, Pfizer/BioNTech\", \"Moderna, Oxford/AstraZeneca, Pfizer/BioNTech\", \"Moderna, Oxford/AstraZeneca, Pfizer/BioNTech\", \"Moderna, Oxford/AstraZeneca, Pfizer/BioNTech\", \"Moderna, Oxford/AstraZeneca, Pfizer/BioNTech\", \"Moderna, Oxford/AstraZeneca, Pfizer/BioNTech\", \"Moderna, Oxford/AstraZeneca, Pfizer/BioNTech\", \"Moderna, Oxford/AstraZeneca, Pfizer/BioNTech\", \"Moderna, Oxford/AstraZeneca, Pfizer/BioNTech\", \"Moderna, Oxford/AstraZeneca, Pfizer/BioNTech\", \"Moderna, Oxford/AstraZeneca, Pfizer/BioNTech\", \"Moderna, Oxford/AstraZeneca, Pfizer/BioNTech\", \"Moderna, Oxford/AstraZeneca, Pfizer/BioNTech\", \"Moderna, Oxford/AstraZeneca, Pfizer/BioNTech\", \"Moderna, Oxford/AstraZeneca, Pfizer/BioNTech\", \"Moderna, Oxford/AstraZeneca, Pfizer/BioNTech\", \"Moderna, Oxford/AstraZeneca, Pfizer/BioNTech\", \"Moderna, Oxford/AstraZeneca, Pfizer/BioNTech\", \"Moderna, Oxford/AstraZeneca, Pfizer/BioNTech\", \"Moderna, Oxford/AstraZeneca, Pfizer/BioNTech\", \"Moderna, Oxford/AstraZeneca, Pfizer/BioNTech\", \"Moderna, Oxford/AstraZeneca, Pfizer/BioNTech\", \"Moderna, Oxford/AstraZeneca, Pfizer/BioNTech\", \"Moderna, Oxford/AstraZeneca, Pfizer/BioNTech\", \"Moderna, Oxford/AstraZeneca, Pfizer/BioNTech\", \"Moderna, Oxford/AstraZeneca, Pfizer/BioNTech\", \"Moderna, Oxford/AstraZeneca, Pfizer/BioNTech\", \"Moderna, Oxford/AstraZeneca, Pfizer/BioNTech\", \"Moderna, Oxford/AstraZeneca, Pfizer/BioNTech\", \"Moderna, Oxford/AstraZeneca, Pfizer/BioNTech\", \"Moderna, Oxford/AstraZeneca, Pfizer/BioNTech\", \"Moderna, Oxford/AstraZeneca, Pfizer/BioNTech\", \"Moderna, Oxford/AstraZeneca, Pfizer/BioNTech\", \"Moderna, Oxford/AstraZeneca, Pfizer/BioNTech\", \"Moderna, Oxford/AstraZeneca, Pfizer/BioNTech\", \"Moderna, Oxford/AstraZeneca, Pfizer/BioNTech\", \"Moderna, Oxford/AstraZeneca, Pfizer/BioNTech\", \"Moderna, Oxford/AstraZeneca, Pfizer/BioNTech\", \"Moderna, Oxford/AstraZeneca, Pfizer/BioNTech\", \"Moderna, Oxford/AstraZeneca, Pfizer/BioNTech\", \"Moderna, Oxford/AstraZeneca, Pfizer/BioNTech\", \"Moderna, Oxford/AstraZeneca, Pfizer/BioNTech\", \"Moderna, Oxford/AstraZeneca, Pfizer/BioNTech\", \"Moderna, Oxford/AstraZeneca, Pfizer/BioNTech\", \"Moderna, Oxford/AstraZeneca, Pfizer/BioNTech\", \"Moderna, Oxford/AstraZeneca, Pfizer/BioNTech\", \"Moderna, Oxford/AstraZeneca, Pfizer/BioNTech\", \"Moderna, Oxford/AstraZeneca, Pfizer/BioNTech\", \"Moderna, Oxford/AstraZeneca, Pfizer/BioNTech\", \"Moderna, Pfizer/BioNTech\", \"Moderna, Pfizer/BioNTech\", \"Moderna, Pfizer/BioNTech\", \"Moderna, Pfizer/BioNTech\", \"Moderna, Pfizer/BioNTech\", \"Moderna, Pfizer/BioNTech\", \"Moderna, Pfizer/BioNTech\", \"Moderna, Pfizer/BioNTech\", \"Moderna, Pfizer/BioNTech\", \"Moderna, Pfizer/BioNTech\", \"Moderna, Pfizer/BioNTech\", \"Moderna, Pfizer/BioNTech\", \"Moderna, Pfizer/BioNTech\", \"Moderna, Pfizer/BioNTech\", \"Moderna, Pfizer/BioNTech\", \"Moderna, Pfizer/BioNTech\", \"Moderna, Pfizer/BioNTech\", \"Moderna, Pfizer/BioNTech\", \"Moderna, Pfizer/BioNTech\", \"Moderna, Pfizer/BioNTech\", \"Moderna, Pfizer/BioNTech\", \"Moderna, Pfizer/BioNTech\", \"Moderna, Pfizer/BioNTech\", \"Moderna, Pfizer/BioNTech\", \"Moderna, Pfizer/BioNTech\", \"Moderna, Pfizer/BioNTech\", \"Moderna, Pfizer/BioNTech\", \"Moderna, Pfizer/BioNTech\", \"Moderna, Pfizer/BioNTech\", \"Moderna, Pfizer/BioNTech\", \"Moderna, Pfizer/BioNTech\", \"Moderna, Pfizer/BioNTech\", \"Moderna, Pfizer/BioNTech\", \"Moderna, Pfizer/BioNTech\", \"Moderna, Pfizer/BioNTech\", \"Moderna, Pfizer/BioNTech\", \"Moderna, Pfizer/BioNTech\", \"Moderna, Pfizer/BioNTech\", \"Moderna, Pfizer/BioNTech\", \"Moderna, Pfizer/BioNTech\", \"Moderna, Pfizer/BioNTech\", \"Moderna, Pfizer/BioNTech\", \"Moderna, Pfizer/BioNTech\", \"Moderna, Pfizer/BioNTech\", \"Moderna, Pfizer/BioNTech\", \"Moderna, Pfizer/BioNTech\", \"Moderna, Pfizer/BioNTech\", \"Moderna, Pfizer/BioNTech\", \"Moderna, Pfizer/BioNTech\", \"Moderna, Pfizer/BioNTech\", \"Moderna, Pfizer/BioNTech\", \"Moderna, Pfizer/BioNTech\", \"Moderna, Pfizer/BioNTech\", \"Moderna, Pfizer/BioNTech\", \"Moderna, Pfizer/BioNTech\", \"Moderna, Pfizer/BioNTech\", \"Moderna, Pfizer/BioNTech\", \"Moderna, Pfizer/BioNTech\", \"Moderna, Pfizer/BioNTech\", \"Moderna, Pfizer/BioNTech\", \"Moderna, Pfizer/BioNTech\", \"Moderna, Pfizer/BioNTech\", \"Moderna, Pfizer/BioNTech\", \"Moderna, Pfizer/BioNTech\", \"Moderna, Pfizer/BioNTech\", \"Moderna, Pfizer/BioNTech\", \"Moderna, Pfizer/BioNTech\", \"Moderna, Pfizer/BioNTech\", \"Moderna, Pfizer/BioNTech\", \"Moderna, Pfizer/BioNTech\", \"Pfizer/BioNTech\", \"Pfizer/BioNTech\", \"Pfizer/BioNTech\", \"Pfizer/BioNTech\", \"Pfizer/BioNTech\", \"Pfizer/BioNTech\", \"Pfizer/BioNTech\", \"Pfizer/BioNTech\", \"Pfizer/BioNTech\", \"Pfizer/BioNTech\", \"Pfizer/BioNTech\", \"Pfizer/BioNTech\", \"Pfizer/BioNTech\", \"Pfizer/BioNTech\", \"Pfizer/BioNTech\", \"Pfizer/BioNTech\", \"Pfizer/BioNTech\", \"Pfizer/BioNTech\", \"Pfizer/BioNTech\", \"Pfizer/BioNTech\", \"Pfizer/BioNTech\", \"Pfizer/BioNTech\", \"Pfizer/BioNTech\", \"Pfizer/BioNTech\", \"Pfizer/BioNTech\", \"Pfizer/BioNTech\", \"Pfizer/BioNTech\", \"Pfizer/BioNTech\", \"Pfizer/BioNTech\", \"Pfizer/BioNTech\", \"Pfizer/BioNTech\", \"Pfizer/BioNTech\", \"Pfizer/BioNTech\", \"Pfizer/BioNTech\", \"Pfizer/BioNTech\", \"Pfizer/BioNTech\", \"Pfizer/BioNTech\", \"Pfizer/BioNTech\", \"Pfizer/BioNTech\", \"Pfizer/BioNTech\", \"Pfizer/BioNTech\", \"Pfizer/BioNTech\", \"Pfizer/BioNTech\", \"Pfizer/BioNTech\", \"Pfizer/BioNTech\", \"Pfizer/BioNTech\", \"Pfizer/BioNTech\", \"Pfizer/BioNTech\", \"Pfizer/BioNTech\", \"Pfizer/BioNTech\", \"Pfizer/BioNTech\", \"Pfizer/BioNTech\", \"Pfizer/BioNTech\", \"Pfizer/BioNTech\", \"Pfizer/BioNTech\", \"Pfizer/BioNTech\", \"Pfizer/BioNTech\", \"Pfizer/BioNTech\", \"Pfizer/BioNTech\", \"Moderna, Oxford/AstraZeneca, Pfizer/BioNTech\", \"Moderna, Oxford/AstraZeneca, Pfizer/BioNTech\", \"Moderna, Oxford/AstraZeneca, Pfizer/BioNTech\", \"Moderna, Oxford/AstraZeneca, Pfizer/BioNTech\", \"Moderna, Oxford/AstraZeneca, Pfizer/BioNTech\", \"Moderna, Oxford/AstraZeneca, Pfizer/BioNTech\", \"Moderna, Oxford/AstraZeneca, Pfizer/BioNTech\", \"Moderna, Oxford/AstraZeneca, Pfizer/BioNTech\", \"Moderna, Oxford/AstraZeneca, Pfizer/BioNTech\", \"Moderna, Oxford/AstraZeneca, Pfizer/BioNTech\", \"Moderna, Oxford/AstraZeneca, Pfizer/BioNTech\", \"Moderna, Oxford/AstraZeneca, Pfizer/BioNTech\", \"Moderna, Oxford/AstraZeneca, Pfizer/BioNTech\", \"Moderna, Oxford/AstraZeneca, Pfizer/BioNTech\", \"Moderna, Oxford/AstraZeneca, Pfizer/BioNTech\", \"Moderna, Oxford/AstraZeneca, Pfizer/BioNTech\", \"Moderna, Oxford/AstraZeneca, Pfizer/BioNTech\", \"Moderna, Oxford/AstraZeneca, Pfizer/BioNTech\", \"Moderna, Oxford/AstraZeneca, Pfizer/BioNTech\", \"Moderna, Oxford/AstraZeneca, Pfizer/BioNTech\", \"Moderna, Oxford/AstraZeneca, Pfizer/BioNTech\", \"Moderna, Oxford/AstraZeneca, Pfizer/BioNTech\", \"Moderna, Oxford/AstraZeneca, Pfizer/BioNTech\", \"Moderna, Oxford/AstraZeneca, Pfizer/BioNTech\", \"Moderna, Oxford/AstraZeneca, Pfizer/BioNTech\", \"Moderna, Oxford/AstraZeneca, Pfizer/BioNTech\", \"Moderna, Oxford/AstraZeneca, Pfizer/BioNTech\", \"Moderna, Oxford/AstraZeneca, Pfizer/BioNTech\", \"Moderna, Oxford/AstraZeneca, Pfizer/BioNTech\", \"Moderna, Oxford/AstraZeneca, Pfizer/BioNTech\", \"Moderna, Oxford/AstraZeneca, Pfizer/BioNTech\", \"Moderna, Oxford/AstraZeneca, Pfizer/BioNTech\", \"Moderna, Oxford/AstraZeneca, Pfizer/BioNTech\", \"Moderna, Oxford/AstraZeneca, Pfizer/BioNTech\", \"Moderna, Oxford/AstraZeneca, Pfizer/BioNTech\", \"Moderna, Oxford/AstraZeneca, Pfizer/BioNTech\", \"Moderna, Oxford/AstraZeneca, Pfizer/BioNTech\", \"Moderna, Oxford/AstraZeneca, Pfizer/BioNTech\", \"Moderna, Oxford/AstraZeneca, Pfizer/BioNTech\", \"Moderna, Oxford/AstraZeneca, Pfizer/BioNTech\", \"Moderna, Oxford/AstraZeneca, Pfizer/BioNTech\", \"Moderna, Oxford/AstraZeneca, Pfizer/BioNTech\", \"Moderna, Oxford/AstraZeneca, Pfizer/BioNTech\", \"Moderna, Oxford/AstraZeneca, Pfizer/BioNTech\", \"Moderna, Oxford/AstraZeneca, Pfizer/BioNTech\", \"Moderna, Oxford/AstraZeneca, Pfizer/BioNTech\", \"Moderna, Oxford/AstraZeneca, Pfizer/BioNTech\", \"Moderna, Oxford/AstraZeneca, Pfizer/BioNTech\", \"Moderna, Oxford/AstraZeneca, Pfizer/BioNTech\", \"Moderna, Oxford/AstraZeneca, Pfizer/BioNTech\", \"Moderna, Oxford/AstraZeneca, Pfizer/BioNTech\", \"Moderna, Oxford/AstraZeneca, Pfizer/BioNTech\", \"Moderna, Oxford/AstraZeneca, Pfizer/BioNTech\", \"Moderna, Oxford/AstraZeneca, Pfizer/BioNTech\", \"Moderna, Oxford/AstraZeneca, Pfizer/BioNTech\", \"Moderna, Oxford/AstraZeneca, Pfizer/BioNTech\", \"Moderna, Oxford/AstraZeneca, Pfizer/BioNTech\", \"Moderna, Oxford/AstraZeneca, Pfizer/BioNTech\", \"Moderna, Oxford/AstraZeneca, Pfizer/BioNTech\", \"Moderna, Oxford/AstraZeneca, Pfizer/BioNTech\", \"Moderna, Oxford/AstraZeneca, Pfizer/BioNTech\", \"Moderna, Oxford/AstraZeneca, Pfizer/BioNTech\", \"Moderna, Oxford/AstraZeneca, Pfizer/BioNTech\", \"Moderna, Oxford/AstraZeneca, Pfizer/BioNTech\", \"Moderna, Oxford/AstraZeneca, Pfizer/BioNTech\", \"Moderna, Oxford/AstraZeneca, Pfizer/BioNTech\", \"Moderna, Oxford/AstraZeneca, Pfizer/BioNTech\", \"Moderna, Oxford/AstraZeneca, Pfizer/BioNTech\", \"Moderna, Oxford/AstraZeneca, Pfizer/BioNTech\", \"EpiVacCorona, Sputnik V\", \"EpiVacCorona, Sputnik V\", \"EpiVacCorona, Sputnik V\", \"EpiVacCorona, Sputnik V\", \"EpiVacCorona, Sputnik V\", \"EpiVacCorona, Sputnik V\", \"EpiVacCorona, Sputnik V\", \"EpiVacCorona, Sputnik V\", \"EpiVacCorona, Sputnik V\", \"EpiVacCorona, Sputnik V\", \"EpiVacCorona, Sputnik V\", \"EpiVacCorona, Sputnik V\", \"EpiVacCorona, Sputnik V\", \"EpiVacCorona, Sputnik V\", \"EpiVacCorona, Sputnik V\", \"EpiVacCorona, Sputnik V\", \"EpiVacCorona, Sputnik V\", \"EpiVacCorona, Sputnik V\", \"EpiVacCorona, Sputnik V\", \"EpiVacCorona, Sputnik V\", \"EpiVacCorona, Sputnik V\", \"EpiVacCorona, Sputnik V\", \"EpiVacCorona, Sputnik V\", \"EpiVacCorona, Sputnik V\", \"EpiVacCorona, Sputnik V\", \"EpiVacCorona, Sputnik V\", \"EpiVacCorona, Sputnik V\", \"EpiVacCorona, Sputnik V\", \"EpiVacCorona, Sputnik V\", \"EpiVacCorona, Sputnik V\", \"EpiVacCorona, Sputnik V\", \"EpiVacCorona, Sputnik V\", \"EpiVacCorona, Sputnik V\", \"EpiVacCorona, Sputnik V\", \"EpiVacCorona, Sputnik V\", \"EpiVacCorona, Sputnik V\", \"EpiVacCorona, Sputnik V\", \"EpiVacCorona, Sputnik V\", \"EpiVacCorona, Sputnik V\", \"EpiVacCorona, Sputnik V\", \"EpiVacCorona, Sputnik V\", \"EpiVacCorona, Sputnik V\", \"EpiVacCorona, Sputnik V\", \"EpiVacCorona, Sputnik V\", \"EpiVacCorona, Sputnik V\", \"EpiVacCorona, Sputnik V\", \"EpiVacCorona, Sputnik V\", \"EpiVacCorona, Sputnik V\", \"EpiVacCorona, Sputnik V\", \"EpiVacCorona, Sputnik V\", \"EpiVacCorona, Sputnik V\", \"EpiVacCorona, Sputnik V\", \"EpiVacCorona, Sputnik V\", \"EpiVacCorona, Sputnik V\", \"EpiVacCorona, Sputnik V\", \"EpiVacCorona, Sputnik V\", \"EpiVacCorona, Sputnik V\", \"EpiVacCorona, Sputnik V\", \"EpiVacCorona, Sputnik V\", \"EpiVacCorona, Sputnik V\", \"EpiVacCorona, Sputnik V\", \"EpiVacCorona, Sputnik V\", \"EpiVacCorona, Sputnik V\", \"EpiVacCorona, Sputnik V\", \"EpiVacCorona, Sputnik V\", \"EpiVacCorona, Sputnik V\", \"EpiVacCorona, Sputnik V\", \"EpiVacCorona, Sputnik V\", \"EpiVacCorona, Sputnik V\", \"EpiVacCorona, Sputnik V\", \"EpiVacCorona, Sputnik V\", \"EpiVacCorona, Sputnik V\", \"EpiVacCorona, Sputnik V\", \"EpiVacCorona, Sputnik V\", \"EpiVacCorona, Sputnik V\", \"EpiVacCorona, Sputnik V\", \"EpiVacCorona, Sputnik V\", \"EpiVacCorona, Sputnik V\", \"EpiVacCorona, Sputnik V\", \"EpiVacCorona, Sputnik V\", \"EpiVacCorona, Sputnik V\", \"EpiVacCorona, Sputnik V\", \"Moderna, Oxford/AstraZeneca, Pfizer/BioNTech\", \"Moderna, Oxford/AstraZeneca, Pfizer/BioNTech\", \"Moderna, Oxford/AstraZeneca, Pfizer/BioNTech\", \"Moderna, Oxford/AstraZeneca, Pfizer/BioNTech\", \"Moderna, Oxford/AstraZeneca, Pfizer/BioNTech\", \"Moderna, Oxford/AstraZeneca, Pfizer/BioNTech\", \"Moderna, Oxford/AstraZeneca, Pfizer/BioNTech\", \"Moderna, Oxford/AstraZeneca, Pfizer/BioNTech\", \"Moderna, Oxford/AstraZeneca, Pfizer/BioNTech\", \"Moderna, Oxford/AstraZeneca, Pfizer/BioNTech\", \"Moderna, Oxford/AstraZeneca, Pfizer/BioNTech\", \"Moderna, Oxford/AstraZeneca, Pfizer/BioNTech\", \"Moderna, Oxford/AstraZeneca, Pfizer/BioNTech\", \"Moderna, Oxford/AstraZeneca, Pfizer/BioNTech\", \"Moderna, Oxford/AstraZeneca, Pfizer/BioNTech\", \"Moderna, Oxford/AstraZeneca, Pfizer/BioNTech\", \"Moderna, Oxford/AstraZeneca, Pfizer/BioNTech\", \"Moderna, Oxford/AstraZeneca, Pfizer/BioNTech\", \"Moderna, Oxford/AstraZeneca, Pfizer/BioNTech\", \"Moderna, Oxford/AstraZeneca, Pfizer/BioNTech\", \"Oxford/AstraZeneca\", \"Sputnik V\", \"Sputnik V\", \"Sputnik V\", \"Sputnik V\", \"Sputnik V\", \"Sputnik V\", \"Sputnik V\", \"Oxford/AstraZeneca, Pfizer/BioNTech\", \"Oxford/AstraZeneca, Pfizer/BioNTech\", \"Oxford/AstraZeneca, Pfizer/BioNTech\", \"Oxford/AstraZeneca, Pfizer/BioNTech\", \"Oxford/AstraZeneca, Pfizer/BioNTech\", \"Oxford/AstraZeneca, Pfizer/BioNTech\", \"Oxford/AstraZeneca, Pfizer/BioNTech\", \"Oxford/AstraZeneca, Pfizer/BioNTech\", \"Oxford/AstraZeneca, Pfizer/BioNTech\", \"Oxford/AstraZeneca, Pfizer/BioNTech\", \"Oxford/AstraZeneca, Pfizer/BioNTech\", \"Oxford/AstraZeneca, Pfizer/BioNTech\", \"Oxford/AstraZeneca, Pfizer/BioNTech\", \"Oxford/AstraZeneca, Pfizer/BioNTech\", \"Oxford/AstraZeneca, Pfizer/BioNTech\", \"Oxford/AstraZeneca, Pfizer/BioNTech\", \"Oxford/AstraZeneca, Pfizer/BioNTech\", \"Oxford/AstraZeneca, Pfizer/BioNTech\", \"Oxford/AstraZeneca, Pfizer/BioNTech\", \"Oxford/AstraZeneca, Pfizer/BioNTech\", \"Oxford/AstraZeneca, Pfizer/BioNTech\", \"Oxford/AstraZeneca, Pfizer/BioNTech\", \"Oxford/AstraZeneca, Pfizer/BioNTech\", \"Oxford/AstraZeneca, Pfizer/BioNTech\", \"Oxford/AstraZeneca, Pfizer/BioNTech\", \"Oxford/AstraZeneca, Pfizer/BioNTech\", \"Oxford/AstraZeneca, Pfizer/BioNTech\", \"Oxford/AstraZeneca, Pfizer/BioNTech\", \"Oxford/AstraZeneca, Pfizer/BioNTech\", \"Oxford/AstraZeneca, Pfizer/BioNTech\", \"Oxford/AstraZeneca, Pfizer/BioNTech\", \"Oxford/AstraZeneca, Pfizer/BioNTech\", \"Oxford/AstraZeneca, Pfizer/BioNTech\", \"Oxford/AstraZeneca, Pfizer/BioNTech\", \"Oxford/AstraZeneca, Pfizer/BioNTech\", \"Oxford/AstraZeneca, Pfizer/BioNTech\", \"Oxford/AstraZeneca, Pfizer/BioNTech\", \"Oxford/AstraZeneca, Pfizer/BioNTech\", \"Oxford/AstraZeneca, Pfizer/BioNTech\", \"Oxford/AstraZeneca, Pfizer/BioNTech\", \"Oxford/AstraZeneca, Pfizer/BioNTech\", \"Oxford/AstraZeneca, Pfizer/BioNTech\", \"Oxford/AstraZeneca, Pfizer/BioNTech\", \"Oxford/AstraZeneca, Pfizer/BioNTech\", \"Oxford/AstraZeneca, Pfizer/BioNTech\", \"Oxford/AstraZeneca, Pfizer/BioNTech\", \"Oxford/AstraZeneca, Pfizer/BioNTech\", \"Oxford/AstraZeneca, Pfizer/BioNTech\", \"Oxford/AstraZeneca, Pfizer/BioNTech\", \"Oxford/AstraZeneca, Pfizer/BioNTech\", \"Oxford/AstraZeneca, Pfizer/BioNTech\", \"Oxford/AstraZeneca, Pfizer/BioNTech\", \"Oxford/AstraZeneca, Pfizer/BioNTech\", \"Oxford/AstraZeneca, Pfizer/BioNTech\", \"Oxford/AstraZeneca, Pfizer/BioNTech\", \"Oxford/AstraZeneca, Pfizer/BioNTech\", \"Oxford/AstraZeneca, Pfizer/BioNTech\", \"Oxford/AstraZeneca, Pfizer/BioNTech\", \"Oxford/AstraZeneca, Pfizer/BioNTech\", \"Sinopharm/Beijing\", \"Sinopharm/Beijing\", \"Sinopharm/Beijing\", \"Sinopharm/Beijing\", \"Sinopharm/Beijing\", \"Sinopharm/Beijing\", \"Sinopharm/Beijing\", \"Sinopharm/Beijing\", \"Sinopharm/Beijing\", \"Sinopharm/Beijing\", \"Sinopharm/Beijing\", \"Sinopharm/Beijing\", \"Sinopharm/Beijing\", \"Oxford/AstraZeneca, Pfizer/BioNTech, Sinopharm/Beijing, Sputnik V\", \"Oxford/AstraZeneca, Pfizer/BioNTech, Sinopharm/Beijing, Sputnik V\", \"Oxford/AstraZeneca, Pfizer/BioNTech, Sinopharm/Beijing, Sputnik V\", \"Oxford/AstraZeneca, Pfizer/BioNTech, Sinopharm/Beijing, Sputnik V\", \"Oxford/AstraZeneca, Pfizer/BioNTech, Sinopharm/Beijing, Sputnik V\", \"Oxford/AstraZeneca, Pfizer/BioNTech, Sinopharm/Beijing, Sputnik V\", \"Oxford/AstraZeneca, Pfizer/BioNTech, Sinopharm/Beijing, Sputnik V\", \"Oxford/AstraZeneca, Pfizer/BioNTech, Sinopharm/Beijing, Sputnik V\", \"Oxford/AstraZeneca, Pfizer/BioNTech, Sinopharm/Beijing, Sputnik V\", \"Oxford/AstraZeneca, Pfizer/BioNTech, Sinopharm/Beijing, Sputnik V\", \"Oxford/AstraZeneca, Pfizer/BioNTech, Sinopharm/Beijing, Sputnik V\", \"Oxford/AstraZeneca, Pfizer/BioNTech, Sinopharm/Beijing, Sputnik V\", \"Oxford/AstraZeneca, Pfizer/BioNTech, Sinopharm/Beijing, Sputnik V\", \"Oxford/AstraZeneca, Pfizer/BioNTech, Sinopharm/Beijing, Sputnik V\", \"Oxford/AstraZeneca, Pfizer/BioNTech, Sinopharm/Beijing, Sputnik V\", \"Oxford/AstraZeneca, Pfizer/BioNTech, Sinopharm/Beijing, Sputnik V\", \"Oxford/AstraZeneca, Pfizer/BioNTech, Sinopharm/Beijing, Sputnik V\", \"Oxford/AstraZeneca, Pfizer/BioNTech, Sinopharm/Beijing, Sputnik V\", \"Oxford/AstraZeneca, Pfizer/BioNTech, Sinopharm/Beijing, Sputnik V\", \"Oxford/AstraZeneca, Pfizer/BioNTech, Sinopharm/Beijing, Sputnik V\", \"Oxford/AstraZeneca, Pfizer/BioNTech, Sinopharm/Beijing, Sputnik V\", \"Oxford/AstraZeneca, Pfizer/BioNTech, Sinopharm/Beijing, Sputnik V\", \"Oxford/AstraZeneca, Pfizer/BioNTech, Sinopharm/Beijing, Sputnik V\", \"Oxford/AstraZeneca, Pfizer/BioNTech, Sinopharm/Beijing, Sputnik V\", \"Oxford/AstraZeneca, Pfizer/BioNTech, Sinopharm/Beijing, Sputnik V\", \"Oxford/AstraZeneca, Pfizer/BioNTech, Sinopharm/Beijing, Sputnik V\", \"Oxford/AstraZeneca, Pfizer/BioNTech, Sinopharm/Beijing, Sputnik V\", \"Oxford/AstraZeneca, Pfizer/BioNTech, Sinopharm/Beijing, Sputnik V\", \"Oxford/AstraZeneca, Pfizer/BioNTech, Sinopharm/Beijing, Sputnik V\", \"Oxford/AstraZeneca, Pfizer/BioNTech, Sinopharm/Beijing, Sputnik V\", \"Oxford/AstraZeneca, Pfizer/BioNTech, Sinopharm/Beijing, Sputnik V\", \"Oxford/AstraZeneca, Pfizer/BioNTech, Sinopharm/Beijing, Sputnik V\", \"Oxford/AstraZeneca, Pfizer/BioNTech, Sinopharm/Beijing, Sputnik V\", \"Oxford/AstraZeneca, Pfizer/BioNTech, Sinopharm/Beijing, Sputnik V\", \"Oxford/AstraZeneca, Pfizer/BioNTech, Sinopharm/Beijing, Sputnik V\", \"Oxford/AstraZeneca, Pfizer/BioNTech, Sinopharm/Beijing, Sputnik V\", \"Oxford/AstraZeneca, Pfizer/BioNTech, Sinopharm/Beijing, Sputnik V\", \"Oxford/AstraZeneca, Pfizer/BioNTech, Sinopharm/Beijing, Sputnik V\", \"Oxford/AstraZeneca, Pfizer/BioNTech, Sinopharm/Beijing, Sputnik V\", \"Oxford/AstraZeneca, Pfizer/BioNTech, Sinopharm/Beijing, Sputnik V\", \"Oxford/AstraZeneca, Pfizer/BioNTech, Sinopharm/Beijing, Sputnik V\", \"Oxford/AstraZeneca, Pfizer/BioNTech, Sinopharm/Beijing, Sputnik V\", \"Oxford/AstraZeneca, Pfizer/BioNTech, Sinopharm/Beijing, Sputnik V\", \"Oxford/AstraZeneca, Pfizer/BioNTech, Sinopharm/Beijing, Sputnik V\", \"Oxford/AstraZeneca, Pfizer/BioNTech, Sinopharm/Beijing, Sputnik V\", \"Oxford/AstraZeneca, Pfizer/BioNTech, Sinopharm/Beijing, Sputnik V\", \"Oxford/AstraZeneca, Pfizer/BioNTech, Sinopharm/Beijing, Sputnik V\", \"Oxford/AstraZeneca, Pfizer/BioNTech, Sinopharm/Beijing, Sputnik V\", \"Oxford/AstraZeneca, Pfizer/BioNTech, Sinopharm/Beijing, Sputnik V\", \"Oxford/AstraZeneca, Pfizer/BioNTech, Sinopharm/Beijing, Sputnik V\", \"Oxford/AstraZeneca, Pfizer/BioNTech, Sinopharm/Beijing, Sputnik V\", \"Oxford/AstraZeneca, Pfizer/BioNTech, Sinopharm/Beijing, Sputnik V\", \"Oxford/AstraZeneca, Pfizer/BioNTech, Sinopharm/Beijing, Sputnik V\", \"Oxford/AstraZeneca, Pfizer/BioNTech, Sinopharm/Beijing, Sputnik V\", \"Oxford/AstraZeneca, Pfizer/BioNTech, Sinopharm/Beijing, Sputnik V\", \"Oxford/AstraZeneca, Pfizer/BioNTech, Sinopharm/Beijing, Sputnik V\", \"Oxford/AstraZeneca, Pfizer/BioNTech, Sinopharm/Beijing, Sputnik V\", \"Oxford/AstraZeneca, Pfizer/BioNTech, Sinopharm/Beijing, Sputnik V\", \"Oxford/AstraZeneca, Sinopharm/Beijing\", \"Oxford/AstraZeneca, Sinopharm/Beijing\", \"Oxford/AstraZeneca, Sinopharm/Beijing\", \"Oxford/AstraZeneca, Sinopharm/Beijing\", \"Oxford/AstraZeneca, Sinopharm/Beijing\", \"Oxford/AstraZeneca, Sinopharm/Beijing\", \"Oxford/AstraZeneca, Sinopharm/Beijing\", \"Oxford/AstraZeneca, Sinopharm/Beijing\", \"Oxford/AstraZeneca, Sinopharm/Beijing\", \"Oxford/AstraZeneca, Sinopharm/Beijing\", \"Oxford/AstraZeneca, Sinopharm/Beijing\", \"Oxford/AstraZeneca, Sinopharm/Beijing\", \"Oxford/AstraZeneca, Sinopharm/Beijing\", \"Oxford/AstraZeneca, Sinopharm/Beijing\", \"Oxford/AstraZeneca, Sinopharm/Beijing\", \"Oxford/AstraZeneca, Sinopharm/Beijing\", \"Oxford/AstraZeneca, Sinopharm/Beijing\", \"Oxford/AstraZeneca, Sinopharm/Beijing\", \"Oxford/AstraZeneca, Sinopharm/Beijing\", \"Oxford/AstraZeneca, Sinopharm/Beijing\", \"Oxford/AstraZeneca, Sinopharm/Beijing\", \"Oxford/AstraZeneca, Sinopharm/Beijing\", \"Oxford/AstraZeneca, Sinopharm/Beijing\", \"Oxford/AstraZeneca, Sinopharm/Beijing\", \"Oxford/AstraZeneca, Sinopharm/Beijing\", \"Oxford/AstraZeneca, Sinopharm/Beijing\", \"Oxford/AstraZeneca, Sinopharm/Beijing\", \"Oxford/AstraZeneca, Sinopharm/Beijing\", \"Oxford/AstraZeneca, Sinopharm/Beijing\", \"Oxford/AstraZeneca, Sinopharm/Beijing\", \"Oxford/AstraZeneca, Sinopharm/Beijing\", \"Oxford/AstraZeneca, Sinopharm/Beijing\", \"Oxford/AstraZeneca, Sinopharm/Beijing\", \"Oxford/AstraZeneca, Sinopharm/Beijing\", \"Oxford/AstraZeneca, Sinopharm/Beijing\", \"Oxford/AstraZeneca, Sinopharm/Beijing\", \"Oxford/AstraZeneca, Sinopharm/Beijing\", \"Oxford/AstraZeneca, Sinopharm/Beijing\", \"Oxford/AstraZeneca, Sinopharm/Beijing\", \"Oxford/AstraZeneca, Sinopharm/Beijing\", \"Oxford/AstraZeneca, Sinopharm/Beijing\", \"Oxford/AstraZeneca, Sinopharm/Beijing\", \"Oxford/AstraZeneca, Sinopharm/Beijing\", \"Oxford/AstraZeneca, Sinopharm/Beijing\", \"Oxford/AstraZeneca, Sinopharm/Beijing\", \"Oxford/AstraZeneca, Sinopharm/Beijing\", \"Oxford/AstraZeneca, Sinopharm/Beijing\", \"Oxford/AstraZeneca, Sinopharm/Beijing\", \"Oxford/AstraZeneca, Sinopharm/Beijing\", \"Oxford/AstraZeneca, Sinopharm/Beijing\", \"Oxford/AstraZeneca, Sinopharm/Beijing\", \"Oxford/AstraZeneca, Sinopharm/Beijing\", \"Oxford/AstraZeneca, Sinopharm/Beijing\", \"Oxford/AstraZeneca, Sinopharm/Beijing\", \"Oxford/AstraZeneca, Sinopharm/Beijing\", \"Oxford/AstraZeneca, Sinopharm/Beijing\", \"Pfizer/BioNTech\", \"Pfizer/BioNTech\", \"Pfizer/BioNTech\", \"Pfizer/BioNTech\", \"Pfizer/BioNTech\", \"Pfizer/BioNTech\", \"Pfizer/BioNTech\", \"Pfizer/BioNTech\", \"Pfizer/BioNTech\", \"Pfizer/BioNTech\", \"Pfizer/BioNTech\", \"Pfizer/BioNTech\", \"Pfizer/BioNTech\", \"Pfizer/BioNTech\", \"Pfizer/BioNTech\", \"Pfizer/BioNTech\", \"Pfizer/BioNTech\", \"Pfizer/BioNTech\", \"Pfizer/BioNTech\", \"Pfizer/BioNTech\", \"Pfizer/BioNTech\", \"Pfizer/BioNTech\", \"Pfizer/BioNTech\", \"Pfizer/BioNTech\", \"Pfizer/BioNTech\", \"Pfizer/BioNTech\", \"Pfizer/BioNTech\", \"Pfizer/BioNTech\", \"Pfizer/BioNTech\", \"Pfizer/BioNTech\", \"Pfizer/BioNTech\", \"Pfizer/BioNTech\", \"Pfizer/BioNTech\", \"Pfizer/BioNTech\", \"Pfizer/BioNTech\", \"Pfizer/BioNTech\", \"Pfizer/BioNTech\", \"Pfizer/BioNTech\", \"Pfizer/BioNTech\", \"Pfizer/BioNTech\", \"Pfizer/BioNTech\", \"Pfizer/BioNTech\", \"Pfizer/BioNTech\", \"Pfizer/BioNTech\", \"Pfizer/BioNTech\", \"Pfizer/BioNTech\", \"Pfizer/BioNTech\", \"Pfizer/BioNTech\", \"Pfizer/BioNTech\", \"Pfizer/BioNTech\", \"Pfizer/BioNTech\", \"Pfizer/BioNTech\", \"Pfizer/BioNTech\", \"Pfizer/BioNTech\", \"Pfizer/BioNTech\", \"Pfizer/BioNTech\", \"Pfizer/BioNTech\", \"Pfizer/BioNTech\", \"Pfizer/BioNTech\", \"Pfizer/BioNTech\", \"Pfizer/BioNTech\", \"Pfizer/BioNTech\", \"Pfizer/BioNTech\", \"Pfizer/BioNTech\", \"Pfizer/BioNTech\", \"Pfizer/BioNTech\", \"Pfizer/BioNTech\", \"Pfizer/BioNTech\", \"Pfizer/BioNTech\", \"Pfizer/BioNTech\", \"Pfizer/BioNTech\", \"Pfizer/BioNTech\", \"Pfizer/BioNTech\", \"Pfizer/BioNTech\", \"Pfizer/BioNTech\", \"Pfizer/BioNTech\", \"Pfizer/BioNTech\", \"Pfizer/BioNTech\", \"Pfizer/BioNTech\", \"Pfizer/BioNTech\", \"Pfizer/BioNTech\", \"Pfizer/BioNTech\", \"Pfizer/BioNTech\", \"Pfizer/BioNTech\", \"Pfizer/BioNTech\", \"Pfizer/BioNTech\", \"Pfizer/BioNTech\", \"Pfizer/BioNTech\", \"Pfizer/BioNTech\", \"Pfizer/BioNTech\", \"Pfizer/BioNTech\", \"Pfizer/BioNTech\", \"Pfizer/BioNTech\", \"Pfizer/BioNTech\", \"Pfizer/BioNTech\", \"Pfizer/BioNTech\", \"Pfizer/BioNTech\", \"Pfizer/BioNTech\", \"Pfizer/BioNTech\", \"Pfizer/BioNTech\", \"Pfizer/BioNTech\", \"Pfizer/BioNTech\", \"Pfizer/BioNTech\", \"Pfizer/BioNTech\", \"Pfizer/BioNTech\", \"Pfizer/BioNTech\", \"Pfizer/BioNTech\", \"Pfizer/BioNTech\", \"Pfizer/BioNTech\", \"Pfizer/BioNTech\", \"Pfizer/BioNTech\", \"Pfizer/BioNTech\", \"Pfizer/BioNTech\", \"Pfizer/BioNTech\", \"Pfizer/BioNTech\", \"Oxford/AstraZeneca, Pfizer/BioNTech\", \"Oxford/AstraZeneca, Pfizer/BioNTech\", \"Oxford/AstraZeneca, Pfizer/BioNTech\", \"Oxford/AstraZeneca, Pfizer/BioNTech\", \"Oxford/AstraZeneca, Pfizer/BioNTech\", \"Oxford/AstraZeneca, Pfizer/BioNTech\", \"Oxford/AstraZeneca, Pfizer/BioNTech\", \"Oxford/AstraZeneca, Pfizer/BioNTech\", \"Oxford/AstraZeneca, Pfizer/BioNTech\", \"Oxford/AstraZeneca, Pfizer/BioNTech\", \"Oxford/AstraZeneca, Pfizer/BioNTech\", \"Oxford/AstraZeneca, Pfizer/BioNTech\", \"Oxford/AstraZeneca, Pfizer/BioNTech\", \"Oxford/AstraZeneca, Pfizer/BioNTech\", \"Oxford/AstraZeneca, Pfizer/BioNTech\", \"Oxford/AstraZeneca, Pfizer/BioNTech\", \"Oxford/AstraZeneca, Pfizer/BioNTech\", \"Oxford/AstraZeneca, Pfizer/BioNTech\", \"Oxford/AstraZeneca, Pfizer/BioNTech\", \"Oxford/AstraZeneca, Pfizer/BioNTech\", \"Oxford/AstraZeneca, Pfizer/BioNTech\", \"Oxford/AstraZeneca, Pfizer/BioNTech\", \"Oxford/AstraZeneca, Pfizer/BioNTech\", \"Oxford/AstraZeneca, Pfizer/BioNTech\", \"Oxford/AstraZeneca, Pfizer/BioNTech\", \"Oxford/AstraZeneca, Pfizer/BioNTech\", \"Oxford/AstraZeneca, Pfizer/BioNTech\", \"Oxford/AstraZeneca, Pfizer/BioNTech\", \"Oxford/AstraZeneca, Pfizer/BioNTech\", \"Oxford/AstraZeneca, Pfizer/BioNTech\", \"Oxford/AstraZeneca, Pfizer/BioNTech\", \"Oxford/AstraZeneca, Pfizer/BioNTech\", \"Oxford/AstraZeneca, Pfizer/BioNTech\", \"Oxford/AstraZeneca, Pfizer/BioNTech\", \"Oxford/AstraZeneca, Pfizer/BioNTech\", \"Oxford/AstraZeneca, Pfizer/BioNTech\", \"Oxford/AstraZeneca, Pfizer/BioNTech\", \"Oxford/AstraZeneca, Pfizer/BioNTech\", \"Oxford/AstraZeneca, Pfizer/BioNTech\", \"Oxford/AstraZeneca, Pfizer/BioNTech\", \"Oxford/AstraZeneca, Pfizer/BioNTech\", \"Oxford/AstraZeneca, Pfizer/BioNTech\", \"Oxford/AstraZeneca, Pfizer/BioNTech\", \"Oxford/AstraZeneca, Pfizer/BioNTech\", \"Oxford/AstraZeneca, Pfizer/BioNTech\", \"Oxford/AstraZeneca, Pfizer/BioNTech\", \"Oxford/AstraZeneca, Pfizer/BioNTech\", \"Oxford/AstraZeneca, Pfizer/BioNTech\", \"Oxford/AstraZeneca, Pfizer/BioNTech\", \"Oxford/AstraZeneca, Pfizer/BioNTech\", \"Oxford/AstraZeneca, Pfizer/BioNTech\", \"Oxford/AstraZeneca, Pfizer/BioNTech\", \"Oxford/AstraZeneca, Pfizer/BioNTech\", \"Oxford/AstraZeneca, Pfizer/BioNTech\", \"Oxford/AstraZeneca, Pfizer/BioNTech\", \"Oxford/AstraZeneca, Pfizer/BioNTech\", \"Oxford/AstraZeneca, Pfizer/BioNTech\", \"Oxford/AstraZeneca, Pfizer/BioNTech\", \"Oxford/AstraZeneca, Pfizer/BioNTech\", \"Oxford/AstraZeneca, Pfizer/BioNTech\", \"Oxford/AstraZeneca, Pfizer/BioNTech\", \"Oxford/AstraZeneca, Pfizer/BioNTech\", \"Oxford/AstraZeneca, Pfizer/BioNTech\", \"Oxford/AstraZeneca, Pfizer/BioNTech\", \"Oxford/AstraZeneca, Pfizer/BioNTech\", \"Oxford/AstraZeneca, Pfizer/BioNTech\", \"Oxford/AstraZeneca, Pfizer/BioNTech\", \"Oxford/AstraZeneca, Pfizer/BioNTech\", \"Oxford/AstraZeneca, Pfizer/BioNTech\", \"Johnson&Johnson\", \"Johnson&Johnson\", \"Johnson&Johnson\", \"Johnson&Johnson\", \"Johnson&Johnson\", \"Johnson&Johnson\", \"Johnson&Johnson\", \"Johnson&Johnson\", \"Johnson&Johnson\", \"Johnson&Johnson\", \"Johnson&Johnson\", \"Johnson&Johnson\", \"Johnson&Johnson\", \"Oxford/AstraZeneca\", \"Oxford/AstraZeneca\", \"Oxford/AstraZeneca\", \"Oxford/AstraZeneca\", \"Oxford/AstraZeneca\", \"Oxford/AstraZeneca\", \"Oxford/AstraZeneca\", \"Oxford/AstraZeneca\", \"Oxford/AstraZeneca\", \"Oxford/AstraZeneca\", \"Moderna, Oxford/AstraZeneca, Pfizer/BioNTech\", \"Moderna, Oxford/AstraZeneca, Pfizer/BioNTech\", \"Moderna, Oxford/AstraZeneca, Pfizer/BioNTech\", \"Moderna, Oxford/AstraZeneca, Pfizer/BioNTech\", \"Moderna, Oxford/AstraZeneca, Pfizer/BioNTech\", \"Moderna, Oxford/AstraZeneca, Pfizer/BioNTech\", \"Moderna, Oxford/AstraZeneca, Pfizer/BioNTech\", \"Moderna, Oxford/AstraZeneca, Pfizer/BioNTech\", \"Moderna, Oxford/AstraZeneca, Pfizer/BioNTech\", \"Moderna, Oxford/AstraZeneca, Pfizer/BioNTech\", \"Moderna, Oxford/AstraZeneca, Pfizer/BioNTech\", \"Moderna, Oxford/AstraZeneca, Pfizer/BioNTech\", \"Moderna, Oxford/AstraZeneca, Pfizer/BioNTech\", \"Moderna, Oxford/AstraZeneca, Pfizer/BioNTech\", \"Moderna, Oxford/AstraZeneca, Pfizer/BioNTech\", \"Moderna, Oxford/AstraZeneca, Pfizer/BioNTech\", \"Moderna, Oxford/AstraZeneca, Pfizer/BioNTech\", \"Moderna, Oxford/AstraZeneca, Pfizer/BioNTech\", \"Moderna, Oxford/AstraZeneca, Pfizer/BioNTech\", \"Moderna, Oxford/AstraZeneca, Pfizer/BioNTech\", \"Moderna, Oxford/AstraZeneca, Pfizer/BioNTech\", \"Moderna, Oxford/AstraZeneca, Pfizer/BioNTech\", \"Moderna, Oxford/AstraZeneca, Pfizer/BioNTech\", \"Moderna, Oxford/AstraZeneca, Pfizer/BioNTech\", \"Moderna, Oxford/AstraZeneca, Pfizer/BioNTech\", \"Moderna, Oxford/AstraZeneca, Pfizer/BioNTech\", \"Moderna, Oxford/AstraZeneca, Pfizer/BioNTech\", \"Moderna, Oxford/AstraZeneca, Pfizer/BioNTech\", \"Moderna, Oxford/AstraZeneca, Pfizer/BioNTech\", \"Moderna, Oxford/AstraZeneca, Pfizer/BioNTech\", \"Moderna, Oxford/AstraZeneca, Pfizer/BioNTech\", \"Moderna, Oxford/AstraZeneca, Pfizer/BioNTech\", \"Moderna, Oxford/AstraZeneca, Pfizer/BioNTech\", \"Moderna, Oxford/AstraZeneca, Pfizer/BioNTech\", \"Moderna, Oxford/AstraZeneca, Pfizer/BioNTech\", \"Moderna, Oxford/AstraZeneca, Pfizer/BioNTech\", \"Moderna, Oxford/AstraZeneca, Pfizer/BioNTech\", \"Moderna, Oxford/AstraZeneca, Pfizer/BioNTech\", \"Moderna, Oxford/AstraZeneca, Pfizer/BioNTech\", \"Moderna, Oxford/AstraZeneca, Pfizer/BioNTech\", \"Moderna, Oxford/AstraZeneca, Pfizer/BioNTech\", \"Moderna, Oxford/AstraZeneca, Pfizer/BioNTech\", \"Moderna, Oxford/AstraZeneca, Pfizer/BioNTech\", \"Moderna, Oxford/AstraZeneca, Pfizer/BioNTech\", \"Moderna, Oxford/AstraZeneca, Pfizer/BioNTech\", \"Moderna, Oxford/AstraZeneca, Pfizer/BioNTech\", \"Moderna, Oxford/AstraZeneca, Pfizer/BioNTech\", \"Moderna, Oxford/AstraZeneca, Pfizer/BioNTech\", \"Moderna, Oxford/AstraZeneca, Pfizer/BioNTech\", \"Moderna, Oxford/AstraZeneca, Pfizer/BioNTech\", \"Moderna, Oxford/AstraZeneca, Pfizer/BioNTech\", \"Moderna, Oxford/AstraZeneca, Pfizer/BioNTech\", \"Moderna, Oxford/AstraZeneca, Pfizer/BioNTech\", \"Moderna, Oxford/AstraZeneca, Pfizer/BioNTech\", \"Moderna, Oxford/AstraZeneca, Pfizer/BioNTech\", \"Moderna, Oxford/AstraZeneca, Pfizer/BioNTech\", \"Moderna, Oxford/AstraZeneca, Pfizer/BioNTech\", \"Moderna, Oxford/AstraZeneca, Pfizer/BioNTech\", \"Moderna, Oxford/AstraZeneca, Pfizer/BioNTech\", \"Moderna, Oxford/AstraZeneca, Pfizer/BioNTech\", \"Oxford/AstraZeneca\", \"Oxford/AstraZeneca\", \"Oxford/AstraZeneca\", \"Oxford/AstraZeneca\", \"Oxford/AstraZeneca\", \"Oxford/AstraZeneca\", \"Oxford/AstraZeneca\", \"Oxford/AstraZeneca\", \"Oxford/AstraZeneca\", \"Oxford/AstraZeneca\", \"Oxford/AstraZeneca\", \"Oxford/AstraZeneca\", \"Oxford/AstraZeneca\", \"Oxford/AstraZeneca\", \"Oxford/AstraZeneca\", \"Oxford/AstraZeneca\", \"Oxford/AstraZeneca\", \"Oxford/AstraZeneca\", \"Oxford/AstraZeneca\", \"Oxford/AstraZeneca\", \"Oxford/AstraZeneca\", \"Oxford/AstraZeneca\", \"Oxford/AstraZeneca\", \"Oxford/AstraZeneca\", \"Oxford/AstraZeneca\", \"Oxford/AstraZeneca\", \"Oxford/AstraZeneca\", \"Oxford/AstraZeneca\", \"Oxford/AstraZeneca\", \"Oxford/AstraZeneca\", \"Oxford/AstraZeneca\", \"Oxford/AstraZeneca\", \"Oxford/AstraZeneca\", \"Oxford/AstraZeneca\", \"Oxford/AstraZeneca\", \"Oxford/AstraZeneca\", \"Oxford/AstraZeneca\", \"Oxford/AstraZeneca\", \"Oxford/AstraZeneca, Pfizer/BioNTech\", \"Oxford/AstraZeneca, Pfizer/BioNTech\", \"Oxford/AstraZeneca, Pfizer/BioNTech\", \"Oxford/AstraZeneca, Pfizer/BioNTech\", \"Oxford/AstraZeneca, Pfizer/BioNTech\", \"Oxford/AstraZeneca, Pfizer/BioNTech\", \"Oxford/AstraZeneca, Pfizer/BioNTech\", \"Oxford/AstraZeneca, Pfizer/BioNTech\", \"Oxford/AstraZeneca, Pfizer/BioNTech\", \"Oxford/AstraZeneca, Pfizer/BioNTech\", \"Oxford/AstraZeneca, Pfizer/BioNTech\", \"Oxford/AstraZeneca, Pfizer/BioNTech\", \"Oxford/AstraZeneca, Pfizer/BioNTech\", \"Oxford/AstraZeneca, Pfizer/BioNTech\", \"Oxford/AstraZeneca, Pfizer/BioNTech\", \"Oxford/AstraZeneca, Pfizer/BioNTech\", \"Oxford/AstraZeneca, Pfizer/BioNTech\", \"Oxford/AstraZeneca, Pfizer/BioNTech\", \"Oxford/AstraZeneca, Pfizer/BioNTech\", \"Oxford/AstraZeneca, Pfizer/BioNTech\", \"Oxford/AstraZeneca, Pfizer/BioNTech\", \"Oxford/AstraZeneca, Pfizer/BioNTech\", \"Oxford/AstraZeneca, Pfizer/BioNTech\", \"Oxford/AstraZeneca, Pfizer/BioNTech\", \"Oxford/AstraZeneca, Pfizer/BioNTech\", \"Oxford/AstraZeneca, Pfizer/BioNTech\", \"Oxford/AstraZeneca, Pfizer/BioNTech\", \"Oxford/AstraZeneca, Pfizer/BioNTech\", \"Oxford/AstraZeneca, Pfizer/BioNTech\", \"Oxford/AstraZeneca, Pfizer/BioNTech\", \"Oxford/AstraZeneca, Pfizer/BioNTech\", \"Oxford/AstraZeneca, Pfizer/BioNTech\", \"Oxford/AstraZeneca, Pfizer/BioNTech\", \"Oxford/AstraZeneca, Pfizer/BioNTech\", \"Oxford/AstraZeneca, Pfizer/BioNTech\", \"Oxford/AstraZeneca, Pfizer/BioNTech\", \"Oxford/AstraZeneca, Pfizer/BioNTech\", \"Oxford/AstraZeneca, Pfizer/BioNTech\", \"Oxford/AstraZeneca, Pfizer/BioNTech\", \"Oxford/AstraZeneca, Pfizer/BioNTech\", \"Oxford/AstraZeneca, Pfizer/BioNTech\", \"Oxford/AstraZeneca, Pfizer/BioNTech\", \"Oxford/AstraZeneca, Pfizer/BioNTech\", \"Oxford/AstraZeneca, Pfizer/BioNTech\", \"Oxford/AstraZeneca, Pfizer/BioNTech\", \"Oxford/AstraZeneca, Pfizer/BioNTech\", \"Oxford/AstraZeneca, Pfizer/BioNTech\", \"Oxford/AstraZeneca, Pfizer/BioNTech\", \"Oxford/AstraZeneca, Pfizer/BioNTech\", \"Oxford/AstraZeneca, Pfizer/BioNTech\", \"Oxford/AstraZeneca, Pfizer/BioNTech\", \"Oxford/AstraZeneca, Pfizer/BioNTech\", \"Oxford/AstraZeneca, Pfizer/BioNTech\", \"Oxford/AstraZeneca, Pfizer/BioNTech\", \"Oxford/AstraZeneca, Pfizer/BioNTech\", \"Oxford/AstraZeneca, Pfizer/BioNTech\", \"Oxford/AstraZeneca, Pfizer/BioNTech\", \"Oxford/AstraZeneca, Pfizer/BioNTech\", \"Oxford/AstraZeneca, Pfizer/BioNTech\", \"Oxford/AstraZeneca, Pfizer/BioNTech\", \"Oxford/AstraZeneca, Pfizer/BioNTech\", \"Oxford/AstraZeneca, Pfizer/BioNTech\", \"Oxford/AstraZeneca, Pfizer/BioNTech\", \"Oxford/AstraZeneca, Pfizer/BioNTech\", \"Oxford/AstraZeneca, Pfizer/BioNTech\", \"Oxford/AstraZeneca, Pfizer/BioNTech\", \"Oxford/AstraZeneca, Pfizer/BioNTech\", \"Oxford/AstraZeneca, Pfizer/BioNTech\", \"Oxford/AstraZeneca, Pfizer/BioNTech\", \"Moderna, Pfizer/BioNTech\", \"Moderna, Pfizer/BioNTech\", \"Moderna, Pfizer/BioNTech\", \"Moderna, Pfizer/BioNTech\", \"Moderna, Pfizer/BioNTech\", \"Moderna, Pfizer/BioNTech\", \"Moderna, Pfizer/BioNTech\", \"Moderna, Pfizer/BioNTech\", \"Moderna, Pfizer/BioNTech\", \"Moderna, Pfizer/BioNTech\", \"Moderna, Pfizer/BioNTech\", \"Moderna, Pfizer/BioNTech\", \"Moderna, Pfizer/BioNTech\", \"Moderna, Pfizer/BioNTech\", \"Moderna, Pfizer/BioNTech\", \"Moderna, Pfizer/BioNTech\", \"Moderna, Pfizer/BioNTech\", \"Moderna, Pfizer/BioNTech\", \"Moderna, Pfizer/BioNTech\", \"Moderna, Pfizer/BioNTech\", \"Moderna, Pfizer/BioNTech\", \"Moderna, Pfizer/BioNTech\", \"Moderna, Pfizer/BioNTech\", \"Moderna, Pfizer/BioNTech\", \"Moderna, Pfizer/BioNTech\", \"Moderna, Pfizer/BioNTech\", \"Moderna, Pfizer/BioNTech\", \"Moderna, Pfizer/BioNTech\", \"Moderna, Pfizer/BioNTech\", \"Moderna, Pfizer/BioNTech\", \"Moderna, Pfizer/BioNTech\", \"Moderna, Pfizer/BioNTech\", \"Moderna, Pfizer/BioNTech\", \"Moderna, Pfizer/BioNTech\", \"Moderna, Pfizer/BioNTech\", \"Moderna, Pfizer/BioNTech\", \"Moderna, Pfizer/BioNTech\", \"Moderna, Pfizer/BioNTech\", \"Moderna, Pfizer/BioNTech\", \"Sinovac\", \"Sinovac\", \"Sinovac\", \"Sinovac\", \"Oxford/AstraZeneca\", \"Oxford/AstraZeneca\", \"Oxford/AstraZeneca\", \"Oxford/AstraZeneca\", \"Oxford/AstraZeneca\", \"Oxford/AstraZeneca\", \"Oxford/AstraZeneca\", \"Oxford/AstraZeneca\", \"Sinovac\", \"Sinovac\", \"Sinovac\", \"Sinovac\", \"Sinovac\", \"Sinovac\", \"Sinovac\", \"Sinovac\", \"Sinovac\", \"Sinovac\", \"Sinovac\", \"Sinovac\", \"Sinovac\", \"Sinovac\", \"Sinovac\", \"Sinovac\", \"Sinovac\", \"Sinovac\", \"Sinovac\", \"Sinovac\", \"Sinovac\", \"Sinovac\", \"Sinovac\", \"Sinovac\", \"Sinovac\", \"Sinovac\", \"Sinovac\", \"Sinovac\", \"Sinovac\", \"Sinovac\", \"Sinovac\", \"Sinovac\", \"Sinovac\", \"Sinovac\", \"Sinovac\", \"Sinovac\", \"Sinovac\", \"Sinovac\", \"Sinovac\", \"Sinovac\", \"Sinovac\", \"Sinovac\", \"Sinovac\", \"Sinovac\", \"Sinovac\", \"Sinovac\", \"Sinovac\", \"Sinovac\", \"Sinovac\", \"Sinovac\", \"Sinovac\", \"Sinovac\", \"Sinovac\", \"Pfizer/BioNTech\", \"Pfizer/BioNTech\", \"Pfizer/BioNTech\", \"Pfizer/BioNTech\", \"Pfizer/BioNTech\", \"Pfizer/BioNTech\", \"Pfizer/BioNTech\", \"Pfizer/BioNTech\", \"Pfizer/BioNTech\", \"Pfizer/BioNTech\", \"Pfizer/BioNTech\", \"Pfizer/BioNTech\", \"Pfizer/BioNTech\", \"Pfizer/BioNTech\", \"Pfizer/BioNTech\", \"Pfizer/BioNTech\", \"Pfizer/BioNTech\", \"Pfizer/BioNTech\", \"Pfizer/BioNTech\", \"Pfizer/BioNTech\", \"Pfizer/BioNTech\", \"Pfizer/BioNTech\", \"Pfizer/BioNTech\", \"Pfizer/BioNTech\", \"Pfizer/BioNTech\", \"Pfizer/BioNTech\", \"Pfizer/BioNTech\", \"Pfizer/BioNTech\", \"Pfizer/BioNTech\", \"Pfizer/BioNTech\", \"Oxford/AstraZeneca\", \"Oxford/AstraZeneca\", \"Oxford/AstraZeneca\", \"Oxford/AstraZeneca\", \"Oxford/AstraZeneca\", \"Oxford/AstraZeneca\", \"Oxford/AstraZeneca\", \"Oxford/AstraZeneca\", \"Oxford/AstraZeneca\", \"Oxford/AstraZeneca\", \"Oxford/AstraZeneca\", \"Oxford/AstraZeneca, Pfizer/BioNTech, Sinopharm/Beijing, Sinopharm/Wuhan, Sputnik V\", \"Oxford/AstraZeneca, Pfizer/BioNTech, Sinopharm/Beijing, Sinopharm/Wuhan, Sputnik V\", \"Oxford/AstraZeneca, Pfizer/BioNTech, Sinopharm/Beijing, Sinopharm/Wuhan, Sputnik V\", \"Oxford/AstraZeneca, Pfizer/BioNTech, Sinopharm/Beijing, Sinopharm/Wuhan, Sputnik V\", \"Oxford/AstraZeneca, Pfizer/BioNTech, Sinopharm/Beijing, Sinopharm/Wuhan, Sputnik V\", \"Oxford/AstraZeneca, Pfizer/BioNTech, Sinopharm/Beijing, Sinopharm/Wuhan, Sputnik V\", \"Oxford/AstraZeneca, Pfizer/BioNTech, Sinopharm/Beijing, Sinopharm/Wuhan, Sputnik V\", \"Oxford/AstraZeneca, Pfizer/BioNTech, Sinopharm/Beijing, Sinopharm/Wuhan, Sputnik V\", \"Oxford/AstraZeneca, Pfizer/BioNTech, Sinopharm/Beijing, Sinopharm/Wuhan, Sputnik V\", \"Oxford/AstraZeneca, Pfizer/BioNTech, Sinopharm/Beijing, Sinopharm/Wuhan, Sputnik V\", \"Oxford/AstraZeneca, Pfizer/BioNTech, Sinopharm/Beijing, Sinopharm/Wuhan, Sputnik V\", \"Oxford/AstraZeneca, Pfizer/BioNTech, Sinopharm/Beijing, Sinopharm/Wuhan, Sputnik V\", \"Oxford/AstraZeneca, Pfizer/BioNTech, Sinopharm/Beijing, Sinopharm/Wuhan, Sputnik V\", \"Oxford/AstraZeneca, Pfizer/BioNTech, Sinopharm/Beijing, Sinopharm/Wuhan, Sputnik V\", \"Oxford/AstraZeneca, Pfizer/BioNTech, Sinopharm/Beijing, Sinopharm/Wuhan, Sputnik V\", \"Oxford/AstraZeneca, Pfizer/BioNTech, Sinopharm/Beijing, Sinopharm/Wuhan, Sputnik V\", \"Oxford/AstraZeneca, Pfizer/BioNTech, Sinopharm/Beijing, Sinopharm/Wuhan, Sputnik V\", \"Oxford/AstraZeneca, Pfizer/BioNTech, Sinopharm/Beijing, Sinopharm/Wuhan, Sputnik V\", \"Oxford/AstraZeneca, Pfizer/BioNTech, Sinopharm/Beijing, Sinopharm/Wuhan, Sputnik V\", \"Oxford/AstraZeneca, Pfizer/BioNTech, Sinopharm/Beijing, Sinopharm/Wuhan, Sputnik V\", \"Oxford/AstraZeneca, Pfizer/BioNTech, Sinopharm/Beijing, Sinopharm/Wuhan, Sputnik V\", \"Oxford/AstraZeneca, Pfizer/BioNTech, Sinopharm/Beijing, Sinopharm/Wuhan, Sputnik V\", \"Oxford/AstraZeneca, Pfizer/BioNTech, Sinopharm/Beijing, Sinopharm/Wuhan, Sputnik V\", \"Oxford/AstraZeneca, Pfizer/BioNTech, Sinopharm/Beijing, Sinopharm/Wuhan, Sputnik V\", \"Oxford/AstraZeneca, Pfizer/BioNTech, Sinopharm/Beijing, Sinopharm/Wuhan, Sputnik V\", \"Oxford/AstraZeneca, Pfizer/BioNTech, Sinopharm/Beijing, Sinopharm/Wuhan, Sputnik V\", \"Oxford/AstraZeneca, Pfizer/BioNTech, Sinopharm/Beijing, Sinopharm/Wuhan, Sputnik V\", \"Oxford/AstraZeneca, Pfizer/BioNTech, Sinopharm/Beijing, Sinopharm/Wuhan, Sputnik V\", \"Oxford/AstraZeneca, Pfizer/BioNTech, Sinopharm/Beijing, Sinopharm/Wuhan, Sputnik V\", \"Oxford/AstraZeneca, Pfizer/BioNTech, Sinopharm/Beijing, Sinopharm/Wuhan, Sputnik V\", \"Oxford/AstraZeneca, Pfizer/BioNTech, Sinopharm/Beijing, Sinopharm/Wuhan, Sputnik V\", \"Oxford/AstraZeneca, Pfizer/BioNTech, Sinopharm/Beijing, Sinopharm/Wuhan, Sputnik V\", \"Oxford/AstraZeneca, Pfizer/BioNTech, Sinopharm/Beijing, Sinopharm/Wuhan, Sputnik V\", \"Oxford/AstraZeneca, Pfizer/BioNTech, Sinopharm/Beijing, Sinopharm/Wuhan, Sputnik V\", \"Oxford/AstraZeneca, Pfizer/BioNTech, Sinopharm/Beijing, Sinopharm/Wuhan, Sputnik V\", \"Oxford/AstraZeneca, Pfizer/BioNTech, Sinopharm/Beijing, Sinopharm/Wuhan, Sputnik V\", \"Oxford/AstraZeneca, Pfizer/BioNTech, Sinopharm/Beijing, Sinopharm/Wuhan, Sputnik V\", \"Oxford/AstraZeneca, Pfizer/BioNTech, Sinopharm/Beijing, Sinopharm/Wuhan, Sputnik V\", \"Oxford/AstraZeneca, Pfizer/BioNTech, Sinopharm/Beijing, Sinopharm/Wuhan, Sputnik V\", \"Oxford/AstraZeneca, Pfizer/BioNTech, Sinopharm/Beijing, Sinopharm/Wuhan, Sputnik V\", \"Oxford/AstraZeneca, Pfizer/BioNTech, Sinopharm/Beijing, Sinopharm/Wuhan, Sputnik V\", \"Oxford/AstraZeneca, Pfizer/BioNTech, Sinopharm/Beijing, Sinopharm/Wuhan, Sputnik V\", \"Oxford/AstraZeneca, Pfizer/BioNTech, Sinopharm/Beijing, Sinopharm/Wuhan, Sputnik V\", \"Oxford/AstraZeneca, Pfizer/BioNTech, Sinopharm/Beijing, Sinopharm/Wuhan, Sputnik V\", \"Oxford/AstraZeneca, Pfizer/BioNTech, Sinopharm/Beijing, Sinopharm/Wuhan, Sputnik V\", \"Oxford/AstraZeneca, Pfizer/BioNTech, Sinopharm/Beijing, Sinopharm/Wuhan, Sputnik V\", \"Oxford/AstraZeneca, Pfizer/BioNTech, Sinopharm/Beijing, Sinopharm/Wuhan, Sputnik V\", \"Oxford/AstraZeneca, Pfizer/BioNTech, Sinopharm/Beijing, Sinopharm/Wuhan, Sputnik V\", \"Oxford/AstraZeneca, Pfizer/BioNTech, Sinopharm/Beijing, Sinopharm/Wuhan, Sputnik V\", \"Oxford/AstraZeneca, Pfizer/BioNTech, Sinopharm/Beijing, Sinopharm/Wuhan, Sputnik V\", \"Oxford/AstraZeneca, Pfizer/BioNTech, Sinopharm/Beijing, Sinopharm/Wuhan, Sputnik V\", \"Oxford/AstraZeneca, Pfizer/BioNTech, Sinopharm/Beijing, Sinopharm/Wuhan, Sputnik V\", \"Oxford/AstraZeneca, Pfizer/BioNTech, Sinopharm/Beijing, Sinopharm/Wuhan, Sputnik V\", \"Oxford/AstraZeneca, Pfizer/BioNTech, Sinopharm/Beijing, Sinopharm/Wuhan, Sputnik V\", \"Oxford/AstraZeneca, Pfizer/BioNTech, Sinopharm/Beijing, Sinopharm/Wuhan, Sputnik V\", \"Oxford/AstraZeneca, Pfizer/BioNTech, Sinopharm/Beijing, Sinopharm/Wuhan, Sputnik V\", \"Oxford/AstraZeneca, Pfizer/BioNTech, Sinopharm/Beijing, Sinopharm/Wuhan, Sputnik V\", \"Oxford/AstraZeneca, Pfizer/BioNTech, Sinopharm/Beijing, Sinopharm/Wuhan, Sputnik V\", \"Oxford/AstraZeneca, Pfizer/BioNTech, Sinopharm/Beijing, Sinopharm/Wuhan, Sputnik V\", \"Oxford/AstraZeneca, Pfizer/BioNTech, Sinopharm/Beijing, Sinopharm/Wuhan, Sputnik V\", \"Oxford/AstraZeneca, Pfizer/BioNTech, Sinopharm/Beijing, Sinopharm/Wuhan, Sputnik V\", \"Oxford/AstraZeneca, Pfizer/BioNTech\", \"Oxford/AstraZeneca, Pfizer/BioNTech\", \"Oxford/AstraZeneca, Pfizer/BioNTech\", \"Oxford/AstraZeneca, Pfizer/BioNTech\", \"Oxford/AstraZeneca, Pfizer/BioNTech\", \"Oxford/AstraZeneca, Pfizer/BioNTech\", \"Oxford/AstraZeneca, Pfizer/BioNTech\", \"Oxford/AstraZeneca, Pfizer/BioNTech\", \"Oxford/AstraZeneca, Pfizer/BioNTech\", \"Oxford/AstraZeneca, Pfizer/BioNTech\", \"Oxford/AstraZeneca, Pfizer/BioNTech\", \"Oxford/AstraZeneca, Pfizer/BioNTech\", \"Oxford/AstraZeneca, Pfizer/BioNTech\", \"Oxford/AstraZeneca, Pfizer/BioNTech\", \"Oxford/AstraZeneca, Pfizer/BioNTech\", \"Oxford/AstraZeneca, Pfizer/BioNTech\", \"Oxford/AstraZeneca, Pfizer/BioNTech\", \"Oxford/AstraZeneca, Pfizer/BioNTech\", \"Oxford/AstraZeneca, Pfizer/BioNTech\", \"Oxford/AstraZeneca, Pfizer/BioNTech\", \"Oxford/AstraZeneca, Pfizer/BioNTech\", \"Oxford/AstraZeneca, Pfizer/BioNTech\", \"Oxford/AstraZeneca, Pfizer/BioNTech\", \"Oxford/AstraZeneca, Pfizer/BioNTech\", \"Oxford/AstraZeneca, Pfizer/BioNTech\", \"Oxford/AstraZeneca, Pfizer/BioNTech\", \"Oxford/AstraZeneca, Pfizer/BioNTech\", \"Oxford/AstraZeneca, Pfizer/BioNTech\", \"Oxford/AstraZeneca, Pfizer/BioNTech\", \"Oxford/AstraZeneca, Pfizer/BioNTech\", \"Oxford/AstraZeneca, Pfizer/BioNTech\", \"Oxford/AstraZeneca, Pfizer/BioNTech\", \"Oxford/AstraZeneca, Pfizer/BioNTech\", \"Oxford/AstraZeneca, Pfizer/BioNTech\", \"Oxford/AstraZeneca, Pfizer/BioNTech\", \"Oxford/AstraZeneca, Pfizer/BioNTech\", \"Oxford/AstraZeneca, Pfizer/BioNTech\", \"Oxford/AstraZeneca, Pfizer/BioNTech\", \"Oxford/AstraZeneca, Pfizer/BioNTech\", \"Oxford/AstraZeneca, Pfizer/BioNTech\", \"Oxford/AstraZeneca, Pfizer/BioNTech\", \"Oxford/AstraZeneca, Pfizer/BioNTech\", \"Oxford/AstraZeneca, Pfizer/BioNTech\", \"Oxford/AstraZeneca, Pfizer/BioNTech\", \"Oxford/AstraZeneca, Pfizer/BioNTech\", \"Oxford/AstraZeneca, Pfizer/BioNTech\", \"Oxford/AstraZeneca, Pfizer/BioNTech\", \"Oxford/AstraZeneca, Pfizer/BioNTech\", \"Oxford/AstraZeneca, Pfizer/BioNTech\", \"Oxford/AstraZeneca, Pfizer/BioNTech\", \"Oxford/AstraZeneca, Pfizer/BioNTech\", \"Oxford/AstraZeneca, Pfizer/BioNTech\", \"Oxford/AstraZeneca, Pfizer/BioNTech\", \"Oxford/AstraZeneca, Pfizer/BioNTech\", \"Oxford/AstraZeneca, Pfizer/BioNTech\", \"Oxford/AstraZeneca, Pfizer/BioNTech\", \"Oxford/AstraZeneca, Pfizer/BioNTech\", \"Oxford/AstraZeneca, Pfizer/BioNTech\", \"Oxford/AstraZeneca, Pfizer/BioNTech\", \"Oxford/AstraZeneca, Pfizer/BioNTech\", \"Oxford/AstraZeneca, Pfizer/BioNTech\", \"Oxford/AstraZeneca, Pfizer/BioNTech\", \"Oxford/AstraZeneca, Pfizer/BioNTech\", \"Oxford/AstraZeneca, Pfizer/BioNTech\", \"Oxford/AstraZeneca, Pfizer/BioNTech\", \"Oxford/AstraZeneca, Pfizer/BioNTech\", \"Oxford/AstraZeneca, Pfizer/BioNTech\", \"Oxford/AstraZeneca, Pfizer/BioNTech\", \"Oxford/AstraZeneca, Pfizer/BioNTech\", \"Oxford/AstraZeneca, Pfizer/BioNTech\", \"Oxford/AstraZeneca, Pfizer/BioNTech\", \"Oxford/AstraZeneca, Pfizer/BioNTech\", \"Oxford/AstraZeneca, Pfizer/BioNTech\", \"Oxford/AstraZeneca, Pfizer/BioNTech\", \"Oxford/AstraZeneca, Pfizer/BioNTech\", \"Oxford/AstraZeneca, Pfizer/BioNTech\", \"Oxford/AstraZeneca, Pfizer/BioNTech\", \"Oxford/AstraZeneca, Pfizer/BioNTech\", \"Oxford/AstraZeneca, Pfizer/BioNTech\", \"Oxford/AstraZeneca, Pfizer/BioNTech\", \"Oxford/AstraZeneca, Pfizer/BioNTech\", \"Oxford/AstraZeneca, Pfizer/BioNTech\", \"Oxford/AstraZeneca, Pfizer/BioNTech\", \"Moderna, Pfizer/BioNTech\", \"Moderna, Pfizer/BioNTech\", \"Moderna, Pfizer/BioNTech\", \"Moderna, Pfizer/BioNTech\", \"Moderna, Pfizer/BioNTech\", \"Moderna, Pfizer/BioNTech\", \"Moderna, Pfizer/BioNTech\", \"Moderna, Pfizer/BioNTech\", \"Moderna, Pfizer/BioNTech\", \"Moderna, Pfizer/BioNTech\", \"Moderna, Pfizer/BioNTech\", \"Moderna, Pfizer/BioNTech\", \"Moderna, Pfizer/BioNTech\", \"Moderna, Pfizer/BioNTech\", \"Moderna, Pfizer/BioNTech\", \"Moderna, Pfizer/BioNTech\", \"Moderna, Pfizer/BioNTech\", \"Moderna, Pfizer/BioNTech\", \"Moderna, Pfizer/BioNTech\", \"Moderna, Pfizer/BioNTech\", \"Moderna, Pfizer/BioNTech\", \"Moderna, Pfizer/BioNTech\", \"Moderna, Pfizer/BioNTech\", \"Moderna, Pfizer/BioNTech\", \"Moderna, Pfizer/BioNTech\", \"Moderna, Pfizer/BioNTech\", \"Moderna, Pfizer/BioNTech\", \"Moderna, Pfizer/BioNTech\", \"Moderna, Pfizer/BioNTech\", \"Moderna, Pfizer/BioNTech\", \"Moderna, Pfizer/BioNTech\", \"Moderna, Pfizer/BioNTech\", \"Moderna, Pfizer/BioNTech\", \"Moderna, Pfizer/BioNTech\", \"Moderna, Pfizer/BioNTech\", \"Moderna, Pfizer/BioNTech\", \"Moderna, Pfizer/BioNTech\", \"Moderna, Pfizer/BioNTech\", \"Moderna, Pfizer/BioNTech\", \"Moderna, Pfizer/BioNTech\", \"Moderna, Pfizer/BioNTech\", \"Moderna, Pfizer/BioNTech\", \"Moderna, Pfizer/BioNTech\", \"Moderna, Pfizer/BioNTech\", \"Moderna, Pfizer/BioNTech\", \"Moderna, Pfizer/BioNTech\", \"Moderna, Pfizer/BioNTech\", \"Moderna, Pfizer/BioNTech\", \"Moderna, Pfizer/BioNTech\", \"Moderna, Pfizer/BioNTech\", \"Moderna, Pfizer/BioNTech\", \"Moderna, Pfizer/BioNTech\", \"Moderna, Pfizer/BioNTech\", \"Moderna, Pfizer/BioNTech\", \"Moderna, Pfizer/BioNTech\", \"Moderna, Pfizer/BioNTech\", \"Moderna, Pfizer/BioNTech\", \"Moderna, Pfizer/BioNTech\", \"Moderna, Pfizer/BioNTech\", \"Moderna, Pfizer/BioNTech\", \"Moderna, Pfizer/BioNTech\", \"Moderna, Pfizer/BioNTech\", \"Moderna, Pfizer/BioNTech\", \"Moderna, Pfizer/BioNTech\", \"Moderna, Pfizer/BioNTech\", \"Moderna, Pfizer/BioNTech\", \"Moderna, Pfizer/BioNTech\", \"Moderna, Pfizer/BioNTech\", \"Moderna, Pfizer/BioNTech\", \"Moderna, Pfizer/BioNTech\", \"Moderna, Pfizer/BioNTech\", \"Moderna, Pfizer/BioNTech\", \"Moderna, Pfizer/BioNTech\", \"Moderna, Pfizer/BioNTech\", \"Moderna, Pfizer/BioNTech\", \"Moderna, Pfizer/BioNTech\", \"Moderna, Pfizer/BioNTech\", \"Sinovac\", \"Sinovac\", \"Sinovac\", \"Sinovac\", \"Sinovac\", \"Sinovac\", \"Sinovac\", \"Sputnik V\", \"Sputnik V\", \"Sputnik V\", \"Sputnik V\", \"Sputnik V\", \"Sputnik V\", \"Sputnik V\", \"Sputnik V\", \"Sputnik V\", \"Sputnik V\", \"Sputnik V\", \"Sputnik V\", \"Sputnik V\", \"Sputnik V\", \"Sputnik V\", \"Sputnik V\", \"Sinopharm/Beijing\", \"Sinopharm/Beijing\", \"Sinopharm/Beijing\", \"Sinopharm/Beijing\", \"Sinopharm/Beijing\", \"Sinopharm/Beijing\", \"Sinopharm/Beijing\", \"Sinopharm/Beijing\", \"Sinopharm/Beijing\", \"Sinopharm/Beijing\", \"Sinopharm/Beijing\", \"Sinopharm/Beijing\", \"Sinopharm/Beijing\", \"Sinopharm/Beijing\", \"Sinopharm/Beijing\", \"Sinopharm/Beijing\", \"Sinopharm/Beijing\"]}],\n",
              "                        {\"coloraxis\": {\"colorbar\": {\"title\": {\"text\": \"vaccines\"}}, \"colorscale\": [[0.0, \"#0d0887\"], [0.1111111111111111, \"#46039f\"], [0.2222222222222222, \"#7201a8\"], [0.3333333333333333, \"#9c179e\"], [0.4444444444444444, \"#bd3786\"], [0.5555555555555556, \"#d8576b\"], [0.6666666666666666, \"#ed7953\"], [0.7777777777777778, \"#fb9f3a\"], [0.8888888888888888, \"#fdca26\"], [1.0, \"#f0f921\"]]}, \"geo\": {\"center\": {}, \"domain\": {\"x\": [0.0, 1.0], \"y\": [0.0, 1.0]}}, \"legend\": {\"tracegroupgap\": 0}, \"showlegend\": false, \"template\": {\"data\": {\"bar\": [{\"error_x\": {\"color\": \"#2a3f5f\"}, \"error_y\": {\"color\": \"#2a3f5f\"}, \"marker\": {\"line\": {\"color\": \"#E5ECF6\", \"width\": 0.5}}, \"type\": \"bar\"}], \"barpolar\": [{\"marker\": {\"line\": {\"color\": \"#E5ECF6\", \"width\": 0.5}}, \"type\": \"barpolar\"}], \"carpet\": [{\"aaxis\": {\"endlinecolor\": \"#2a3f5f\", \"gridcolor\": \"white\", \"linecolor\": \"white\", \"minorgridcolor\": \"white\", \"startlinecolor\": \"#2a3f5f\"}, \"baxis\": {\"endlinecolor\": \"#2a3f5f\", \"gridcolor\": \"white\", \"linecolor\": \"white\", \"minorgridcolor\": \"white\", \"startlinecolor\": \"#2a3f5f\"}, \"type\": \"carpet\"}], \"choropleth\": [{\"colorbar\": {\"outlinewidth\": 0, \"ticks\": \"\"}, \"type\": \"choropleth\"}], \"contour\": [{\"colorbar\": {\"outlinewidth\": 0, \"ticks\": \"\"}, \"colorscale\": [[0.0, \"#0d0887\"], [0.1111111111111111, \"#46039f\"], [0.2222222222222222, \"#7201a8\"], [0.3333333333333333, \"#9c179e\"], [0.4444444444444444, \"#bd3786\"], [0.5555555555555556, \"#d8576b\"], [0.6666666666666666, \"#ed7953\"], [0.7777777777777778, \"#fb9f3a\"], [0.8888888888888888, \"#fdca26\"], [1.0, \"#f0f921\"]], \"type\": \"contour\"}], \"contourcarpet\": [{\"colorbar\": {\"outlinewidth\": 0, \"ticks\": \"\"}, \"type\": \"contourcarpet\"}], \"heatmap\": [{\"colorbar\": {\"outlinewidth\": 0, \"ticks\": \"\"}, \"colorscale\": [[0.0, \"#0d0887\"], [0.1111111111111111, \"#46039f\"], [0.2222222222222222, \"#7201a8\"], [0.3333333333333333, \"#9c179e\"], [0.4444444444444444, \"#bd3786\"], [0.5555555555555556, \"#d8576b\"], [0.6666666666666666, \"#ed7953\"], [0.7777777777777778, \"#fb9f3a\"], [0.8888888888888888, \"#fdca26\"], [1.0, \"#f0f921\"]], \"type\": \"heatmap\"}], \"heatmapgl\": [{\"colorbar\": {\"outlinewidth\": 0, \"ticks\": \"\"}, \"colorscale\": [[0.0, \"#0d0887\"], [0.1111111111111111, \"#46039f\"], [0.2222222222222222, \"#7201a8\"], [0.3333333333333333, \"#9c179e\"], [0.4444444444444444, \"#bd3786\"], [0.5555555555555556, \"#d8576b\"], [0.6666666666666666, \"#ed7953\"], [0.7777777777777778, \"#fb9f3a\"], [0.8888888888888888, \"#fdca26\"], [1.0, \"#f0f921\"]], \"type\": \"heatmapgl\"}], \"histogram\": [{\"marker\": {\"colorbar\": {\"outlinewidth\": 0, \"ticks\": \"\"}}, \"type\": \"histogram\"}], \"histogram2d\": [{\"colorbar\": {\"outlinewidth\": 0, \"ticks\": \"\"}, \"colorscale\": [[0.0, \"#0d0887\"], [0.1111111111111111, \"#46039f\"], [0.2222222222222222, \"#7201a8\"], [0.3333333333333333, \"#9c179e\"], [0.4444444444444444, \"#bd3786\"], [0.5555555555555556, \"#d8576b\"], [0.6666666666666666, \"#ed7953\"], [0.7777777777777778, \"#fb9f3a\"], [0.8888888888888888, \"#fdca26\"], [1.0, \"#f0f921\"]], \"type\": \"histogram2d\"}], \"histogram2dcontour\": [{\"colorbar\": {\"outlinewidth\": 0, \"ticks\": \"\"}, \"colorscale\": [[0.0, \"#0d0887\"], [0.1111111111111111, \"#46039f\"], [0.2222222222222222, \"#7201a8\"], [0.3333333333333333, \"#9c179e\"], [0.4444444444444444, \"#bd3786\"], [0.5555555555555556, \"#d8576b\"], [0.6666666666666666, \"#ed7953\"], [0.7777777777777778, \"#fb9f3a\"], [0.8888888888888888, \"#fdca26\"], [1.0, \"#f0f921\"]], \"type\": \"histogram2dcontour\"}], \"mesh3d\": [{\"colorbar\": {\"outlinewidth\": 0, \"ticks\": \"\"}, \"type\": \"mesh3d\"}], \"parcoords\": [{\"line\": {\"colorbar\": {\"outlinewidth\": 0, \"ticks\": \"\"}}, \"type\": \"parcoords\"}], \"pie\": [{\"automargin\": true, \"type\": \"pie\"}], \"scatter\": [{\"marker\": {\"colorbar\": {\"outlinewidth\": 0, \"ticks\": \"\"}}, \"type\": \"scatter\"}], \"scatter3d\": [{\"line\": {\"colorbar\": {\"outlinewidth\": 0, \"ticks\": \"\"}}, \"marker\": {\"colorbar\": {\"outlinewidth\": 0, \"ticks\": \"\"}}, \"type\": \"scatter3d\"}], \"scattercarpet\": [{\"marker\": {\"colorbar\": {\"outlinewidth\": 0, \"ticks\": \"\"}}, \"type\": \"scattercarpet\"}], \"scattergeo\": [{\"marker\": {\"colorbar\": {\"outlinewidth\": 0, \"ticks\": \"\"}}, \"type\": \"scattergeo\"}], \"scattergl\": [{\"marker\": {\"colorbar\": {\"outlinewidth\": 0, \"ticks\": \"\"}}, \"type\": \"scattergl\"}], \"scattermapbox\": [{\"marker\": {\"colorbar\": {\"outlinewidth\": 0, \"ticks\": \"\"}}, \"type\": \"scattermapbox\"}], \"scatterpolar\": [{\"marker\": {\"colorbar\": {\"outlinewidth\": 0, \"ticks\": \"\"}}, \"type\": \"scatterpolar\"}], \"scatterpolargl\": [{\"marker\": {\"colorbar\": {\"outlinewidth\": 0, \"ticks\": \"\"}}, \"type\": \"scatterpolargl\"}], \"scatterternary\": [{\"marker\": {\"colorbar\": {\"outlinewidth\": 0, \"ticks\": \"\"}}, \"type\": \"scatterternary\"}], \"surface\": [{\"colorbar\": {\"outlinewidth\": 0, \"ticks\": \"\"}, \"colorscale\": [[0.0, \"#0d0887\"], [0.1111111111111111, \"#46039f\"], [0.2222222222222222, \"#7201a8\"], [0.3333333333333333, \"#9c179e\"], [0.4444444444444444, \"#bd3786\"], [0.5555555555555556, \"#d8576b\"], [0.6666666666666666, \"#ed7953\"], [0.7777777777777778, \"#fb9f3a\"], [0.8888888888888888, \"#fdca26\"], [1.0, \"#f0f921\"]], \"type\": \"surface\"}], \"table\": [{\"cells\": {\"fill\": {\"color\": \"#EBF0F8\"}, \"line\": {\"color\": \"white\"}}, \"header\": {\"fill\": {\"color\": \"#C8D4E3\"}, \"line\": {\"color\": \"white\"}}, \"type\": \"table\"}]}, \"layout\": {\"annotationdefaults\": {\"arrowcolor\": \"#2a3f5f\", \"arrowhead\": 0, \"arrowwidth\": 1}, \"coloraxis\": {\"colorbar\": {\"outlinewidth\": 0, \"ticks\": \"\"}}, \"colorscale\": {\"diverging\": [[0, \"#8e0152\"], [0.1, \"#c51b7d\"], [0.2, \"#de77ae\"], [0.3, \"#f1b6da\"], [0.4, \"#fde0ef\"], [0.5, \"#f7f7f7\"], [0.6, \"#e6f5d0\"], [0.7, \"#b8e186\"], [0.8, \"#7fbc41\"], [0.9, \"#4d9221\"], [1, \"#276419\"]], \"sequential\": [[0.0, \"#0d0887\"], [0.1111111111111111, \"#46039f\"], [0.2222222222222222, \"#7201a8\"], [0.3333333333333333, \"#9c179e\"], [0.4444444444444444, \"#bd3786\"], [0.5555555555555556, \"#d8576b\"], [0.6666666666666666, \"#ed7953\"], [0.7777777777777778, \"#fb9f3a\"], [0.8888888888888888, \"#fdca26\"], [1.0, \"#f0f921\"]], \"sequentialminus\": [[0.0, \"#0d0887\"], [0.1111111111111111, \"#46039f\"], [0.2222222222222222, \"#7201a8\"], [0.3333333333333333, \"#9c179e\"], [0.4444444444444444, \"#bd3786\"], [0.5555555555555556, \"#d8576b\"], [0.6666666666666666, \"#ed7953\"], [0.7777777777777778, \"#fb9f3a\"], [0.8888888888888888, \"#fdca26\"], [1.0, \"#f0f921\"]]}, \"colorway\": [\"#636efa\", \"#EF553B\", \"#00cc96\", \"#ab63fa\", \"#FFA15A\", \"#19d3f3\", \"#FF6692\", \"#B6E880\", \"#FF97FF\", \"#FECB52\"], \"font\": {\"color\": \"#2a3f5f\"}, \"geo\": {\"bgcolor\": \"white\", \"lakecolor\": \"white\", \"landcolor\": \"#E5ECF6\", \"showlakes\": true, \"showland\": true, \"subunitcolor\": \"white\"}, \"hoverlabel\": {\"align\": \"left\"}, \"hovermode\": \"closest\", \"mapbox\": {\"style\": \"light\"}, \"paper_bgcolor\": \"white\", \"plot_bgcolor\": \"#E5ECF6\", \"polar\": {\"angularaxis\": {\"gridcolor\": \"white\", \"linecolor\": \"white\", \"ticks\": \"\"}, \"bgcolor\": \"#E5ECF6\", \"radialaxis\": {\"gridcolor\": \"white\", \"linecolor\": \"white\", \"ticks\": \"\"}}, \"scene\": {\"xaxis\": {\"backgroundcolor\": \"#E5ECF6\", \"gridcolor\": \"white\", \"gridwidth\": 2, \"linecolor\": \"white\", \"showbackground\": true, \"ticks\": \"\", \"zerolinecolor\": \"white\"}, \"yaxis\": {\"backgroundcolor\": \"#E5ECF6\", \"gridcolor\": \"white\", \"gridwidth\": 2, \"linecolor\": \"white\", \"showbackground\": true, \"ticks\": \"\", \"zerolinecolor\": \"white\"}, \"zaxis\": {\"backgroundcolor\": \"#E5ECF6\", \"gridcolor\": \"white\", \"gridwidth\": 2, \"linecolor\": \"white\", \"showbackground\": true, \"ticks\": \"\", \"zerolinecolor\": \"white\"}}, \"shapedefaults\": {\"line\": {\"color\": \"#2a3f5f\"}}, \"ternary\": {\"aaxis\": {\"gridcolor\": \"white\", \"linecolor\": \"white\", \"ticks\": \"\"}, \"baxis\": {\"gridcolor\": \"white\", \"linecolor\": \"white\", \"ticks\": \"\"}, \"bgcolor\": \"#E5ECF6\", \"caxis\": {\"gridcolor\": \"white\", \"linecolor\": \"white\", \"ticks\": \"\"}}, \"title\": {\"x\": 0.05}, \"xaxis\": {\"automargin\": true, \"gridcolor\": \"white\", \"linecolor\": \"white\", \"ticks\": \"\", \"title\": {\"standoff\": 15}, \"zerolinecolor\": \"white\", \"zerolinewidth\": 2}, \"yaxis\": {\"automargin\": true, \"gridcolor\": \"white\", \"linecolor\": \"white\", \"ticks\": \"\", \"title\": {\"standoff\": 15}, \"zerolinecolor\": \"white\", \"zerolinewidth\": 2}}}, \"title\": {\"text\": \"Vaccines used by different countries\"}},\n",
              "                        {\"responsive\": true}\n",
              "                    ).then(function(){\n",
              "                            \n",
              "var gd = document.getElementById('4a0f61c7-e72b-4ab7-a564-84bf2753da4b');\n",
              "var x = new MutationObserver(function (mutations, observer) {{\n",
              "        var display = window.getComputedStyle(gd).display;\n",
              "        if (!display || display === 'none') {{\n",
              "            console.log([gd, 'removed!']);\n",
              "            Plotly.purge(gd);\n",
              "            observer.disconnect();\n",
              "        }}\n",
              "}});\n",
              "\n",
              "// Listen for the removal of the full notebook cells\n",
              "var notebookContainer = gd.closest('#notebook-container');\n",
              "if (notebookContainer) {{\n",
              "    x.observe(notebookContainer, {childList: true});\n",
              "}}\n",
              "\n",
              "// Listen for the clearing of the current output cell\n",
              "var outputEl = gd.closest('.output');\n",
              "if (outputEl) {{\n",
              "    x.observe(outputEl, {childList: true});\n",
              "}}\n",
              "\n",
              "                        })\n",
              "                };\n",
              "                \n",
              "            </script>\n",
              "        </div>\n",
              "</body>\n",
              "</html>"
            ]
          },
          "metadata": {
            "tags": []
          }
        }
      ]
    },
    {
      "cell_type": "code",
      "metadata": {
        "id": "kG0BXhG2dwrL"
      },
      "source": [
        "df0 = data[['country', 'vaccines']]"
      ],
      "execution_count": 229,
      "outputs": []
    },
    {
      "cell_type": "code",
      "metadata": {
        "id": "51S6WDKcd1d3"
      },
      "source": [
        "df0 = df0.groupby('vaccines').sum().sort_values('country', ascending = False)"
      ],
      "execution_count": 230,
      "outputs": []
    },
    {
      "cell_type": "code",
      "metadata": {
        "id": "4Q8FYyxGeGsd"
      },
      "source": [
        "df0 = df0.reset_index()"
      ],
      "execution_count": 231,
      "outputs": []
    },
    {
      "cell_type": "code",
      "metadata": {
        "colab": {
          "base_uri": "https://localhost:8080/",
          "height": 708
        },
        "id": "FDVBd-0YeKie",
        "outputId": "a8184bbc-aeeb-4850-987b-ed1e83b0a786"
      },
      "source": [
        "df0"
      ],
      "execution_count": 232,
      "outputs": [
        {
          "output_type": "execute_result",
          "data": {
            "text/html": [
              "<div>\n",
              "<style scoped>\n",
              "    .dataframe tbody tr th:only-of-type {\n",
              "        vertical-align: middle;\n",
              "    }\n",
              "\n",
              "    .dataframe tbody tr th {\n",
              "        vertical-align: top;\n",
              "    }\n",
              "\n",
              "    .dataframe thead th {\n",
              "        text-align: right;\n",
              "    }\n",
              "</style>\n",
              "<table border=\"1\" class=\"dataframe\">\n",
              "  <thead>\n",
              "    <tr style=\"text-align: right;\">\n",
              "      <th></th>\n",
              "      <th>vaccines</th>\n",
              "      <th>country</th>\n",
              "    </tr>\n",
              "  </thead>\n",
              "  <tbody>\n",
              "    <tr>\n",
              "      <th>0</th>\n",
              "      <td>Oxford/AstraZeneca, Pfizer/BioNTech, Sinopharm...</td>\n",
              "      <td>United Arab EmiratesUnited Arab EmiratesUnited...</td>\n",
              "    </tr>\n",
              "    <tr>\n",
              "      <th>1</th>\n",
              "      <td>Johnson&amp;Johnson</td>\n",
              "      <td>South AfricaSouth AfricaSouth AfricaSouth Afri...</td>\n",
              "    </tr>\n",
              "    <tr>\n",
              "      <th>2</th>\n",
              "      <td>EpiVacCorona, Sputnik V</td>\n",
              "      <td>RussiaRussiaRussiaRussiaRussiaRussiaRussiaRuss...</td>\n",
              "    </tr>\n",
              "    <tr>\n",
              "      <th>3</th>\n",
              "      <td>Oxford/AstraZeneca, Sinopharm/Beijing, Sputnik V</td>\n",
              "      <td>PakistanPakistanPakistanPakistanPakistanPakist...</td>\n",
              "    </tr>\n",
              "    <tr>\n",
              "      <th>4</th>\n",
              "      <td>Oxford/AstraZeneca, Sinopharm/Beijing</td>\n",
              "      <td>MoroccoMoroccoMoroccoMoroccoMoroccoMoroccoMoro...</td>\n",
              "    </tr>\n",
              "    <tr>\n",
              "      <th>5</th>\n",
              "      <td>Oxford/AstraZeneca, Pfizer/BioNTech, Sputnik V</td>\n",
              "      <td>MexicoMexicoMexicoMexicoMexicoMexicoMexicoMexi...</td>\n",
              "    </tr>\n",
              "    <tr>\n",
              "      <th>6</th>\n",
              "      <td>Pfizer/BioNTech, Sinopharm/Beijing</td>\n",
              "      <td>JordanJordanJordanJordanJordanJordanJordanJord...</td>\n",
              "    </tr>\n",
              "    <tr>\n",
              "      <th>7</th>\n",
              "      <td>Oxford/AstraZeneca, Pfizer/BioNTech</td>\n",
              "      <td>Isle of ManIsle of ManIsle of ManIsle of ManIs...</td>\n",
              "    </tr>\n",
              "    <tr>\n",
              "      <th>8</th>\n",
              "      <td>Covaxin, Oxford/AstraZeneca</td>\n",
              "      <td>IndiaIndiaIndiaIndiaIndiaIndiaIndiaIndiaIndiaI...</td>\n",
              "    </tr>\n",
              "    <tr>\n",
              "      <th>9</th>\n",
              "      <td>Moderna, Oxford/AstraZeneca, Pfizer/BioNTech, ...</td>\n",
              "      <td>HungaryHungaryHungaryHungaryHungaryHungaryHung...</td>\n",
              "    </tr>\n",
              "    <tr>\n",
              "      <th>10</th>\n",
              "      <td>Moderna</td>\n",
              "      <td>Honduras</td>\n",
              "    </tr>\n",
              "    <tr>\n",
              "      <th>11</th>\n",
              "      <td>Sinovac</td>\n",
              "      <td>GuatemalaGuatemalaGuatemalaGuatemalaGuatemalaI...</td>\n",
              "    </tr>\n",
              "    <tr>\n",
              "      <th>12</th>\n",
              "      <td>Sinopharm/Beijing, Sinopharm/Wuhan, Sinovac</td>\n",
              "      <td>ChinaChinaChinaChinaChinaChinaChinaChinaChinaC...</td>\n",
              "    </tr>\n",
              "    <tr>\n",
              "      <th>13</th>\n",
              "      <td>Pfizer/BioNTech, Sinovac</td>\n",
              "      <td>ChileChileChileChileChileChileChileChileChileC...</td>\n",
              "    </tr>\n",
              "    <tr>\n",
              "      <th>14</th>\n",
              "      <td>Moderna, Pfizer/BioNTech</td>\n",
              "      <td>CanadaCanadaCanadaCanadaCanadaCanadaCanadaCana...</td>\n",
              "    </tr>\n",
              "    <tr>\n",
              "      <th>15</th>\n",
              "      <td>Sinopharm/Beijing</td>\n",
              "      <td>CambodiaCambodiaCambodiaCambodiaCambodiaCambod...</td>\n",
              "    </tr>\n",
              "    <tr>\n",
              "      <th>16</th>\n",
              "      <td>Oxford/AstraZeneca, Sinovac</td>\n",
              "      <td>BrazilBrazilBrazilBrazilBrazilBrazilBrazilBraz...</td>\n",
              "    </tr>\n",
              "    <tr>\n",
              "      <th>17</th>\n",
              "      <td>Oxford/AstraZeneca, Pfizer/BioNTech, Sinopharm...</td>\n",
              "      <td>BahrainBahrainBahrainBahrainBahrainBahrainBahr...</td>\n",
              "    </tr>\n",
              "    <tr>\n",
              "      <th>18</th>\n",
              "      <td>Oxford/AstraZeneca, Sputnik V</td>\n",
              "      <td>AzerbaijanAzerbaijanAzerbaijanAzerbaijanAzerba...</td>\n",
              "    </tr>\n",
              "    <tr>\n",
              "      <th>19</th>\n",
              "      <td>Moderna, Oxford/AstraZeneca, Pfizer/BioNTech</td>\n",
              "      <td>AustriaAustriaAustriaAustriaAustriaAustriaAust...</td>\n",
              "    </tr>\n",
              "    <tr>\n",
              "      <th>20</th>\n",
              "      <td>Oxford/AstraZeneca</td>\n",
              "      <td>AnguillaAnguillaAnguillaAnguillaAnguillaAnguil...</td>\n",
              "    </tr>\n",
              "    <tr>\n",
              "      <th>21</th>\n",
              "      <td>Sputnik V</td>\n",
              "      <td>AlgeriaAlgeriaAlgeriaAlgeriaAlgeriaAlgeriaAlge...</td>\n",
              "    </tr>\n",
              "    <tr>\n",
              "      <th>22</th>\n",
              "      <td>Pfizer/BioNTech</td>\n",
              "      <td>AlbaniaAlbaniaAlbaniaAlbaniaAlbaniaAlbaniaAlba...</td>\n",
              "    </tr>\n",
              "  </tbody>\n",
              "</table>\n",
              "</div>"
            ],
            "text/plain": [
              "                                             vaccines                                            country\n",
              "0   Oxford/AstraZeneca, Pfizer/BioNTech, Sinopharm...  United Arab EmiratesUnited Arab EmiratesUnited...\n",
              "1                                     Johnson&Johnson  South AfricaSouth AfricaSouth AfricaSouth Afri...\n",
              "2                             EpiVacCorona, Sputnik V  RussiaRussiaRussiaRussiaRussiaRussiaRussiaRuss...\n",
              "3    Oxford/AstraZeneca, Sinopharm/Beijing, Sputnik V  PakistanPakistanPakistanPakistanPakistanPakist...\n",
              "4               Oxford/AstraZeneca, Sinopharm/Beijing  MoroccoMoroccoMoroccoMoroccoMoroccoMoroccoMoro...\n",
              "5      Oxford/AstraZeneca, Pfizer/BioNTech, Sputnik V  MexicoMexicoMexicoMexicoMexicoMexicoMexicoMexi...\n",
              "6                  Pfizer/BioNTech, Sinopharm/Beijing  JordanJordanJordanJordanJordanJordanJordanJord...\n",
              "7                 Oxford/AstraZeneca, Pfizer/BioNTech  Isle of ManIsle of ManIsle of ManIsle of ManIs...\n",
              "8                         Covaxin, Oxford/AstraZeneca  IndiaIndiaIndiaIndiaIndiaIndiaIndiaIndiaIndiaI...\n",
              "9   Moderna, Oxford/AstraZeneca, Pfizer/BioNTech, ...  HungaryHungaryHungaryHungaryHungaryHungaryHung...\n",
              "10                                            Moderna                                           Honduras\n",
              "11                                            Sinovac  GuatemalaGuatemalaGuatemalaGuatemalaGuatemalaI...\n",
              "12        Sinopharm/Beijing, Sinopharm/Wuhan, Sinovac  ChinaChinaChinaChinaChinaChinaChinaChinaChinaC...\n",
              "13                           Pfizer/BioNTech, Sinovac  ChileChileChileChileChileChileChileChileChileC...\n",
              "14                           Moderna, Pfizer/BioNTech  CanadaCanadaCanadaCanadaCanadaCanadaCanadaCana...\n",
              "15                                  Sinopharm/Beijing  CambodiaCambodiaCambodiaCambodiaCambodiaCambod...\n",
              "16                        Oxford/AstraZeneca, Sinovac  BrazilBrazilBrazilBrazilBrazilBrazilBrazilBraz...\n",
              "17  Oxford/AstraZeneca, Pfizer/BioNTech, Sinopharm...  BahrainBahrainBahrainBahrainBahrainBahrainBahr...\n",
              "18                      Oxford/AstraZeneca, Sputnik V  AzerbaijanAzerbaijanAzerbaijanAzerbaijanAzerba...\n",
              "19       Moderna, Oxford/AstraZeneca, Pfizer/BioNTech  AustriaAustriaAustriaAustriaAustriaAustriaAust...\n",
              "20                                 Oxford/AstraZeneca  AnguillaAnguillaAnguillaAnguillaAnguillaAnguil...\n",
              "21                                          Sputnik V  AlgeriaAlgeriaAlgeriaAlgeriaAlgeriaAlgeriaAlge...\n",
              "22                                    Pfizer/BioNTech  AlbaniaAlbaniaAlbaniaAlbaniaAlbaniaAlbaniaAlba..."
            ]
          },
          "metadata": {
            "tags": []
          },
          "execution_count": 232
        }
      ]
    },
    {
      "cell_type": "code",
      "metadata": {
        "id": "Xzq162YKKIXN",
        "colab": {
          "base_uri": "https://localhost:8080/",
          "height": 517
        },
        "outputId": "7e992749-c76d-48b7-8fe3-4528ab5c0cae"
      },
      "source": [
        "data.head(10)"
      ],
      "execution_count": 233,
      "outputs": [
        {
          "output_type": "execute_result",
          "data": {
            "text/html": [
              "<div>\n",
              "<style scoped>\n",
              "    .dataframe tbody tr th:only-of-type {\n",
              "        vertical-align: middle;\n",
              "    }\n",
              "\n",
              "    .dataframe tbody tr th {\n",
              "        vertical-align: top;\n",
              "    }\n",
              "\n",
              "    .dataframe thead th {\n",
              "        text-align: right;\n",
              "    }\n",
              "</style>\n",
              "<table border=\"1\" class=\"dataframe\">\n",
              "  <thead>\n",
              "    <tr style=\"text-align: right;\">\n",
              "      <th></th>\n",
              "      <th>country</th>\n",
              "      <th>iso_code</th>\n",
              "      <th>date</th>\n",
              "      <th>total_vaccinations</th>\n",
              "      <th>people_vaccinated</th>\n",
              "      <th>people_fully_vaccinated</th>\n",
              "      <th>daily_vaccinations_raw</th>\n",
              "      <th>daily_vaccinations</th>\n",
              "      <th>total_vaccinations_per_hundred</th>\n",
              "      <th>people_vaccinated_per_hundred</th>\n",
              "      <th>people_fully_vaccinated_per_hundred</th>\n",
              "      <th>daily_vaccinations_per_million</th>\n",
              "      <th>vaccines</th>\n",
              "      <th>source_name</th>\n",
              "      <th>source_website</th>\n",
              "    </tr>\n",
              "  </thead>\n",
              "  <tbody>\n",
              "    <tr>\n",
              "      <th>0</th>\n",
              "      <td>Albania</td>\n",
              "      <td>ALB</td>\n",
              "      <td>2021-01-10</td>\n",
              "      <td>0.0</td>\n",
              "      <td>0.0</td>\n",
              "      <td>1.0</td>\n",
              "      <td>60.0</td>\n",
              "      <td>64.0</td>\n",
              "      <td>0.00</td>\n",
              "      <td>0.00</td>\n",
              "      <td>0.0</td>\n",
              "      <td>22.0</td>\n",
              "      <td>Pfizer/BioNTech</td>\n",
              "      <td>Ministry of Health</td>\n",
              "      <td>https://shendetesia.gov.al/covid19-ministria-e...</td>\n",
              "    </tr>\n",
              "    <tr>\n",
              "      <th>1</th>\n",
              "      <td>Albania</td>\n",
              "      <td>ALB</td>\n",
              "      <td>2021-01-11</td>\n",
              "      <td>0.0</td>\n",
              "      <td>0.0</td>\n",
              "      <td>1.0</td>\n",
              "      <td>60.0</td>\n",
              "      <td>64.0</td>\n",
              "      <td>0.00</td>\n",
              "      <td>0.00</td>\n",
              "      <td>0.0</td>\n",
              "      <td>22.0</td>\n",
              "      <td>Pfizer/BioNTech</td>\n",
              "      <td>Ministry of Health</td>\n",
              "      <td>https://shendetesia.gov.al/covid19-ministria-e...</td>\n",
              "    </tr>\n",
              "    <tr>\n",
              "      <th>2</th>\n",
              "      <td>Albania</td>\n",
              "      <td>ALB</td>\n",
              "      <td>2021-01-12</td>\n",
              "      <td>128.0</td>\n",
              "      <td>128.0</td>\n",
              "      <td>1.0</td>\n",
              "      <td>60.0</td>\n",
              "      <td>64.0</td>\n",
              "      <td>0.00</td>\n",
              "      <td>0.00</td>\n",
              "      <td>0.0</td>\n",
              "      <td>22.0</td>\n",
              "      <td>Pfizer/BioNTech</td>\n",
              "      <td>Ministry of Health</td>\n",
              "      <td>https://shendetesia.gov.al/covid19-ministria-e...</td>\n",
              "    </tr>\n",
              "    <tr>\n",
              "      <th>3</th>\n",
              "      <td>Albania</td>\n",
              "      <td>ALB</td>\n",
              "      <td>2021-01-13</td>\n",
              "      <td>188.0</td>\n",
              "      <td>188.0</td>\n",
              "      <td>1.0</td>\n",
              "      <td>60.0</td>\n",
              "      <td>63.0</td>\n",
              "      <td>0.01</td>\n",
              "      <td>0.01</td>\n",
              "      <td>0.0</td>\n",
              "      <td>22.0</td>\n",
              "      <td>Pfizer/BioNTech</td>\n",
              "      <td>Ministry of Health</td>\n",
              "      <td>https://shendetesia.gov.al/covid19-ministria-e...</td>\n",
              "    </tr>\n",
              "    <tr>\n",
              "      <th>4</th>\n",
              "      <td>Albania</td>\n",
              "      <td>ALB</td>\n",
              "      <td>2021-01-14</td>\n",
              "      <td>266.0</td>\n",
              "      <td>266.0</td>\n",
              "      <td>1.0</td>\n",
              "      <td>78.0</td>\n",
              "      <td>66.0</td>\n",
              "      <td>0.01</td>\n",
              "      <td>0.01</td>\n",
              "      <td>0.0</td>\n",
              "      <td>23.0</td>\n",
              "      <td>Pfizer/BioNTech</td>\n",
              "      <td>Ministry of Health</td>\n",
              "      <td>https://shendetesia.gov.al/covid19-ministria-e...</td>\n",
              "    </tr>\n",
              "    <tr>\n",
              "      <th>5</th>\n",
              "      <td>Albania</td>\n",
              "      <td>ALB</td>\n",
              "      <td>2021-01-15</td>\n",
              "      <td>308.0</td>\n",
              "      <td>308.0</td>\n",
              "      <td>1.0</td>\n",
              "      <td>42.0</td>\n",
              "      <td>62.0</td>\n",
              "      <td>0.01</td>\n",
              "      <td>0.01</td>\n",
              "      <td>0.0</td>\n",
              "      <td>22.0</td>\n",
              "      <td>Pfizer/BioNTech</td>\n",
              "      <td>Ministry of Health</td>\n",
              "      <td>https://shendetesia.gov.al/covid19-ministria-e...</td>\n",
              "    </tr>\n",
              "    <tr>\n",
              "      <th>6</th>\n",
              "      <td>Albania</td>\n",
              "      <td>ALB</td>\n",
              "      <td>2021-01-16</td>\n",
              "      <td>369.0</td>\n",
              "      <td>369.0</td>\n",
              "      <td>1.0</td>\n",
              "      <td>61.0</td>\n",
              "      <td>62.0</td>\n",
              "      <td>0.01</td>\n",
              "      <td>0.01</td>\n",
              "      <td>0.0</td>\n",
              "      <td>22.0</td>\n",
              "      <td>Pfizer/BioNTech</td>\n",
              "      <td>Ministry of Health</td>\n",
              "      <td>https://shendetesia.gov.al/covid19-ministria-e...</td>\n",
              "    </tr>\n",
              "    <tr>\n",
              "      <th>7</th>\n",
              "      <td>Albania</td>\n",
              "      <td>ALB</td>\n",
              "      <td>2021-01-17</td>\n",
              "      <td>405.0</td>\n",
              "      <td>405.0</td>\n",
              "      <td>1.0</td>\n",
              "      <td>36.0</td>\n",
              "      <td>58.0</td>\n",
              "      <td>0.01</td>\n",
              "      <td>0.01</td>\n",
              "      <td>0.0</td>\n",
              "      <td>20.0</td>\n",
              "      <td>Pfizer/BioNTech</td>\n",
              "      <td>Ministry of Health</td>\n",
              "      <td>https://shendetesia.gov.al/covid19-ministria-e...</td>\n",
              "    </tr>\n",
              "    <tr>\n",
              "      <th>8</th>\n",
              "      <td>Albania</td>\n",
              "      <td>ALB</td>\n",
              "      <td>2021-01-18</td>\n",
              "      <td>447.0</td>\n",
              "      <td>447.0</td>\n",
              "      <td>1.0</td>\n",
              "      <td>42.0</td>\n",
              "      <td>55.0</td>\n",
              "      <td>0.02</td>\n",
              "      <td>0.02</td>\n",
              "      <td>0.0</td>\n",
              "      <td>19.0</td>\n",
              "      <td>Pfizer/BioNTech</td>\n",
              "      <td>Ministry of Health</td>\n",
              "      <td>https://shendetesia.gov.al/covid19-ministria-e...</td>\n",
              "    </tr>\n",
              "    <tr>\n",
              "      <th>9</th>\n",
              "      <td>Albania</td>\n",
              "      <td>ALB</td>\n",
              "      <td>2021-01-19</td>\n",
              "      <td>483.0</td>\n",
              "      <td>483.0</td>\n",
              "      <td>1.0</td>\n",
              "      <td>36.0</td>\n",
              "      <td>51.0</td>\n",
              "      <td>0.02</td>\n",
              "      <td>0.02</td>\n",
              "      <td>0.0</td>\n",
              "      <td>18.0</td>\n",
              "      <td>Pfizer/BioNTech</td>\n",
              "      <td>Ministry of Health</td>\n",
              "      <td>https://shendetesia.gov.al/covid19-ministria-e...</td>\n",
              "    </tr>\n",
              "  </tbody>\n",
              "</table>\n",
              "</div>"
            ],
            "text/plain": [
              "   country  ...                                     source_website\n",
              "0  Albania  ...  https://shendetesia.gov.al/covid19-ministria-e...\n",
              "1  Albania  ...  https://shendetesia.gov.al/covid19-ministria-e...\n",
              "2  Albania  ...  https://shendetesia.gov.al/covid19-ministria-e...\n",
              "3  Albania  ...  https://shendetesia.gov.al/covid19-ministria-e...\n",
              "4  Albania  ...  https://shendetesia.gov.al/covid19-ministria-e...\n",
              "5  Albania  ...  https://shendetesia.gov.al/covid19-ministria-e...\n",
              "6  Albania  ...  https://shendetesia.gov.al/covid19-ministria-e...\n",
              "7  Albania  ...  https://shendetesia.gov.al/covid19-ministria-e...\n",
              "8  Albania  ...  https://shendetesia.gov.al/covid19-ministria-e...\n",
              "9  Albania  ...  https://shendetesia.gov.al/covid19-ministria-e...\n",
              "\n",
              "[10 rows x 15 columns]"
            ]
          },
          "metadata": {
            "tags": []
          },
          "execution_count": 233
        }
      ]
    },
    {
      "cell_type": "code",
      "metadata": {
        "colab": {
          "base_uri": "https://localhost:8080/"
        },
        "id": "dOTeK0JOGiSs",
        "outputId": "cc268cff-0d86-4fd4-f21c-8212b1700de8"
      },
      "source": [
        "data.isnull().sum()"
      ],
      "execution_count": 234,
      "outputs": [
        {
          "output_type": "execute_result",
          "data": {
            "text/plain": [
              "country                                0\n",
              "iso_code                               0\n",
              "date                                   0\n",
              "total_vaccinations                     0\n",
              "people_vaccinated                      0\n",
              "people_fully_vaccinated                0\n",
              "daily_vaccinations_raw                 0\n",
              "daily_vaccinations                     0\n",
              "total_vaccinations_per_hundred         0\n",
              "people_vaccinated_per_hundred          0\n",
              "people_fully_vaccinated_per_hundred    0\n",
              "daily_vaccinations_per_million         0\n",
              "vaccines                               0\n",
              "source_name                            6\n",
              "source_website                         0\n",
              "dtype: int64"
            ]
          },
          "metadata": {
            "tags": []
          },
          "execution_count": 234
        }
      ]
    },
    {
      "cell_type": "code",
      "metadata": {
        "id": "JYCSQKiMGk9e"
      },
      "source": [
        "df2 = data[['country', 'daily_vaccinations']]"
      ],
      "execution_count": 235,
      "outputs": []
    },
    {
      "cell_type": "code",
      "metadata": {
        "id": "EleQyhQhGuNw"
      },
      "source": [
        "df2a = df2.groupby('country').sum().sort_values('daily_vaccinations', ascending = False)"
      ],
      "execution_count": 236,
      "outputs": []
    },
    {
      "cell_type": "code",
      "metadata": {
        "id": "61D3KYUVG_yM"
      },
      "source": [
        "df2a = df2a.reset_index()"
      ],
      "execution_count": 237,
      "outputs": []
    },
    {
      "cell_type": "code",
      "metadata": {
        "colab": {
          "base_uri": "https://localhost:8080/",
          "height": 391
        },
        "id": "g3zoSBnBHFVb",
        "outputId": "44f50e02-4f38-4234-b0a1-b984b470371c"
      },
      "source": [
        "df2a"
      ],
      "execution_count": 238,
      "outputs": [
        {
          "output_type": "execute_result",
          "data": {
            "text/html": [
              "<div>\n",
              "<style scoped>\n",
              "    .dataframe tbody tr th:only-of-type {\n",
              "        vertical-align: middle;\n",
              "    }\n",
              "\n",
              "    .dataframe tbody tr th {\n",
              "        vertical-align: top;\n",
              "    }\n",
              "\n",
              "    .dataframe thead th {\n",
              "        text-align: right;\n",
              "    }\n",
              "</style>\n",
              "<table border=\"1\" class=\"dataframe\">\n",
              "  <thead>\n",
              "    <tr style=\"text-align: right;\">\n",
              "      <th></th>\n",
              "      <th>country</th>\n",
              "      <th>daily_vaccinations</th>\n",
              "    </tr>\n",
              "  </thead>\n",
              "  <tbody>\n",
              "    <tr>\n",
              "      <th>0</th>\n",
              "      <td>United States</td>\n",
              "      <td>81166580.0</td>\n",
              "    </tr>\n",
              "    <tr>\n",
              "      <th>1</th>\n",
              "      <td>China</td>\n",
              "      <td>49866037.0</td>\n",
              "    </tr>\n",
              "    <tr>\n",
              "      <th>2</th>\n",
              "      <td>United Kingdom</td>\n",
              "      <td>21933874.0</td>\n",
              "    </tr>\n",
              "    <tr>\n",
              "      <th>3</th>\n",
              "      <td>India</td>\n",
              "      <td>17591606.0</td>\n",
              "    </tr>\n",
              "    <tr>\n",
              "      <th>4</th>\n",
              "      <td>Turkey</td>\n",
              "      <td>10008038.0</td>\n",
              "    </tr>\n",
              "    <tr>\n",
              "      <th>...</th>\n",
              "      <td>...</td>\n",
              "      <td>...</td>\n",
              "    </tr>\n",
              "    <tr>\n",
              "      <th>116</th>\n",
              "      <td>Trinidad and Tobago</td>\n",
              "      <td>2862.0</td>\n",
              "    </tr>\n",
              "    <tr>\n",
              "      <th>117</th>\n",
              "      <td>Falkland Islands</td>\n",
              "      <td>2358.0</td>\n",
              "    </tr>\n",
              "    <tr>\n",
              "      <th>118</th>\n",
              "      <td>Guyana</td>\n",
              "      <td>2131.0</td>\n",
              "    </tr>\n",
              "    <tr>\n",
              "      <th>119</th>\n",
              "      <td>Montserrat</td>\n",
              "      <td>782.0</td>\n",
              "    </tr>\n",
              "    <tr>\n",
              "      <th>120</th>\n",
              "      <td>Honduras</td>\n",
              "      <td>169.0</td>\n",
              "    </tr>\n",
              "  </tbody>\n",
              "</table>\n",
              "<p>121 rows × 2 columns</p>\n",
              "</div>"
            ],
            "text/plain": [
              "                 country  daily_vaccinations\n",
              "0          United States          81166580.0\n",
              "1                  China          49866037.0\n",
              "2         United Kingdom          21933874.0\n",
              "3                  India          17591606.0\n",
              "4                 Turkey          10008038.0\n",
              "..                   ...                 ...\n",
              "116  Trinidad and Tobago              2862.0\n",
              "117     Falkland Islands              2358.0\n",
              "118               Guyana              2131.0\n",
              "119           Montserrat               782.0\n",
              "120             Honduras               169.0\n",
              "\n",
              "[121 rows x 2 columns]"
            ]
          },
          "metadata": {
            "tags": []
          },
          "execution_count": 238
        }
      ]
    },
    {
      "cell_type": "code",
      "metadata": {
        "colab": {
          "base_uri": "https://localhost:8080/",
          "height": 542
        },
        "id": "Vw_dlI6SHI1T",
        "outputId": "9ec307c4-11dd-450e-f916-540fc266f1c9"
      },
      "source": [
        "fig = px.bar(df2a.head(10), y = 'daily_vaccinations', color ='daily_vaccinations', x = 'country', title = 'Country vs Total Daily Vaccinations')\n",
        "fig.show()"
      ],
      "execution_count": 239,
      "outputs": [
        {
          "output_type": "display_data",
          "data": {
            "text/html": [
              "<html>\n",
              "<head><meta charset=\"utf-8\" /></head>\n",
              "<body>\n",
              "    <div>\n",
              "            <script src=\"https://cdnjs.cloudflare.com/ajax/libs/mathjax/2.7.5/MathJax.js?config=TeX-AMS-MML_SVG\"></script><script type=\"text/javascript\">if (window.MathJax) {MathJax.Hub.Config({SVG: {font: \"STIX-Web\"}});}</script>\n",
              "                <script type=\"text/javascript\">window.PlotlyConfig = {MathJaxConfig: 'local'};</script>\n",
              "        <script src=\"https://cdn.plot.ly/plotly-latest.min.js\"></script>    \n",
              "            <div id=\"23234b8b-7157-48d7-a28e-f78b57611b4b\" class=\"plotly-graph-div\" style=\"height:525px; width:100%;\"></div>\n",
              "            <script type=\"text/javascript\">\n",
              "                \n",
              "                    window.PLOTLYENV=window.PLOTLYENV || {};\n",
              "                    \n",
              "                if (document.getElementById(\"23234b8b-7157-48d7-a28e-f78b57611b4b\")) {\n",
              "                    Plotly.newPlot(\n",
              "                        '23234b8b-7157-48d7-a28e-f78b57611b4b',\n",
              "                        [{\"alignmentgroup\": \"True\", \"hoverlabel\": {\"namelength\": 0}, \"hovertemplate\": \"country=%{x}<br>daily_vaccinations=%{marker.color}\", \"legendgroup\": \"\", \"marker\": {\"color\": [81166580.0, 49866037.0, 21933874.0, 17591606.0, 10008038.0, 9389512.0, 8485294.0, 6882661.0, 5734424.0, 5434988.0], \"coloraxis\": \"coloraxis\"}, \"name\": \"\", \"offsetgroup\": \"\", \"orientation\": \"v\", \"showlegend\": false, \"textposition\": \"auto\", \"type\": \"bar\", \"x\": [\"United States\", \"China\", \"United Kingdom\", \"India\", \"Turkey\", \"Brazil\", \"Israel\", \"Germany\", \"Russia\", \"United Arab Emirates\"], \"xaxis\": \"x\", \"y\": [81166580.0, 49866037.0, 21933874.0, 17591606.0, 10008038.0, 9389512.0, 8485294.0, 6882661.0, 5734424.0, 5434988.0], \"yaxis\": \"y\"}],\n",
              "                        {\"barmode\": \"relative\", \"coloraxis\": {\"colorbar\": {\"title\": {\"text\": \"daily_vaccinations\"}}, \"colorscale\": [[0.0, \"#0d0887\"], [0.1111111111111111, \"#46039f\"], [0.2222222222222222, \"#7201a8\"], [0.3333333333333333, \"#9c179e\"], [0.4444444444444444, \"#bd3786\"], [0.5555555555555556, \"#d8576b\"], [0.6666666666666666, \"#ed7953\"], [0.7777777777777778, \"#fb9f3a\"], [0.8888888888888888, \"#fdca26\"], [1.0, \"#f0f921\"]]}, \"legend\": {\"tracegroupgap\": 0}, \"template\": {\"data\": {\"bar\": [{\"error_x\": {\"color\": \"#2a3f5f\"}, \"error_y\": {\"color\": \"#2a3f5f\"}, \"marker\": {\"line\": {\"color\": \"#E5ECF6\", \"width\": 0.5}}, \"type\": \"bar\"}], \"barpolar\": [{\"marker\": {\"line\": {\"color\": \"#E5ECF6\", \"width\": 0.5}}, \"type\": \"barpolar\"}], \"carpet\": [{\"aaxis\": {\"endlinecolor\": \"#2a3f5f\", \"gridcolor\": \"white\", \"linecolor\": \"white\", \"minorgridcolor\": \"white\", \"startlinecolor\": \"#2a3f5f\"}, \"baxis\": {\"endlinecolor\": \"#2a3f5f\", \"gridcolor\": \"white\", \"linecolor\": \"white\", \"minorgridcolor\": \"white\", \"startlinecolor\": \"#2a3f5f\"}, \"type\": \"carpet\"}], \"choropleth\": [{\"colorbar\": {\"outlinewidth\": 0, \"ticks\": \"\"}, \"type\": \"choropleth\"}], \"contour\": [{\"colorbar\": {\"outlinewidth\": 0, \"ticks\": \"\"}, \"colorscale\": [[0.0, \"#0d0887\"], [0.1111111111111111, \"#46039f\"], [0.2222222222222222, \"#7201a8\"], [0.3333333333333333, \"#9c179e\"], [0.4444444444444444, \"#bd3786\"], [0.5555555555555556, \"#d8576b\"], [0.6666666666666666, \"#ed7953\"], [0.7777777777777778, \"#fb9f3a\"], [0.8888888888888888, \"#fdca26\"], [1.0, \"#f0f921\"]], \"type\": \"contour\"}], \"contourcarpet\": [{\"colorbar\": {\"outlinewidth\": 0, \"ticks\": \"\"}, \"type\": \"contourcarpet\"}], \"heatmap\": [{\"colorbar\": {\"outlinewidth\": 0, \"ticks\": \"\"}, \"colorscale\": [[0.0, \"#0d0887\"], [0.1111111111111111, \"#46039f\"], [0.2222222222222222, \"#7201a8\"], [0.3333333333333333, \"#9c179e\"], [0.4444444444444444, \"#bd3786\"], [0.5555555555555556, \"#d8576b\"], [0.6666666666666666, \"#ed7953\"], [0.7777777777777778, \"#fb9f3a\"], [0.8888888888888888, \"#fdca26\"], [1.0, \"#f0f921\"]], \"type\": \"heatmap\"}], \"heatmapgl\": [{\"colorbar\": {\"outlinewidth\": 0, \"ticks\": \"\"}, \"colorscale\": [[0.0, \"#0d0887\"], [0.1111111111111111, \"#46039f\"], [0.2222222222222222, \"#7201a8\"], [0.3333333333333333, \"#9c179e\"], [0.4444444444444444, \"#bd3786\"], [0.5555555555555556, \"#d8576b\"], [0.6666666666666666, \"#ed7953\"], [0.7777777777777778, \"#fb9f3a\"], [0.8888888888888888, \"#fdca26\"], [1.0, \"#f0f921\"]], \"type\": \"heatmapgl\"}], \"histogram\": [{\"marker\": {\"colorbar\": {\"outlinewidth\": 0, \"ticks\": \"\"}}, \"type\": \"histogram\"}], \"histogram2d\": [{\"colorbar\": {\"outlinewidth\": 0, \"ticks\": \"\"}, \"colorscale\": [[0.0, \"#0d0887\"], [0.1111111111111111, \"#46039f\"], [0.2222222222222222, \"#7201a8\"], [0.3333333333333333, \"#9c179e\"], [0.4444444444444444, \"#bd3786\"], [0.5555555555555556, \"#d8576b\"], [0.6666666666666666, \"#ed7953\"], [0.7777777777777778, \"#fb9f3a\"], [0.8888888888888888, \"#fdca26\"], [1.0, \"#f0f921\"]], \"type\": \"histogram2d\"}], \"histogram2dcontour\": [{\"colorbar\": {\"outlinewidth\": 0, \"ticks\": \"\"}, \"colorscale\": [[0.0, \"#0d0887\"], [0.1111111111111111, \"#46039f\"], [0.2222222222222222, \"#7201a8\"], [0.3333333333333333, \"#9c179e\"], [0.4444444444444444, \"#bd3786\"], [0.5555555555555556, \"#d8576b\"], [0.6666666666666666, \"#ed7953\"], [0.7777777777777778, \"#fb9f3a\"], [0.8888888888888888, \"#fdca26\"], [1.0, \"#f0f921\"]], \"type\": \"histogram2dcontour\"}], \"mesh3d\": [{\"colorbar\": {\"outlinewidth\": 0, \"ticks\": \"\"}, \"type\": \"mesh3d\"}], \"parcoords\": [{\"line\": {\"colorbar\": {\"outlinewidth\": 0, \"ticks\": \"\"}}, \"type\": \"parcoords\"}], \"pie\": [{\"automargin\": true, \"type\": \"pie\"}], \"scatter\": [{\"marker\": {\"colorbar\": {\"outlinewidth\": 0, \"ticks\": \"\"}}, \"type\": \"scatter\"}], \"scatter3d\": [{\"line\": {\"colorbar\": {\"outlinewidth\": 0, \"ticks\": \"\"}}, \"marker\": {\"colorbar\": {\"outlinewidth\": 0, \"ticks\": \"\"}}, \"type\": \"scatter3d\"}], \"scattercarpet\": [{\"marker\": {\"colorbar\": {\"outlinewidth\": 0, \"ticks\": \"\"}}, \"type\": \"scattercarpet\"}], \"scattergeo\": [{\"marker\": {\"colorbar\": {\"outlinewidth\": 0, \"ticks\": \"\"}}, \"type\": \"scattergeo\"}], \"scattergl\": [{\"marker\": {\"colorbar\": {\"outlinewidth\": 0, \"ticks\": \"\"}}, \"type\": \"scattergl\"}], \"scattermapbox\": [{\"marker\": {\"colorbar\": {\"outlinewidth\": 0, \"ticks\": \"\"}}, \"type\": \"scattermapbox\"}], \"scatterpolar\": [{\"marker\": {\"colorbar\": {\"outlinewidth\": 0, \"ticks\": \"\"}}, \"type\": \"scatterpolar\"}], \"scatterpolargl\": [{\"marker\": {\"colorbar\": {\"outlinewidth\": 0, \"ticks\": \"\"}}, \"type\": \"scatterpolargl\"}], \"scatterternary\": [{\"marker\": {\"colorbar\": {\"outlinewidth\": 0, \"ticks\": \"\"}}, \"type\": \"scatterternary\"}], \"surface\": [{\"colorbar\": {\"outlinewidth\": 0, \"ticks\": \"\"}, \"colorscale\": [[0.0, \"#0d0887\"], [0.1111111111111111, \"#46039f\"], [0.2222222222222222, \"#7201a8\"], [0.3333333333333333, \"#9c179e\"], [0.4444444444444444, \"#bd3786\"], [0.5555555555555556, \"#d8576b\"], [0.6666666666666666, \"#ed7953\"], [0.7777777777777778, \"#fb9f3a\"], [0.8888888888888888, \"#fdca26\"], [1.0, \"#f0f921\"]], \"type\": \"surface\"}], \"table\": [{\"cells\": {\"fill\": {\"color\": \"#EBF0F8\"}, \"line\": {\"color\": \"white\"}}, \"header\": {\"fill\": {\"color\": \"#C8D4E3\"}, \"line\": {\"color\": \"white\"}}, \"type\": \"table\"}]}, \"layout\": {\"annotationdefaults\": {\"arrowcolor\": \"#2a3f5f\", \"arrowhead\": 0, \"arrowwidth\": 1}, \"coloraxis\": {\"colorbar\": {\"outlinewidth\": 0, \"ticks\": \"\"}}, \"colorscale\": {\"diverging\": [[0, \"#8e0152\"], [0.1, \"#c51b7d\"], [0.2, \"#de77ae\"], [0.3, \"#f1b6da\"], [0.4, \"#fde0ef\"], [0.5, \"#f7f7f7\"], [0.6, \"#e6f5d0\"], [0.7, \"#b8e186\"], [0.8, \"#7fbc41\"], [0.9, \"#4d9221\"], [1, \"#276419\"]], \"sequential\": [[0.0, \"#0d0887\"], [0.1111111111111111, \"#46039f\"], [0.2222222222222222, \"#7201a8\"], [0.3333333333333333, \"#9c179e\"], [0.4444444444444444, \"#bd3786\"], [0.5555555555555556, \"#d8576b\"], [0.6666666666666666, \"#ed7953\"], [0.7777777777777778, \"#fb9f3a\"], [0.8888888888888888, \"#fdca26\"], [1.0, \"#f0f921\"]], \"sequentialminus\": [[0.0, \"#0d0887\"], [0.1111111111111111, \"#46039f\"], [0.2222222222222222, \"#7201a8\"], [0.3333333333333333, \"#9c179e\"], [0.4444444444444444, \"#bd3786\"], [0.5555555555555556, \"#d8576b\"], [0.6666666666666666, \"#ed7953\"], [0.7777777777777778, \"#fb9f3a\"], [0.8888888888888888, \"#fdca26\"], [1.0, \"#f0f921\"]]}, \"colorway\": [\"#636efa\", \"#EF553B\", \"#00cc96\", \"#ab63fa\", \"#FFA15A\", \"#19d3f3\", \"#FF6692\", \"#B6E880\", \"#FF97FF\", \"#FECB52\"], \"font\": {\"color\": \"#2a3f5f\"}, \"geo\": {\"bgcolor\": \"white\", \"lakecolor\": \"white\", \"landcolor\": \"#E5ECF6\", \"showlakes\": true, \"showland\": true, \"subunitcolor\": \"white\"}, \"hoverlabel\": {\"align\": \"left\"}, \"hovermode\": \"closest\", \"mapbox\": {\"style\": \"light\"}, \"paper_bgcolor\": \"white\", \"plot_bgcolor\": \"#E5ECF6\", \"polar\": {\"angularaxis\": {\"gridcolor\": \"white\", \"linecolor\": \"white\", \"ticks\": \"\"}, \"bgcolor\": \"#E5ECF6\", \"radialaxis\": {\"gridcolor\": \"white\", \"linecolor\": \"white\", \"ticks\": \"\"}}, \"scene\": {\"xaxis\": {\"backgroundcolor\": \"#E5ECF6\", \"gridcolor\": \"white\", \"gridwidth\": 2, \"linecolor\": \"white\", \"showbackground\": true, \"ticks\": \"\", \"zerolinecolor\": \"white\"}, \"yaxis\": {\"backgroundcolor\": \"#E5ECF6\", \"gridcolor\": \"white\", \"gridwidth\": 2, \"linecolor\": \"white\", \"showbackground\": true, \"ticks\": \"\", \"zerolinecolor\": \"white\"}, \"zaxis\": {\"backgroundcolor\": \"#E5ECF6\", \"gridcolor\": \"white\", \"gridwidth\": 2, \"linecolor\": \"white\", \"showbackground\": true, \"ticks\": \"\", \"zerolinecolor\": \"white\"}}, \"shapedefaults\": {\"line\": {\"color\": \"#2a3f5f\"}}, \"ternary\": {\"aaxis\": {\"gridcolor\": \"white\", \"linecolor\": \"white\", \"ticks\": \"\"}, \"baxis\": {\"gridcolor\": \"white\", \"linecolor\": \"white\", \"ticks\": \"\"}, \"bgcolor\": \"#E5ECF6\", \"caxis\": {\"gridcolor\": \"white\", \"linecolor\": \"white\", \"ticks\": \"\"}}, \"title\": {\"x\": 0.05}, \"xaxis\": {\"automargin\": true, \"gridcolor\": \"white\", \"linecolor\": \"white\", \"ticks\": \"\", \"title\": {\"standoff\": 15}, \"zerolinecolor\": \"white\", \"zerolinewidth\": 2}, \"yaxis\": {\"automargin\": true, \"gridcolor\": \"white\", \"linecolor\": \"white\", \"ticks\": \"\", \"title\": {\"standoff\": 15}, \"zerolinecolor\": \"white\", \"zerolinewidth\": 2}}}, \"title\": {\"text\": \"Country vs Total Daily Vaccinations\"}, \"xaxis\": {\"anchor\": \"y\", \"domain\": [0.0, 1.0], \"title\": {\"text\": \"country\"}}, \"yaxis\": {\"anchor\": \"x\", \"domain\": [0.0, 1.0], \"title\": {\"text\": \"daily_vaccinations\"}}},\n",
              "                        {\"responsive\": true}\n",
              "                    ).then(function(){\n",
              "                            \n",
              "var gd = document.getElementById('23234b8b-7157-48d7-a28e-f78b57611b4b');\n",
              "var x = new MutationObserver(function (mutations, observer) {{\n",
              "        var display = window.getComputedStyle(gd).display;\n",
              "        if (!display || display === 'none') {{\n",
              "            console.log([gd, 'removed!']);\n",
              "            Plotly.purge(gd);\n",
              "            observer.disconnect();\n",
              "        }}\n",
              "}});\n",
              "\n",
              "// Listen for the removal of the full notebook cells\n",
              "var notebookContainer = gd.closest('#notebook-container');\n",
              "if (notebookContainer) {{\n",
              "    x.observe(notebookContainer, {childList: true});\n",
              "}}\n",
              "\n",
              "// Listen for the clearing of the current output cell\n",
              "var outputEl = gd.closest('.output');\n",
              "if (outputEl) {{\n",
              "    x.observe(outputEl, {childList: true});\n",
              "}}\n",
              "\n",
              "                        })\n",
              "                };\n",
              "                \n",
              "            </script>\n",
              "        </div>\n",
              "</body>\n",
              "</html>"
            ]
          },
          "metadata": {
            "tags": []
          }
        }
      ]
    },
    {
      "cell_type": "code",
      "metadata": {
        "colab": {
          "base_uri": "https://localhost:8080/",
          "height": 542
        },
        "id": "lrsm0LqEHuDd",
        "outputId": "218d4a62-ef01-4f1e-a42f-aa52a74054c0"
      },
      "source": [
        "import plotly.graph_objects as go\n",
        "fig = go.Figure(data=go.Choropleth(\n",
        "    locationmode = \"country names\",\n",
        "    locations = df2a['country'],\n",
        "    z = df2a['daily_vaccinations'],\n",
        "    text = df2a['daily_vaccinations'],\n",
        "   # colorscale=colors,\n",
        "    autocolorscale=True,\n",
        "    reversescale=False,\n",
        "    colorbar_title = 'Total of daily vaccinations',\n",
        "))\n",
        "\n",
        "fig.update_layout(\n",
        "    title_text='Total of daily vaccinations by each country',\n",
        "    geo=dict(\n",
        "        showcoastlines=True,\n",
        "    ),\n",
        ")"
      ],
      "execution_count": 240,
      "outputs": [
        {
          "output_type": "display_data",
          "data": {
            "text/html": [
              "<html>\n",
              "<head><meta charset=\"utf-8\" /></head>\n",
              "<body>\n",
              "    <div>\n",
              "            <script src=\"https://cdnjs.cloudflare.com/ajax/libs/mathjax/2.7.5/MathJax.js?config=TeX-AMS-MML_SVG\"></script><script type=\"text/javascript\">if (window.MathJax) {MathJax.Hub.Config({SVG: {font: \"STIX-Web\"}});}</script>\n",
              "                <script type=\"text/javascript\">window.PlotlyConfig = {MathJaxConfig: 'local'};</script>\n",
              "        <script src=\"https://cdn.plot.ly/plotly-latest.min.js\"></script>    \n",
              "            <div id=\"9b70f95c-c34f-43fd-9691-6e8faeac9de7\" class=\"plotly-graph-div\" style=\"height:525px; width:100%;\"></div>\n",
              "            <script type=\"text/javascript\">\n",
              "                \n",
              "                    window.PLOTLYENV=window.PLOTLYENV || {};\n",
              "                    \n",
              "                if (document.getElementById(\"9b70f95c-c34f-43fd-9691-6e8faeac9de7\")) {\n",
              "                    Plotly.newPlot(\n",
              "                        '9b70f95c-c34f-43fd-9691-6e8faeac9de7',\n",
              "                        [{\"autocolorscale\": true, \"colorbar\": {\"title\": {\"text\": \"Total of daily vaccinations\"}}, \"locationmode\": \"country names\", \"locations\": [\"United States\", \"China\", \"United Kingdom\", \"India\", \"Turkey\", \"Brazil\", \"Israel\", \"Germany\", \"Russia\", \"United Arab Emirates\", \"France\", \"Italy\", \"Morocco\", \"Spain\", \"Indonesia\", \"Chile\", \"Poland\", \"Bangladesh\", \"Mexico\", \"Uruguay\", \"Canada\", \"Romania\", \"Serbia\", \"Argentina\", \"Netherlands\", \"Hungary\", \"Portugal\", \"Greece\", \"Saudi Arabia\", \"Belgium\", \"Sweden\", \"Colombia\", \"Sri Lanka\", \"Czechia\", \"Austria\", \"Denmark\", \"Switzerland\", \"Bulgaria\", \"Singapore\", \"Norway\", \"Slovakia\", \"Australia\", \"Finland\", \"Bahrain\", \"Ireland\", \"Nepal\", \"Estonia\", \"Azerbaijan\", \"Rwanda\", \"Lithuania\", \"Gibraltar\", \"Croatia\", \"South Korea\", \"Myanmar\", \"Dominican Republic\", \"Turks and Caicos Islands\", \"Japan\", \"Slovenia\", \"Costa Rica\", \"Latvia\", \"Iran\", \"Qatar\", \"Kuwait\", \"Panama\", \"Maldives\", \"Barbados\", \"Seychelles\", \"Jordan\", \"Ecuador\", \"Cyprus\", \"Cayman Islands\", \"Senegal\", \"Malta\", \"Iceland\", \"Oman\", \"Pakistan\", \"Algeria\", \"South Africa\", \"Malaysia\", \"Lebanon\", \"Monaco\", \"Cambodia\", \"New Zealand\", \"Zimbabwe\", \"Luxembourg\", \"Kazakhstan\", \"Hong Kong\", \"Bolivia\", \"Isle of Man\", \"Greenland\", \"Jersey\", \"Belarus\", \"Bermuda\", \"Thailand\", \"Venezuela\", \"Peru\", \"Belize\", \"Guernsey\", \"San Marino\", \"Saint Helena\", \"Ukraine\", \"Albania\", \"Paraguay\", \"El Salvador\", \"Philippines\", \"Northern Cyprus\", \"Faeroe Islands\", \"Egypt\", \"Andorra\", \"Mauritius\", \"Liechtenstein\", \"Mongolia\", \"Anguilla\", \"Macao\", \"Montenegro\", \"Guatemala\", \"Trinidad and Tobago\", \"Falkland Islands\", \"Guyana\", \"Montserrat\", \"Honduras\"], \"reversescale\": false, \"text\": [81166580.0, 49866037.0, 21933874.0, 17591606.0, 10008038.0, 9389512.0, 8485294.0, 6882661.0, 5734424.0, 5434988.0, 4926287.0, 4901221.0, 4232802.0, 4095325.0, 4068474.0, 4012122.0, 3669335.0, 3242087.0, 2626893.0, 2224804.0, 2111748.0, 1619604.0, 1544117.0, 1176629.0, 1166335.0, 1103908.0, 1024199.0, 994912.0, 928139.0, 873936.0, 850167.0, 839293.0, 773974.0, 752126.0, 735629.0, 685218.0, 668844.0, 577655.0, 532863.0, 529583.0, 512146.0, 506029.0, 498459.0, 476731.0, 455347.0, 427876.0, 406535.0, 320776.0, 302876.0, 273526.0, 235722.0, 221864.0, 214397.0, 210631.0, 204009.0, 201985.0, 193328.0, 193189.0, 185265.0, 181344.0, 167485.0, 156067.0, 155508.0, 152741.0, 147425.0, 147355.0, 113084.0, 107217.0, 97603.0, 94328.0, 93259.0, 85633.0, 82544.0, 82536.0, 80411.0, 70151.0, 70041.0, 60003.0, 59511.0, 57875.0, 57022.0, 55861.0, 49965.0, 48908.0, 46855.0, 35240.0, 35120.0, 32933.0, 31993.0, 30771.0, 24364.0, 23407.0, 22317.0, 21958.0, 20377.0, 20037.0, 17858.0, 16927.0, 16764.0, 15552.0, 13614.0, 13411.0, 12455.0, 11699.0, 10560.0, 10050.0, 7866.0, 6972.0, 5719.0, 5629.0, 5473.0, 5054.0, 4138.0, 3856.0, 3664.0, 3647.0, 2862.0, 2358.0, 2131.0, 782.0, 169.0], \"type\": \"choropleth\", \"z\": [81166580.0, 49866037.0, 21933874.0, 17591606.0, 10008038.0, 9389512.0, 8485294.0, 6882661.0, 5734424.0, 5434988.0, 4926287.0, 4901221.0, 4232802.0, 4095325.0, 4068474.0, 4012122.0, 3669335.0, 3242087.0, 2626893.0, 2224804.0, 2111748.0, 1619604.0, 1544117.0, 1176629.0, 1166335.0, 1103908.0, 1024199.0, 994912.0, 928139.0, 873936.0, 850167.0, 839293.0, 773974.0, 752126.0, 735629.0, 685218.0, 668844.0, 577655.0, 532863.0, 529583.0, 512146.0, 506029.0, 498459.0, 476731.0, 455347.0, 427876.0, 406535.0, 320776.0, 302876.0, 273526.0, 235722.0, 221864.0, 214397.0, 210631.0, 204009.0, 201985.0, 193328.0, 193189.0, 185265.0, 181344.0, 167485.0, 156067.0, 155508.0, 152741.0, 147425.0, 147355.0, 113084.0, 107217.0, 97603.0, 94328.0, 93259.0, 85633.0, 82544.0, 82536.0, 80411.0, 70151.0, 70041.0, 60003.0, 59511.0, 57875.0, 57022.0, 55861.0, 49965.0, 48908.0, 46855.0, 35240.0, 35120.0, 32933.0, 31993.0, 30771.0, 24364.0, 23407.0, 22317.0, 21958.0, 20377.0, 20037.0, 17858.0, 16927.0, 16764.0, 15552.0, 13614.0, 13411.0, 12455.0, 11699.0, 10560.0, 10050.0, 7866.0, 6972.0, 5719.0, 5629.0, 5473.0, 5054.0, 4138.0, 3856.0, 3664.0, 3647.0, 2862.0, 2358.0, 2131.0, 782.0, 169.0]}],\n",
              "                        {\"geo\": {\"showcoastlines\": true}, \"template\": {\"data\": {\"bar\": [{\"error_x\": {\"color\": \"#2a3f5f\"}, \"error_y\": {\"color\": \"#2a3f5f\"}, \"marker\": {\"line\": {\"color\": \"#E5ECF6\", \"width\": 0.5}}, \"type\": \"bar\"}], \"barpolar\": [{\"marker\": {\"line\": {\"color\": \"#E5ECF6\", \"width\": 0.5}}, \"type\": \"barpolar\"}], \"carpet\": [{\"aaxis\": {\"endlinecolor\": \"#2a3f5f\", \"gridcolor\": \"white\", \"linecolor\": \"white\", \"minorgridcolor\": \"white\", \"startlinecolor\": \"#2a3f5f\"}, \"baxis\": {\"endlinecolor\": \"#2a3f5f\", \"gridcolor\": \"white\", \"linecolor\": \"white\", \"minorgridcolor\": \"white\", \"startlinecolor\": \"#2a3f5f\"}, \"type\": \"carpet\"}], \"choropleth\": [{\"colorbar\": {\"outlinewidth\": 0, \"ticks\": \"\"}, \"type\": \"choropleth\"}], \"contour\": [{\"colorbar\": {\"outlinewidth\": 0, \"ticks\": \"\"}, \"colorscale\": [[0.0, \"#0d0887\"], [0.1111111111111111, \"#46039f\"], [0.2222222222222222, \"#7201a8\"], [0.3333333333333333, \"#9c179e\"], [0.4444444444444444, \"#bd3786\"], [0.5555555555555556, \"#d8576b\"], [0.6666666666666666, \"#ed7953\"], [0.7777777777777778, \"#fb9f3a\"], [0.8888888888888888, \"#fdca26\"], [1.0, \"#f0f921\"]], \"type\": \"contour\"}], \"contourcarpet\": [{\"colorbar\": {\"outlinewidth\": 0, \"ticks\": \"\"}, \"type\": \"contourcarpet\"}], \"heatmap\": [{\"colorbar\": {\"outlinewidth\": 0, \"ticks\": \"\"}, \"colorscale\": [[0.0, \"#0d0887\"], [0.1111111111111111, \"#46039f\"], [0.2222222222222222, \"#7201a8\"], [0.3333333333333333, \"#9c179e\"], [0.4444444444444444, \"#bd3786\"], [0.5555555555555556, \"#d8576b\"], [0.6666666666666666, \"#ed7953\"], [0.7777777777777778, \"#fb9f3a\"], [0.8888888888888888, \"#fdca26\"], [1.0, \"#f0f921\"]], \"type\": \"heatmap\"}], \"heatmapgl\": [{\"colorbar\": {\"outlinewidth\": 0, \"ticks\": \"\"}, \"colorscale\": [[0.0, \"#0d0887\"], [0.1111111111111111, \"#46039f\"], [0.2222222222222222, \"#7201a8\"], [0.3333333333333333, \"#9c179e\"], [0.4444444444444444, \"#bd3786\"], [0.5555555555555556, \"#d8576b\"], [0.6666666666666666, \"#ed7953\"], [0.7777777777777778, \"#fb9f3a\"], [0.8888888888888888, \"#fdca26\"], [1.0, \"#f0f921\"]], \"type\": \"heatmapgl\"}], \"histogram\": [{\"marker\": {\"colorbar\": {\"outlinewidth\": 0, \"ticks\": \"\"}}, \"type\": \"histogram\"}], \"histogram2d\": [{\"colorbar\": {\"outlinewidth\": 0, \"ticks\": \"\"}, \"colorscale\": [[0.0, \"#0d0887\"], [0.1111111111111111, \"#46039f\"], [0.2222222222222222, \"#7201a8\"], [0.3333333333333333, \"#9c179e\"], [0.4444444444444444, \"#bd3786\"], [0.5555555555555556, \"#d8576b\"], [0.6666666666666666, \"#ed7953\"], [0.7777777777777778, \"#fb9f3a\"], [0.8888888888888888, \"#fdca26\"], [1.0, \"#f0f921\"]], \"type\": \"histogram2d\"}], \"histogram2dcontour\": [{\"colorbar\": {\"outlinewidth\": 0, \"ticks\": \"\"}, \"colorscale\": [[0.0, \"#0d0887\"], [0.1111111111111111, \"#46039f\"], [0.2222222222222222, \"#7201a8\"], [0.3333333333333333, \"#9c179e\"], [0.4444444444444444, \"#bd3786\"], [0.5555555555555556, \"#d8576b\"], [0.6666666666666666, \"#ed7953\"], [0.7777777777777778, \"#fb9f3a\"], [0.8888888888888888, \"#fdca26\"], [1.0, \"#f0f921\"]], \"type\": \"histogram2dcontour\"}], \"mesh3d\": [{\"colorbar\": {\"outlinewidth\": 0, \"ticks\": \"\"}, \"type\": \"mesh3d\"}], \"parcoords\": [{\"line\": {\"colorbar\": {\"outlinewidth\": 0, \"ticks\": \"\"}}, \"type\": \"parcoords\"}], \"pie\": [{\"automargin\": true, \"type\": \"pie\"}], \"scatter\": [{\"marker\": {\"colorbar\": {\"outlinewidth\": 0, \"ticks\": \"\"}}, \"type\": \"scatter\"}], \"scatter3d\": [{\"line\": {\"colorbar\": {\"outlinewidth\": 0, \"ticks\": \"\"}}, \"marker\": {\"colorbar\": {\"outlinewidth\": 0, \"ticks\": \"\"}}, \"type\": \"scatter3d\"}], \"scattercarpet\": [{\"marker\": {\"colorbar\": {\"outlinewidth\": 0, \"ticks\": \"\"}}, \"type\": \"scattercarpet\"}], \"scattergeo\": [{\"marker\": {\"colorbar\": {\"outlinewidth\": 0, \"ticks\": \"\"}}, \"type\": \"scattergeo\"}], \"scattergl\": [{\"marker\": {\"colorbar\": {\"outlinewidth\": 0, \"ticks\": \"\"}}, \"type\": \"scattergl\"}], \"scattermapbox\": [{\"marker\": {\"colorbar\": {\"outlinewidth\": 0, \"ticks\": \"\"}}, \"type\": \"scattermapbox\"}], \"scatterpolar\": [{\"marker\": {\"colorbar\": {\"outlinewidth\": 0, \"ticks\": \"\"}}, \"type\": \"scatterpolar\"}], \"scatterpolargl\": [{\"marker\": {\"colorbar\": {\"outlinewidth\": 0, \"ticks\": \"\"}}, \"type\": \"scatterpolargl\"}], \"scatterternary\": [{\"marker\": {\"colorbar\": {\"outlinewidth\": 0, \"ticks\": \"\"}}, \"type\": \"scatterternary\"}], \"surface\": [{\"colorbar\": {\"outlinewidth\": 0, \"ticks\": \"\"}, \"colorscale\": [[0.0, \"#0d0887\"], [0.1111111111111111, \"#46039f\"], [0.2222222222222222, \"#7201a8\"], [0.3333333333333333, \"#9c179e\"], [0.4444444444444444, \"#bd3786\"], [0.5555555555555556, \"#d8576b\"], [0.6666666666666666, \"#ed7953\"], [0.7777777777777778, \"#fb9f3a\"], [0.8888888888888888, \"#fdca26\"], [1.0, \"#f0f921\"]], \"type\": \"surface\"}], \"table\": [{\"cells\": {\"fill\": {\"color\": \"#EBF0F8\"}, \"line\": {\"color\": \"white\"}}, \"header\": {\"fill\": {\"color\": \"#C8D4E3\"}, \"line\": {\"color\": \"white\"}}, \"type\": \"table\"}]}, \"layout\": {\"annotationdefaults\": {\"arrowcolor\": \"#2a3f5f\", \"arrowhead\": 0, \"arrowwidth\": 1}, \"coloraxis\": {\"colorbar\": {\"outlinewidth\": 0, \"ticks\": \"\"}}, \"colorscale\": {\"diverging\": [[0, \"#8e0152\"], [0.1, \"#c51b7d\"], [0.2, \"#de77ae\"], [0.3, \"#f1b6da\"], [0.4, \"#fde0ef\"], [0.5, \"#f7f7f7\"], [0.6, \"#e6f5d0\"], [0.7, \"#b8e186\"], [0.8, \"#7fbc41\"], [0.9, \"#4d9221\"], [1, \"#276419\"]], \"sequential\": [[0.0, \"#0d0887\"], [0.1111111111111111, \"#46039f\"], [0.2222222222222222, \"#7201a8\"], [0.3333333333333333, \"#9c179e\"], [0.4444444444444444, \"#bd3786\"], [0.5555555555555556, \"#d8576b\"], [0.6666666666666666, \"#ed7953\"], [0.7777777777777778, \"#fb9f3a\"], [0.8888888888888888, \"#fdca26\"], [1.0, \"#f0f921\"]], \"sequentialminus\": [[0.0, \"#0d0887\"], [0.1111111111111111, \"#46039f\"], [0.2222222222222222, \"#7201a8\"], [0.3333333333333333, \"#9c179e\"], [0.4444444444444444, \"#bd3786\"], [0.5555555555555556, \"#d8576b\"], [0.6666666666666666, \"#ed7953\"], [0.7777777777777778, \"#fb9f3a\"], [0.8888888888888888, \"#fdca26\"], [1.0, \"#f0f921\"]]}, \"colorway\": [\"#636efa\", \"#EF553B\", \"#00cc96\", \"#ab63fa\", \"#FFA15A\", \"#19d3f3\", \"#FF6692\", \"#B6E880\", \"#FF97FF\", \"#FECB52\"], \"font\": {\"color\": \"#2a3f5f\"}, \"geo\": {\"bgcolor\": \"white\", \"lakecolor\": \"white\", \"landcolor\": \"#E5ECF6\", \"showlakes\": true, \"showland\": true, \"subunitcolor\": \"white\"}, \"hoverlabel\": {\"align\": \"left\"}, \"hovermode\": \"closest\", \"mapbox\": {\"style\": \"light\"}, \"paper_bgcolor\": \"white\", \"plot_bgcolor\": \"#E5ECF6\", \"polar\": {\"angularaxis\": {\"gridcolor\": \"white\", \"linecolor\": \"white\", \"ticks\": \"\"}, \"bgcolor\": \"#E5ECF6\", \"radialaxis\": {\"gridcolor\": \"white\", \"linecolor\": \"white\", \"ticks\": \"\"}}, \"scene\": {\"xaxis\": {\"backgroundcolor\": \"#E5ECF6\", \"gridcolor\": \"white\", \"gridwidth\": 2, \"linecolor\": \"white\", \"showbackground\": true, \"ticks\": \"\", \"zerolinecolor\": \"white\"}, \"yaxis\": {\"backgroundcolor\": \"#E5ECF6\", \"gridcolor\": \"white\", \"gridwidth\": 2, \"linecolor\": \"white\", \"showbackground\": true, \"ticks\": \"\", \"zerolinecolor\": \"white\"}, \"zaxis\": {\"backgroundcolor\": \"#E5ECF6\", \"gridcolor\": \"white\", \"gridwidth\": 2, \"linecolor\": \"white\", \"showbackground\": true, \"ticks\": \"\", \"zerolinecolor\": \"white\"}}, \"shapedefaults\": {\"line\": {\"color\": \"#2a3f5f\"}}, \"ternary\": {\"aaxis\": {\"gridcolor\": \"white\", \"linecolor\": \"white\", \"ticks\": \"\"}, \"baxis\": {\"gridcolor\": \"white\", \"linecolor\": \"white\", \"ticks\": \"\"}, \"bgcolor\": \"#E5ECF6\", \"caxis\": {\"gridcolor\": \"white\", \"linecolor\": \"white\", \"ticks\": \"\"}}, \"title\": {\"x\": 0.05}, \"xaxis\": {\"automargin\": true, \"gridcolor\": \"white\", \"linecolor\": \"white\", \"ticks\": \"\", \"title\": {\"standoff\": 15}, \"zerolinecolor\": \"white\", \"zerolinewidth\": 2}, \"yaxis\": {\"automargin\": true, \"gridcolor\": \"white\", \"linecolor\": \"white\", \"ticks\": \"\", \"title\": {\"standoff\": 15}, \"zerolinecolor\": \"white\", \"zerolinewidth\": 2}}}, \"title\": {\"text\": \"Total of daily vaccinations by each country\"}},\n",
              "                        {\"responsive\": true}\n",
              "                    ).then(function(){\n",
              "                            \n",
              "var gd = document.getElementById('9b70f95c-c34f-43fd-9691-6e8faeac9de7');\n",
              "var x = new MutationObserver(function (mutations, observer) {{\n",
              "        var display = window.getComputedStyle(gd).display;\n",
              "        if (!display || display === 'none') {{\n",
              "            console.log([gd, 'removed!']);\n",
              "            Plotly.purge(gd);\n",
              "            observer.disconnect();\n",
              "        }}\n",
              "}});\n",
              "\n",
              "// Listen for the removal of the full notebook cells\n",
              "var notebookContainer = gd.closest('#notebook-container');\n",
              "if (notebookContainer) {{\n",
              "    x.observe(notebookContainer, {childList: true});\n",
              "}}\n",
              "\n",
              "// Listen for the clearing of the current output cell\n",
              "var outputEl = gd.closest('.output');\n",
              "if (outputEl) {{\n",
              "    x.observe(outputEl, {childList: true});\n",
              "}}\n",
              "\n",
              "                        })\n",
              "                };\n",
              "                \n",
              "            </script>\n",
              "        </div>\n",
              "</body>\n",
              "</html>"
            ]
          },
          "metadata": {
            "tags": []
          }
        }
      ]
    },
    {
      "cell_type": "code",
      "metadata": {
        "colab": {
          "base_uri": "https://localhost:8080/"
        },
        "id": "UyEHRsWjJRor",
        "outputId": "a0a83755-ec43-4cba-e713-5f6d9bdfe1cf"
      },
      "source": [
        "!pip install requests"
      ],
      "execution_count": 241,
      "outputs": [
        {
          "output_type": "stream",
          "text": [
            "Requirement already satisfied: requests in /usr/local/lib/python3.7/dist-packages (2.23.0)\n",
            "Requirement already satisfied: certifi>=2017.4.17 in /usr/local/lib/python3.7/dist-packages (from requests) (2020.12.5)\n",
            "Requirement already satisfied: chardet<4,>=3.0.2 in /usr/local/lib/python3.7/dist-packages (from requests) (3.0.4)\n",
            "Requirement already satisfied: urllib3!=1.25.0,!=1.25.1,<1.26,>=1.21.1 in /usr/local/lib/python3.7/dist-packages (from requests) (1.24.3)\n",
            "Requirement already satisfied: idna<3,>=2.5 in /usr/local/lib/python3.7/dist-packages (from requests) (2.10)\n"
          ],
          "name": "stdout"
        }
      ]
    },
    {
      "cell_type": "code",
      "metadata": {
        "id": "8awyeclDINAF"
      },
      "source": [
        "import requests\n",
        "URL=requests.get('https://www.worldometers.info/world-population/population-by-country/')"
      ],
      "execution_count": 242,
      "outputs": []
    },
    {
      "cell_type": "code",
      "metadata": {
        "colab": {
          "base_uri": "https://localhost:8080/"
        },
        "id": "-GvO8qg6JLYu",
        "outputId": "5e5598d4-f1af-438f-9619-3aadf96e0d2e"
      },
      "source": [
        "URL.status_code"
      ],
      "execution_count": 243,
      "outputs": [
        {
          "output_type": "execute_result",
          "data": {
            "text/plain": [
              "200"
            ]
          },
          "metadata": {
            "tags": []
          },
          "execution_count": 243
        }
      ]
    },
    {
      "cell_type": "code",
      "metadata": {
        "id": "Xq59R1btJfdb"
      },
      "source": [
        "\n",
        "from bs4 import BeautifulSoup\n",
        "\n",
        "content=BeautifulSoup(URL.text,'html.parser')"
      ],
      "execution_count": 244,
      "outputs": []
    },
    {
      "cell_type": "code",
      "metadata": {
        "id": "lybuFV28Jisj"
      },
      "source": [
        "table=content.find('table',class_=\"table table-striped table-bordered\")"
      ],
      "execution_count": 245,
      "outputs": []
    },
    {
      "cell_type": "code",
      "metadata": {
        "id": "e_Re1QZSJ5Tn"
      },
      "source": [
        "for i in table.find_all('tbody'):\n",
        "    rows=i.find_all('tr')\n",
        "    l1=[]\n",
        "    l2=[]\n",
        "    l3=[]\n",
        "    for j in rows:\n",
        "        #print(j)\n",
        "        l1.append(j.find('td').text)\n",
        "        l2.append(j.find('a').text)\n",
        "        l3.append(j.find('td',style=\"font-weight: bold;\").text)\n"
      ],
      "execution_count": 246,
      "outputs": []
    },
    {
      "cell_type": "code",
      "metadata": {
        "id": "htnsyMPUJ9u5"
      },
      "source": [
        "population_df=pd.DataFrame({'Country':l2,'Population':l3})"
      ],
      "execution_count": 247,
      "outputs": []
    },
    {
      "cell_type": "code",
      "metadata": {
        "colab": {
          "base_uri": "https://localhost:8080/"
        },
        "id": "FHzzNbYCKAbR",
        "outputId": "f2253ff4-3589-439e-800d-2c9a936e0cf7"
      },
      "source": [
        "population_df['Country'].shape"
      ],
      "execution_count": 248,
      "outputs": [
        {
          "output_type": "execute_result",
          "data": {
            "text/plain": [
              "(235,)"
            ]
          },
          "metadata": {
            "tags": []
          },
          "execution_count": 248
        }
      ]
    },
    {
      "cell_type": "code",
      "metadata": {
        "id": "t9lYQfo4KDUg"
      },
      "source": [
        "l=[]\n",
        "for i in range(121):\n",
        "    l.append(population_df[population_df['Country']==df2a['country'][i]].values)"
      ],
      "execution_count": 249,
      "outputs": []
    },
    {
      "cell_type": "code",
      "metadata": {
        "id": "87DBIjEEKFKO"
      },
      "source": [
        "for i in range(len(l)):\n",
        "    if l[i].shape[0]==0:\n",
        "        to_fill=np.array([[np.nan],[0]])\n",
        "        arr=l[i]\n",
        "        l[i]=np.append(arr,to_fill).reshape(1,2)"
      ],
      "execution_count": 250,
      "outputs": []
    },
    {
      "cell_type": "code",
      "metadata": {
        "id": "V97Bra9TKIk7"
      },
      "source": [
        "sl=[]\n",
        "for i in range(len(l)):\n",
        "    sl.append(str(l[i][0][1]))"
      ],
      "execution_count": 251,
      "outputs": []
    },
    {
      "cell_type": "code",
      "metadata": {
        "id": "9N1sLNg8KKeN"
      },
      "source": [
        "df2a=df2a.assign(population=sl)"
      ],
      "execution_count": 252,
      "outputs": []
    },
    {
      "cell_type": "code",
      "metadata": {
        "colab": {
          "base_uri": "https://localhost:8080/",
          "height": 391
        },
        "id": "lWxHDzejKMQj",
        "outputId": "b758ac67-5694-4b59-8885-16a3d738d2e7"
      },
      "source": [
        "df2a"
      ],
      "execution_count": 253,
      "outputs": [
        {
          "output_type": "execute_result",
          "data": {
            "text/html": [
              "<div>\n",
              "<style scoped>\n",
              "    .dataframe tbody tr th:only-of-type {\n",
              "        vertical-align: middle;\n",
              "    }\n",
              "\n",
              "    .dataframe tbody tr th {\n",
              "        vertical-align: top;\n",
              "    }\n",
              "\n",
              "    .dataframe thead th {\n",
              "        text-align: right;\n",
              "    }\n",
              "</style>\n",
              "<table border=\"1\" class=\"dataframe\">\n",
              "  <thead>\n",
              "    <tr style=\"text-align: right;\">\n",
              "      <th></th>\n",
              "      <th>country</th>\n",
              "      <th>daily_vaccinations</th>\n",
              "      <th>population</th>\n",
              "    </tr>\n",
              "  </thead>\n",
              "  <tbody>\n",
              "    <tr>\n",
              "      <th>0</th>\n",
              "      <td>United States</td>\n",
              "      <td>81166580.0</td>\n",
              "      <td>331,002,651</td>\n",
              "    </tr>\n",
              "    <tr>\n",
              "      <th>1</th>\n",
              "      <td>China</td>\n",
              "      <td>49866037.0</td>\n",
              "      <td>1,439,323,776</td>\n",
              "    </tr>\n",
              "    <tr>\n",
              "      <th>2</th>\n",
              "      <td>United Kingdom</td>\n",
              "      <td>21933874.0</td>\n",
              "      <td>67,886,011</td>\n",
              "    </tr>\n",
              "    <tr>\n",
              "      <th>3</th>\n",
              "      <td>India</td>\n",
              "      <td>17591606.0</td>\n",
              "      <td>1,380,004,385</td>\n",
              "    </tr>\n",
              "    <tr>\n",
              "      <th>4</th>\n",
              "      <td>Turkey</td>\n",
              "      <td>10008038.0</td>\n",
              "      <td>84,339,067</td>\n",
              "    </tr>\n",
              "    <tr>\n",
              "      <th>...</th>\n",
              "      <td>...</td>\n",
              "      <td>...</td>\n",
              "      <td>...</td>\n",
              "    </tr>\n",
              "    <tr>\n",
              "      <th>116</th>\n",
              "      <td>Trinidad and Tobago</td>\n",
              "      <td>2862.0</td>\n",
              "      <td>1,399,488</td>\n",
              "    </tr>\n",
              "    <tr>\n",
              "      <th>117</th>\n",
              "      <td>Falkland Islands</td>\n",
              "      <td>2358.0</td>\n",
              "      <td>3,480</td>\n",
              "    </tr>\n",
              "    <tr>\n",
              "      <th>118</th>\n",
              "      <td>Guyana</td>\n",
              "      <td>2131.0</td>\n",
              "      <td>786,552</td>\n",
              "    </tr>\n",
              "    <tr>\n",
              "      <th>119</th>\n",
              "      <td>Montserrat</td>\n",
              "      <td>782.0</td>\n",
              "      <td>4,992</td>\n",
              "    </tr>\n",
              "    <tr>\n",
              "      <th>120</th>\n",
              "      <td>Honduras</td>\n",
              "      <td>169.0</td>\n",
              "      <td>9,904,607</td>\n",
              "    </tr>\n",
              "  </tbody>\n",
              "</table>\n",
              "<p>121 rows × 3 columns</p>\n",
              "</div>"
            ],
            "text/plain": [
              "                 country  daily_vaccinations     population\n",
              "0          United States          81166580.0    331,002,651\n",
              "1                  China          49866037.0  1,439,323,776\n",
              "2         United Kingdom          21933874.0     67,886,011\n",
              "3                  India          17591606.0  1,380,004,385\n",
              "4                 Turkey          10008038.0     84,339,067\n",
              "..                   ...                 ...            ...\n",
              "116  Trinidad and Tobago              2862.0      1,399,488\n",
              "117     Falkland Islands              2358.0          3,480\n",
              "118               Guyana              2131.0        786,552\n",
              "119           Montserrat               782.0          4,992\n",
              "120             Honduras               169.0      9,904,607\n",
              "\n",
              "[121 rows x 3 columns]"
            ]
          },
          "metadata": {
            "tags": []
          },
          "execution_count": 253
        }
      ]
    },
    {
      "cell_type": "code",
      "metadata": {
        "id": "Fk1LkBJ9Kn2z"
      },
      "source": [
        "missing_countries_pop=[]\n",
        "for i in range(df2a.shape[0]):\n",
        "    if df2a.loc[i][2]=='0.0':\n",
        "        missing_countries_pop.append(df2a.loc[i][0])"
      ],
      "execution_count": 254,
      "outputs": []
    },
    {
      "cell_type": "code",
      "metadata": {
        "colab": {
          "base_uri": "https://localhost:8080/"
        },
        "id": "6M4SRtCYKzHN",
        "outputId": "9771a6b3-009c-4dd3-9f68-4e357ce2c737"
      },
      "source": [
        "missing_countries_pop"
      ],
      "execution_count": 255,
      "outputs": [
        {
          "output_type": "execute_result",
          "data": {
            "text/plain": [
              "['Czechia',\n",
              " 'Turks and Caicos Islands',\n",
              " 'Jersey',\n",
              " 'Guernsey',\n",
              " 'Northern Cyprus']"
            ]
          },
          "metadata": {
            "tags": []
          },
          "execution_count": 255
        }
      ]
    },
    {
      "cell_type": "code",
      "metadata": {
        "id": "DiAi6SlYK1Ee"
      },
      "source": [
        "\n",
        "miss_con_pop=['10,600,000','97,857','1,207,359','63,155','44,543']"
      ],
      "execution_count": 256,
      "outputs": []
    },
    {
      "cell_type": "code",
      "metadata": {
        "id": "8vwwSVENK4m6"
      },
      "source": [
        "d=dict(zip(df2a['country'],df2a['population']))\n"
      ],
      "execution_count": 257,
      "outputs": []
    },
    {
      "cell_type": "code",
      "metadata": {
        "id": "l0coulD8K7No"
      },
      "source": [
        "j =0\n",
        "for i in d:\n",
        "    if d[i]=='0.0':\n",
        "        d[i]=miss_con_pop[j]\n",
        "        j+=1"
      ],
      "execution_count": 258,
      "outputs": []
    },
    {
      "cell_type": "code",
      "metadata": {
        "id": "HAp-5jdlK_xF"
      },
      "source": [
        "df2a['population']=df2a['country'].map(d)\n"
      ],
      "execution_count": 259,
      "outputs": []
    },
    {
      "cell_type": "code",
      "metadata": {
        "id": "z_o2aeu0LDOj"
      },
      "source": [
        "df2a['daily_vaccinations']=df2a[['daily_vaccinations']].astype(int)"
      ],
      "execution_count": 260,
      "outputs": []
    },
    {
      "cell_type": "code",
      "metadata": {
        "id": "NYu9qwaRLHQX"
      },
      "source": [
        "la=[]\n",
        "for i in range(df2a.shape[0]):\n",
        "    la.append(int(float(df2a['population'][i].replace(',',''))))"
      ],
      "execution_count": 261,
      "outputs": []
    },
    {
      "cell_type": "code",
      "metadata": {
        "id": "1G8mCoxdLJRM"
      },
      "source": [
        "df2b=df2a.drop('population',axis=1)"
      ],
      "execution_count": 262,
      "outputs": []
    },
    {
      "cell_type": "code",
      "metadata": {
        "id": "jE_2LvS4LL5Q"
      },
      "source": [
        "df2b=df2b.assign(population=la)"
      ],
      "execution_count": 263,
      "outputs": []
    },
    {
      "cell_type": "code",
      "metadata": {
        "colab": {
          "base_uri": "https://localhost:8080/",
          "height": 391
        },
        "id": "WxjSaezlLN54",
        "outputId": "b1a00833-2782-47d0-dcc6-a6a740a857ba"
      },
      "source": [
        "df2b"
      ],
      "execution_count": 264,
      "outputs": [
        {
          "output_type": "execute_result",
          "data": {
            "text/html": [
              "<div>\n",
              "<style scoped>\n",
              "    .dataframe tbody tr th:only-of-type {\n",
              "        vertical-align: middle;\n",
              "    }\n",
              "\n",
              "    .dataframe tbody tr th {\n",
              "        vertical-align: top;\n",
              "    }\n",
              "\n",
              "    .dataframe thead th {\n",
              "        text-align: right;\n",
              "    }\n",
              "</style>\n",
              "<table border=\"1\" class=\"dataframe\">\n",
              "  <thead>\n",
              "    <tr style=\"text-align: right;\">\n",
              "      <th></th>\n",
              "      <th>country</th>\n",
              "      <th>daily_vaccinations</th>\n",
              "      <th>population</th>\n",
              "    </tr>\n",
              "  </thead>\n",
              "  <tbody>\n",
              "    <tr>\n",
              "      <th>0</th>\n",
              "      <td>United States</td>\n",
              "      <td>81166580</td>\n",
              "      <td>331002651</td>\n",
              "    </tr>\n",
              "    <tr>\n",
              "      <th>1</th>\n",
              "      <td>China</td>\n",
              "      <td>49866037</td>\n",
              "      <td>1439323776</td>\n",
              "    </tr>\n",
              "    <tr>\n",
              "      <th>2</th>\n",
              "      <td>United Kingdom</td>\n",
              "      <td>21933874</td>\n",
              "      <td>67886011</td>\n",
              "    </tr>\n",
              "    <tr>\n",
              "      <th>3</th>\n",
              "      <td>India</td>\n",
              "      <td>17591606</td>\n",
              "      <td>1380004385</td>\n",
              "    </tr>\n",
              "    <tr>\n",
              "      <th>4</th>\n",
              "      <td>Turkey</td>\n",
              "      <td>10008038</td>\n",
              "      <td>84339067</td>\n",
              "    </tr>\n",
              "    <tr>\n",
              "      <th>...</th>\n",
              "      <td>...</td>\n",
              "      <td>...</td>\n",
              "      <td>...</td>\n",
              "    </tr>\n",
              "    <tr>\n",
              "      <th>116</th>\n",
              "      <td>Trinidad and Tobago</td>\n",
              "      <td>2862</td>\n",
              "      <td>1399488</td>\n",
              "    </tr>\n",
              "    <tr>\n",
              "      <th>117</th>\n",
              "      <td>Falkland Islands</td>\n",
              "      <td>2358</td>\n",
              "      <td>3480</td>\n",
              "    </tr>\n",
              "    <tr>\n",
              "      <th>118</th>\n",
              "      <td>Guyana</td>\n",
              "      <td>2131</td>\n",
              "      <td>786552</td>\n",
              "    </tr>\n",
              "    <tr>\n",
              "      <th>119</th>\n",
              "      <td>Montserrat</td>\n",
              "      <td>782</td>\n",
              "      <td>4992</td>\n",
              "    </tr>\n",
              "    <tr>\n",
              "      <th>120</th>\n",
              "      <td>Honduras</td>\n",
              "      <td>169</td>\n",
              "      <td>9904607</td>\n",
              "    </tr>\n",
              "  </tbody>\n",
              "</table>\n",
              "<p>121 rows × 3 columns</p>\n",
              "</div>"
            ],
            "text/plain": [
              "                 country  daily_vaccinations  population\n",
              "0          United States            81166580   331002651\n",
              "1                  China            49866037  1439323776\n",
              "2         United Kingdom            21933874    67886011\n",
              "3                  India            17591606  1380004385\n",
              "4                 Turkey            10008038    84339067\n",
              "..                   ...                 ...         ...\n",
              "116  Trinidad and Tobago                2862     1399488\n",
              "117     Falkland Islands                2358        3480\n",
              "118               Guyana                2131      786552\n",
              "119           Montserrat                 782        4992\n",
              "120             Honduras                 169     9904607\n",
              "\n",
              "[121 rows x 3 columns]"
            ]
          },
          "metadata": {
            "tags": []
          },
          "execution_count": 264
        }
      ]
    },
    {
      "cell_type": "code",
      "metadata": {
        "id": "8x40O8_5LPta"
      },
      "source": [
        "def per_vacc(data_frame1):\n",
        "    x=[]\n",
        "    for i in range(data_frame1.shape[0]):\n",
        "        x.append(data_frame1.iloc[i][1]*100/int(data_frame1.iloc[i][2]))\n",
        "    new_x=np.round(x,decimals=3)\n",
        "    return new_x\n"
      ],
      "execution_count": 265,
      "outputs": []
    },
    {
      "cell_type": "code",
      "metadata": {
        "id": "m0ygXkjlLTHf"
      },
      "source": [
        "per=per_vacc(df2b)"
      ],
      "execution_count": 266,
      "outputs": []
    },
    {
      "cell_type": "code",
      "metadata": {
        "id": "w8Fg8CZzLV2e"
      },
      "source": [
        "df2b=df2b.assign(percentage=per)"
      ],
      "execution_count": 267,
      "outputs": []
    },
    {
      "cell_type": "code",
      "metadata": {
        "colab": {
          "base_uri": "https://localhost:8080/",
          "height": 542
        },
        "id": "zJfGRZYHLYeu",
        "outputId": "6a21d2e1-6c48-400e-99a4-b86c74ab2997"
      },
      "source": [
        "fig = px.bar(df2b.head(10), y='percentage',color='percentage',x='country',hover_data=['population','daily_vaccinations'],\n",
        "             title='Top 10 countries with vaccinations by population ratio',\n",
        "            labels={'daily_vaccinations':'Total vaccinations'})\n",
        "fig.show()"
      ],
      "execution_count": 268,
      "outputs": [
        {
          "output_type": "display_data",
          "data": {
            "text/html": [
              "<html>\n",
              "<head><meta charset=\"utf-8\" /></head>\n",
              "<body>\n",
              "    <div>\n",
              "            <script src=\"https://cdnjs.cloudflare.com/ajax/libs/mathjax/2.7.5/MathJax.js?config=TeX-AMS-MML_SVG\"></script><script type=\"text/javascript\">if (window.MathJax) {MathJax.Hub.Config({SVG: {font: \"STIX-Web\"}});}</script>\n",
              "                <script type=\"text/javascript\">window.PlotlyConfig = {MathJaxConfig: 'local'};</script>\n",
              "        <script src=\"https://cdn.plot.ly/plotly-latest.min.js\"></script>    \n",
              "            <div id=\"6bc27e90-80b9-4a1a-ac8b-55d186ae21ba\" class=\"plotly-graph-div\" style=\"height:525px; width:100%;\"></div>\n",
              "            <script type=\"text/javascript\">\n",
              "                \n",
              "                    window.PLOTLYENV=window.PLOTLYENV || {};\n",
              "                    \n",
              "                if (document.getElementById(\"6bc27e90-80b9-4a1a-ac8b-55d186ae21ba\")) {\n",
              "                    Plotly.newPlot(\n",
              "                        '6bc27e90-80b9-4a1a-ac8b-55d186ae21ba',\n",
              "                        [{\"alignmentgroup\": \"True\", \"customdata\": [[331002651, 81166580], [1439323776, 49866037], [67886011, 21933874], [1380004385, 17591606], [84339067, 10008038], [212559417, 9389512], [8655535, 8485294], [83783942, 6882661], [145934462, 5734424], [9890402, 5434988]], \"hoverlabel\": {\"namelength\": 0}, \"hovertemplate\": \"country=%{x}<br>percentage=%{marker.color}<br>population=%{customdata[0]}<br>Total vaccinations=%{customdata[1]}\", \"legendgroup\": \"\", \"marker\": {\"color\": [24.521, 3.465, 32.31, 1.275, 11.866, 4.417, 98.033, 8.215, 3.929, 54.952], \"coloraxis\": \"coloraxis\"}, \"name\": \"\", \"offsetgroup\": \"\", \"orientation\": \"v\", \"showlegend\": false, \"textposition\": \"auto\", \"type\": \"bar\", \"x\": [\"United States\", \"China\", \"United Kingdom\", \"India\", \"Turkey\", \"Brazil\", \"Israel\", \"Germany\", \"Russia\", \"United Arab Emirates\"], \"xaxis\": \"x\", \"y\": [24.521, 3.465, 32.31, 1.275, 11.866, 4.417, 98.033, 8.215, 3.929, 54.952], \"yaxis\": \"y\"}],\n",
              "                        {\"barmode\": \"relative\", \"coloraxis\": {\"colorbar\": {\"title\": {\"text\": \"percentage\"}}, \"colorscale\": [[0.0, \"#0d0887\"], [0.1111111111111111, \"#46039f\"], [0.2222222222222222, \"#7201a8\"], [0.3333333333333333, \"#9c179e\"], [0.4444444444444444, \"#bd3786\"], [0.5555555555555556, \"#d8576b\"], [0.6666666666666666, \"#ed7953\"], [0.7777777777777778, \"#fb9f3a\"], [0.8888888888888888, \"#fdca26\"], [1.0, \"#f0f921\"]]}, \"legend\": {\"tracegroupgap\": 0}, \"template\": {\"data\": {\"bar\": [{\"error_x\": {\"color\": \"#2a3f5f\"}, \"error_y\": {\"color\": \"#2a3f5f\"}, \"marker\": {\"line\": {\"color\": \"#E5ECF6\", \"width\": 0.5}}, \"type\": \"bar\"}], \"barpolar\": [{\"marker\": {\"line\": {\"color\": \"#E5ECF6\", \"width\": 0.5}}, \"type\": \"barpolar\"}], \"carpet\": [{\"aaxis\": {\"endlinecolor\": \"#2a3f5f\", \"gridcolor\": \"white\", \"linecolor\": \"white\", \"minorgridcolor\": \"white\", \"startlinecolor\": \"#2a3f5f\"}, \"baxis\": {\"endlinecolor\": \"#2a3f5f\", \"gridcolor\": \"white\", \"linecolor\": \"white\", \"minorgridcolor\": \"white\", \"startlinecolor\": \"#2a3f5f\"}, \"type\": \"carpet\"}], \"choropleth\": [{\"colorbar\": {\"outlinewidth\": 0, \"ticks\": \"\"}, \"type\": \"choropleth\"}], \"contour\": [{\"colorbar\": {\"outlinewidth\": 0, \"ticks\": \"\"}, \"colorscale\": [[0.0, \"#0d0887\"], [0.1111111111111111, \"#46039f\"], [0.2222222222222222, \"#7201a8\"], [0.3333333333333333, \"#9c179e\"], [0.4444444444444444, \"#bd3786\"], [0.5555555555555556, \"#d8576b\"], [0.6666666666666666, \"#ed7953\"], [0.7777777777777778, \"#fb9f3a\"], [0.8888888888888888, \"#fdca26\"], [1.0, \"#f0f921\"]], \"type\": \"contour\"}], \"contourcarpet\": [{\"colorbar\": {\"outlinewidth\": 0, \"ticks\": \"\"}, \"type\": \"contourcarpet\"}], \"heatmap\": [{\"colorbar\": {\"outlinewidth\": 0, \"ticks\": \"\"}, \"colorscale\": [[0.0, \"#0d0887\"], [0.1111111111111111, \"#46039f\"], [0.2222222222222222, \"#7201a8\"], [0.3333333333333333, \"#9c179e\"], [0.4444444444444444, \"#bd3786\"], [0.5555555555555556, \"#d8576b\"], [0.6666666666666666, \"#ed7953\"], [0.7777777777777778, \"#fb9f3a\"], [0.8888888888888888, \"#fdca26\"], [1.0, \"#f0f921\"]], \"type\": \"heatmap\"}], \"heatmapgl\": [{\"colorbar\": {\"outlinewidth\": 0, \"ticks\": \"\"}, \"colorscale\": [[0.0, \"#0d0887\"], [0.1111111111111111, \"#46039f\"], [0.2222222222222222, \"#7201a8\"], [0.3333333333333333, \"#9c179e\"], [0.4444444444444444, \"#bd3786\"], [0.5555555555555556, \"#d8576b\"], [0.6666666666666666, \"#ed7953\"], [0.7777777777777778, \"#fb9f3a\"], [0.8888888888888888, \"#fdca26\"], [1.0, \"#f0f921\"]], \"type\": \"heatmapgl\"}], \"histogram\": [{\"marker\": {\"colorbar\": {\"outlinewidth\": 0, \"ticks\": \"\"}}, \"type\": \"histogram\"}], \"histogram2d\": [{\"colorbar\": {\"outlinewidth\": 0, \"ticks\": \"\"}, \"colorscale\": [[0.0, \"#0d0887\"], [0.1111111111111111, \"#46039f\"], [0.2222222222222222, \"#7201a8\"], [0.3333333333333333, \"#9c179e\"], [0.4444444444444444, \"#bd3786\"], [0.5555555555555556, \"#d8576b\"], [0.6666666666666666, \"#ed7953\"], [0.7777777777777778, \"#fb9f3a\"], [0.8888888888888888, \"#fdca26\"], [1.0, \"#f0f921\"]], \"type\": \"histogram2d\"}], \"histogram2dcontour\": [{\"colorbar\": {\"outlinewidth\": 0, \"ticks\": \"\"}, \"colorscale\": [[0.0, \"#0d0887\"], [0.1111111111111111, \"#46039f\"], [0.2222222222222222, \"#7201a8\"], [0.3333333333333333, \"#9c179e\"], [0.4444444444444444, \"#bd3786\"], [0.5555555555555556, \"#d8576b\"], [0.6666666666666666, \"#ed7953\"], [0.7777777777777778, \"#fb9f3a\"], [0.8888888888888888, \"#fdca26\"], [1.0, \"#f0f921\"]], \"type\": \"histogram2dcontour\"}], \"mesh3d\": [{\"colorbar\": {\"outlinewidth\": 0, \"ticks\": \"\"}, \"type\": \"mesh3d\"}], \"parcoords\": [{\"line\": {\"colorbar\": {\"outlinewidth\": 0, \"ticks\": \"\"}}, \"type\": \"parcoords\"}], \"pie\": [{\"automargin\": true, \"type\": \"pie\"}], \"scatter\": [{\"marker\": {\"colorbar\": {\"outlinewidth\": 0, \"ticks\": \"\"}}, \"type\": \"scatter\"}], \"scatter3d\": [{\"line\": {\"colorbar\": {\"outlinewidth\": 0, \"ticks\": \"\"}}, \"marker\": {\"colorbar\": {\"outlinewidth\": 0, \"ticks\": \"\"}}, \"type\": \"scatter3d\"}], \"scattercarpet\": [{\"marker\": {\"colorbar\": {\"outlinewidth\": 0, \"ticks\": \"\"}}, \"type\": \"scattercarpet\"}], \"scattergeo\": [{\"marker\": {\"colorbar\": {\"outlinewidth\": 0, \"ticks\": \"\"}}, \"type\": \"scattergeo\"}], \"scattergl\": [{\"marker\": {\"colorbar\": {\"outlinewidth\": 0, \"ticks\": \"\"}}, \"type\": \"scattergl\"}], \"scattermapbox\": [{\"marker\": {\"colorbar\": {\"outlinewidth\": 0, \"ticks\": \"\"}}, \"type\": \"scattermapbox\"}], \"scatterpolar\": [{\"marker\": {\"colorbar\": {\"outlinewidth\": 0, \"ticks\": \"\"}}, \"type\": \"scatterpolar\"}], \"scatterpolargl\": [{\"marker\": {\"colorbar\": {\"outlinewidth\": 0, \"ticks\": \"\"}}, \"type\": \"scatterpolargl\"}], \"scatterternary\": [{\"marker\": {\"colorbar\": {\"outlinewidth\": 0, \"ticks\": \"\"}}, \"type\": \"scatterternary\"}], \"surface\": [{\"colorbar\": {\"outlinewidth\": 0, \"ticks\": \"\"}, \"colorscale\": [[0.0, \"#0d0887\"], [0.1111111111111111, \"#46039f\"], [0.2222222222222222, \"#7201a8\"], [0.3333333333333333, \"#9c179e\"], [0.4444444444444444, \"#bd3786\"], [0.5555555555555556, \"#d8576b\"], [0.6666666666666666, \"#ed7953\"], [0.7777777777777778, \"#fb9f3a\"], [0.8888888888888888, \"#fdca26\"], [1.0, \"#f0f921\"]], \"type\": \"surface\"}], \"table\": [{\"cells\": {\"fill\": {\"color\": \"#EBF0F8\"}, \"line\": {\"color\": \"white\"}}, \"header\": {\"fill\": {\"color\": \"#C8D4E3\"}, \"line\": {\"color\": \"white\"}}, \"type\": \"table\"}]}, \"layout\": {\"annotationdefaults\": {\"arrowcolor\": \"#2a3f5f\", \"arrowhead\": 0, \"arrowwidth\": 1}, \"coloraxis\": {\"colorbar\": {\"outlinewidth\": 0, \"ticks\": \"\"}}, \"colorscale\": {\"diverging\": [[0, \"#8e0152\"], [0.1, \"#c51b7d\"], [0.2, \"#de77ae\"], [0.3, \"#f1b6da\"], [0.4, \"#fde0ef\"], [0.5, \"#f7f7f7\"], [0.6, \"#e6f5d0\"], [0.7, \"#b8e186\"], [0.8, \"#7fbc41\"], [0.9, \"#4d9221\"], [1, \"#276419\"]], \"sequential\": [[0.0, \"#0d0887\"], [0.1111111111111111, \"#46039f\"], [0.2222222222222222, \"#7201a8\"], [0.3333333333333333, \"#9c179e\"], [0.4444444444444444, \"#bd3786\"], [0.5555555555555556, \"#d8576b\"], [0.6666666666666666, \"#ed7953\"], [0.7777777777777778, \"#fb9f3a\"], [0.8888888888888888, \"#fdca26\"], [1.0, \"#f0f921\"]], \"sequentialminus\": [[0.0, \"#0d0887\"], [0.1111111111111111, \"#46039f\"], [0.2222222222222222, \"#7201a8\"], [0.3333333333333333, \"#9c179e\"], [0.4444444444444444, \"#bd3786\"], [0.5555555555555556, \"#d8576b\"], [0.6666666666666666, \"#ed7953\"], [0.7777777777777778, \"#fb9f3a\"], [0.8888888888888888, \"#fdca26\"], [1.0, \"#f0f921\"]]}, \"colorway\": [\"#636efa\", \"#EF553B\", \"#00cc96\", \"#ab63fa\", \"#FFA15A\", \"#19d3f3\", \"#FF6692\", \"#B6E880\", \"#FF97FF\", \"#FECB52\"], \"font\": {\"color\": \"#2a3f5f\"}, \"geo\": {\"bgcolor\": \"white\", \"lakecolor\": \"white\", \"landcolor\": \"#E5ECF6\", \"showlakes\": true, \"showland\": true, \"subunitcolor\": \"white\"}, \"hoverlabel\": {\"align\": \"left\"}, \"hovermode\": \"closest\", \"mapbox\": {\"style\": \"light\"}, \"paper_bgcolor\": \"white\", \"plot_bgcolor\": \"#E5ECF6\", \"polar\": {\"angularaxis\": {\"gridcolor\": \"white\", \"linecolor\": \"white\", \"ticks\": \"\"}, \"bgcolor\": \"#E5ECF6\", \"radialaxis\": {\"gridcolor\": \"white\", \"linecolor\": \"white\", \"ticks\": \"\"}}, \"scene\": {\"xaxis\": {\"backgroundcolor\": \"#E5ECF6\", \"gridcolor\": \"white\", \"gridwidth\": 2, \"linecolor\": \"white\", \"showbackground\": true, \"ticks\": \"\", \"zerolinecolor\": \"white\"}, \"yaxis\": {\"backgroundcolor\": \"#E5ECF6\", \"gridcolor\": \"white\", \"gridwidth\": 2, \"linecolor\": \"white\", \"showbackground\": true, \"ticks\": \"\", \"zerolinecolor\": \"white\"}, \"zaxis\": {\"backgroundcolor\": \"#E5ECF6\", \"gridcolor\": \"white\", \"gridwidth\": 2, \"linecolor\": \"white\", \"showbackground\": true, \"ticks\": \"\", \"zerolinecolor\": \"white\"}}, \"shapedefaults\": {\"line\": {\"color\": \"#2a3f5f\"}}, \"ternary\": {\"aaxis\": {\"gridcolor\": \"white\", \"linecolor\": \"white\", \"ticks\": \"\"}, \"baxis\": {\"gridcolor\": \"white\", \"linecolor\": \"white\", \"ticks\": \"\"}, \"bgcolor\": \"#E5ECF6\", \"caxis\": {\"gridcolor\": \"white\", \"linecolor\": \"white\", \"ticks\": \"\"}}, \"title\": {\"x\": 0.05}, \"xaxis\": {\"automargin\": true, \"gridcolor\": \"white\", \"linecolor\": \"white\", \"ticks\": \"\", \"title\": {\"standoff\": 15}, \"zerolinecolor\": \"white\", \"zerolinewidth\": 2}, \"yaxis\": {\"automargin\": true, \"gridcolor\": \"white\", \"linecolor\": \"white\", \"ticks\": \"\", \"title\": {\"standoff\": 15}, \"zerolinecolor\": \"white\", \"zerolinewidth\": 2}}}, \"title\": {\"text\": \"Top 10 countries with vaccinations by population ratio\"}, \"xaxis\": {\"anchor\": \"y\", \"domain\": [0.0, 1.0], \"title\": {\"text\": \"country\"}}, \"yaxis\": {\"anchor\": \"x\", \"domain\": [0.0, 1.0], \"title\": {\"text\": \"percentage\"}}},\n",
              "                        {\"responsive\": true}\n",
              "                    ).then(function(){\n",
              "                            \n",
              "var gd = document.getElementById('6bc27e90-80b9-4a1a-ac8b-55d186ae21ba');\n",
              "var x = new MutationObserver(function (mutations, observer) {{\n",
              "        var display = window.getComputedStyle(gd).display;\n",
              "        if (!display || display === 'none') {{\n",
              "            console.log([gd, 'removed!']);\n",
              "            Plotly.purge(gd);\n",
              "            observer.disconnect();\n",
              "        }}\n",
              "}});\n",
              "\n",
              "// Listen for the removal of the full notebook cells\n",
              "var notebookContainer = gd.closest('#notebook-container');\n",
              "if (notebookContainer) {{\n",
              "    x.observe(notebookContainer, {childList: true});\n",
              "}}\n",
              "\n",
              "// Listen for the clearing of the current output cell\n",
              "var outputEl = gd.closest('.output');\n",
              "if (outputEl) {{\n",
              "    x.observe(outputEl, {childList: true});\n",
              "}}\n",
              "\n",
              "                        })\n",
              "                };\n",
              "                \n",
              "            </script>\n",
              "        </div>\n",
              "</body>\n",
              "</html>"
            ]
          },
          "metadata": {
            "tags": []
          }
        }
      ]
    },
    {
      "cell_type": "code",
      "metadata": {
        "colab": {
          "base_uri": "https://localhost:8080/"
        },
        "id": "dInXr_qwMs5c",
        "outputId": "7d4f2aad-e63a-4f8d-9bd6-c439d3a35d1e"
      },
      "source": [
        "!pip install pyspark"
      ],
      "execution_count": 269,
      "outputs": [
        {
          "output_type": "stream",
          "text": [
            "Requirement already satisfied: pyspark in /usr/local/lib/python3.7/dist-packages (3.1.1)\n",
            "Requirement already satisfied: py4j==0.10.9 in /usr/local/lib/python3.7/dist-packages (from pyspark) (0.10.9)\n"
          ],
          "name": "stdout"
        }
      ]
    },
    {
      "cell_type": "code",
      "metadata": {
        "id": "AX44zTeTNA7j"
      },
      "source": [
        "from pyspark.sql.functions import col\n",
        "from pyspark.sql.functions import *"
      ],
      "execution_count": 270,
      "outputs": []
    },
    {
      "cell_type": "code",
      "metadata": {
        "colab": {
          "base_uri": "https://localhost:8080/",
          "height": 542
        },
        "id": "o4keNr-BLajp",
        "outputId": "1d928508-316d-4d68-da27-c617eee37e77"
      },
      "source": [
        "for col in df2b.columns:\n",
        "  df2b[col] = df2b[col].astype(str)\n",
        "df2b['text'] =df2b['country'] + '<br>' + \\\n",
        "            ' Total vaccinations '  + df2b['daily_vaccinations'] + '<br>' + \\\n",
        "            ' Population ' + df2b['population']\n",
        "fig = go.Figure(data=go.Choropleth(\n",
        "    locationmode = \"country names\",\n",
        "    locations = df2b['country'],\n",
        "    z =df2b['percentage'],\n",
        "    text=df2b['text'],\n",
        "    colorscale='Reds',\n",
        "    autocolorscale=True,\n",
        "    reversescale=True,\n",
        "    marker_line_color='darkgray',\n",
        "    marker_line_width=0.5,\n",
        "    colorbar_title = 'percentage',\n",
        "))\n",
        "fig.update_layout(\n",
        "    title_text='Vaccinations by Population ratio distribution of each country.',\n",
        "    geo=dict(\n",
        "        showcoastlines=True\n",
        "    )\n",
        ")"
      ],
      "execution_count": 271,
      "outputs": [
        {
          "output_type": "display_data",
          "data": {
            "text/html": [
              "<html>\n",
              "<head><meta charset=\"utf-8\" /></head>\n",
              "<body>\n",
              "    <div>\n",
              "            <script src=\"https://cdnjs.cloudflare.com/ajax/libs/mathjax/2.7.5/MathJax.js?config=TeX-AMS-MML_SVG\"></script><script type=\"text/javascript\">if (window.MathJax) {MathJax.Hub.Config({SVG: {font: \"STIX-Web\"}});}</script>\n",
              "                <script type=\"text/javascript\">window.PlotlyConfig = {MathJaxConfig: 'local'};</script>\n",
              "        <script src=\"https://cdn.plot.ly/plotly-latest.min.js\"></script>    \n",
              "            <div id=\"87a177f1-12d7-43d3-90e0-36e63fd77018\" class=\"plotly-graph-div\" style=\"height:525px; width:100%;\"></div>\n",
              "            <script type=\"text/javascript\">\n",
              "                \n",
              "                    window.PLOTLYENV=window.PLOTLYENV || {};\n",
              "                    \n",
              "                if (document.getElementById(\"87a177f1-12d7-43d3-90e0-36e63fd77018\")) {\n",
              "                    Plotly.newPlot(\n",
              "                        '87a177f1-12d7-43d3-90e0-36e63fd77018',\n",
              "                        [{\"autocolorscale\": true, \"colorbar\": {\"title\": {\"text\": \"percentage\"}}, \"colorscale\": [[0.0, \"rgb(255,245,240)\"], [0.125, \"rgb(254,224,210)\"], [0.25, \"rgb(252,187,161)\"], [0.375, \"rgb(252,146,114)\"], [0.5, \"rgb(251,106,74)\"], [0.625, \"rgb(239,59,44)\"], [0.75, \"rgb(203,24,29)\"], [0.875, \"rgb(165,15,21)\"], [1.0, \"rgb(103,0,13)\"]], \"locationmode\": \"country names\", \"locations\": [\"United States\", \"China\", \"United Kingdom\", \"India\", \"Turkey\", \"Brazil\", \"Israel\", \"Germany\", \"Russia\", \"United Arab Emirates\", \"France\", \"Italy\", \"Morocco\", \"Spain\", \"Indonesia\", \"Chile\", \"Poland\", \"Bangladesh\", \"Mexico\", \"Uruguay\", \"Canada\", \"Romania\", \"Serbia\", \"Argentina\", \"Netherlands\", \"Hungary\", \"Portugal\", \"Greece\", \"Saudi Arabia\", \"Belgium\", \"Sweden\", \"Colombia\", \"Sri Lanka\", \"Czechia\", \"Austria\", \"Denmark\", \"Switzerland\", \"Bulgaria\", \"Singapore\", \"Norway\", \"Slovakia\", \"Australia\", \"Finland\", \"Bahrain\", \"Ireland\", \"Nepal\", \"Estonia\", \"Azerbaijan\", \"Rwanda\", \"Lithuania\", \"Gibraltar\", \"Croatia\", \"South Korea\", \"Myanmar\", \"Dominican Republic\", \"Turks and Caicos Islands\", \"Japan\", \"Slovenia\", \"Costa Rica\", \"Latvia\", \"Iran\", \"Qatar\", \"Kuwait\", \"Panama\", \"Maldives\", \"Barbados\", \"Seychelles\", \"Jordan\", \"Ecuador\", \"Cyprus\", \"Cayman Islands\", \"Senegal\", \"Malta\", \"Iceland\", \"Oman\", \"Pakistan\", \"Algeria\", \"South Africa\", \"Malaysia\", \"Lebanon\", \"Monaco\", \"Cambodia\", \"New Zealand\", \"Zimbabwe\", \"Luxembourg\", \"Kazakhstan\", \"Hong Kong\", \"Bolivia\", \"Isle of Man\", \"Greenland\", \"Jersey\", \"Belarus\", \"Bermuda\", \"Thailand\", \"Venezuela\", \"Peru\", \"Belize\", \"Guernsey\", \"San Marino\", \"Saint Helena\", \"Ukraine\", \"Albania\", \"Paraguay\", \"El Salvador\", \"Philippines\", \"Northern Cyprus\", \"Faeroe Islands\", \"Egypt\", \"Andorra\", \"Mauritius\", \"Liechtenstein\", \"Mongolia\", \"Anguilla\", \"Macao\", \"Montenegro\", \"Guatemala\", \"Trinidad and Tobago\", \"Falkland Islands\", \"Guyana\", \"Montserrat\", \"Honduras\"], \"marker\": {\"line\": {\"color\": \"darkgray\", \"width\": 0.5}}, \"reversescale\": true, \"text\": [\"United States<br> Total vaccinations 81166580<br> Population 331002651\", \"China<br> Total vaccinations 49866037<br> Population 1439323776\", \"United Kingdom<br> Total vaccinations 21933874<br> Population 67886011\", \"India<br> Total vaccinations 17591606<br> Population 1380004385\", \"Turkey<br> Total vaccinations 10008038<br> Population 84339067\", \"Brazil<br> Total vaccinations 9389512<br> Population 212559417\", \"Israel<br> Total vaccinations 8485294<br> Population 8655535\", \"Germany<br> Total vaccinations 6882661<br> Population 83783942\", \"Russia<br> Total vaccinations 5734424<br> Population 145934462\", \"United Arab Emirates<br> Total vaccinations 5434988<br> Population 9890402\", \"France<br> Total vaccinations 4926287<br> Population 65273511\", \"Italy<br> Total vaccinations 4901221<br> Population 60461826\", \"Morocco<br> Total vaccinations 4232802<br> Population 36910560\", \"Spain<br> Total vaccinations 4095325<br> Population 46754778\", \"Indonesia<br> Total vaccinations 4068474<br> Population 273523615\", \"Chile<br> Total vaccinations 4012122<br> Population 19116201\", \"Poland<br> Total vaccinations 3669335<br> Population 37846611\", \"Bangladesh<br> Total vaccinations 3242087<br> Population 164689383\", \"Mexico<br> Total vaccinations 2626893<br> Population 128932753\", \"Uruguay<br> Total vaccinations 2224804<br> Population 3473730\", \"Canada<br> Total vaccinations 2111748<br> Population 37742154\", \"Romania<br> Total vaccinations 1619604<br> Population 19237691\", \"Serbia<br> Total vaccinations 1544117<br> Population 8737371\", \"Argentina<br> Total vaccinations 1176629<br> Population 45195774\", \"Netherlands<br> Total vaccinations 1166335<br> Population 17134872\", \"Hungary<br> Total vaccinations 1103908<br> Population 9660351\", \"Portugal<br> Total vaccinations 1024199<br> Population 10196709\", \"Greece<br> Total vaccinations 994912<br> Population 10423054\", \"Saudi Arabia<br> Total vaccinations 928139<br> Population 34813871\", \"Belgium<br> Total vaccinations 873936<br> Population 11589623\", \"Sweden<br> Total vaccinations 850167<br> Population 10099265\", \"Colombia<br> Total vaccinations 839293<br> Population 50882891\", \"Sri Lanka<br> Total vaccinations 773974<br> Population 21413249\", \"Czechia<br> Total vaccinations 752126<br> Population 10600000\", \"Austria<br> Total vaccinations 735629<br> Population 9006398\", \"Denmark<br> Total vaccinations 685218<br> Population 5792202\", \"Switzerland<br> Total vaccinations 668844<br> Population 8654622\", \"Bulgaria<br> Total vaccinations 577655<br> Population 6948445\", \"Singapore<br> Total vaccinations 532863<br> Population 5850342\", \"Norway<br> Total vaccinations 529583<br> Population 5421241\", \"Slovakia<br> Total vaccinations 512146<br> Population 5459642\", \"Australia<br> Total vaccinations 506029<br> Population 25499884\", \"Finland<br> Total vaccinations 498459<br> Population 5540720\", \"Bahrain<br> Total vaccinations 476731<br> Population 1701575\", \"Ireland<br> Total vaccinations 455347<br> Population 4937786\", \"Nepal<br> Total vaccinations 427876<br> Population 29136808\", \"Estonia<br> Total vaccinations 406535<br> Population 1326535\", \"Azerbaijan<br> Total vaccinations 320776<br> Population 10139177\", \"Rwanda<br> Total vaccinations 302876<br> Population 12952218\", \"Lithuania<br> Total vaccinations 273526<br> Population 2722289\", \"Gibraltar<br> Total vaccinations 235722<br> Population 33691\", \"Croatia<br> Total vaccinations 221864<br> Population 4105267\", \"South Korea<br> Total vaccinations 214397<br> Population 51269185\", \"Myanmar<br> Total vaccinations 210631<br> Population 54409800\", \"Dominican Republic<br> Total vaccinations 204009<br> Population 10847910\", \"Turks and Caicos Islands<br> Total vaccinations 201985<br> Population 97857\", \"Japan<br> Total vaccinations 193328<br> Population 126476461\", \"Slovenia<br> Total vaccinations 193189<br> Population 2078938\", \"Costa Rica<br> Total vaccinations 185265<br> Population 5094118\", \"Latvia<br> Total vaccinations 181344<br> Population 1886198\", \"Iran<br> Total vaccinations 167485<br> Population 83992949\", \"Qatar<br> Total vaccinations 156067<br> Population 2881053\", \"Kuwait<br> Total vaccinations 155508<br> Population 4270571\", \"Panama<br> Total vaccinations 152741<br> Population 4314767\", \"Maldives<br> Total vaccinations 147425<br> Population 540544\", \"Barbados<br> Total vaccinations 147355<br> Population 287375\", \"Seychelles<br> Total vaccinations 113084<br> Population 98347\", \"Jordan<br> Total vaccinations 107217<br> Population 10203134\", \"Ecuador<br> Total vaccinations 97603<br> Population 17643054\", \"Cyprus<br> Total vaccinations 94328<br> Population 1207359\", \"Cayman Islands<br> Total vaccinations 93259<br> Population 65722\", \"Senegal<br> Total vaccinations 85633<br> Population 16743927\", \"Malta<br> Total vaccinations 82544<br> Population 441543\", \"Iceland<br> Total vaccinations 82536<br> Population 341243\", \"Oman<br> Total vaccinations 80411<br> Population 5106626\", \"Pakistan<br> Total vaccinations 70151<br> Population 220892340\", \"Algeria<br> Total vaccinations 70041<br> Population 43851044\", \"South Africa<br> Total vaccinations 60003<br> Population 59308690\", \"Malaysia<br> Total vaccinations 59511<br> Population 32365999\", \"Lebanon<br> Total vaccinations 57875<br> Population 6825445\", \"Monaco<br> Total vaccinations 57022<br> Population 39242\", \"Cambodia<br> Total vaccinations 55861<br> Population 16718965\", \"New Zealand<br> Total vaccinations 49965<br> Population 4822233\", \"Zimbabwe<br> Total vaccinations 48908<br> Population 14862924\", \"Luxembourg<br> Total vaccinations 46855<br> Population 625978\", \"Kazakhstan<br> Total vaccinations 35240<br> Population 18776707\", \"Hong Kong<br> Total vaccinations 35120<br> Population 7496981\", \"Bolivia<br> Total vaccinations 32933<br> Population 11673021\", \"Isle of Man<br> Total vaccinations 31993<br> Population 85033\", \"Greenland<br> Total vaccinations 30771<br> Population 56770\", \"Jersey<br> Total vaccinations 24364<br> Population 1207359\", \"Belarus<br> Total vaccinations 23407<br> Population 9449323\", \"Bermuda<br> Total vaccinations 22317<br> Population 62278\", \"Thailand<br> Total vaccinations 21958<br> Population 69799978\", \"Venezuela<br> Total vaccinations 20377<br> Population 28435940\", \"Peru<br> Total vaccinations 20037<br> Population 32971854\", \"Belize<br> Total vaccinations 17858<br> Population 397628\", \"Guernsey<br> Total vaccinations 16927<br> Population 63155\", \"San Marino<br> Total vaccinations 16764<br> Population 33931\", \"Saint Helena<br> Total vaccinations 15552<br> Population 6077\", \"Ukraine<br> Total vaccinations 13614<br> Population 43733762\", \"Albania<br> Total vaccinations 13411<br> Population 2877797\", \"Paraguay<br> Total vaccinations 12455<br> Population 7132538\", \"El Salvador<br> Total vaccinations 11699<br> Population 6486205\", \"Philippines<br> Total vaccinations 10560<br> Population 109581078\", \"Northern Cyprus<br> Total vaccinations 10050<br> Population 44543\", \"Faeroe Islands<br> Total vaccinations 7866<br> Population 48863\", \"Egypt<br> Total vaccinations 6972<br> Population 102334404\", \"Andorra<br> Total vaccinations 5719<br> Population 77265\", \"Mauritius<br> Total vaccinations 5629<br> Population 1271768\", \"Liechtenstein<br> Total vaccinations 5473<br> Population 38128\", \"Mongolia<br> Total vaccinations 5054<br> Population 3278290\", \"Anguilla<br> Total vaccinations 4138<br> Population 15003\", \"Macao<br> Total vaccinations 3856<br> Population 649335\", \"Montenegro<br> Total vaccinations 3664<br> Population 628066\", \"Guatemala<br> Total vaccinations 3647<br> Population 17915568\", \"Trinidad and Tobago<br> Total vaccinations 2862<br> Population 1399488\", \"Falkland Islands<br> Total vaccinations 2358<br> Population 3480\", \"Guyana<br> Total vaccinations 2131<br> Population 786552\", \"Montserrat<br> Total vaccinations 782<br> Population 4992\", \"Honduras<br> Total vaccinations 169<br> Population 9904607\"], \"type\": \"choropleth\", \"z\": [\"24.521\", \"3.465\", \"32.31\", \"1.275\", \"11.866\", \"4.417\", \"98.033\", \"8.215\", \"3.929\", \"54.952\", \"7.547\", \"8.106\", \"11.468\", \"8.759\", \"1.487\", \"20.988\", \"9.695\", \"1.969\", \"2.037\", \"64.047\", \"5.595\", \"8.419\", \"17.673\", \"2.603\", \"6.807\", \"11.427\", \"10.044\", \"9.545\", \"2.666\", \"7.541\", \"8.418\", \"1.649\", \"3.614\", \"7.096\", \"8.168\", \"11.83\", \"7.728\", \"8.313\", \"9.108\", \"9.769\", \"9.381\", \"1.984\", \"8.996\", \"28.017\", \"9.222\", \"1.469\", \"30.646\", \"3.164\", \"2.338\", \"10.048\", \"699.659\", \"5.404\", \"0.418\", \"0.387\", \"1.881\", \"206.408\", \"0.153\", \"9.293\", \"3.637\", \"9.614\", \"0.199\", \"5.417\", \"3.641\", \"3.54\", \"27.273\", \"51.276\", \"114.985\", \"1.051\", \"0.553\", \"7.813\", \"141.899\", \"0.511\", \"18.694\", \"24.187\", \"1.575\", \"0.032\", \"0.16\", \"0.101\", \"0.184\", \"0.848\", \"145.309\", \"0.334\", \"1.036\", \"0.329\", \"7.485\", \"0.188\", \"0.468\", \"0.282\", \"37.624\", \"54.203\", \"2.018\", \"0.248\", \"35.834\", \"0.031\", \"0.072\", \"0.061\", \"4.491\", \"26.802\", \"49.406\", \"255.916\", \"0.031\", \"0.466\", \"0.175\", \"0.18\", \"0.01\", \"22.562\", \"16.098\", \"0.007\", \"7.402\", \"0.443\", \"14.354\", \"0.154\", \"27.581\", \"0.594\", \"0.583\", \"0.02\", \"0.205\", \"67.759\", \"0.271\", \"15.665\", \"0.002\"]}],\n",
              "                        {\"geo\": {\"showcoastlines\": true}, \"template\": {\"data\": {\"bar\": [{\"error_x\": {\"color\": \"#2a3f5f\"}, \"error_y\": {\"color\": \"#2a3f5f\"}, \"marker\": {\"line\": {\"color\": \"#E5ECF6\", \"width\": 0.5}}, \"type\": \"bar\"}], \"barpolar\": [{\"marker\": {\"line\": {\"color\": \"#E5ECF6\", \"width\": 0.5}}, \"type\": \"barpolar\"}], \"carpet\": [{\"aaxis\": {\"endlinecolor\": \"#2a3f5f\", \"gridcolor\": \"white\", \"linecolor\": \"white\", \"minorgridcolor\": \"white\", \"startlinecolor\": \"#2a3f5f\"}, \"baxis\": {\"endlinecolor\": \"#2a3f5f\", \"gridcolor\": \"white\", \"linecolor\": \"white\", \"minorgridcolor\": \"white\", \"startlinecolor\": \"#2a3f5f\"}, \"type\": \"carpet\"}], \"choropleth\": [{\"colorbar\": {\"outlinewidth\": 0, \"ticks\": \"\"}, \"type\": \"choropleth\"}], \"contour\": [{\"colorbar\": {\"outlinewidth\": 0, \"ticks\": \"\"}, \"colorscale\": [[0.0, \"#0d0887\"], [0.1111111111111111, \"#46039f\"], [0.2222222222222222, \"#7201a8\"], [0.3333333333333333, \"#9c179e\"], [0.4444444444444444, \"#bd3786\"], [0.5555555555555556, \"#d8576b\"], [0.6666666666666666, \"#ed7953\"], [0.7777777777777778, \"#fb9f3a\"], [0.8888888888888888, \"#fdca26\"], [1.0, \"#f0f921\"]], \"type\": \"contour\"}], \"contourcarpet\": [{\"colorbar\": {\"outlinewidth\": 0, \"ticks\": \"\"}, \"type\": \"contourcarpet\"}], \"heatmap\": [{\"colorbar\": {\"outlinewidth\": 0, \"ticks\": \"\"}, \"colorscale\": [[0.0, \"#0d0887\"], [0.1111111111111111, \"#46039f\"], [0.2222222222222222, \"#7201a8\"], [0.3333333333333333, \"#9c179e\"], [0.4444444444444444, \"#bd3786\"], [0.5555555555555556, \"#d8576b\"], [0.6666666666666666, \"#ed7953\"], [0.7777777777777778, \"#fb9f3a\"], [0.8888888888888888, \"#fdca26\"], [1.0, \"#f0f921\"]], \"type\": \"heatmap\"}], \"heatmapgl\": [{\"colorbar\": {\"outlinewidth\": 0, \"ticks\": \"\"}, \"colorscale\": [[0.0, \"#0d0887\"], [0.1111111111111111, \"#46039f\"], [0.2222222222222222, \"#7201a8\"], [0.3333333333333333, \"#9c179e\"], [0.4444444444444444, \"#bd3786\"], [0.5555555555555556, \"#d8576b\"], [0.6666666666666666, \"#ed7953\"], [0.7777777777777778, \"#fb9f3a\"], [0.8888888888888888, \"#fdca26\"], [1.0, \"#f0f921\"]], \"type\": \"heatmapgl\"}], \"histogram\": [{\"marker\": {\"colorbar\": {\"outlinewidth\": 0, \"ticks\": \"\"}}, \"type\": \"histogram\"}], \"histogram2d\": [{\"colorbar\": {\"outlinewidth\": 0, \"ticks\": \"\"}, \"colorscale\": [[0.0, \"#0d0887\"], [0.1111111111111111, \"#46039f\"], [0.2222222222222222, \"#7201a8\"], [0.3333333333333333, \"#9c179e\"], [0.4444444444444444, \"#bd3786\"], [0.5555555555555556, \"#d8576b\"], [0.6666666666666666, \"#ed7953\"], [0.7777777777777778, \"#fb9f3a\"], [0.8888888888888888, \"#fdca26\"], [1.0, \"#f0f921\"]], \"type\": \"histogram2d\"}], \"histogram2dcontour\": [{\"colorbar\": {\"outlinewidth\": 0, \"ticks\": \"\"}, \"colorscale\": [[0.0, \"#0d0887\"], [0.1111111111111111, \"#46039f\"], [0.2222222222222222, \"#7201a8\"], [0.3333333333333333, \"#9c179e\"], [0.4444444444444444, \"#bd3786\"], [0.5555555555555556, \"#d8576b\"], [0.6666666666666666, \"#ed7953\"], [0.7777777777777778, \"#fb9f3a\"], [0.8888888888888888, \"#fdca26\"], [1.0, \"#f0f921\"]], \"type\": \"histogram2dcontour\"}], \"mesh3d\": [{\"colorbar\": {\"outlinewidth\": 0, \"ticks\": \"\"}, \"type\": \"mesh3d\"}], \"parcoords\": [{\"line\": {\"colorbar\": {\"outlinewidth\": 0, \"ticks\": \"\"}}, \"type\": \"parcoords\"}], \"pie\": [{\"automargin\": true, \"type\": \"pie\"}], \"scatter\": [{\"marker\": {\"colorbar\": {\"outlinewidth\": 0, \"ticks\": \"\"}}, \"type\": \"scatter\"}], \"scatter3d\": [{\"line\": {\"colorbar\": {\"outlinewidth\": 0, \"ticks\": \"\"}}, \"marker\": {\"colorbar\": {\"outlinewidth\": 0, \"ticks\": \"\"}}, \"type\": \"scatter3d\"}], \"scattercarpet\": [{\"marker\": {\"colorbar\": {\"outlinewidth\": 0, \"ticks\": \"\"}}, \"type\": \"scattercarpet\"}], \"scattergeo\": [{\"marker\": {\"colorbar\": {\"outlinewidth\": 0, \"ticks\": \"\"}}, \"type\": \"scattergeo\"}], \"scattergl\": [{\"marker\": {\"colorbar\": {\"outlinewidth\": 0, \"ticks\": \"\"}}, \"type\": \"scattergl\"}], \"scattermapbox\": [{\"marker\": {\"colorbar\": {\"outlinewidth\": 0, \"ticks\": \"\"}}, \"type\": \"scattermapbox\"}], \"scatterpolar\": [{\"marker\": {\"colorbar\": {\"outlinewidth\": 0, \"ticks\": \"\"}}, \"type\": \"scatterpolar\"}], \"scatterpolargl\": [{\"marker\": {\"colorbar\": {\"outlinewidth\": 0, \"ticks\": \"\"}}, \"type\": \"scatterpolargl\"}], \"scatterternary\": [{\"marker\": {\"colorbar\": {\"outlinewidth\": 0, \"ticks\": \"\"}}, \"type\": \"scatterternary\"}], \"surface\": [{\"colorbar\": {\"outlinewidth\": 0, \"ticks\": \"\"}, \"colorscale\": [[0.0, \"#0d0887\"], [0.1111111111111111, \"#46039f\"], [0.2222222222222222, \"#7201a8\"], [0.3333333333333333, \"#9c179e\"], [0.4444444444444444, \"#bd3786\"], [0.5555555555555556, \"#d8576b\"], [0.6666666666666666, \"#ed7953\"], [0.7777777777777778, \"#fb9f3a\"], [0.8888888888888888, \"#fdca26\"], [1.0, \"#f0f921\"]], \"type\": \"surface\"}], \"table\": [{\"cells\": {\"fill\": {\"color\": \"#EBF0F8\"}, \"line\": {\"color\": \"white\"}}, \"header\": {\"fill\": {\"color\": \"#C8D4E3\"}, \"line\": {\"color\": \"white\"}}, \"type\": \"table\"}]}, \"layout\": {\"annotationdefaults\": {\"arrowcolor\": \"#2a3f5f\", \"arrowhead\": 0, \"arrowwidth\": 1}, \"coloraxis\": {\"colorbar\": {\"outlinewidth\": 0, \"ticks\": \"\"}}, \"colorscale\": {\"diverging\": [[0, \"#8e0152\"], [0.1, \"#c51b7d\"], [0.2, \"#de77ae\"], [0.3, \"#f1b6da\"], [0.4, \"#fde0ef\"], [0.5, \"#f7f7f7\"], [0.6, \"#e6f5d0\"], [0.7, \"#b8e186\"], [0.8, \"#7fbc41\"], [0.9, \"#4d9221\"], [1, \"#276419\"]], \"sequential\": [[0.0, \"#0d0887\"], [0.1111111111111111, \"#46039f\"], [0.2222222222222222, \"#7201a8\"], [0.3333333333333333, \"#9c179e\"], [0.4444444444444444, \"#bd3786\"], [0.5555555555555556, \"#d8576b\"], [0.6666666666666666, \"#ed7953\"], [0.7777777777777778, \"#fb9f3a\"], [0.8888888888888888, \"#fdca26\"], [1.0, \"#f0f921\"]], \"sequentialminus\": [[0.0, \"#0d0887\"], [0.1111111111111111, \"#46039f\"], [0.2222222222222222, \"#7201a8\"], [0.3333333333333333, \"#9c179e\"], [0.4444444444444444, \"#bd3786\"], [0.5555555555555556, \"#d8576b\"], [0.6666666666666666, \"#ed7953\"], [0.7777777777777778, \"#fb9f3a\"], [0.8888888888888888, \"#fdca26\"], [1.0, \"#f0f921\"]]}, \"colorway\": [\"#636efa\", \"#EF553B\", \"#00cc96\", \"#ab63fa\", \"#FFA15A\", \"#19d3f3\", \"#FF6692\", \"#B6E880\", \"#FF97FF\", \"#FECB52\"], \"font\": {\"color\": \"#2a3f5f\"}, \"geo\": {\"bgcolor\": \"white\", \"lakecolor\": \"white\", \"landcolor\": \"#E5ECF6\", \"showlakes\": true, \"showland\": true, \"subunitcolor\": \"white\"}, \"hoverlabel\": {\"align\": \"left\"}, \"hovermode\": \"closest\", \"mapbox\": {\"style\": \"light\"}, \"paper_bgcolor\": \"white\", \"plot_bgcolor\": \"#E5ECF6\", \"polar\": {\"angularaxis\": {\"gridcolor\": \"white\", \"linecolor\": \"white\", \"ticks\": \"\"}, \"bgcolor\": \"#E5ECF6\", \"radialaxis\": {\"gridcolor\": \"white\", \"linecolor\": \"white\", \"ticks\": \"\"}}, \"scene\": {\"xaxis\": {\"backgroundcolor\": \"#E5ECF6\", \"gridcolor\": \"white\", \"gridwidth\": 2, \"linecolor\": \"white\", \"showbackground\": true, \"ticks\": \"\", \"zerolinecolor\": \"white\"}, \"yaxis\": {\"backgroundcolor\": \"#E5ECF6\", \"gridcolor\": \"white\", \"gridwidth\": 2, \"linecolor\": \"white\", \"showbackground\": true, \"ticks\": \"\", \"zerolinecolor\": \"white\"}, \"zaxis\": {\"backgroundcolor\": \"#E5ECF6\", \"gridcolor\": \"white\", \"gridwidth\": 2, \"linecolor\": \"white\", \"showbackground\": true, \"ticks\": \"\", \"zerolinecolor\": \"white\"}}, \"shapedefaults\": {\"line\": {\"color\": \"#2a3f5f\"}}, \"ternary\": {\"aaxis\": {\"gridcolor\": \"white\", \"linecolor\": \"white\", \"ticks\": \"\"}, \"baxis\": {\"gridcolor\": \"white\", \"linecolor\": \"white\", \"ticks\": \"\"}, \"bgcolor\": \"#E5ECF6\", \"caxis\": {\"gridcolor\": \"white\", \"linecolor\": \"white\", \"ticks\": \"\"}}, \"title\": {\"x\": 0.05}, \"xaxis\": {\"automargin\": true, \"gridcolor\": \"white\", \"linecolor\": \"white\", \"ticks\": \"\", \"title\": {\"standoff\": 15}, \"zerolinecolor\": \"white\", \"zerolinewidth\": 2}, \"yaxis\": {\"automargin\": true, \"gridcolor\": \"white\", \"linecolor\": \"white\", \"ticks\": \"\", \"title\": {\"standoff\": 15}, \"zerolinecolor\": \"white\", \"zerolinewidth\": 2}}}, \"title\": {\"text\": \"Vaccinations by Population ratio distribution of each country.\"}},\n",
              "                        {\"responsive\": true}\n",
              "                    ).then(function(){\n",
              "                            \n",
              "var gd = document.getElementById('87a177f1-12d7-43d3-90e0-36e63fd77018');\n",
              "var x = new MutationObserver(function (mutations, observer) {{\n",
              "        var display = window.getComputedStyle(gd).display;\n",
              "        if (!display || display === 'none') {{\n",
              "            console.log([gd, 'removed!']);\n",
              "            Plotly.purge(gd);\n",
              "            observer.disconnect();\n",
              "        }}\n",
              "}});\n",
              "\n",
              "// Listen for the removal of the full notebook cells\n",
              "var notebookContainer = gd.closest('#notebook-container');\n",
              "if (notebookContainer) {{\n",
              "    x.observe(notebookContainer, {childList: true});\n",
              "}}\n",
              "\n",
              "// Listen for the clearing of the current output cell\n",
              "var outputEl = gd.closest('.output');\n",
              "if (outputEl) {{\n",
              "    x.observe(outputEl, {childList: true});\n",
              "}}\n",
              "\n",
              "                        })\n",
              "                };\n",
              "                \n",
              "            </script>\n",
              "        </div>\n",
              "</body>\n",
              "</html>"
            ]
          },
          "metadata": {
            "tags": []
          }
        }
      ]
    },
    {
      "cell_type": "code",
      "metadata": {
        "id": "PpQFV9ZyLggi"
      },
      "source": [
        ""
      ],
      "execution_count": 271,
      "outputs": []
    }
  ]
}